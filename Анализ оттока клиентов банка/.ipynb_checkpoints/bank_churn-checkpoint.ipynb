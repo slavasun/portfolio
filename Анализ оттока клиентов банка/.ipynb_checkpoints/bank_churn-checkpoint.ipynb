{
 "cells": [
  {
   "cell_type": "markdown",
   "metadata": {},
   "source": [
    "# Прогнозы оттока клиентов для \"Бета-Банка\""
   ]
  },
  {
   "cell_type": "markdown",
   "metadata": {},
   "source": [
    "**Цель** - спрогнозировать, уйдёт клиент из банка в ближайшее время или нет. Предоставлены исторические данные о поведении клиентов и расторжении договоров с банком. \n",
    "\n",
    "**Задачи:**\n",
    "  - Построить модель с предельно большим значением F1-меры\n",
    "  - Как минимум нужно довести метрику до 0.59\n",
    "  - Провести проверку F1-меры на тестовой выборке\n",
    "  - Провести измерение AUC-ROC и сравнить её с F1-мерой"
   ]
  },
  {
   "cell_type": "markdown",
   "metadata": {},
   "source": [
    "## Входные данные\n",
    "Источник данных: https://www.kaggle.com/barelydedicated/bank-customer-churn-modeling\n",
    "\n",
    "Признаки:\n",
    "- `RowNumber` — индекс строки в данных\n",
    "- `CustomerId` — уникальный идентификатор клиента\n",
    "- `Surname` — фамилия\n",
    "- `CreditScore` — кредитный рейтинг\n",
    "- `Geography` — страна проживания\n",
    "- `Gender` — пол\n",
    "- `Age` — возраст\n",
    "- `Tenure` — количество недвижимости у клиента\n",
    "- `Balance` — баланс на счёте\n",
    "- `NumOfProducts` — количество продуктов банка, используемых клиентом\n",
    "- `HasCrCard` — наличие кредитной карты\n",
    "- `IsActiveMember` — активность клиента\n",
    "- `EstimatedSalary` — предполагаемая зарплата\n",
    "\n",
    "Целевой признак:\n",
    "- `Exited` — факт ухода клиента"
   ]
  },
  {
   "cell_type": "markdown",
   "metadata": {},
   "source": [
    "## Содержание <a id=\"contents\">\n",
    "1. Изучение входных данных\n",
    "\t- [Проверка на дубликаты](#dublicates)\n",
    "\t- [Проверка на пропуски](#omissions)\n",
    "\t- [Изучение данных кредитного рейтинга](#score)\n",
    "\t- [Изучение данных о балансе счета](#balance)\n",
    "\t- [Изучение данных о зарплате](#salary)\n",
    "\t- [Обработка данных о стране проживания и поле клиента](#country_gender)\n",
    "\t- [Проверка на отсутствие мультиколлинеарности между признаками](#corr)\n",
    "\t- [Проверка на соотношение классов в целевой переменной](#classes_ratio)\n",
    "\n",
    "\n",
    "2. [Разделение данных на выборки и их стандартизация](#selection)\n",
    "\n",
    "    \n",
    "3.  Модели без учета дисбаланса классов\n",
    "    - [3.1 Алгоритм логистической регрессии](#lr_simple)\n",
    "\t- [3.2 Алгоритм случайного леса](#rf_simple)\n",
    "\t- [3.3 Алгоритм решающего дерева](#dt_simple)\n",
    "\t- [3.4 Выводы](#conclusions_simple)\n",
    "    \n",
    "    \n",
    "4. Исследование моделей\n",
    "\t- [4.1 Алгоритм логистической регрессии со взвешиванием классов](#lr_balance)\n",
    "\t- [4.2 Алгоритм случайного леса со взвешиванием классов](#rf_balance)\n",
    "\t- [4.3 Алгоритм решающего дерева](#dt_balance)\n",
    "\t- [4.4 Выводы](#conclusions_balance)\n",
    "\n",
    "\n",
    "5. Модели с увеличенной выборкой\n",
    "    - [5.1 Алгоритм логистической регрессии](#lr_upsampled)\n",
    "\t- [5.2 Алгоритм случайного леса](#rf_upsampled)\n",
    "\t- [5.3 Алгоритм решающего дерева](#dt_upsampled)\n",
    "\t- [5.4 Выводы](#conclusions_upsampled)\n",
    "\n",
    "    \n",
    "6. Модели с уменьшенной выборкой\n",
    "    - [6.1 Алгоритм логистической регрессии](#lr_downsampled)\n",
    "\t- [6.2 Алгоритм случайного леса](#rf_downsampled)\n",
    "\t- [6.3 Алгоритм решающего дерева](#dt_downsampled)\n",
    "\t- [6.4 Выводы](#conclusions_downsampled)\n",
    "    \n",
    "    \n",
    "7. Проверка лучшей F1 модели на тестовой выборке\n",
    "    - [7.1 Сводная таблица](#pivot_f1)\n",
    "    - [7.2 Проверка на тестовой выборке](#testing)\n",
    "\n",
    "\n",
    "8. [Выводы](#summary)"
   ]
  },
  {
   "cell_type": "markdown",
   "metadata": {},
   "source": [
    "## 1. Изучение входных данных\n",
    "[вернуться к содержанию](#contents)"
   ]
  },
  {
   "cell_type": "code",
   "execution_count": 44,
   "metadata": {},
   "outputs": [],
   "source": [
    "import pandas as pd\n",
    "import numpy as np\n",
    "import matplotlib.pyplot as plt\n",
    "plt.rc('xtick',labelsize=16)\n",
    "plt.rc('ytick',labelsize=16)\n",
    "\n",
    "import seaborn as sns\n",
    "sns.set_style('darkgrid')\n",
    "sns.set_palette('muted')\n",
    "\n",
    "from sklearn.preprocessing import StandardScaler\n",
    "from sklearn.model_selection import train_test_split\n",
    "\n",
    "from sklearn.tree import DecisionTreeClassifier\n",
    "from sklearn.ensemble import RandomForestClassifier\n",
    "from sklearn.linear_model import LogisticRegression\n",
    "\n",
    "from sklearn.utils import shuffle\n",
    "from sklearn.metrics import f1_score, confusion_matrix\n",
    "from sklearn.metrics import roc_auc_score, roc_curve\n",
    "# sklearn.metrics import roc_curve\n",
    "\n",
    "#from sklearn.dummy import DummyClassifier\n",
    "#from sklearn.metrics import confusion_matrix\n",
    "\n",
    "import warnings\n",
    "warnings.filterwarnings(\"ignore\")\n",
    "\n",
    "from IPython.display import Markdown as md"
   ]
  },
  {
   "cell_type": "code",
   "execution_count": 2,
   "metadata": {
    "scrolled": false
   },
   "outputs": [
    {
     "data": {
      "text/html": [
       "<div>\n",
       "<style scoped>\n",
       "    .dataframe tbody tr th:only-of-type {\n",
       "        vertical-align: middle;\n",
       "    }\n",
       "\n",
       "    .dataframe tbody tr th {\n",
       "        vertical-align: top;\n",
       "    }\n",
       "\n",
       "    .dataframe thead th {\n",
       "        text-align: right;\n",
       "    }\n",
       "</style>\n",
       "<table border=\"1\" class=\"dataframe\">\n",
       "  <thead>\n",
       "    <tr style=\"text-align: right;\">\n",
       "      <th></th>\n",
       "      <th>RowNumber</th>\n",
       "      <th>CustomerId</th>\n",
       "      <th>Surname</th>\n",
       "      <th>CreditScore</th>\n",
       "      <th>Geography</th>\n",
       "      <th>Gender</th>\n",
       "      <th>Age</th>\n",
       "      <th>Tenure</th>\n",
       "      <th>Balance</th>\n",
       "      <th>NumOfProducts</th>\n",
       "      <th>HasCrCard</th>\n",
       "      <th>IsActiveMember</th>\n",
       "      <th>EstimatedSalary</th>\n",
       "      <th>Exited</th>\n",
       "    </tr>\n",
       "  </thead>\n",
       "  <tbody>\n",
       "    <tr>\n",
       "      <th>0</th>\n",
       "      <td>1</td>\n",
       "      <td>15634602</td>\n",
       "      <td>Hargrave</td>\n",
       "      <td>619</td>\n",
       "      <td>France</td>\n",
       "      <td>Female</td>\n",
       "      <td>42</td>\n",
       "      <td>2.0</td>\n",
       "      <td>0.00</td>\n",
       "      <td>1</td>\n",
       "      <td>1</td>\n",
       "      <td>1</td>\n",
       "      <td>101348.88</td>\n",
       "      <td>1</td>\n",
       "    </tr>\n",
       "    <tr>\n",
       "      <th>1</th>\n",
       "      <td>2</td>\n",
       "      <td>15647311</td>\n",
       "      <td>Hill</td>\n",
       "      <td>608</td>\n",
       "      <td>Spain</td>\n",
       "      <td>Female</td>\n",
       "      <td>41</td>\n",
       "      <td>1.0</td>\n",
       "      <td>83807.86</td>\n",
       "      <td>1</td>\n",
       "      <td>0</td>\n",
       "      <td>1</td>\n",
       "      <td>112542.58</td>\n",
       "      <td>0</td>\n",
       "    </tr>\n",
       "    <tr>\n",
       "      <th>2</th>\n",
       "      <td>3</td>\n",
       "      <td>15619304</td>\n",
       "      <td>Onio</td>\n",
       "      <td>502</td>\n",
       "      <td>France</td>\n",
       "      <td>Female</td>\n",
       "      <td>42</td>\n",
       "      <td>8.0</td>\n",
       "      <td>159660.80</td>\n",
       "      <td>3</td>\n",
       "      <td>1</td>\n",
       "      <td>0</td>\n",
       "      <td>113931.57</td>\n",
       "      <td>1</td>\n",
       "    </tr>\n",
       "    <tr>\n",
       "      <th>3</th>\n",
       "      <td>4</td>\n",
       "      <td>15701354</td>\n",
       "      <td>Boni</td>\n",
       "      <td>699</td>\n",
       "      <td>France</td>\n",
       "      <td>Female</td>\n",
       "      <td>39</td>\n",
       "      <td>1.0</td>\n",
       "      <td>0.00</td>\n",
       "      <td>2</td>\n",
       "      <td>0</td>\n",
       "      <td>0</td>\n",
       "      <td>93826.63</td>\n",
       "      <td>0</td>\n",
       "    </tr>\n",
       "    <tr>\n",
       "      <th>4</th>\n",
       "      <td>5</td>\n",
       "      <td>15737888</td>\n",
       "      <td>Mitchell</td>\n",
       "      <td>850</td>\n",
       "      <td>Spain</td>\n",
       "      <td>Female</td>\n",
       "      <td>43</td>\n",
       "      <td>2.0</td>\n",
       "      <td>125510.82</td>\n",
       "      <td>1</td>\n",
       "      <td>1</td>\n",
       "      <td>1</td>\n",
       "      <td>79084.10</td>\n",
       "      <td>0</td>\n",
       "    </tr>\n",
       "    <tr>\n",
       "      <th>...</th>\n",
       "      <td>...</td>\n",
       "      <td>...</td>\n",
       "      <td>...</td>\n",
       "      <td>...</td>\n",
       "      <td>...</td>\n",
       "      <td>...</td>\n",
       "      <td>...</td>\n",
       "      <td>...</td>\n",
       "      <td>...</td>\n",
       "      <td>...</td>\n",
       "      <td>...</td>\n",
       "      <td>...</td>\n",
       "      <td>...</td>\n",
       "      <td>...</td>\n",
       "    </tr>\n",
       "    <tr>\n",
       "      <th>9995</th>\n",
       "      <td>9996</td>\n",
       "      <td>15606229</td>\n",
       "      <td>Obijiaku</td>\n",
       "      <td>771</td>\n",
       "      <td>France</td>\n",
       "      <td>Male</td>\n",
       "      <td>39</td>\n",
       "      <td>5.0</td>\n",
       "      <td>0.00</td>\n",
       "      <td>2</td>\n",
       "      <td>1</td>\n",
       "      <td>0</td>\n",
       "      <td>96270.64</td>\n",
       "      <td>0</td>\n",
       "    </tr>\n",
       "    <tr>\n",
       "      <th>9996</th>\n",
       "      <td>9997</td>\n",
       "      <td>15569892</td>\n",
       "      <td>Johnstone</td>\n",
       "      <td>516</td>\n",
       "      <td>France</td>\n",
       "      <td>Male</td>\n",
       "      <td>35</td>\n",
       "      <td>10.0</td>\n",
       "      <td>57369.61</td>\n",
       "      <td>1</td>\n",
       "      <td>1</td>\n",
       "      <td>1</td>\n",
       "      <td>101699.77</td>\n",
       "      <td>0</td>\n",
       "    </tr>\n",
       "    <tr>\n",
       "      <th>9997</th>\n",
       "      <td>9998</td>\n",
       "      <td>15584532</td>\n",
       "      <td>Liu</td>\n",
       "      <td>709</td>\n",
       "      <td>France</td>\n",
       "      <td>Female</td>\n",
       "      <td>36</td>\n",
       "      <td>7.0</td>\n",
       "      <td>0.00</td>\n",
       "      <td>1</td>\n",
       "      <td>0</td>\n",
       "      <td>1</td>\n",
       "      <td>42085.58</td>\n",
       "      <td>1</td>\n",
       "    </tr>\n",
       "    <tr>\n",
       "      <th>9998</th>\n",
       "      <td>9999</td>\n",
       "      <td>15682355</td>\n",
       "      <td>Sabbatini</td>\n",
       "      <td>772</td>\n",
       "      <td>Germany</td>\n",
       "      <td>Male</td>\n",
       "      <td>42</td>\n",
       "      <td>3.0</td>\n",
       "      <td>75075.31</td>\n",
       "      <td>2</td>\n",
       "      <td>1</td>\n",
       "      <td>0</td>\n",
       "      <td>92888.52</td>\n",
       "      <td>1</td>\n",
       "    </tr>\n",
       "    <tr>\n",
       "      <th>9999</th>\n",
       "      <td>10000</td>\n",
       "      <td>15628319</td>\n",
       "      <td>Walker</td>\n",
       "      <td>792</td>\n",
       "      <td>France</td>\n",
       "      <td>Female</td>\n",
       "      <td>28</td>\n",
       "      <td>NaN</td>\n",
       "      <td>130142.79</td>\n",
       "      <td>1</td>\n",
       "      <td>1</td>\n",
       "      <td>0</td>\n",
       "      <td>38190.78</td>\n",
       "      <td>0</td>\n",
       "    </tr>\n",
       "  </tbody>\n",
       "</table>\n",
       "<p>10000 rows × 14 columns</p>\n",
       "</div>"
      ],
      "text/plain": [
       "      RowNumber  CustomerId    Surname  CreditScore Geography  Gender  Age  \\\n",
       "0             1    15634602   Hargrave          619    France  Female   42   \n",
       "1             2    15647311       Hill          608     Spain  Female   41   \n",
       "2             3    15619304       Onio          502    France  Female   42   \n",
       "3             4    15701354       Boni          699    France  Female   39   \n",
       "4             5    15737888   Mitchell          850     Spain  Female   43   \n",
       "...         ...         ...        ...          ...       ...     ...  ...   \n",
       "9995       9996    15606229   Obijiaku          771    France    Male   39   \n",
       "9996       9997    15569892  Johnstone          516    France    Male   35   \n",
       "9997       9998    15584532        Liu          709    France  Female   36   \n",
       "9998       9999    15682355  Sabbatini          772   Germany    Male   42   \n",
       "9999      10000    15628319     Walker          792    France  Female   28   \n",
       "\n",
       "      Tenure    Balance  NumOfProducts  HasCrCard  IsActiveMember  \\\n",
       "0        2.0       0.00              1          1               1   \n",
       "1        1.0   83807.86              1          0               1   \n",
       "2        8.0  159660.80              3          1               0   \n",
       "3        1.0       0.00              2          0               0   \n",
       "4        2.0  125510.82              1          1               1   \n",
       "...      ...        ...            ...        ...             ...   \n",
       "9995     5.0       0.00              2          1               0   \n",
       "9996    10.0   57369.61              1          1               1   \n",
       "9997     7.0       0.00              1          0               1   \n",
       "9998     3.0   75075.31              2          1               0   \n",
       "9999     NaN  130142.79              1          1               0   \n",
       "\n",
       "      EstimatedSalary  Exited  \n",
       "0           101348.88       1  \n",
       "1           112542.58       0  \n",
       "2           113931.57       1  \n",
       "3            93826.63       0  \n",
       "4            79084.10       0  \n",
       "...               ...     ...  \n",
       "9995         96270.64       0  \n",
       "9996        101699.77       0  \n",
       "9997         42085.58       1  \n",
       "9998         92888.52       1  \n",
       "9999         38190.78       0  \n",
       "\n",
       "[10000 rows x 14 columns]"
      ]
     },
     "execution_count": 2,
     "metadata": {},
     "output_type": "execute_result"
    }
   ],
   "source": [
    "path = ''\n",
    "df = pd.read_csv(path + 'Churn.csv')\n",
    "df"
   ]
  },
  {
   "cell_type": "code",
   "execution_count": 3,
   "metadata": {
    "scrolled": false
   },
   "outputs": [
    {
     "name": "stdout",
     "output_type": "stream",
     "text": [
      "<class 'pandas.core.frame.DataFrame'>\n",
      "RangeIndex: 10000 entries, 0 to 9999\n",
      "Data columns (total 14 columns):\n",
      " #   Column           Non-Null Count  Dtype  \n",
      "---  ------           --------------  -----  \n",
      " 0   RowNumber        10000 non-null  int64  \n",
      " 1   CustomerId       10000 non-null  int64  \n",
      " 2   Surname          10000 non-null  object \n",
      " 3   CreditScore      10000 non-null  int64  \n",
      " 4   Geography        10000 non-null  object \n",
      " 5   Gender           10000 non-null  object \n",
      " 6   Age              10000 non-null  int64  \n",
      " 7   Tenure           9091 non-null   float64\n",
      " 8   Balance          10000 non-null  float64\n",
      " 9   NumOfProducts    10000 non-null  int64  \n",
      " 10  HasCrCard        10000 non-null  int64  \n",
      " 11  IsActiveMember   10000 non-null  int64  \n",
      " 12  EstimatedSalary  10000 non-null  float64\n",
      " 13  Exited           10000 non-null  int64  \n",
      "dtypes: float64(3), int64(8), object(3)\n",
      "memory usage: 1.1+ MB\n"
     ]
    }
   ],
   "source": [
    "df.info()"
   ]
  },
  {
   "cell_type": "markdown",
   "metadata": {},
   "source": [
    "## Проверка на дубликаты  <a id=\"dublicates\">"
   ]
  },
  {
   "cell_type": "code",
   "execution_count": 4,
   "metadata": {},
   "outputs": [
    {
     "data": {
      "text/plain": [
       "0"
      ]
     },
     "execution_count": 4,
     "metadata": {},
     "output_type": "execute_result"
    }
   ],
   "source": [
    "df.duplicated().sum()"
   ]
  },
  {
   "cell_type": "markdown",
   "metadata": {},
   "source": [
    "- пропусков и дубликатов нет"
   ]
  },
  {
   "cell_type": "markdown",
   "metadata": {},
   "source": [
    "## Проверка на пропуски <a id=\"omissions\">"
   ]
  },
  {
   "cell_type": "code",
   "execution_count": 5,
   "metadata": {},
   "outputs": [
    {
     "data": {
      "image/png": "[encoded data removed]",
      "text/plain": [
       "<Figure size 576x288 with 1 Axes>"
      ]
     },
     "metadata": {},
     "output_type": "display_data"
    }
   ],
   "source": [
    "# тепловая карта, для общей визуализации количества пропусков\n",
    "# зеленым цветом (#66ff00) - непропущенные, красным цветом (#d41243) - пропущенные данные \n",
    "colors = ['#66ff00', '#d41243'] \n",
    "fig, ax = plt.subplots(figsize=(8,4)) \n",
    "sns.heatmap(df.isna(), cmap=sns.color_palette(colors), cbar=False, ax=ax)\n",
    "plt.xlabel('Название столбца в датафрейме', fontsize=16)\n",
    "plt.ylabel('Номер строки', fontsize=14)\n",
    "plt.title('Тепловая карта пропусков (пропуски красным цветом)', fontsize=14)\n",
    "plt.show()"
   ]
  },
  {
   "cell_type": "code",
   "execution_count": 6,
   "metadata": {},
   "outputs": [
    {
     "data": {
      "text/plain": [
       "RowNumber          0.0000\n",
       "CustomerId         0.0000\n",
       "Surname            0.0000\n",
       "CreditScore        0.0000\n",
       "Geography          0.0000\n",
       "Gender             0.0000\n",
       "Age                0.0000\n",
       "Tenure             0.0909\n",
       "Balance            0.0000\n",
       "NumOfProducts      0.0000\n",
       "HasCrCard          0.0000\n",
       "IsActiveMember     0.0000\n",
       "EstimatedSalary    0.0000\n",
       "Exited             0.0000\n",
       "dtype: float64"
      ]
     },
     "execution_count": 6,
     "metadata": {},
     "output_type": "execute_result"
    }
   ],
   "source": [
    "# на наличие NaN значений, в относительном выражении\n",
    "df.isna().mean() "
   ]
  },
  {
   "cell_type": "code",
   "execution_count": 7,
   "metadata": {
    "scrolled": true
   },
   "outputs": [
    {
     "data": {
      "text/plain": [
       "RowNumber          0\n",
       "CustomerId         0\n",
       "Surname            0\n",
       "CreditScore        0\n",
       "Geography          0\n",
       "Gender             0\n",
       "Age                0\n",
       "Tenure             0\n",
       "Balance            0\n",
       "NumOfProducts      0\n",
       "HasCrCard          0\n",
       "IsActiveMember     0\n",
       "EstimatedSalary    0\n",
       "Exited             0\n",
       "dtype: int64"
      ]
     },
     "execution_count": 7,
     "metadata": {},
     "output_type": "execute_result"
    }
   ],
   "source": [
    "# на наличие пропусков как строковых значений\n",
    "df.isin(['-', 'None', 'Null', ' ']).sum()"
   ]
  },
  {
   "cell_type": "markdown",
   "metadata": {},
   "source": [
    "- есть пропуски в `Tenure`, количестве объектов недвижимости у клиента, примерно ~10% от общего размера датасета\n",
    "- чем заполнить непонятно, **удалим их** и переведем в целочисленный тип"
   ]
  },
  {
   "cell_type": "code",
   "execution_count": 8,
   "metadata": {
    "scrolled": false
   },
   "outputs": [
    {
     "name": "stdout",
     "output_type": "stream",
     "text": [
      "<class 'pandas.core.frame.DataFrame'>\n",
      "Int64Index: 9091 entries, 0 to 9998\n",
      "Data columns (total 14 columns):\n",
      " #   Column           Non-Null Count  Dtype  \n",
      "---  ------           --------------  -----  \n",
      " 0   RowNumber        9091 non-null   int64  \n",
      " 1   CustomerId       9091 non-null   int64  \n",
      " 2   Surname          9091 non-null   object \n",
      " 3   CreditScore      9091 non-null   int64  \n",
      " 4   Geography        9091 non-null   object \n",
      " 5   Gender           9091 non-null   object \n",
      " 6   Age              9091 non-null   int64  \n",
      " 7   Tenure           9091 non-null   int32  \n",
      " 8   Balance          9091 non-null   float64\n",
      " 9   NumOfProducts    9091 non-null   int64  \n",
      " 10  HasCrCard        9091 non-null   int64  \n",
      " 11  IsActiveMember   9091 non-null   int64  \n",
      " 12  EstimatedSalary  9091 non-null   float64\n",
      " 13  Exited           9091 non-null   int64  \n",
      "dtypes: float64(2), int32(1), int64(8), object(3)\n",
      "memory usage: 1.0+ MB\n"
     ]
    }
   ],
   "source": [
    "df = df[df['Tenure'].notna()]\n",
    "df['Tenure'] = df['Tenure'].astype('int')\n",
    "df.info()"
   ]
  },
  {
   "cell_type": "markdown",
   "metadata": {},
   "source": [
    "- удалим неинформативные столбцы: номер строки, фамилию, идентификатор"
   ]
  },
  {
   "cell_type": "code",
   "execution_count": 9,
   "metadata": {
    "scrolled": true
   },
   "outputs": [
    {
     "data": {
      "text/html": [
       "<div>\n",
       "<style scoped>\n",
       "    .dataframe tbody tr th:only-of-type {\n",
       "        vertical-align: middle;\n",
       "    }\n",
       "\n",
       "    .dataframe tbody tr th {\n",
       "        vertical-align: top;\n",
       "    }\n",
       "\n",
       "    .dataframe thead th {\n",
       "        text-align: right;\n",
       "    }\n",
       "</style>\n",
       "<table border=\"1\" class=\"dataframe\">\n",
       "  <thead>\n",
       "    <tr style=\"text-align: right;\">\n",
       "      <th></th>\n",
       "      <th>CreditScore</th>\n",
       "      <th>Geography</th>\n",
       "      <th>Gender</th>\n",
       "      <th>Age</th>\n",
       "      <th>Tenure</th>\n",
       "      <th>Balance</th>\n",
       "      <th>NumOfProducts</th>\n",
       "      <th>HasCrCard</th>\n",
       "      <th>IsActiveMember</th>\n",
       "      <th>EstimatedSalary</th>\n",
       "      <th>Exited</th>\n",
       "    </tr>\n",
       "  </thead>\n",
       "  <tbody>\n",
       "    <tr>\n",
       "      <th>0</th>\n",
       "      <td>619</td>\n",
       "      <td>France</td>\n",
       "      <td>Female</td>\n",
       "      <td>42</td>\n",
       "      <td>2</td>\n",
       "      <td>0.00</td>\n",
       "      <td>1</td>\n",
       "      <td>1</td>\n",
       "      <td>1</td>\n",
       "      <td>101348.88</td>\n",
       "      <td>1</td>\n",
       "    </tr>\n",
       "    <tr>\n",
       "      <th>1</th>\n",
       "      <td>608</td>\n",
       "      <td>Spain</td>\n",
       "      <td>Female</td>\n",
       "      <td>41</td>\n",
       "      <td>1</td>\n",
       "      <td>83807.86</td>\n",
       "      <td>1</td>\n",
       "      <td>0</td>\n",
       "      <td>1</td>\n",
       "      <td>112542.58</td>\n",
       "      <td>0</td>\n",
       "    </tr>\n",
       "    <tr>\n",
       "      <th>2</th>\n",
       "      <td>502</td>\n",
       "      <td>France</td>\n",
       "      <td>Female</td>\n",
       "      <td>42</td>\n",
       "      <td>8</td>\n",
       "      <td>159660.80</td>\n",
       "      <td>3</td>\n",
       "      <td>1</td>\n",
       "      <td>0</td>\n",
       "      <td>113931.57</td>\n",
       "      <td>1</td>\n",
       "    </tr>\n",
       "    <tr>\n",
       "      <th>3</th>\n",
       "      <td>699</td>\n",
       "      <td>France</td>\n",
       "      <td>Female</td>\n",
       "      <td>39</td>\n",
       "      <td>1</td>\n",
       "      <td>0.00</td>\n",
       "      <td>2</td>\n",
       "      <td>0</td>\n",
       "      <td>0</td>\n",
       "      <td>93826.63</td>\n",
       "      <td>0</td>\n",
       "    </tr>\n",
       "    <tr>\n",
       "      <th>4</th>\n",
       "      <td>850</td>\n",
       "      <td>Spain</td>\n",
       "      <td>Female</td>\n",
       "      <td>43</td>\n",
       "      <td>2</td>\n",
       "      <td>125510.82</td>\n",
       "      <td>1</td>\n",
       "      <td>1</td>\n",
       "      <td>1</td>\n",
       "      <td>79084.10</td>\n",
       "      <td>0</td>\n",
       "    </tr>\n",
       "  </tbody>\n",
       "</table>\n",
       "</div>"
      ],
      "text/plain": [
       "   CreditScore Geography  Gender  Age  Tenure    Balance  NumOfProducts  \\\n",
       "0          619    France  Female   42       2       0.00              1   \n",
       "1          608     Spain  Female   41       1   83807.86              1   \n",
       "2          502    France  Female   42       8  159660.80              3   \n",
       "3          699    France  Female   39       1       0.00              2   \n",
       "4          850     Spain  Female   43       2  125510.82              1   \n",
       "\n",
       "   HasCrCard  IsActiveMember  EstimatedSalary  Exited  \n",
       "0          1               1        101348.88       1  \n",
       "1          0               1        112542.58       0  \n",
       "2          1               0        113931.57       1  \n",
       "3          0               0         93826.63       0  \n",
       "4          1               1         79084.10       0  "
      ]
     },
     "execution_count": 9,
     "metadata": {},
     "output_type": "execute_result"
    }
   ],
   "source": [
    "df = df.drop(['RowNumber', 'CustomerId', 'Surname'], axis=1)\n",
    "df.head()"
   ]
  },
  {
   "cell_type": "markdown",
   "metadata": {},
   "source": [
    "## Изучение данных кредитного рейтинга <a id=\"score\">\n",
    "[вернуться к содержанию](#contents)"
   ]
  },
  {
   "cell_type": "code",
   "execution_count": 10,
   "metadata": {},
   "outputs": [
    {
     "data": {
      "image/png": "[encoded data removed]",
      "text/plain": [
       "<Figure size 432x288 with 1 Axes>"
      ]
     },
     "metadata": {},
     "output_type": "display_data"
    },
    {
     "data": {
      "text/plain": [
       "850    2.31\n",
       "678    0.66\n",
       "655    0.56\n",
       "705    0.53\n",
       "683    0.52\n",
       "Name: CreditScore, dtype: float64"
      ]
     },
     "execution_count": 10,
     "metadata": {},
     "output_type": "execute_result"
    }
   ],
   "source": [
    "sns.distplot(df['CreditScore'], kde=False)\n",
    "plt.show()\n",
    "df['CreditScore'].value_counts(normalize=True).round(4).head() * 100"
   ]
  },
  {
   "cell_type": "markdown",
   "metadata": {},
   "source": [
    "- в данных по кредитному рейтингу есть аномальный пик с клиентам с CreditScore = 850, \n",
    "- они занимеют 2.3% от общего размера данных, оставим как есть этих топовых клиентов"
   ]
  },
  {
   "cell_type": "markdown",
   "metadata": {},
   "source": [
    "## Изучение данных о балансе счета <a id=\"balance\">\n",
    "[вернуться к содержанию](#contents)"
   ]
  },
  {
   "cell_type": "code",
   "execution_count": 11,
   "metadata": {},
   "outputs": [
    {
     "data": {
      "image/png": "[encoded data removed]",
      "text/plain": [
       "<Figure size 432x288 with 1 Axes>"
      ]
     },
     "metadata": {},
     "output_type": "display_data"
    }
   ],
   "source": [
    "sns.distplot(df['Balance'], kde=False)\n",
    "plt.show()"
   ]
  },
  {
   "cell_type": "markdown",
   "metadata": {},
   "source": [
    "- в балансе много нулевых значений, скорее всего это просто неуказанные значения\n",
    "- хочется заменить на медиану, но тогда сильно изменится вид распределения, оставим как есть"
   ]
  },
  {
   "cell_type": "markdown",
   "metadata": {},
   "source": [
    "## Изучение данных о зарплате <a id=\"salary\">\n",
    "[вернуться к содержанию](#contents)"
   ]
  },
  {
   "cell_type": "code",
   "execution_count": 12,
   "metadata": {},
   "outputs": [
    {
     "data": {
      "text/html": [
       "<div>\n",
       "<style scoped>\n",
       "    .dataframe tbody tr th:only-of-type {\n",
       "        vertical-align: middle;\n",
       "    }\n",
       "\n",
       "    .dataframe tbody tr th {\n",
       "        vertical-align: top;\n",
       "    }\n",
       "\n",
       "    .dataframe thead th {\n",
       "        text-align: right;\n",
       "    }\n",
       "</style>\n",
       "<table border=\"1\" class=\"dataframe\">\n",
       "  <thead>\n",
       "    <tr style=\"text-align: right;\">\n",
       "      <th></th>\n",
       "      <th>CreditScore</th>\n",
       "      <th>Geography</th>\n",
       "      <th>Gender</th>\n",
       "      <th>Age</th>\n",
       "      <th>Tenure</th>\n",
       "      <th>Balance</th>\n",
       "      <th>NumOfProducts</th>\n",
       "      <th>HasCrCard</th>\n",
       "      <th>IsActiveMember</th>\n",
       "      <th>EstimatedSalary</th>\n",
       "      <th>Exited</th>\n",
       "    </tr>\n",
       "  </thead>\n",
       "  <tbody>\n",
       "    <tr>\n",
       "      <th>0</th>\n",
       "      <td>619</td>\n",
       "      <td>France</td>\n",
       "      <td>Female</td>\n",
       "      <td>42</td>\n",
       "      <td>2</td>\n",
       "      <td>0.00</td>\n",
       "      <td>1</td>\n",
       "      <td>1</td>\n",
       "      <td>1</td>\n",
       "      <td>101349</td>\n",
       "      <td>1</td>\n",
       "    </tr>\n",
       "    <tr>\n",
       "      <th>1</th>\n",
       "      <td>608</td>\n",
       "      <td>Spain</td>\n",
       "      <td>Female</td>\n",
       "      <td>41</td>\n",
       "      <td>1</td>\n",
       "      <td>83807.86</td>\n",
       "      <td>1</td>\n",
       "      <td>0</td>\n",
       "      <td>1</td>\n",
       "      <td>112543</td>\n",
       "      <td>0</td>\n",
       "    </tr>\n",
       "    <tr>\n",
       "      <th>2</th>\n",
       "      <td>502</td>\n",
       "      <td>France</td>\n",
       "      <td>Female</td>\n",
       "      <td>42</td>\n",
       "      <td>8</td>\n",
       "      <td>159660.80</td>\n",
       "      <td>3</td>\n",
       "      <td>1</td>\n",
       "      <td>0</td>\n",
       "      <td>113932</td>\n",
       "      <td>1</td>\n",
       "    </tr>\n",
       "    <tr>\n",
       "      <th>3</th>\n",
       "      <td>699</td>\n",
       "      <td>France</td>\n",
       "      <td>Female</td>\n",
       "      <td>39</td>\n",
       "      <td>1</td>\n",
       "      <td>0.00</td>\n",
       "      <td>2</td>\n",
       "      <td>0</td>\n",
       "      <td>0</td>\n",
       "      <td>93827</td>\n",
       "      <td>0</td>\n",
       "    </tr>\n",
       "    <tr>\n",
       "      <th>4</th>\n",
       "      <td>850</td>\n",
       "      <td>Spain</td>\n",
       "      <td>Female</td>\n",
       "      <td>43</td>\n",
       "      <td>2</td>\n",
       "      <td>125510.82</td>\n",
       "      <td>1</td>\n",
       "      <td>1</td>\n",
       "      <td>1</td>\n",
       "      <td>79084</td>\n",
       "      <td>0</td>\n",
       "    </tr>\n",
       "  </tbody>\n",
       "</table>\n",
       "</div>"
      ],
      "text/plain": [
       "   CreditScore Geography  Gender  Age  Tenure    Balance  NumOfProducts  \\\n",
       "0          619    France  Female   42       2       0.00              1   \n",
       "1          608     Spain  Female   41       1   83807.86              1   \n",
       "2          502    France  Female   42       8  159660.80              3   \n",
       "3          699    France  Female   39       1       0.00              2   \n",
       "4          850     Spain  Female   43       2  125510.82              1   \n",
       "\n",
       "   HasCrCard  IsActiveMember  EstimatedSalary  Exited  \n",
       "0          1               1           101349       1  \n",
       "1          0               1           112543       0  \n",
       "2          1               0           113932       1  \n",
       "3          0               0            93827       0  \n",
       "4          1               1            79084       0  "
      ]
     },
     "execution_count": 12,
     "metadata": {},
     "output_type": "execute_result"
    }
   ],
   "source": [
    "df['EstimatedSalary'] = df['EstimatedSalary'].round().astype('int')\n",
    "df.head()"
   ]
  },
  {
   "cell_type": "markdown",
   "metadata": {},
   "source": [
    "## Обработка данных о стране проживания и поле клиента <a id=\"country_gender\">\n",
    "[вернуться к содержанию](#contents)\n",
    "- проведем прямое кодирование так, чтобы не попасть в дамми-ловушку "
   ]
  },
  {
   "cell_type": "code",
   "execution_count": 13,
   "metadata": {
    "scrolled": false
   },
   "outputs": [
    {
     "data": {
      "text/html": [
       "<div>\n",
       "<style scoped>\n",
       "    .dataframe tbody tr th:only-of-type {\n",
       "        vertical-align: middle;\n",
       "    }\n",
       "\n",
       "    .dataframe tbody tr th {\n",
       "        vertical-align: top;\n",
       "    }\n",
       "\n",
       "    .dataframe thead th {\n",
       "        text-align: right;\n",
       "    }\n",
       "</style>\n",
       "<table border=\"1\" class=\"dataframe\">\n",
       "  <thead>\n",
       "    <tr style=\"text-align: right;\">\n",
       "      <th></th>\n",
       "      <th>CreditScore</th>\n",
       "      <th>Age</th>\n",
       "      <th>Tenure</th>\n",
       "      <th>Balance</th>\n",
       "      <th>NumOfProducts</th>\n",
       "      <th>HasCrCard</th>\n",
       "      <th>IsActiveMember</th>\n",
       "      <th>EstimatedSalary</th>\n",
       "      <th>Exited</th>\n",
       "      <th>Geography_Germany</th>\n",
       "      <th>Geography_Spain</th>\n",
       "      <th>Gender_Male</th>\n",
       "    </tr>\n",
       "  </thead>\n",
       "  <tbody>\n",
       "    <tr>\n",
       "      <th>0</th>\n",
       "      <td>619</td>\n",
       "      <td>42</td>\n",
       "      <td>2</td>\n",
       "      <td>0.00</td>\n",
       "      <td>1</td>\n",
       "      <td>1</td>\n",
       "      <td>1</td>\n",
       "      <td>101349</td>\n",
       "      <td>1</td>\n",
       "      <td>0</td>\n",
       "      <td>0</td>\n",
       "      <td>0</td>\n",
       "    </tr>\n",
       "    <tr>\n",
       "      <th>1</th>\n",
       "      <td>608</td>\n",
       "      <td>41</td>\n",
       "      <td>1</td>\n",
       "      <td>83807.86</td>\n",
       "      <td>1</td>\n",
       "      <td>0</td>\n",
       "      <td>1</td>\n",
       "      <td>112543</td>\n",
       "      <td>0</td>\n",
       "      <td>0</td>\n",
       "      <td>1</td>\n",
       "      <td>0</td>\n",
       "    </tr>\n",
       "    <tr>\n",
       "      <th>2</th>\n",
       "      <td>502</td>\n",
       "      <td>42</td>\n",
       "      <td>8</td>\n",
       "      <td>159660.80</td>\n",
       "      <td>3</td>\n",
       "      <td>1</td>\n",
       "      <td>0</td>\n",
       "      <td>113932</td>\n",
       "      <td>1</td>\n",
       "      <td>0</td>\n",
       "      <td>0</td>\n",
       "      <td>0</td>\n",
       "    </tr>\n",
       "    <tr>\n",
       "      <th>3</th>\n",
       "      <td>699</td>\n",
       "      <td>39</td>\n",
       "      <td>1</td>\n",
       "      <td>0.00</td>\n",
       "      <td>2</td>\n",
       "      <td>0</td>\n",
       "      <td>0</td>\n",
       "      <td>93827</td>\n",
       "      <td>0</td>\n",
       "      <td>0</td>\n",
       "      <td>0</td>\n",
       "      <td>0</td>\n",
       "    </tr>\n",
       "    <tr>\n",
       "      <th>4</th>\n",
       "      <td>850</td>\n",
       "      <td>43</td>\n",
       "      <td>2</td>\n",
       "      <td>125510.82</td>\n",
       "      <td>1</td>\n",
       "      <td>1</td>\n",
       "      <td>1</td>\n",
       "      <td>79084</td>\n",
       "      <td>0</td>\n",
       "      <td>0</td>\n",
       "      <td>1</td>\n",
       "      <td>0</td>\n",
       "    </tr>\n",
       "  </tbody>\n",
       "</table>\n",
       "</div>"
      ],
      "text/plain": [
       "   CreditScore  Age  Tenure    Balance  NumOfProducts  HasCrCard  \\\n",
       "0          619   42       2       0.00              1          1   \n",
       "1          608   41       1   83807.86              1          0   \n",
       "2          502   42       8  159660.80              3          1   \n",
       "3          699   39       1       0.00              2          0   \n",
       "4          850   43       2  125510.82              1          1   \n",
       "\n",
       "   IsActiveMember  EstimatedSalary  Exited  Geography_Germany  \\\n",
       "0               1           101349       1                  0   \n",
       "1               1           112543       0                  0   \n",
       "2               0           113932       1                  0   \n",
       "3               0            93827       0                  0   \n",
       "4               1            79084       0                  0   \n",
       "\n",
       "   Geography_Spain  Gender_Male  \n",
       "0                0            0  \n",
       "1                1            0  \n",
       "2                0            0  \n",
       "3                0            0  \n",
       "4                1            0  "
      ]
     },
     "execution_count": 13,
     "metadata": {},
     "output_type": "execute_result"
    }
   ],
   "source": [
    "df = pd.get_dummies(df, drop_first=True)\n",
    "df.head()"
   ]
  },
  {
   "cell_type": "markdown",
   "metadata": {},
   "source": [
    "## Проверка на отсутствие мультиколлинеарности между признаками <a id=\"corr\">\n",
    "[вернуться к содержанию](#contents)"
   ]
  },
  {
   "cell_type": "code",
   "execution_count": 14,
   "metadata": {
    "scrolled": true
   },
   "outputs": [
    {
     "data": {
      "text/html": [
       "<style  type=\"text/css\" >\n",
       "    #T_aa0f1b28_281c_11eb_a96f_a8a1590dbef8row0_col0 {\n",
       "            background-color:  #08306b;\n",
       "            color:  #f1f1f1;\n",
       "        }    #T_aa0f1b28_281c_11eb_a96f_a8a1590dbef8row0_col1 {\n",
       "            background-color:  #f2f8fd;\n",
       "            color:  #000000;\n",
       "        }    #T_aa0f1b28_281c_11eb_a96f_a8a1590dbef8row0_col2 {\n",
       "            background-color:  #f2f7fd;\n",
       "            color:  #000000;\n",
       "        }    #T_aa0f1b28_281c_11eb_a96f_a8a1590dbef8row0_col3 {\n",
       "            background-color:  #caddf0;\n",
       "            color:  #000000;\n",
       "        }    #T_aa0f1b28_281c_11eb_a96f_a8a1590dbef8row0_col4 {\n",
       "            background-color:  #c8dcf0;\n",
       "            color:  #000000;\n",
       "        }    #T_aa0f1b28_281c_11eb_a96f_a8a1590dbef8row0_col5 {\n",
       "            background-color:  #f5f9fe;\n",
       "            color:  #000000;\n",
       "        }    #T_aa0f1b28_281c_11eb_a96f_a8a1590dbef8row0_col6 {\n",
       "            background-color:  #d7e6f5;\n",
       "            color:  #000000;\n",
       "        }    #T_aa0f1b28_281c_11eb_a96f_a8a1590dbef8row0_col7 {\n",
       "            background-color:  #f2f8fd;\n",
       "            color:  #000000;\n",
       "        }    #T_aa0f1b28_281c_11eb_a96f_a8a1590dbef8row0_col8 {\n",
       "            background-color:  #e0ecf8;\n",
       "            color:  #000000;\n",
       "        }    #T_aa0f1b28_281c_11eb_a96f_a8a1590dbef8row0_col9 {\n",
       "            background-color:  #c6dbef;\n",
       "            color:  #000000;\n",
       "        }    #T_aa0f1b28_281c_11eb_a96f_a8a1590dbef8row0_col10 {\n",
       "            background-color:  #c6dbef;\n",
       "            color:  #000000;\n",
       "        }    #T_aa0f1b28_281c_11eb_a96f_a8a1590dbef8row0_col11 {\n",
       "            background-color:  #e5eff9;\n",
       "            color:  #000000;\n",
       "        }    #T_aa0f1b28_281c_11eb_a96f_a8a1590dbef8row1_col0 {\n",
       "            background-color:  #f4f9fe;\n",
       "            color:  #000000;\n",
       "        }    #T_aa0f1b28_281c_11eb_a96f_a8a1590dbef8row1_col1 {\n",
       "            background-color:  #08306b;\n",
       "            color:  #f1f1f1;\n",
       "        }    #T_aa0f1b28_281c_11eb_a96f_a8a1590dbef8row1_col2 {\n",
       "            background-color:  #f4f9fe;\n",
       "            color:  #000000;\n",
       "        }    #T_aa0f1b28_281c_11eb_a96f_a8a1590dbef8row1_col3 {\n",
       "            background-color:  #c4daee;\n",
       "            color:  #000000;\n",
       "        }    #T_aa0f1b28_281c_11eb_a96f_a8a1590dbef8row1_col4 {\n",
       "            background-color:  #cee0f2;\n",
       "            color:  #000000;\n",
       "        }    #T_aa0f1b28_281c_11eb_a96f_a8a1590dbef8row1_col5 {\n",
       "            background-color:  #f6faff;\n",
       "            color:  #000000;\n",
       "        }    #T_aa0f1b28_281c_11eb_a96f_a8a1590dbef8row1_col6 {\n",
       "            background-color:  #cfe1f2;\n",
       "            color:  #000000;\n",
       "        }    #T_aa0f1b28_281c_11eb_a96f_a8a1590dbef8row1_col7 {\n",
       "            background-color:  #f5f9fe;\n",
       "            color:  #000000;\n",
       "        }    #T_aa0f1b28_281c_11eb_a96f_a8a1590dbef8row1_col8 {\n",
       "            background-color:  #9cc9e1;\n",
       "            color:  #000000;\n",
       "        }    #T_aa0f1b28_281c_11eb_a96f_a8a1590dbef8row1_col9 {\n",
       "            background-color:  #bad6eb;\n",
       "            color:  #000000;\n",
       "        }    #T_aa0f1b28_281c_11eb_a96f_a8a1590dbef8row1_col10 {\n",
       "            background-color:  #c7dcef;\n",
       "            color:  #000000;\n",
       "        }    #T_aa0f1b28_281c_11eb_a96f_a8a1590dbef8row1_col11 {\n",
       "            background-color:  #e8f1fa;\n",
       "            color:  #000000;\n",
       "        }    #T_aa0f1b28_281c_11eb_a96f_a8a1590dbef8row2_col0 {\n",
       "            background-color:  #f3f8fe;\n",
       "            color:  #000000;\n",
       "        }    #T_aa0f1b28_281c_11eb_a96f_a8a1590dbef8row2_col1 {\n",
       "            background-color:  #f4f9fe;\n",
       "            color:  #000000;\n",
       "        }    #T_aa0f1b28_281c_11eb_a96f_a8a1590dbef8row2_col2 {\n",
       "            background-color:  #08306b;\n",
       "            color:  #f1f1f1;\n",
       "        }    #T_aa0f1b28_281c_11eb_a96f_a8a1590dbef8row2_col3 {\n",
       "            background-color:  #cbdef1;\n",
       "            color:  #000000;\n",
       "        }    #T_aa0f1b28_281c_11eb_a96f_a8a1590dbef8row2_col4 {\n",
       "            background-color:  #c8dcf0;\n",
       "            color:  #000000;\n",
       "        }    #T_aa0f1b28_281c_11eb_a96f_a8a1590dbef8row2_col5 {\n",
       "            background-color:  #eef5fc;\n",
       "            color:  #000000;\n",
       "        }    #T_aa0f1b28_281c_11eb_a96f_a8a1590dbef8row2_col6 {\n",
       "            background-color:  #e2edf8;\n",
       "            color:  #000000;\n",
       "        }    #T_aa0f1b28_281c_11eb_a96f_a8a1590dbef8row2_col7 {\n",
       "            background-color:  #f2f7fd;\n",
       "            color:  #000000;\n",
       "        }    #T_aa0f1b28_281c_11eb_a96f_a8a1590dbef8row2_col8 {\n",
       "            background-color:  #dfecf7;\n",
       "            color:  #000000;\n",
       "        }    #T_aa0f1b28_281c_11eb_a96f_a8a1590dbef8row2_col9 {\n",
       "            background-color:  #c7dbef;\n",
       "            color:  #000000;\n",
       "        }    #T_aa0f1b28_281c_11eb_a96f_a8a1590dbef8row2_col10 {\n",
       "            background-color:  #c6dbef;\n",
       "            color:  #000000;\n",
       "        }    #T_aa0f1b28_281c_11eb_a96f_a8a1590dbef8row2_col11 {\n",
       "            background-color:  #e1edf8;\n",
       "            color:  #000000;\n",
       "        }    #T_aa0f1b28_281c_11eb_a96f_a8a1590dbef8row3_col0 {\n",
       "            background-color:  #f2f8fd;\n",
       "            color:  #000000;\n",
       "        }    #T_aa0f1b28_281c_11eb_a96f_a8a1590dbef8row3_col1 {\n",
       "            background-color:  #ebf3fb;\n",
       "            color:  #000000;\n",
       "        }    #T_aa0f1b28_281c_11eb_a96f_a8a1590dbef8row3_col2 {\n",
       "            background-color:  #f2f8fd;\n",
       "            color:  #000000;\n",
       "        }    #T_aa0f1b28_281c_11eb_a96f_a8a1590dbef8row3_col3 {\n",
       "            background-color:  #08306b;\n",
       "            color:  #f1f1f1;\n",
       "        }    #T_aa0f1b28_281c_11eb_a96f_a8a1590dbef8row3_col4 {\n",
       "            background-color:  #f7fbff;\n",
       "            color:  #000000;\n",
       "        }    #T_aa0f1b28_281c_11eb_a96f_a8a1590dbef8row3_col5 {\n",
       "            background-color:  #f7fbff;\n",
       "            color:  #000000;\n",
       "        }    #T_aa0f1b28_281c_11eb_a96f_a8a1590dbef8row3_col6 {\n",
       "            background-color:  #ddeaf7;\n",
       "            color:  #000000;\n",
       "        }    #T_aa0f1b28_281c_11eb_a96f_a8a1590dbef8row3_col7 {\n",
       "            background-color:  #f1f7fd;\n",
       "            color:  #000000;\n",
       "        }    #T_aa0f1b28_281c_11eb_a96f_a8a1590dbef8row3_col8 {\n",
       "            background-color:  #c9ddf0;\n",
       "            color:  #000000;\n",
       "        }    #T_aa0f1b28_281c_11eb_a96f_a8a1590dbef8row3_col9 {\n",
       "            background-color:  #5aa2cf;\n",
       "            color:  #000000;\n",
       "        }    #T_aa0f1b28_281c_11eb_a96f_a8a1590dbef8row3_col10 {\n",
       "            background-color:  #dae8f6;\n",
       "            color:  #000000;\n",
       "        }    #T_aa0f1b28_281c_11eb_a96f_a8a1590dbef8row3_col11 {\n",
       "            background-color:  #e0ecf8;\n",
       "            color:  #000000;\n",
       "        }    #T_aa0f1b28_281c_11eb_a96f_a8a1590dbef8row4_col0 {\n",
       "            background-color:  #f1f7fd;\n",
       "            color:  #000000;\n",
       "        }    #T_aa0f1b28_281c_11eb_a96f_a8a1590dbef8row4_col1 {\n",
       "            background-color:  #f7fbff;\n",
       "            color:  #000000;\n",
       "        }    #T_aa0f1b28_281c_11eb_a96f_a8a1590dbef8row4_col2 {\n",
       "            background-color:  #eff6fc;\n",
       "            color:  #000000;\n",
       "        }    #T_aa0f1b28_281c_11eb_a96f_a8a1590dbef8row4_col3 {\n",
       "            background-color:  #f7fbff;\n",
       "            color:  #000000;\n",
       "        }    #T_aa0f1b28_281c_11eb_a96f_a8a1590dbef8row4_col4 {\n",
       "            background-color:  #08306b;\n",
       "            color:  #f1f1f1;\n",
       "        }    #T_aa0f1b28_281c_11eb_a96f_a8a1590dbef8row4_col5 {\n",
       "            background-color:  #f2f8fd;\n",
       "            color:  #000000;\n",
       "        }    #T_aa0f1b28_281c_11eb_a96f_a8a1590dbef8row4_col6 {\n",
       "            background-color:  #dbe9f6;\n",
       "            color:  #000000;\n",
       "        }    #T_aa0f1b28_281c_11eb_a96f_a8a1590dbef8row4_col7 {\n",
       "            background-color:  #f1f7fd;\n",
       "            color:  #000000;\n",
       "        }    #T_aa0f1b28_281c_11eb_a96f_a8a1590dbef8row4_col8 {\n",
       "            background-color:  #e5eff9;\n",
       "            color:  #000000;\n",
       "        }    #T_aa0f1b28_281c_11eb_a96f_a8a1590dbef8row4_col9 {\n",
       "            background-color:  #c7dcef;\n",
       "            color:  #000000;\n",
       "        }    #T_aa0f1b28_281c_11eb_a96f_a8a1590dbef8row4_col10 {\n",
       "            background-color:  #c3daee;\n",
       "            color:  #000000;\n",
       "        }    #T_aa0f1b28_281c_11eb_a96f_a8a1590dbef8row4_col11 {\n",
       "            background-color:  #e8f1fa;\n",
       "            color:  #000000;\n",
       "        }    #T_aa0f1b28_281c_11eb_a96f_a8a1590dbef8row5_col0 {\n",
       "            background-color:  #f3f8fe;\n",
       "            color:  #000000;\n",
       "        }    #T_aa0f1b28_281c_11eb_a96f_a8a1590dbef8row5_col1 {\n",
       "            background-color:  #f4f9fe;\n",
       "            color:  #000000;\n",
       "        }    #T_aa0f1b28_281c_11eb_a96f_a8a1590dbef8row5_col2 {\n",
       "            background-color:  #ecf4fb;\n",
       "            color:  #000000;\n",
       "        }    #T_aa0f1b28_281c_11eb_a96f_a8a1590dbef8row5_col3 {\n",
       "            background-color:  #cddff1;\n",
       "            color:  #000000;\n",
       "        }    #T_aa0f1b28_281c_11eb_a96f_a8a1590dbef8row5_col4 {\n",
       "            background-color:  #c9ddf0;\n",
       "            color:  #000000;\n",
       "        }    #T_aa0f1b28_281c_11eb_a96f_a8a1590dbef8row5_col5 {\n",
       "            background-color:  #08306b;\n",
       "            color:  #f1f1f1;\n",
       "        }    #T_aa0f1b28_281c_11eb_a96f_a8a1590dbef8row5_col6 {\n",
       "            background-color:  #deebf7;\n",
       "            color:  #000000;\n",
       "        }    #T_aa0f1b28_281c_11eb_a96f_a8a1590dbef8row5_col7 {\n",
       "            background-color:  #f5f9fe;\n",
       "            color:  #000000;\n",
       "        }    #T_aa0f1b28_281c_11eb_a96f_a8a1590dbef8row5_col8 {\n",
       "            background-color:  #ddeaf7;\n",
       "            color:  #000000;\n",
       "        }    #T_aa0f1b28_281c_11eb_a96f_a8a1590dbef8row5_col9 {\n",
       "            background-color:  #c4daee;\n",
       "            color:  #000000;\n",
       "        }    #T_aa0f1b28_281c_11eb_a96f_a8a1590dbef8row5_col10 {\n",
       "            background-color:  #c9ddf0;\n",
       "            color:  #000000;\n",
       "        }    #T_aa0f1b28_281c_11eb_a96f_a8a1590dbef8row5_col11 {\n",
       "            background-color:  #e3eef8;\n",
       "            color:  #000000;\n",
       "        }    #T_aa0f1b28_281c_11eb_a96f_a8a1590dbef8row6_col0 {\n",
       "            background-color:  #edf4fc;\n",
       "            color:  #000000;\n",
       "        }    #T_aa0f1b28_281c_11eb_a96f_a8a1590dbef8row6_col1 {\n",
       "            background-color:  #e1edf8;\n",
       "            color:  #000000;\n",
       "        }    #T_aa0f1b28_281c_11eb_a96f_a8a1590dbef8row6_col2 {\n",
       "            background-color:  #f7fbff;\n",
       "            color:  #000000;\n",
       "        }    #T_aa0f1b28_281c_11eb_a96f_a8a1590dbef8row6_col3 {\n",
       "            background-color:  #cadef0;\n",
       "            color:  #000000;\n",
       "        }    #T_aa0f1b28_281c_11eb_a96f_a8a1590dbef8row6_col4 {\n",
       "            background-color:  #c8dcf0;\n",
       "            color:  #000000;\n",
       "        }    #T_aa0f1b28_281c_11eb_a96f_a8a1590dbef8row6_col5 {\n",
       "            background-color:  #f5fafe;\n",
       "            color:  #000000;\n",
       "        }    #T_aa0f1b28_281c_11eb_a96f_a8a1590dbef8row6_col6 {\n",
       "            background-color:  #08306b;\n",
       "            color:  #f1f1f1;\n",
       "        }    #T_aa0f1b28_281c_11eb_a96f_a8a1590dbef8row6_col7 {\n",
       "            background-color:  #f7fbff;\n",
       "            color:  #000000;\n",
       "        }    #T_aa0f1b28_281c_11eb_a96f_a8a1590dbef8row6_col8 {\n",
       "            background-color:  #f7fbff;\n",
       "            color:  #000000;\n",
       "        }    #T_aa0f1b28_281c_11eb_a96f_a8a1590dbef8row6_col9 {\n",
       "            background-color:  #c9ddf0;\n",
       "            color:  #000000;\n",
       "        }    #T_aa0f1b28_281c_11eb_a96f_a8a1590dbef8row6_col10 {\n",
       "            background-color:  #c3daee;\n",
       "            color:  #000000;\n",
       "        }    #T_aa0f1b28_281c_11eb_a96f_a8a1590dbef8row6_col11 {\n",
       "            background-color:  #dfebf7;\n",
       "            color:  #000000;\n",
       "        }    #T_aa0f1b28_281c_11eb_a96f_a8a1590dbef8row7_col0 {\n",
       "            background-color:  #f2f7fd;\n",
       "            color:  #000000;\n",
       "        }    #T_aa0f1b28_281c_11eb_a96f_a8a1590dbef8row7_col1 {\n",
       "            background-color:  #f2f8fd;\n",
       "            color:  #000000;\n",
       "        }    #T_aa0f1b28_281c_11eb_a96f_a8a1590dbef8row7_col2 {\n",
       "            background-color:  #eff6fc;\n",
       "            color:  #000000;\n",
       "        }    #T_aa0f1b28_281c_11eb_a96f_a8a1590dbef8row7_col3 {\n",
       "            background-color:  #c7dcef;\n",
       "            color:  #000000;\n",
       "        }    #T_aa0f1b28_281c_11eb_a96f_a8a1590dbef8row7_col4 {\n",
       "            background-color:  #c7dcef;\n",
       "            color:  #000000;\n",
       "        }    #T_aa0f1b28_281c_11eb_a96f_a8a1590dbef8row7_col5 {\n",
       "            background-color:  #f5f9fe;\n",
       "            color:  #000000;\n",
       "        }    #T_aa0f1b28_281c_11eb_a96f_a8a1590dbef8row7_col6 {\n",
       "            background-color:  #e0ecf8;\n",
       "            color:  #000000;\n",
       "        }    #T_aa0f1b28_281c_11eb_a96f_a8a1590dbef8row7_col7 {\n",
       "            background-color:  #08306b;\n",
       "            color:  #f1f1f1;\n",
       "        }    #T_aa0f1b28_281c_11eb_a96f_a8a1590dbef8row7_col8 {\n",
       "            background-color:  #dae8f6;\n",
       "            color:  #000000;\n",
       "        }    #T_aa0f1b28_281c_11eb_a96f_a8a1590dbef8row7_col9 {\n",
       "            background-color:  #c3daee;\n",
       "            color:  #000000;\n",
       "        }    #T_aa0f1b28_281c_11eb_a96f_a8a1590dbef8row7_col10 {\n",
       "            background-color:  #c8dcf0;\n",
       "            color:  #000000;\n",
       "        }    #T_aa0f1b28_281c_11eb_a96f_a8a1590dbef8row7_col11 {\n",
       "            background-color:  #e4eff9;\n",
       "            color:  #000000;\n",
       "        }    #T_aa0f1b28_281c_11eb_a96f_a8a1590dbef8row8_col0 {\n",
       "            background-color:  #f7fbff;\n",
       "            color:  #000000;\n",
       "        }    #T_aa0f1b28_281c_11eb_a96f_a8a1590dbef8row8_col1 {\n",
       "            background-color:  #b4d3e9;\n",
       "            color:  #000000;\n",
       "        }    #T_aa0f1b28_281c_11eb_a96f_a8a1590dbef8row8_col2 {\n",
       "            background-color:  #f5f9fe;\n",
       "            color:  #000000;\n",
       "        }    #T_aa0f1b28_281c_11eb_a96f_a8a1590dbef8row8_col3 {\n",
       "            background-color:  #afd1e7;\n",
       "            color:  #000000;\n",
       "        }    #T_aa0f1b28_281c_11eb_a96f_a8a1590dbef8row8_col4 {\n",
       "            background-color:  #d1e2f3;\n",
       "            color:  #000000;\n",
       "        }    #T_aa0f1b28_281c_11eb_a96f_a8a1590dbef8row8_col5 {\n",
       "            background-color:  #f5f9fe;\n",
       "            color:  #000000;\n",
       "        }    #T_aa0f1b28_281c_11eb_a96f_a8a1590dbef8row8_col6 {\n",
       "            background-color:  #f7fbff;\n",
       "            color:  #000000;\n",
       "        }    #T_aa0f1b28_281c_11eb_a96f_a8a1590dbef8row8_col7 {\n",
       "            background-color:  #f0f6fd;\n",
       "            color:  #000000;\n",
       "        }    #T_aa0f1b28_281c_11eb_a96f_a8a1590dbef8row8_col8 {\n",
       "            background-color:  #08306b;\n",
       "            color:  #f1f1f1;\n",
       "        }    #T_aa0f1b28_281c_11eb_a96f_a8a1590dbef8row8_col9 {\n",
       "            background-color:  #9ac8e0;\n",
       "            color:  #000000;\n",
       "        }    #T_aa0f1b28_281c_11eb_a96f_a8a1590dbef8row8_col10 {\n",
       "            background-color:  #cee0f2;\n",
       "            color:  #000000;\n",
       "        }    #T_aa0f1b28_281c_11eb_a96f_a8a1590dbef8row8_col11 {\n",
       "            background-color:  #f7fbff;\n",
       "            color:  #000000;\n",
       "        }    #T_aa0f1b28_281c_11eb_a96f_a8a1590dbef8row9_col0 {\n",
       "            background-color:  #f2f8fd;\n",
       "            color:  #000000;\n",
       "        }    #T_aa0f1b28_281c_11eb_a96f_a8a1590dbef8row9_col1 {\n",
       "            background-color:  #e7f1fa;\n",
       "            color:  #000000;\n",
       "        }    #T_aa0f1b28_281c_11eb_a96f_a8a1590dbef8row9_col2 {\n",
       "            background-color:  #f2f7fd;\n",
       "            color:  #000000;\n",
       "        }    #T_aa0f1b28_281c_11eb_a96f_a8a1590dbef8row9_col3 {\n",
       "            background-color:  #5da5d1;\n",
       "            color:  #000000;\n",
       "        }    #T_aa0f1b28_281c_11eb_a96f_a8a1590dbef8row9_col4 {\n",
       "            background-color:  #cbdef1;\n",
       "            color:  #000000;\n",
       "        }    #T_aa0f1b28_281c_11eb_a96f_a8a1590dbef8row9_col5 {\n",
       "            background-color:  #f2f7fd;\n",
       "            color:  #000000;\n",
       "        }    #T_aa0f1b28_281c_11eb_a96f_a8a1590dbef8row9_col6 {\n",
       "            background-color:  #dfecf7;\n",
       "            color:  #000000;\n",
       "        }    #T_aa0f1b28_281c_11eb_a96f_a8a1590dbef8row9_col7 {\n",
       "            background-color:  #f2f7fd;\n",
       "            color:  #000000;\n",
       "        }    #T_aa0f1b28_281c_11eb_a96f_a8a1590dbef8row9_col8 {\n",
       "            background-color:  #bad6eb;\n",
       "            color:  #000000;\n",
       "        }    #T_aa0f1b28_281c_11eb_a96f_a8a1590dbef8row9_col9 {\n",
       "            background-color:  #08306b;\n",
       "            color:  #f1f1f1;\n",
       "        }    #T_aa0f1b28_281c_11eb_a96f_a8a1590dbef8row9_col10 {\n",
       "            background-color:  #f7fbff;\n",
       "            color:  #000000;\n",
       "        }    #T_aa0f1b28_281c_11eb_a96f_a8a1590dbef8row9_col11 {\n",
       "            background-color:  #e8f1fa;\n",
       "            color:  #000000;\n",
       "        }    #T_aa0f1b28_281c_11eb_a96f_a8a1590dbef8row10_col0 {\n",
       "            background-color:  #f2f8fd;\n",
       "            color:  #000000;\n",
       "        }    #T_aa0f1b28_281c_11eb_a96f_a8a1590dbef8row10_col1 {\n",
       "            background-color:  #f2f8fd;\n",
       "            color:  #000000;\n",
       "        }    #T_aa0f1b28_281c_11eb_a96f_a8a1590dbef8row10_col2 {\n",
       "            background-color:  #f1f7fd;\n",
       "            color:  #000000;\n",
       "        }    #T_aa0f1b28_281c_11eb_a96f_a8a1590dbef8row10_col3 {\n",
       "            background-color:  #deebf7;\n",
       "            color:  #000000;\n",
       "        }    #T_aa0f1b28_281c_11eb_a96f_a8a1590dbef8row10_col4 {\n",
       "            background-color:  #c8dcf0;\n",
       "            color:  #000000;\n",
       "        }    #T_aa0f1b28_281c_11eb_a96f_a8a1590dbef8row10_col5 {\n",
       "            background-color:  #f7fbff;\n",
       "            color:  #000000;\n",
       "        }    #T_aa0f1b28_281c_11eb_a96f_a8a1590dbef8row10_col6 {\n",
       "            background-color:  #dae8f6;\n",
       "            color:  #000000;\n",
       "        }    #T_aa0f1b28_281c_11eb_a96f_a8a1590dbef8row10_col7 {\n",
       "            background-color:  #f5fafe;\n",
       "            color:  #000000;\n",
       "        }    #T_aa0f1b28_281c_11eb_a96f_a8a1590dbef8row10_col8 {\n",
       "            background-color:  #e7f0fa;\n",
       "            color:  #000000;\n",
       "        }    #T_aa0f1b28_281c_11eb_a96f_a8a1590dbef8row10_col9 {\n",
       "            background-color:  #f7fbff;\n",
       "            color:  #000000;\n",
       "        }    #T_aa0f1b28_281c_11eb_a96f_a8a1590dbef8row10_col10 {\n",
       "            background-color:  #08306b;\n",
       "            color:  #f1f1f1;\n",
       "        }    #T_aa0f1b28_281c_11eb_a96f_a8a1590dbef8row10_col11 {\n",
       "            background-color:  #e0ecf8;\n",
       "            color:  #000000;\n",
       "        }    #T_aa0f1b28_281c_11eb_a96f_a8a1590dbef8row11_col0 {\n",
       "            background-color:  #f5f9fe;\n",
       "            color:  #000000;\n",
       "        }    #T_aa0f1b28_281c_11eb_a96f_a8a1590dbef8row11_col1 {\n",
       "            background-color:  #f6faff;\n",
       "            color:  #000000;\n",
       "        }    #T_aa0f1b28_281c_11eb_a96f_a8a1590dbef8row11_col2 {\n",
       "            background-color:  #eef5fc;\n",
       "            color:  #000000;\n",
       "        }    #T_aa0f1b28_281c_11eb_a96f_a8a1590dbef8row11_col3 {\n",
       "            background-color:  #c7dcef;\n",
       "            color:  #000000;\n",
       "        }    #T_aa0f1b28_281c_11eb_a96f_a8a1590dbef8row11_col4 {\n",
       "            background-color:  #cde0f1;\n",
       "            color:  #000000;\n",
       "        }    #T_aa0f1b28_281c_11eb_a96f_a8a1590dbef8row11_col5 {\n",
       "            background-color:  #f2f8fd;\n",
       "            color:  #000000;\n",
       "        }    #T_aa0f1b28_281c_11eb_a96f_a8a1590dbef8row11_col6 {\n",
       "            background-color:  #d9e7f5;\n",
       "            color:  #000000;\n",
       "        }    #T_aa0f1b28_281c_11eb_a96f_a8a1590dbef8row11_col7 {\n",
       "            background-color:  #f4f9fe;\n",
       "            color:  #000000;\n",
       "        }    #T_aa0f1b28_281c_11eb_a96f_a8a1590dbef8row11_col8 {\n",
       "            background-color:  #f0f6fd;\n",
       "            color:  #000000;\n",
       "        }    #T_aa0f1b28_281c_11eb_a96f_a8a1590dbef8row11_col9 {\n",
       "            background-color:  #caddf0;\n",
       "            color:  #000000;\n",
       "        }    #T_aa0f1b28_281c_11eb_a96f_a8a1590dbef8row11_col10 {\n",
       "            background-color:  #c3daee;\n",
       "            color:  #000000;\n",
       "        }    #T_aa0f1b28_281c_11eb_a96f_a8a1590dbef8row11_col11 {\n",
       "            background-color:  #08306b;\n",
       "            color:  #f1f1f1;\n",
       "        }</style><table id=\"T_aa0f1b28_281c_11eb_a96f_a8a1590dbef8\" ><thead>    <tr>        <th class=\"blank level0\" ></th>        <th class=\"col_heading level0 col0\" >CreditScore</th>        <th class=\"col_heading level0 col1\" >Age</th>        <th class=\"col_heading level0 col2\" >Tenure</th>        <th class=\"col_heading level0 col3\" >Balance</th>        <th class=\"col_heading level0 col4\" >NumOfProducts</th>        <th class=\"col_heading level0 col5\" >HasCrCard</th>        <th class=\"col_heading level0 col6\" >IsActiveMember</th>        <th class=\"col_heading level0 col7\" >EstimatedSalary</th>        <th class=\"col_heading level0 col8\" >Exited</th>        <th class=\"col_heading level0 col9\" >Geography_Germany</th>        <th class=\"col_heading level0 col10\" >Geography_Spain</th>        <th class=\"col_heading level0 col11\" >Gender_Male</th>    </tr></thead><tbody>\n",
       "                <tr>\n",
       "                        <th id=\"T_aa0f1b28_281c_11eb_a96f_a8a1590dbef8level0_row0\" class=\"row_heading level0 row0\" >CreditScore</th>\n",
       "                        <td id=\"T_aa0f1b28_281c_11eb_a96f_a8a1590dbef8row0_col0\" class=\"data row0 col0\" >1.000000</td>\n",
       "                        <td id=\"T_aa0f1b28_281c_11eb_a96f_a8a1590dbef8row0_col1\" class=\"data row0 col1\" >-0.004504</td>\n",
       "                        <td id=\"T_aa0f1b28_281c_11eb_a96f_a8a1590dbef8row0_col2\" class=\"data row0 col2\" >-0.000062</td>\n",
       "                        <td id=\"T_aa0f1b28_281c_11eb_a96f_a8a1590dbef8row0_col3\" class=\"data row0 col3\" >0.002804</td>\n",
       "                        <td id=\"T_aa0f1b28_281c_11eb_a96f_a8a1590dbef8row0_col4\" class=\"data row0 col4\" >0.011090</td>\n",
       "                        <td id=\"T_aa0f1b28_281c_11eb_a96f_a8a1590dbef8row0_col5\" class=\"data row0 col5\" >-0.003937</td>\n",
       "                        <td id=\"T_aa0f1b28_281c_11eb_a96f_a8a1590dbef8row0_col6\" class=\"data row0 col6\" >0.030947</td>\n",
       "                        <td id=\"T_aa0f1b28_281c_11eb_a96f_a8a1590dbef8row0_col7\" class=\"data row0 col7\" >0.005182</td>\n",
       "                        <td id=\"T_aa0f1b28_281c_11eb_a96f_a8a1590dbef8row0_col8\" class=\"data row0 col8\" >-0.023950</td>\n",
       "                        <td id=\"T_aa0f1b28_281c_11eb_a96f_a8a1590dbef8row0_col9\" class=\"data row0 col9\" >0.000428</td>\n",
       "                        <td id=\"T_aa0f1b28_281c_11eb_a96f_a8a1590dbef8row0_col10\" class=\"data row0 col10\" >0.001725</td>\n",
       "                        <td id=\"T_aa0f1b28_281c_11eb_a96f_a8a1590dbef8row0_col11\" class=\"data row0 col11\" >-0.008547</td>\n",
       "            </tr>\n",
       "            <tr>\n",
       "                        <th id=\"T_aa0f1b28_281c_11eb_a96f_a8a1590dbef8level0_row1\" class=\"row_heading level0 row1\" >Age</th>\n",
       "                        <td id=\"T_aa0f1b28_281c_11eb_a96f_a8a1590dbef8row1_col0\" class=\"data row1 col0\" >-0.004504</td>\n",
       "                        <td id=\"T_aa0f1b28_281c_11eb_a96f_a8a1590dbef8row1_col1\" class=\"data row1 col1\" >1.000000</td>\n",
       "                        <td id=\"T_aa0f1b28_281c_11eb_a96f_a8a1590dbef8row1_col2\" class=\"data row1 col2\" >-0.013134</td>\n",
       "                        <td id=\"T_aa0f1b28_281c_11eb_a96f_a8a1590dbef8row1_col3\" class=\"data row1 col3\" >0.031481</td>\n",
       "                        <td id=\"T_aa0f1b28_281c_11eb_a96f_a8a1590dbef8row1_col4\" class=\"data row1 col4\" >-0.031877</td>\n",
       "                        <td id=\"T_aa0f1b28_281c_11eb_a96f_a8a1590dbef8row1_col5\" class=\"data row1 col5\" >-0.014129</td>\n",
       "                        <td id=\"T_aa0f1b28_281c_11eb_a96f_a8a1590dbef8row1_col6\" class=\"data row1 col6\" >0.082269</td>\n",
       "                        <td id=\"T_aa0f1b28_281c_11eb_a96f_a8a1590dbef8row1_col7\" class=\"data row1 col7\" >-0.007037</td>\n",
       "                        <td id=\"T_aa0f1b28_281c_11eb_a96f_a8a1590dbef8row1_col8\" class=\"data row1 col8\" >0.283017</td>\n",
       "                        <td id=\"T_aa0f1b28_281c_11eb_a96f_a8a1590dbef8row1_col9\" class=\"data row1 col9\" >0.049038</td>\n",
       "                        <td id=\"T_aa0f1b28_281c_11eb_a96f_a8a1590dbef8row1_col10\" class=\"data row1 col10\" >-0.005622</td>\n",
       "                        <td id=\"T_aa0f1b28_281c_11eb_a96f_a8a1590dbef8row1_col11\" class=\"data row1 col11\" >-0.025631</td>\n",
       "            </tr>\n",
       "            <tr>\n",
       "                        <th id=\"T_aa0f1b28_281c_11eb_a96f_a8a1590dbef8level0_row2\" class=\"row_heading level0 row2\" >Tenure</th>\n",
       "                        <td id=\"T_aa0f1b28_281c_11eb_a96f_a8a1590dbef8row2_col0\" class=\"data row2 col0\" >-0.000062</td>\n",
       "                        <td id=\"T_aa0f1b28_281c_11eb_a96f_a8a1590dbef8row2_col1\" class=\"data row2 col1\" >-0.013134</td>\n",
       "                        <td id=\"T_aa0f1b28_281c_11eb_a96f_a8a1590dbef8row2_col2\" class=\"data row2 col2\" >1.000000</td>\n",
       "                        <td id=\"T_aa0f1b28_281c_11eb_a96f_a8a1590dbef8row2_col3\" class=\"data row2 col3\" >-0.007911</td>\n",
       "                        <td id=\"T_aa0f1b28_281c_11eb_a96f_a8a1590dbef8row2_col4\" class=\"data row2 col4\" >0.011979</td>\n",
       "                        <td id=\"T_aa0f1b28_281c_11eb_a96f_a8a1590dbef8row2_col5\" class=\"data row2 col5\" >0.027232</td>\n",
       "                        <td id=\"T_aa0f1b28_281c_11eb_a96f_a8a1590dbef8row2_col6\" class=\"data row2 col6\" >-0.032178</td>\n",
       "                        <td id=\"T_aa0f1b28_281c_11eb_a96f_a8a1590dbef8row2_col7\" class=\"data row2 col7\" >0.010520</td>\n",
       "                        <td id=\"T_aa0f1b28_281c_11eb_a96f_a8a1590dbef8row2_col8\" class=\"data row2 col8\" >-0.016761</td>\n",
       "                        <td id=\"T_aa0f1b28_281c_11eb_a96f_a8a1590dbef8row2_col9\" class=\"data row2 col9\" >-0.003299</td>\n",
       "                        <td id=\"T_aa0f1b28_281c_11eb_a96f_a8a1590dbef8row2_col10\" class=\"data row2 col10\" >0.000810</td>\n",
       "                        <td id=\"T_aa0f1b28_281c_11eb_a96f_a8a1590dbef8row2_col11\" class=\"data row2 col11\" >0.012634</td>\n",
       "            </tr>\n",
       "            <tr>\n",
       "                        <th id=\"T_aa0f1b28_281c_11eb_a96f_a8a1590dbef8level0_row3\" class=\"row_heading level0 row3\" >Balance</th>\n",
       "                        <td id=\"T_aa0f1b28_281c_11eb_a96f_a8a1590dbef8row3_col0\" class=\"data row3 col0\" >0.002804</td>\n",
       "                        <td id=\"T_aa0f1b28_281c_11eb_a96f_a8a1590dbef8row3_col1\" class=\"data row3 col1\" >0.031481</td>\n",
       "                        <td id=\"T_aa0f1b28_281c_11eb_a96f_a8a1590dbef8row3_col2\" class=\"data row3 col2\" >-0.007911</td>\n",
       "                        <td id=\"T_aa0f1b28_281c_11eb_a96f_a8a1590dbef8row3_col3\" class=\"data row3 col3\" >1.000000</td>\n",
       "                        <td id=\"T_aa0f1b28_281c_11eb_a96f_a8a1590dbef8row3_col4\" class=\"data row3 col4\" >-0.301858</td>\n",
       "                        <td id=\"T_aa0f1b28_281c_11eb_a96f_a8a1590dbef8row3_col5\" class=\"data row3 col5\" >-0.019055</td>\n",
       "                        <td id=\"T_aa0f1b28_281c_11eb_a96f_a8a1590dbef8row3_col6\" class=\"data row3 col6\" >-0.003285</td>\n",
       "                        <td id=\"T_aa0f1b28_281c_11eb_a96f_a8a1590dbef8row3_col7\" class=\"data row3 col7\" >0.014351</td>\n",
       "                        <td id=\"T_aa0f1b28_281c_11eb_a96f_a8a1590dbef8row3_col8\" class=\"data row3 col8\" >0.117218</td>\n",
       "                        <td id=\"T_aa0f1b28_281c_11eb_a96f_a8a1590dbef8row3_col9\" class=\"data row3 col9\" >0.401701</td>\n",
       "                        <td id=\"T_aa0f1b28_281c_11eb_a96f_a8a1590dbef8row3_col10\" class=\"data row3 col10\" >-0.136986</td>\n",
       "                        <td id=\"T_aa0f1b28_281c_11eb_a96f_a8a1590dbef8row3_col11\" class=\"data row3 col11\" >0.018030</td>\n",
       "            </tr>\n",
       "            <tr>\n",
       "                        <th id=\"T_aa0f1b28_281c_11eb_a96f_a8a1590dbef8level0_row4\" class=\"row_heading level0 row4\" >NumOfProducts</th>\n",
       "                        <td id=\"T_aa0f1b28_281c_11eb_a96f_a8a1590dbef8row4_col0\" class=\"data row4 col0\" >0.011090</td>\n",
       "                        <td id=\"T_aa0f1b28_281c_11eb_a96f_a8a1590dbef8row4_col1\" class=\"data row4 col1\" >-0.031877</td>\n",
       "                        <td id=\"T_aa0f1b28_281c_11eb_a96f_a8a1590dbef8row4_col2\" class=\"data row4 col2\" >0.011979</td>\n",
       "                        <td id=\"T_aa0f1b28_281c_11eb_a96f_a8a1590dbef8row4_col3\" class=\"data row4 col3\" >-0.301858</td>\n",
       "                        <td id=\"T_aa0f1b28_281c_11eb_a96f_a8a1590dbef8row4_col4\" class=\"data row4 col4\" >1.000000</td>\n",
       "                        <td id=\"T_aa0f1b28_281c_11eb_a96f_a8a1590dbef8row4_col5\" class=\"data row4 col5\" >0.005805</td>\n",
       "                        <td id=\"T_aa0f1b28_281c_11eb_a96f_a8a1590dbef8row4_col6\" class=\"data row4 col6\" >0.009084</td>\n",
       "                        <td id=\"T_aa0f1b28_281c_11eb_a96f_a8a1590dbef8row4_col7\" class=\"data row4 col7\" >0.013990</td>\n",
       "                        <td id=\"T_aa0f1b28_281c_11eb_a96f_a8a1590dbef8row4_col8\" class=\"data row4 col8\" >-0.050271</td>\n",
       "                        <td id=\"T_aa0f1b28_281c_11eb_a96f_a8a1590dbef8row4_col9\" class=\"data row4 col9\" >-0.009476</td>\n",
       "                        <td id=\"T_aa0f1b28_281c_11eb_a96f_a8a1590dbef8row4_col10\" class=\"data row4 col10\" >0.011903</td>\n",
       "                        <td id=\"T_aa0f1b28_281c_11eb_a96f_a8a1590dbef8row4_col11\" class=\"data row4 col11\" >-0.025176</td>\n",
       "            </tr>\n",
       "            <tr>\n",
       "                        <th id=\"T_aa0f1b28_281c_11eb_a96f_a8a1590dbef8level0_row5\" class=\"row_heading level0 row5\" >HasCrCard</th>\n",
       "                        <td id=\"T_aa0f1b28_281c_11eb_a96f_a8a1590dbef8row5_col0\" class=\"data row5 col0\" >-0.003937</td>\n",
       "                        <td id=\"T_aa0f1b28_281c_11eb_a96f_a8a1590dbef8row5_col1\" class=\"data row5 col1\" >-0.014129</td>\n",
       "                        <td id=\"T_aa0f1b28_281c_11eb_a96f_a8a1590dbef8row5_col2\" class=\"data row5 col2\" >0.027232</td>\n",
       "                        <td id=\"T_aa0f1b28_281c_11eb_a96f_a8a1590dbef8row5_col3\" class=\"data row5 col3\" >-0.019055</td>\n",
       "                        <td id=\"T_aa0f1b28_281c_11eb_a96f_a8a1590dbef8row5_col4\" class=\"data row5 col4\" >0.005805</td>\n",
       "                        <td id=\"T_aa0f1b28_281c_11eb_a96f_a8a1590dbef8row5_col5\" class=\"data row5 col5\" >1.000000</td>\n",
       "                        <td id=\"T_aa0f1b28_281c_11eb_a96f_a8a1590dbef8row5_col6\" class=\"data row5 col6\" >-0.008810</td>\n",
       "                        <td id=\"T_aa0f1b28_281c_11eb_a96f_a8a1590dbef8row5_col7\" class=\"data row5 col7\" >-0.006136</td>\n",
       "                        <td id=\"T_aa0f1b28_281c_11eb_a96f_a8a1590dbef8row5_col8\" class=\"data row5 col8\" >-0.005411</td>\n",
       "                        <td id=\"T_aa0f1b28_281c_11eb_a96f_a8a1590dbef8row5_col9\" class=\"data row5 col9\" >0.009149</td>\n",
       "                        <td id=\"T_aa0f1b28_281c_11eb_a96f_a8a1590dbef8row5_col10\" class=\"data row5 col10\" >-0.017779</td>\n",
       "                        <td id=\"T_aa0f1b28_281c_11eb_a96f_a8a1590dbef8row5_col11\" class=\"data row5 col11\" >0.006016</td>\n",
       "            </tr>\n",
       "            <tr>\n",
       "                        <th id=\"T_aa0f1b28_281c_11eb_a96f_a8a1590dbef8level0_row6\" class=\"row_heading level0 row6\" >IsActiveMember</th>\n",
       "                        <td id=\"T_aa0f1b28_281c_11eb_a96f_a8a1590dbef8row6_col0\" class=\"data row6 col0\" >0.030947</td>\n",
       "                        <td id=\"T_aa0f1b28_281c_11eb_a96f_a8a1590dbef8row6_col1\" class=\"data row6 col1\" >0.082269</td>\n",
       "                        <td id=\"T_aa0f1b28_281c_11eb_a96f_a8a1590dbef8row6_col2\" class=\"data row6 col2\" >-0.032178</td>\n",
       "                        <td id=\"T_aa0f1b28_281c_11eb_a96f_a8a1590dbef8row6_col3\" class=\"data row6 col3\" >-0.003285</td>\n",
       "                        <td id=\"T_aa0f1b28_281c_11eb_a96f_a8a1590dbef8row6_col4\" class=\"data row6 col4\" >0.009084</td>\n",
       "                        <td id=\"T_aa0f1b28_281c_11eb_a96f_a8a1590dbef8row6_col5\" class=\"data row6 col5\" >-0.008810</td>\n",
       "                        <td id=\"T_aa0f1b28_281c_11eb_a96f_a8a1590dbef8row6_col6\" class=\"data row6 col6\" >1.000000</td>\n",
       "                        <td id=\"T_aa0f1b28_281c_11eb_a96f_a8a1590dbef8row6_col7\" class=\"data row6 col7\" >-0.020049</td>\n",
       "                        <td id=\"T_aa0f1b28_281c_11eb_a96f_a8a1590dbef8row6_col8\" class=\"data row6 col8\" >-0.155062</td>\n",
       "                        <td id=\"T_aa0f1b28_281c_11eb_a96f_a8a1590dbef8row6_col9\" class=\"data row6 col9\" >-0.016821</td>\n",
       "                        <td id=\"T_aa0f1b28_281c_11eb_a96f_a8a1590dbef8row6_col10\" class=\"data row6 col10\" >0.014800</td>\n",
       "                        <td id=\"T_aa0f1b28_281c_11eb_a96f_a8a1590dbef8row6_col11\" class=\"data row6 col11\" >0.025019</td>\n",
       "            </tr>\n",
       "            <tr>\n",
       "                        <th id=\"T_aa0f1b28_281c_11eb_a96f_a8a1590dbef8level0_row7\" class=\"row_heading level0 row7\" >EstimatedSalary</th>\n",
       "                        <td id=\"T_aa0f1b28_281c_11eb_a96f_a8a1590dbef8row7_col0\" class=\"data row7 col0\" >0.005182</td>\n",
       "                        <td id=\"T_aa0f1b28_281c_11eb_a96f_a8a1590dbef8row7_col1\" class=\"data row7 col1\" >-0.007037</td>\n",
       "                        <td id=\"T_aa0f1b28_281c_11eb_a96f_a8a1590dbef8row7_col2\" class=\"data row7 col2\" >0.010520</td>\n",
       "                        <td id=\"T_aa0f1b28_281c_11eb_a96f_a8a1590dbef8row7_col3\" class=\"data row7 col3\" >0.014351</td>\n",
       "                        <td id=\"T_aa0f1b28_281c_11eb_a96f_a8a1590dbef8row7_col4\" class=\"data row7 col4\" >0.013990</td>\n",
       "                        <td id=\"T_aa0f1b28_281c_11eb_a96f_a8a1590dbef8row7_col5\" class=\"data row7 col5\" >-0.006136</td>\n",
       "                        <td id=\"T_aa0f1b28_281c_11eb_a96f_a8a1590dbef8row7_col6\" class=\"data row7 col6\" >-0.020049</td>\n",
       "                        <td id=\"T_aa0f1b28_281c_11eb_a96f_a8a1590dbef8row7_col7\" class=\"data row7 col7\" >1.000000</td>\n",
       "                        <td id=\"T_aa0f1b28_281c_11eb_a96f_a8a1590dbef8row7_col8\" class=\"data row7 col8\" >0.016030</td>\n",
       "                        <td id=\"T_aa0f1b28_281c_11eb_a96f_a8a1590dbef8row7_col9\" class=\"data row7 col9\" >0.011551</td>\n",
       "                        <td id=\"T_aa0f1b28_281c_11eb_a96f_a8a1590dbef8row7_col10\" class=\"data row7 col10\" >-0.010998</td>\n",
       "                        <td id=\"T_aa0f1b28_281c_11eb_a96f_a8a1590dbef8row7_col11\" class=\"data row7 col11\" >-0.002658</td>\n",
       "            </tr>\n",
       "            <tr>\n",
       "                        <th id=\"T_aa0f1b28_281c_11eb_a96f_a8a1590dbef8level0_row8\" class=\"row_heading level0 row8\" >Exited</th>\n",
       "                        <td id=\"T_aa0f1b28_281c_11eb_a96f_a8a1590dbef8row8_col0\" class=\"data row8 col0\" >-0.023950</td>\n",
       "                        <td id=\"T_aa0f1b28_281c_11eb_a96f_a8a1590dbef8row8_col1\" class=\"data row8 col1\" >0.283017</td>\n",
       "                        <td id=\"T_aa0f1b28_281c_11eb_a96f_a8a1590dbef8row8_col2\" class=\"data row8 col2\" >-0.016761</td>\n",
       "                        <td id=\"T_aa0f1b28_281c_11eb_a96f_a8a1590dbef8row8_col3\" class=\"data row8 col3\" >0.117218</td>\n",
       "                        <td id=\"T_aa0f1b28_281c_11eb_a96f_a8a1590dbef8row8_col4\" class=\"data row8 col4\" >-0.050271</td>\n",
       "                        <td id=\"T_aa0f1b28_281c_11eb_a96f_a8a1590dbef8row8_col5\" class=\"data row8 col5\" >-0.005411</td>\n",
       "                        <td id=\"T_aa0f1b28_281c_11eb_a96f_a8a1590dbef8row8_col6\" class=\"data row8 col6\" >-0.155062</td>\n",
       "                        <td id=\"T_aa0f1b28_281c_11eb_a96f_a8a1590dbef8row8_col7\" class=\"data row8 col7\" >0.016030</td>\n",
       "                        <td id=\"T_aa0f1b28_281c_11eb_a96f_a8a1590dbef8row8_col8\" class=\"data row8 col8\" >1.000000</td>\n",
       "                        <td id=\"T_aa0f1b28_281c_11eb_a96f_a8a1590dbef8row8_col9\" class=\"data row8 col9\" >0.178131</td>\n",
       "                        <td id=\"T_aa0f1b28_281c_11eb_a96f_a8a1590dbef8row8_col10\" class=\"data row8 col10\" >-0.055971</td>\n",
       "                        <td id=\"T_aa0f1b28_281c_11eb_a96f_a8a1590dbef8row8_col11\" class=\"data row8 col11\" >-0.110450</td>\n",
       "            </tr>\n",
       "            <tr>\n",
       "                        <th id=\"T_aa0f1b28_281c_11eb_a96f_a8a1590dbef8level0_row9\" class=\"row_heading level0 row9\" >Geography_Germany</th>\n",
       "                        <td id=\"T_aa0f1b28_281c_11eb_a96f_a8a1590dbef8row9_col0\" class=\"data row9 col0\" >0.000428</td>\n",
       "                        <td id=\"T_aa0f1b28_281c_11eb_a96f_a8a1590dbef8row9_col1\" class=\"data row9 col1\" >0.049038</td>\n",
       "                        <td id=\"T_aa0f1b28_281c_11eb_a96f_a8a1590dbef8row9_col2\" class=\"data row9 col2\" >-0.003299</td>\n",
       "                        <td id=\"T_aa0f1b28_281c_11eb_a96f_a8a1590dbef8row9_col3\" class=\"data row9 col3\" >0.401701</td>\n",
       "                        <td id=\"T_aa0f1b28_281c_11eb_a96f_a8a1590dbef8row9_col4\" class=\"data row9 col4\" >-0.009476</td>\n",
       "                        <td id=\"T_aa0f1b28_281c_11eb_a96f_a8a1590dbef8row9_col5\" class=\"data row9 col5\" >0.009149</td>\n",
       "                        <td id=\"T_aa0f1b28_281c_11eb_a96f_a8a1590dbef8row9_col6\" class=\"data row9 col6\" >-0.016821</td>\n",
       "                        <td id=\"T_aa0f1b28_281c_11eb_a96f_a8a1590dbef8row9_col7\" class=\"data row9 col7\" >0.011551</td>\n",
       "                        <td id=\"T_aa0f1b28_281c_11eb_a96f_a8a1590dbef8row9_col8\" class=\"data row9 col8\" >0.178131</td>\n",
       "                        <td id=\"T_aa0f1b28_281c_11eb_a96f_a8a1590dbef8row9_col9\" class=\"data row9 col9\" >1.000000</td>\n",
       "                        <td id=\"T_aa0f1b28_281c_11eb_a96f_a8a1590dbef8row9_col10\" class=\"data row9 col10\" >-0.332879</td>\n",
       "                        <td id=\"T_aa0f1b28_281c_11eb_a96f_a8a1590dbef8row9_col11\" class=\"data row9 col11\" >-0.023701</td>\n",
       "            </tr>\n",
       "            <tr>\n",
       "                        <th id=\"T_aa0f1b28_281c_11eb_a96f_a8a1590dbef8level0_row10\" class=\"row_heading level0 row10\" >Geography_Spain</th>\n",
       "                        <td id=\"T_aa0f1b28_281c_11eb_a96f_a8a1590dbef8row10_col0\" class=\"data row10 col0\" >0.001725</td>\n",
       "                        <td id=\"T_aa0f1b28_281c_11eb_a96f_a8a1590dbef8row10_col1\" class=\"data row10 col1\" >-0.005622</td>\n",
       "                        <td id=\"T_aa0f1b28_281c_11eb_a96f_a8a1590dbef8row10_col2\" class=\"data row10 col2\" >0.000810</td>\n",
       "                        <td id=\"T_aa0f1b28_281c_11eb_a96f_a8a1590dbef8row10_col3\" class=\"data row10 col3\" >-0.136986</td>\n",
       "                        <td id=\"T_aa0f1b28_281c_11eb_a96f_a8a1590dbef8row10_col4\" class=\"data row10 col4\" >0.011903</td>\n",
       "                        <td id=\"T_aa0f1b28_281c_11eb_a96f_a8a1590dbef8row10_col5\" class=\"data row10 col5\" >-0.017779</td>\n",
       "                        <td id=\"T_aa0f1b28_281c_11eb_a96f_a8a1590dbef8row10_col6\" class=\"data row10 col6\" >0.014800</td>\n",
       "                        <td id=\"T_aa0f1b28_281c_11eb_a96f_a8a1590dbef8row10_col7\" class=\"data row10 col7\" >-0.010998</td>\n",
       "                        <td id=\"T_aa0f1b28_281c_11eb_a96f_a8a1590dbef8row10_col8\" class=\"data row10 col8\" >-0.055971</td>\n",
       "                        <td id=\"T_aa0f1b28_281c_11eb_a96f_a8a1590dbef8row10_col9\" class=\"data row10 col9\" >-0.332879</td>\n",
       "                        <td id=\"T_aa0f1b28_281c_11eb_a96f_a8a1590dbef8row10_col10\" class=\"data row10 col10\" >1.000000</td>\n",
       "                        <td id=\"T_aa0f1b28_281c_11eb_a96f_a8a1590dbef8row10_col11\" class=\"data row10 col11\" >0.015388</td>\n",
       "            </tr>\n",
       "            <tr>\n",
       "                        <th id=\"T_aa0f1b28_281c_11eb_a96f_a8a1590dbef8level0_row11\" class=\"row_heading level0 row11\" >Gender_Male</th>\n",
       "                        <td id=\"T_aa0f1b28_281c_11eb_a96f_a8a1590dbef8row11_col0\" class=\"data row11 col0\" >-0.008547</td>\n",
       "                        <td id=\"T_aa0f1b28_281c_11eb_a96f_a8a1590dbef8row11_col1\" class=\"data row11 col1\" >-0.025631</td>\n",
       "                        <td id=\"T_aa0f1b28_281c_11eb_a96f_a8a1590dbef8row11_col2\" class=\"data row11 col2\" >0.012634</td>\n",
       "                        <td id=\"T_aa0f1b28_281c_11eb_a96f_a8a1590dbef8row11_col3\" class=\"data row11 col3\" >0.018030</td>\n",
       "                        <td id=\"T_aa0f1b28_281c_11eb_a96f_a8a1590dbef8row11_col4\" class=\"data row11 col4\" >-0.025176</td>\n",
       "                        <td id=\"T_aa0f1b28_281c_11eb_a96f_a8a1590dbef8row11_col5\" class=\"data row11 col5\" >0.006016</td>\n",
       "                        <td id=\"T_aa0f1b28_281c_11eb_a96f_a8a1590dbef8row11_col6\" class=\"data row11 col6\" >0.025019</td>\n",
       "                        <td id=\"T_aa0f1b28_281c_11eb_a96f_a8a1590dbef8row11_col7\" class=\"data row11 col7\" >-0.002658</td>\n",
       "                        <td id=\"T_aa0f1b28_281c_11eb_a96f_a8a1590dbef8row11_col8\" class=\"data row11 col8\" >-0.110450</td>\n",
       "                        <td id=\"T_aa0f1b28_281c_11eb_a96f_a8a1590dbef8row11_col9\" class=\"data row11 col9\" >-0.023701</td>\n",
       "                        <td id=\"T_aa0f1b28_281c_11eb_a96f_a8a1590dbef8row11_col10\" class=\"data row11 col10\" >0.015388</td>\n",
       "                        <td id=\"T_aa0f1b28_281c_11eb_a96f_a8a1590dbef8row11_col11\" class=\"data row11 col11\" >1.000000</td>\n",
       "            </tr>\n",
       "    </tbody></table>"
      ],
      "text/plain": [
       "<pandas.io.formats.style.Styler at 0x27da14c6190>"
      ]
     },
     "execution_count": 14,
     "metadata": {},
     "output_type": "execute_result"
    }
   ],
   "source": [
    "df.corr().style.background_gradient(cmap='Blues')"
   ]
  },
  {
   "cell_type": "markdown",
   "metadata": {},
   "source": [
    "## Проверка на соотношение классов в целевой переменной <a id=\"classes_ratio\">\n",
    "[вернуться к содержанию](#contents)"
   ]
  },
  {
   "cell_type": "code",
   "execution_count": 15,
   "metadata": {},
   "outputs": [
    {
     "data": {
      "text/html": [
       "<style  type=\"text/css\" >\n",
       "    #T_aa1360cc_281c_11eb_a0fd_a8a1590dbef8 caption {\n",
       "          color: blue;\n",
       "          font-size: 15px;\n",
       "    }    #T_aa1360cc_281c_11eb_a0fd_a8a1590dbef8row0_col1 {\n",
       "            width:  10em;\n",
       "             height:  80%;\n",
       "            background:  linear-gradient(90deg,#67A5EB 100.0%, transparent 100.0%);\n",
       "        }    #T_aa1360cc_281c_11eb_a0fd_a8a1590dbef8row1_col1 {\n",
       "            width:  10em;\n",
       "             height:  80%;\n",
       "            background:  linear-gradient(90deg,#67A5EB 25.6%, transparent 25.6%);\n",
       "        }</style><table id=\"T_aa1360cc_281c_11eb_a0fd_a8a1590dbef8\" ><caption>Распределение классов в целевом признаке:</caption><thead>    <tr>        <th class=\"col_heading level0 col0\" >index</th>        <th class=\"col_heading level0 col1\" >Exited</th>    </tr></thead><tbody>\n",
       "                <tr>\n",
       "                                <td id=\"T_aa1360cc_281c_11eb_a0fd_a8a1590dbef8row0_col0\" class=\"data row0 col0\" >0</td>\n",
       "                        <td id=\"T_aa1360cc_281c_11eb_a0fd_a8a1590dbef8row0_col1\" class=\"data row0 col1\" >7237</td>\n",
       "            </tr>\n",
       "            <tr>\n",
       "                                <td id=\"T_aa1360cc_281c_11eb_a0fd_a8a1590dbef8row1_col0\" class=\"data row1 col0\" >1</td>\n",
       "                        <td id=\"T_aa1360cc_281c_11eb_a0fd_a8a1590dbef8row1_col1\" class=\"data row1 col1\" >1854</td>\n",
       "            </tr>\n",
       "    </tbody></table>"
      ],
      "text/plain": [
       "<pandas.io.formats.style.Styler at 0x27da14c65b0>"
      ]
     },
     "execution_count": 15,
     "metadata": {},
     "output_type": "execute_result"
    }
   ],
   "source": [
    "(df.Exited.value_counts()\n",
    "            .reset_index()\n",
    "            .style.bar(subset=['Exited'], color='#67A5EB', align='mid')\n",
    "            .set_caption('Распределение классов в целевом признаке:')\n",
    "            .hide_index()\n",
    "            .set_table_styles([{'selector': 'caption', \n",
    "                             'props': [('color', 'blue'), ('font-size', '15px')]}])\n",
    ")"
   ]
  },
  {
   "cell_type": "code",
   "execution_count": 16,
   "metadata": {},
   "outputs": [
    {
     "data": {
      "text/markdown": [
       "**Отношение класса \"0\" к классу \"1\" составляет**:  3.90"
      ],
      "text/plain": [
       "<IPython.core.display.Markdown object>"
      ]
     },
     "execution_count": 16,
     "metadata": {},
     "output_type": "execute_result"
    }
   ],
   "source": [
    "# соотношение класса \"0\" к классу \"1\" в целевой переменной\n",
    "classes_ratio = df.Exited.value_counts()[0] / df.Exited.value_counts()[1] \n",
    "md('**Отношение класса \"0\" к классу \"1\" составляет**:  {:.2f}'.format(classes_ratio))"
   ]
  },
  {
   "cell_type": "markdown",
   "metadata": {},
   "source": [
    "- Баланса нет, поэтому ниже пойдем тремя дорогами:\n",
    "  - добавим веса для редким положительным объектам\n",
    "  - увеличим выборку, сделав upsampling для положительных объектов\n",
    "  - уменьшим выборку, сделав downsampling для отрицательных объектов\n",
    "  \n",
    "  \n",
    "- Для сравнения метрик также построим модели без учета дисбаланса классов."
   ]
  },
  {
   "cell_type": "markdown",
   "metadata": {},
   "source": [
    "## Разделение данных на выборки и их стандартизация <a id=\"selection\">\n",
    "[вернуться к содержанию](#contents)"
   ]
  },
  {
   "cell_type": "code",
   "execution_count": 17,
   "metadata": {},
   "outputs": [],
   "source": [
    "# разобъем на признаки и целевую переменную\n",
    "target = df['Exited']\n",
    "features = df.drop('Exited', axis=1)"
   ]
  },
  {
   "cell_type": "code",
   "execution_count": 18,
   "metadata": {},
   "outputs": [],
   "source": [
    "# выделяем тестовую выборку в размере 20% от исходного датасета\n",
    "features_train, features_test, target_train, target_test = train_test_split(features, target, \n",
    "                                                    test_size=0.2, \n",
    "                                                    random_state=12345,\n",
    "                                                    stratify = target)"
   ]
  },
  {
   "cell_type": "code",
   "execution_count": 19,
   "metadata": {},
   "outputs": [
    {
     "name": "stdout",
     "output_type": "stream",
     "text": [
      "Размер обучающей выборки: 60.0%\n",
      "Размер валидационной: 20.0%\n",
      "Размер тестовой: 20.0%\n"
     ]
    }
   ],
   "source": [
    "# из обучающей выделяем валидационную \n",
    "features_train, features_valid, target_train, target_valid = train_test_split(features_train, target_train, \n",
    "                                                  test_size=0.25, \n",
    "                                                  random_state=12345) \n",
    "\n",
    "print('''Размер обучающей выборки: {:.1%}\n",
    "Размер валидационной: {:.1%}\n",
    "Размер тестовой: {:.1%}'''.format(features_train.shape[0]/df.shape[0], \n",
    "                                  features_test.shape[0]/df.shape[0], \n",
    "                                  features_valid.shape[0]/df.shape[0]))"
   ]
  },
  {
   "cell_type": "markdown",
   "metadata": {},
   "source": [
    "#### Проверям соотношение класса \"1\" к классу \"0\" в сформированных обучающей, валидационной, тестовой выборках"
   ]
  },
  {
   "cell_type": "code",
   "execution_count": 20,
   "metadata": {},
   "outputs": [
    {
     "name": "stdout",
     "output_type": "stream",
     "text": [
      "0    4376\n",
      "1    1078\n",
      "Name: Exited, dtype: int64\n",
      "доля класса \"1\": 24.63%\n",
      "-----------------------------\n",
      "0    1413\n",
      "1     405\n",
      "Name: Exited, dtype: int64\n",
      "доля класса \"1\": 28.66%\n",
      "-----------------------------\n",
      "0    1448\n",
      "1     371\n",
      "Name: Exited, dtype: int64\n",
      "доля класса \"1\": 25.62%\n",
      "-----------------------------\n"
     ]
    }
   ],
   "source": [
    "for target_i in [target_train, target_valid, target_test]:\n",
    "    print(target_i.value_counts())\n",
    "    print('доля класса \"1\": {:.2%}'.format(target_i.value_counts()[1] / target_i.value_counts()[0]))\n",
    "    print('-----------------------------')"
   ]
  },
  {
   "cell_type": "code",
   "execution_count": 21,
   "metadata": {},
   "outputs": [
    {
     "data": {
      "text/html": [
       "<div>\n",
       "<style scoped>\n",
       "    .dataframe tbody tr th:only-of-type {\n",
       "        vertical-align: middle;\n",
       "    }\n",
       "\n",
       "    .dataframe tbody tr th {\n",
       "        vertical-align: top;\n",
       "    }\n",
       "\n",
       "    .dataframe thead th {\n",
       "        text-align: right;\n",
       "    }\n",
       "</style>\n",
       "<table border=\"1\" class=\"dataframe\">\n",
       "  <thead>\n",
       "    <tr style=\"text-align: right;\">\n",
       "      <th></th>\n",
       "      <th>CreditScore</th>\n",
       "      <th>Age</th>\n",
       "      <th>Tenure</th>\n",
       "      <th>Balance</th>\n",
       "      <th>NumOfProducts</th>\n",
       "      <th>HasCrCard</th>\n",
       "      <th>IsActiveMember</th>\n",
       "      <th>EstimatedSalary</th>\n",
       "      <th>Geography_Germany</th>\n",
       "      <th>Geography_Spain</th>\n",
       "      <th>Gender_Male</th>\n",
       "    </tr>\n",
       "  </thead>\n",
       "  <tbody>\n",
       "    <tr>\n",
       "      <th>9665</th>\n",
       "      <td>-1.080178</td>\n",
       "      <td>-0.839008</td>\n",
       "      <td>0.345342</td>\n",
       "      <td>-1.215169</td>\n",
       "      <td>0.810398</td>\n",
       "      <td>1</td>\n",
       "      <td>1</td>\n",
       "      <td>-1.397452</td>\n",
       "      <td>0</td>\n",
       "      <td>0</td>\n",
       "      <td>1</td>\n",
       "    </tr>\n",
       "    <tr>\n",
       "      <th>8662</th>\n",
       "      <td>-1.463449</td>\n",
       "      <td>0.492039</td>\n",
       "      <td>-0.341188</td>\n",
       "      <td>0.753595</td>\n",
       "      <td>-0.914782</td>\n",
       "      <td>1</td>\n",
       "      <td>0</td>\n",
       "      <td>-1.223716</td>\n",
       "      <td>1</td>\n",
       "      <td>0</td>\n",
       "      <td>0</td>\n",
       "    </tr>\n",
       "    <tr>\n",
       "      <th>2484</th>\n",
       "      <td>2.058502</td>\n",
       "      <td>0.016665</td>\n",
       "      <td>0.345342</td>\n",
       "      <td>0.334349</td>\n",
       "      <td>-0.914782</td>\n",
       "      <td>1</td>\n",
       "      <td>1</td>\n",
       "      <td>0.397633</td>\n",
       "      <td>0</td>\n",
       "      <td>0</td>\n",
       "      <td>1</td>\n",
       "    </tr>\n",
       "    <tr>\n",
       "      <th>5107</th>\n",
       "      <td>2.027426</td>\n",
       "      <td>-0.173485</td>\n",
       "      <td>1.375135</td>\n",
       "      <td>0.587886</td>\n",
       "      <td>-0.914782</td>\n",
       "      <td>1</td>\n",
       "      <td>0</td>\n",
       "      <td>0.300512</td>\n",
       "      <td>0</td>\n",
       "      <td>1</td>\n",
       "      <td>0</td>\n",
       "    </tr>\n",
       "    <tr>\n",
       "      <th>7717</th>\n",
       "      <td>0.421830</td>\n",
       "      <td>0.682189</td>\n",
       "      <td>-1.027717</td>\n",
       "      <td>-1.215169</td>\n",
       "      <td>0.810398</td>\n",
       "      <td>1</td>\n",
       "      <td>1</td>\n",
       "      <td>0.124602</td>\n",
       "      <td>0</td>\n",
       "      <td>1</td>\n",
       "      <td>1</td>\n",
       "    </tr>\n",
       "  </tbody>\n",
       "</table>\n",
       "</div>"
      ],
      "text/plain": [
       "      CreditScore       Age    Tenure   Balance  NumOfProducts  HasCrCard  \\\n",
       "9665    -1.080178 -0.839008  0.345342 -1.215169       0.810398          1   \n",
       "8662    -1.463449  0.492039 -0.341188  0.753595      -0.914782          1   \n",
       "2484     2.058502  0.016665  0.345342  0.334349      -0.914782          1   \n",
       "5107     2.027426 -0.173485  1.375135  0.587886      -0.914782          1   \n",
       "7717     0.421830  0.682189 -1.027717 -1.215169       0.810398          1   \n",
       "\n",
       "      IsActiveMember  EstimatedSalary  Geography_Germany  Geography_Spain  \\\n",
       "9665               1        -1.397452                  0                0   \n",
       "8662               0        -1.223716                  1                0   \n",
       "2484               1         0.397633                  0                0   \n",
       "5107               0         0.300512                  0                1   \n",
       "7717               1         0.124602                  0                1   \n",
       "\n",
       "      Gender_Male  \n",
       "9665            1  \n",
       "8662            0  \n",
       "2484            1  \n",
       "5107            0  \n",
       "7717            1  "
      ]
     },
     "execution_count": 21,
     "metadata": {},
     "output_type": "execute_result"
    }
   ],
   "source": [
    "# проведем стандартизацию количественных переменных\n",
    "numeric = ['CreditScore', 'Age', 'Tenure', 'Balance', 'NumOfProducts', 'EstimatedSalary']\n",
    "\n",
    "scaler = StandardScaler()\n",
    "scaler.fit(features_train[numeric]) \n",
    "\n",
    "features_train[numeric] = scaler.transform(features_train[numeric])\n",
    "features_valid[numeric] = scaler.transform(features_valid[numeric])\n",
    "features_test[numeric] = scaler.transform(features_test[numeric])\n",
    "\n",
    "# пример данных после стандартизации\n",
    "features_train.head()"
   ]
  },
  {
   "cell_type": "markdown",
   "metadata": {},
   "source": [
    "## 3. Исследование моделей\n",
    "[вернуться к содержанию](#contents)"
   ]
  },
  {
   "cell_type": "code",
   "execution_count": 22,
   "metadata": {
    "scrolled": false
   },
   "outputs": [],
   "source": [
    "def my_lr_model(features_for_training, \n",
    "                target_for_training, \n",
    "                features_for_valid, \n",
    "                target_for_valid, \n",
    "                class_weight):\n",
    "    \"\"\"Задает алгоритм логистической регрессии с возможностью взвесить классы\"\"\"\n",
    "    threshold_list = []\n",
    "    f1_score_list = []\n",
    "    roc_auc_list = []\n",
    "    # сделаем прогноз с разными порогами\n",
    "    for threshold in np.arange(0, 1, 0.02):\n",
    "        lr_model = LogisticRegression(random_state=12345, \n",
    "                                      solver='liblinear', \n",
    "                                      class_weight=class_weight)\n",
    "        lr_model.fit(features_for_training, target_for_training)\n",
    "        # воспользуемся уже обученной моделью, чтобы определить вероятности для \"0\" и \"1\"\n",
    "        probabilities_valid = lr_model.predict_proba(features_for_valid)\n",
    "        # вероятности для класса \"1\"\n",
    "        probabilities_one_valid = probabilities_valid[:, 1]\n",
    "        # откорректируем прогноз по порогу   \n",
    "        predicted_valid = np.where(probabilities_one_valid > threshold, 1, 0)\n",
    "        f1 = f1_score(target_for_valid, predicted_valid)\n",
    "        roc_auc = roc_auc_score(target_for_valid, probabilities_one_valid)\n",
    "        # сохраним значения метрик \n",
    "        threshold_list.append(threshold)\n",
    "        f1_score_list.append(f1)\n",
    "        roc_auc_list.append(roc_auc)\n",
    "        lr_model_result = pd.DataFrame({'threshold':threshold_list, \n",
    "                               'f1_value':f1_score_list, \n",
    "                               'roc_auc_value':roc_auc_list})\n",
    "        \n",
    "    # посмотрим графически\n",
    "    ax = lr_model_result.plot(x=\"threshold\", y=\"f1_value\", legend=False, marker='.', linestyle='', color='b')\n",
    "    ax2 = ax.twinx()\n",
    "    lr_model_result.plot(x=\"threshold\", y=\"roc_auc_value\", ax=ax2, legend=False, marker='.', linestyle='-', color='g')\n",
    "    ax.figure.legend(loc='center', fontsize=16)\n",
    "    plt.show()\n",
    "    \n",
    "    display(lr_model_result\n",
    "     .sort_values(by='f1_value', ascending=False)\n",
    "     .head()\n",
    "     .style\n",
    "     .format('{:.3f}', subset=['f1_value', 'roc_auc_value'])\n",
    "     .highlight_max(subset=['f1_value', 'roc_auc_value'])\n",
    "    )"
   ]
  },
  {
   "cell_type": "code",
   "execution_count": 23,
   "metadata": {
    "scrolled": true
   },
   "outputs": [],
   "source": [
    "def my_rf_model(features_for_training, \n",
    "                target_for_training, \n",
    "                features_for_valid, \n",
    "                target_for_valid, \n",
    "                class_weight):\n",
    "    \"\"\"Задает алгоритм случайного леса с возможностью взвесить классы\"\"\"\n",
    "    n_estim_list = []\n",
    "    f1_score_list = []\n",
    "    roc_auc_list = []\n",
    "    for n in range(1, 51):\n",
    "        rf_model = RandomForestClassifier(n_estimators=n, \n",
    "                                          random_state=12345, \n",
    "                                          class_weight=class_weight)\n",
    "        rf_model.fit(features_for_training, target_for_training)\n",
    "        predicted_valid = rf_model.predict(features_for_valid)\n",
    "        f1 = f1_score(target_for_valid, predicted_valid)\n",
    "        probabilities_valid = rf_model.predict_proba(features_for_valid)    \n",
    "        roc_auc = roc_auc_score(target_for_valid, probabilities_valid[:, 1])\n",
    "        n_estim_list.append(n)\n",
    "        f1_score_list.append(f1)\n",
    "        roc_auc_list.append(roc_auc)\n",
    "        rf_model_result = pd.DataFrame({'n_estim_value':n_estim_list, \n",
    "                               'f1_value':f1_score_list, \n",
    "                               'roc_auc_value':roc_auc_list})\n",
    "        \n",
    "    # посмотрим графически\n",
    "    ax = rf_model_result.plot(x=\"n_estim_value\", y=\"f1_value\", legend=False, marker='.', linestyle='', color='b')\n",
    "    ax2 = ax.twinx()\n",
    "    rf_model_result.plot(x=\"n_estim_value\", y=\"roc_auc_value\", ax=ax2, legend=False, marker='.', linestyle='-', color='g')\n",
    "    ax.figure.legend(loc='center', fontsize=16)\n",
    "    plt.show()    \n",
    " \n",
    "    display(rf_model_result\n",
    "     .sort_values(by='f1_value', ascending=False)\n",
    "     .head()\n",
    "     .style\n",
    "     .format('{:.3f}', subset=['f1_value', 'roc_auc_value'])\n",
    "     .highlight_max(subset=['f1_value', 'roc_auc_value'])\n",
    "    )"
   ]
  },
  {
   "cell_type": "code",
   "execution_count": 24,
   "metadata": {
    "scrolled": false
   },
   "outputs": [],
   "source": [
    "def my_dt_model(features_for_training, \n",
    "                target_for_training, \n",
    "                features_for_valid, \n",
    "                target_for_valid,\n",
    "                class_weight):\n",
    "    \"\"\"Задает алгоритм решающего дерева разной глубины\"\"\"\n",
    "    depth_list = []\n",
    "    f1_score_list = []\n",
    "    roc_auc_list = []\n",
    "    for depth in range(1, 20):\n",
    "        dt_model = DecisionTreeClassifier(random_state=12345, \n",
    "                                          max_depth=depth, \n",
    "                                          class_weight=class_weight)\n",
    "        dt_model.fit(features_for_training, target_for_training)\n",
    "        predicted_valid = dt_model.predict(features_for_valid)\n",
    "        f1 = f1_score(target_for_valid, predicted_valid)\n",
    "        probabilities_valid = dt_model.predict_proba(features_for_valid)    \n",
    "        roc_auc = roc_auc_score(target_for_valid, probabilities_valid[:, 1])\n",
    "        depth_list.append(depth)\n",
    "        f1_score_list.append(f1)\n",
    "        roc_auc_list.append(roc_auc)\n",
    "        dt_model_result = pd.DataFrame({'depth_value':depth_list, \n",
    "                               'f1_value':f1_score_list, \n",
    "                               'roc_auc_value':roc_auc_list})\n",
    "        \n",
    "    # посмотрим графически\n",
    "    ax = dt_model_result.plot(x=\"depth_value\", y=\"f1_value\", legend=False, marker='.', linestyle='-', color='b')\n",
    "    ax2 = ax.twinx()\n",
    "    dt_model_result.plot(x=\"depth_value\", y=\"roc_auc_value\", ax=ax2, legend=False, marker='.', linestyle='-', color='g')\n",
    "    ax.figure.legend(loc='center', fontsize=16)\n",
    "    plt.show()\n",
    "\n",
    "    display(dt_model_result\n",
    "     .sort_values(by='f1_value', ascending=False)\n",
    "     .head()\n",
    "     .style\n",
    "     .format('{:.3f}', subset=['f1_value', 'roc_auc_value'])\n",
    "     .highlight_max(subset=['f1_value', 'roc_auc_value'])\n",
    "    )"
   ]
  },
  {
   "cell_type": "markdown",
   "metadata": {},
   "source": [
    "## 3. Модели без учета дисбаланса классов"
   ]
  },
  {
   "cell_type": "markdown",
   "metadata": {},
   "source": [
    "## 3.1 Алгоритм логистической регрессии <a id=\"lr_simple\">\n",
    "[вернуться к содержанию](#contents)"
   ]
  },
  {
   "cell_type": "code",
   "execution_count": 25,
   "metadata": {},
   "outputs": [
    {
     "data": {
      "image/png": "[encoded data removed]",
      "text/plain": [
       "<Figure size 432x288 with 2 Axes>"
      ]
     },
     "metadata": {},
     "output_type": "display_data"
    },
    {
     "data": {
      "text/html": [
       "<style  type=\"text/css\" >\n",
       "    #T_aade0c08_281c_11eb_a4bb_a8a1590dbef8row0_col1 {\n",
       "            background-color:  yellow;\n",
       "        }    #T_aade0c08_281c_11eb_a4bb_a8a1590dbef8row0_col2 {\n",
       "            background-color:  yellow;\n",
       "        }    #T_aade0c08_281c_11eb_a4bb_a8a1590dbef8row1_col2 {\n",
       "            background-color:  yellow;\n",
       "        }    #T_aade0c08_281c_11eb_a4bb_a8a1590dbef8row2_col2 {\n",
       "            background-color:  yellow;\n",
       "        }    #T_aade0c08_281c_11eb_a4bb_a8a1590dbef8row3_col2 {\n",
       "            background-color:  yellow;\n",
       "        }    #T_aade0c08_281c_11eb_a4bb_a8a1590dbef8row4_col2 {\n",
       "            background-color:  yellow;\n",
       "        }</style><table id=\"T_aade0c08_281c_11eb_a4bb_a8a1590dbef8\" ><thead>    <tr>        <th class=\"blank level0\" ></th>        <th class=\"col_heading level0 col0\" >threshold</th>        <th class=\"col_heading level0 col1\" >f1_value</th>        <th class=\"col_heading level0 col2\" >roc_auc_value</th>    </tr></thead><tbody>\n",
       "                <tr>\n",
       "                        <th id=\"T_aade0c08_281c_11eb_a4bb_a8a1590dbef8level0_row0\" class=\"row_heading level0 row0\" >11</th>\n",
       "                        <td id=\"T_aade0c08_281c_11eb_a4bb_a8a1590dbef8row0_col0\" class=\"data row0 col0\" >0.220000</td>\n",
       "                        <td id=\"T_aade0c08_281c_11eb_a4bb_a8a1590dbef8row0_col1\" class=\"data row0 col1\" >0.527</td>\n",
       "                        <td id=\"T_aade0c08_281c_11eb_a4bb_a8a1590dbef8row0_col2\" class=\"data row0 col2\" >0.762</td>\n",
       "            </tr>\n",
       "            <tr>\n",
       "                        <th id=\"T_aade0c08_281c_11eb_a4bb_a8a1590dbef8level0_row1\" class=\"row_heading level0 row1\" >10</th>\n",
       "                        <td id=\"T_aade0c08_281c_11eb_a4bb_a8a1590dbef8row1_col0\" class=\"data row1 col0\" >0.200000</td>\n",
       "                        <td id=\"T_aade0c08_281c_11eb_a4bb_a8a1590dbef8row1_col1\" class=\"data row1 col1\" >0.520</td>\n",
       "                        <td id=\"T_aade0c08_281c_11eb_a4bb_a8a1590dbef8row1_col2\" class=\"data row1 col2\" >0.762</td>\n",
       "            </tr>\n",
       "            <tr>\n",
       "                        <th id=\"T_aade0c08_281c_11eb_a4bb_a8a1590dbef8level0_row2\" class=\"row_heading level0 row2\" >9</th>\n",
       "                        <td id=\"T_aade0c08_281c_11eb_a4bb_a8a1590dbef8row2_col0\" class=\"data row2 col0\" >0.180000</td>\n",
       "                        <td id=\"T_aade0c08_281c_11eb_a4bb_a8a1590dbef8row2_col1\" class=\"data row2 col1\" >0.507</td>\n",
       "                        <td id=\"T_aade0c08_281c_11eb_a4bb_a8a1590dbef8row2_col2\" class=\"data row2 col2\" >0.762</td>\n",
       "            </tr>\n",
       "            <tr>\n",
       "                        <th id=\"T_aade0c08_281c_11eb_a4bb_a8a1590dbef8level0_row3\" class=\"row_heading level0 row3\" >12</th>\n",
       "                        <td id=\"T_aade0c08_281c_11eb_a4bb_a8a1590dbef8row3_col0\" class=\"data row3 col0\" >0.240000</td>\n",
       "                        <td id=\"T_aade0c08_281c_11eb_a4bb_a8a1590dbef8row3_col1\" class=\"data row3 col1\" >0.504</td>\n",
       "                        <td id=\"T_aade0c08_281c_11eb_a4bb_a8a1590dbef8row3_col2\" class=\"data row3 col2\" >0.762</td>\n",
       "            </tr>\n",
       "            <tr>\n",
       "                        <th id=\"T_aade0c08_281c_11eb_a4bb_a8a1590dbef8level0_row4\" class=\"row_heading level0 row4\" >15</th>\n",
       "                        <td id=\"T_aade0c08_281c_11eb_a4bb_a8a1590dbef8row4_col0\" class=\"data row4 col0\" >0.300000</td>\n",
       "                        <td id=\"T_aade0c08_281c_11eb_a4bb_a8a1590dbef8row4_col1\" class=\"data row4 col1\" >0.502</td>\n",
       "                        <td id=\"T_aade0c08_281c_11eb_a4bb_a8a1590dbef8row4_col2\" class=\"data row4 col2\" >0.762</td>\n",
       "            </tr>\n",
       "    </tbody></table>"
      ],
      "text/plain": [
       "<pandas.io.formats.style.Styler at 0x27da1e35f70>"
      ]
     },
     "metadata": {},
     "output_type": "display_data"
    }
   ],
   "source": [
    "my_lr_model(features_train,   # берем обучающую выборку с дисбалансом\n",
    "            target_train, \n",
    "            features_valid, \n",
    "            target_valid, \n",
    "            class_weight=None) # не взвешиваем классы, берем данные \"как есть\""
   ]
  },
  {
   "cell_type": "markdown",
   "metadata": {},
   "source": [
    "## 3.2 Алгоритм случайного леса <a id=\"rf_simple\">\n",
    "[вернуться к содержанию](#contents)"
   ]
  },
  {
   "cell_type": "code",
   "execution_count": 26,
   "metadata": {
    "scrolled": true
   },
   "outputs": [
    {
     "data": {
      "image/png": "[encoded data removed]",
      "text/plain": [
       "<Figure size 432x288 with 2 Axes>"
      ]
     },
     "metadata": {},
     "output_type": "display_data"
    },
    {
     "data": {
      "text/html": [
       "<style  type=\"text/css\" >\n",
       "    #T_b0a73f2d_281c_11eb_9965_a8a1590dbef8row0_col1 {\n",
       "            background-color:  yellow;\n",
       "        }    #T_b0a73f2d_281c_11eb_9965_a8a1590dbef8row4_col2 {\n",
       "            background-color:  yellow;\n",
       "        }</style><table id=\"T_b0a73f2d_281c_11eb_9965_a8a1590dbef8\" ><thead>    <tr>        <th class=\"blank level0\" ></th>        <th class=\"col_heading level0 col0\" >n_estim_value</th>        <th class=\"col_heading level0 col1\" >f1_value</th>        <th class=\"col_heading level0 col2\" >roc_auc_value</th>    </tr></thead><tbody>\n",
       "                <tr>\n",
       "                        <th id=\"T_b0a73f2d_281c_11eb_9965_a8a1590dbef8level0_row0\" class=\"row_heading level0 row0\" >12</th>\n",
       "                        <td id=\"T_b0a73f2d_281c_11eb_9965_a8a1590dbef8row0_col0\" class=\"data row0 col0\" >13</td>\n",
       "                        <td id=\"T_b0a73f2d_281c_11eb_9965_a8a1590dbef8row0_col1\" class=\"data row0 col1\" >0.631</td>\n",
       "                        <td id=\"T_b0a73f2d_281c_11eb_9965_a8a1590dbef8row0_col2\" class=\"data row0 col2\" >0.839</td>\n",
       "            </tr>\n",
       "            <tr>\n",
       "                        <th id=\"T_b0a73f2d_281c_11eb_9965_a8a1590dbef8level0_row1\" class=\"row_heading level0 row1\" >10</th>\n",
       "                        <td id=\"T_b0a73f2d_281c_11eb_9965_a8a1590dbef8row1_col0\" class=\"data row1 col0\" >11</td>\n",
       "                        <td id=\"T_b0a73f2d_281c_11eb_9965_a8a1590dbef8row1_col1\" class=\"data row1 col1\" >0.618</td>\n",
       "                        <td id=\"T_b0a73f2d_281c_11eb_9965_a8a1590dbef8row1_col2\" class=\"data row1 col2\" >0.831</td>\n",
       "            </tr>\n",
       "            <tr>\n",
       "                        <th id=\"T_b0a73f2d_281c_11eb_9965_a8a1590dbef8level0_row2\" class=\"row_heading level0 row2\" >22</th>\n",
       "                        <td id=\"T_b0a73f2d_281c_11eb_9965_a8a1590dbef8row2_col0\" class=\"data row2 col0\" >23</td>\n",
       "                        <td id=\"T_b0a73f2d_281c_11eb_9965_a8a1590dbef8row2_col1\" class=\"data row2 col1\" >0.617</td>\n",
       "                        <td id=\"T_b0a73f2d_281c_11eb_9965_a8a1590dbef8row2_col2\" class=\"data row2 col2\" >0.850</td>\n",
       "            </tr>\n",
       "            <tr>\n",
       "                        <th id=\"T_b0a73f2d_281c_11eb_9965_a8a1590dbef8level0_row3\" class=\"row_heading level0 row3\" >40</th>\n",
       "                        <td id=\"T_b0a73f2d_281c_11eb_9965_a8a1590dbef8row3_col0\" class=\"data row3 col0\" >41</td>\n",
       "                        <td id=\"T_b0a73f2d_281c_11eb_9965_a8a1590dbef8row3_col1\" class=\"data row3 col1\" >0.614</td>\n",
       "                        <td id=\"T_b0a73f2d_281c_11eb_9965_a8a1590dbef8row3_col2\" class=\"data row3 col2\" >0.854</td>\n",
       "            </tr>\n",
       "            <tr>\n",
       "                        <th id=\"T_b0a73f2d_281c_11eb_9965_a8a1590dbef8level0_row4\" class=\"row_heading level0 row4\" >37</th>\n",
       "                        <td id=\"T_b0a73f2d_281c_11eb_9965_a8a1590dbef8row4_col0\" class=\"data row4 col0\" >38</td>\n",
       "                        <td id=\"T_b0a73f2d_281c_11eb_9965_a8a1590dbef8row4_col1\" class=\"data row4 col1\" >0.614</td>\n",
       "                        <td id=\"T_b0a73f2d_281c_11eb_9965_a8a1590dbef8row4_col2\" class=\"data row4 col2\" >0.854</td>\n",
       "            </tr>\n",
       "    </tbody></table>"
      ],
      "text/plain": [
       "<pandas.io.formats.style.Styler at 0x27da1170f10>"
      ]
     },
     "metadata": {},
     "output_type": "display_data"
    }
   ],
   "source": [
    "my_rf_model(features_train,    # берем обучающую выборку с дисбалансом\n",
    "            target_train, \n",
    "            features_valid, \n",
    "            target_valid, \n",
    "            class_weight=None) # не взвешиваем классы, берем данные \"как есть\""
   ]
  },
  {
   "cell_type": "markdown",
   "metadata": {},
   "source": [
    "## 3.3 Алгоритм решающего дерева <a id=\"dt_simple\">\n",
    "[вернуться к содержанию](#contents)"
   ]
  },
  {
   "cell_type": "code",
   "execution_count": 27,
   "metadata": {
    "scrolled": true
   },
   "outputs": [
    {
     "data": {
      "image/png": "[encoded data removed]",
      "text/plain": [
       "<Figure size 432x288 with 2 Axes>"
      ]
     },
     "metadata": {},
     "output_type": "display_data"
    },
    {
     "data": {
      "text/html": [
       "<style  type=\"text/css\" >\n",
       "    #T_b1243e8e_281c_11eb_9273_a8a1590dbef8row0_col1 {\n",
       "            background-color:  yellow;\n",
       "        }    #T_b1243e8e_281c_11eb_9273_a8a1590dbef8row1_col2 {\n",
       "            background-color:  yellow;\n",
       "        }</style><table id=\"T_b1243e8e_281c_11eb_9273_a8a1590dbef8\" ><thead>    <tr>        <th class=\"blank level0\" ></th>        <th class=\"col_heading level0 col0\" >depth_value</th>        <th class=\"col_heading level0 col1\" >f1_value</th>        <th class=\"col_heading level0 col2\" >roc_auc_value</th>    </tr></thead><tbody>\n",
       "                <tr>\n",
       "                        <th id=\"T_b1243e8e_281c_11eb_9273_a8a1590dbef8level0_row0\" class=\"row_heading level0 row0\" >6</th>\n",
       "                        <td id=\"T_b1243e8e_281c_11eb_9273_a8a1590dbef8row0_col0\" class=\"data row0 col0\" >7</td>\n",
       "                        <td id=\"T_b1243e8e_281c_11eb_9273_a8a1590dbef8row0_col1\" class=\"data row0 col1\" >0.615</td>\n",
       "                        <td id=\"T_b1243e8e_281c_11eb_9273_a8a1590dbef8row0_col2\" class=\"data row0 col2\" >0.825</td>\n",
       "            </tr>\n",
       "            <tr>\n",
       "                        <th id=\"T_b1243e8e_281c_11eb_9273_a8a1590dbef8level0_row1\" class=\"row_heading level0 row1\" >5</th>\n",
       "                        <td id=\"T_b1243e8e_281c_11eb_9273_a8a1590dbef8row1_col0\" class=\"data row1 col0\" >6</td>\n",
       "                        <td id=\"T_b1243e8e_281c_11eb_9273_a8a1590dbef8row1_col1\" class=\"data row1 col1\" >0.601</td>\n",
       "                        <td id=\"T_b1243e8e_281c_11eb_9273_a8a1590dbef8row1_col2\" class=\"data row1 col2\" >0.832</td>\n",
       "            </tr>\n",
       "            <tr>\n",
       "                        <th id=\"T_b1243e8e_281c_11eb_9273_a8a1590dbef8level0_row2\" class=\"row_heading level0 row2\" >7</th>\n",
       "                        <td id=\"T_b1243e8e_281c_11eb_9273_a8a1590dbef8row2_col0\" class=\"data row2 col0\" >8</td>\n",
       "                        <td id=\"T_b1243e8e_281c_11eb_9273_a8a1590dbef8row2_col1\" class=\"data row2 col1\" >0.590</td>\n",
       "                        <td id=\"T_b1243e8e_281c_11eb_9273_a8a1590dbef8row2_col2\" class=\"data row2 col2\" >0.811</td>\n",
       "            </tr>\n",
       "            <tr>\n",
       "                        <th id=\"T_b1243e8e_281c_11eb_9273_a8a1590dbef8level0_row3\" class=\"row_heading level0 row3\" >4</th>\n",
       "                        <td id=\"T_b1243e8e_281c_11eb_9273_a8a1590dbef8row3_col0\" class=\"data row3 col0\" >5</td>\n",
       "                        <td id=\"T_b1243e8e_281c_11eb_9273_a8a1590dbef8row3_col1\" class=\"data row3 col1\" >0.590</td>\n",
       "                        <td id=\"T_b1243e8e_281c_11eb_9273_a8a1590dbef8row3_col2\" class=\"data row3 col2\" >0.832</td>\n",
       "            </tr>\n",
       "            <tr>\n",
       "                        <th id=\"T_b1243e8e_281c_11eb_9273_a8a1590dbef8level0_row4\" class=\"row_heading level0 row4\" >8</th>\n",
       "                        <td id=\"T_b1243e8e_281c_11eb_9273_a8a1590dbef8row4_col0\" class=\"data row4 col0\" >9</td>\n",
       "                        <td id=\"T_b1243e8e_281c_11eb_9273_a8a1590dbef8row4_col1\" class=\"data row4 col1\" >0.586</td>\n",
       "                        <td id=\"T_b1243e8e_281c_11eb_9273_a8a1590dbef8row4_col2\" class=\"data row4 col2\" >0.794</td>\n",
       "            </tr>\n",
       "    </tbody></table>"
      ],
      "text/plain": [
       "<pandas.io.formats.style.Styler at 0x27da14c64c0>"
      ]
     },
     "metadata": {},
     "output_type": "display_data"
    }
   ],
   "source": [
    "my_dt_model(features_train,    # берем обучающую выборку с дисбалансом\n",
    "            target_train, \n",
    "            features_valid, \n",
    "            target_valid, \n",
    "            class_weight=None) # не взвешиваем классы, берем данные \"как есть\""
   ]
  },
  {
   "cell_type": "markdown",
   "metadata": {},
   "source": [
    "## 3.4 Выводы для простых моделей <a id=\"conclusions_simple\">\n",
    "    \n",
    "  - наибольший F1 равен 0.527 для логистической регрессии при пороге в 0.22\n",
    "  - наибольший F1 равен 0.631 для случайного леса при n=13\n",
    "  - наибольший F1 равен 0.615 для решающего дерева с глубиной depth=7"
   ]
  },
  {
   "cell_type": "markdown",
   "metadata": {},
   "source": [
    "## 4. Модели со взвешиванием классов"
   ]
  },
  {
   "cell_type": "markdown",
   "metadata": {},
   "source": [
    "## 4.1 Алгоритм логистической регрессии со взвешиванием классов <a id=\"lr_balance\">\n",
    "[вернуться к содержанию](#contents)"
   ]
  },
  {
   "cell_type": "code",
   "execution_count": 28,
   "metadata": {},
   "outputs": [
    {
     "data": {
      "image/png": "[encoded data removed]",
      "text/plain": [
       "<Figure size 432x288 with 2 Axes>"
      ]
     },
     "metadata": {},
     "output_type": "display_data"
    },
    {
     "data": {
      "text/html": [
       "<style  type=\"text/css\" >\n",
       "    #T_b1d4d3b0_281c_11eb_a896_a8a1590dbef8row0_col1 {\n",
       "            background-color:  yellow;\n",
       "        }    #T_b1d4d3b0_281c_11eb_a896_a8a1590dbef8row0_col2 {\n",
       "            background-color:  yellow;\n",
       "        }    #T_b1d4d3b0_281c_11eb_a896_a8a1590dbef8row1_col2 {\n",
       "            background-color:  yellow;\n",
       "        }    #T_b1d4d3b0_281c_11eb_a896_a8a1590dbef8row2_col2 {\n",
       "            background-color:  yellow;\n",
       "        }    #T_b1d4d3b0_281c_11eb_a896_a8a1590dbef8row3_col2 {\n",
       "            background-color:  yellow;\n",
       "        }    #T_b1d4d3b0_281c_11eb_a896_a8a1590dbef8row4_col2 {\n",
       "            background-color:  yellow;\n",
       "        }</style><table id=\"T_b1d4d3b0_281c_11eb_a896_a8a1590dbef8\" ><thead>    <tr>        <th class=\"blank level0\" ></th>        <th class=\"col_heading level0 col0\" >threshold</th>        <th class=\"col_heading level0 col1\" >f1_value</th>        <th class=\"col_heading level0 col2\" >roc_auc_value</th>    </tr></thead><tbody>\n",
       "                <tr>\n",
       "                        <th id=\"T_b1d4d3b0_281c_11eb_a896_a8a1590dbef8level0_row0\" class=\"row_heading level0 row0\" >25</th>\n",
       "                        <td id=\"T_b1d4d3b0_281c_11eb_a896_a8a1590dbef8row0_col0\" class=\"data row0 col0\" >0.500000</td>\n",
       "                        <td id=\"T_b1d4d3b0_281c_11eb_a896_a8a1590dbef8row0_col1\" class=\"data row0 col1\" >0.527</td>\n",
       "                        <td id=\"T_b1d4d3b0_281c_11eb_a896_a8a1590dbef8row0_col2\" class=\"data row0 col2\" >0.764</td>\n",
       "            </tr>\n",
       "            <tr>\n",
       "                        <th id=\"T_b1d4d3b0_281c_11eb_a896_a8a1590dbef8level0_row1\" class=\"row_heading level0 row1\" >26</th>\n",
       "                        <td id=\"T_b1d4d3b0_281c_11eb_a896_a8a1590dbef8row1_col0\" class=\"data row1 col0\" >0.520000</td>\n",
       "                        <td id=\"T_b1d4d3b0_281c_11eb_a896_a8a1590dbef8row1_col1\" class=\"data row1 col1\" >0.523</td>\n",
       "                        <td id=\"T_b1d4d3b0_281c_11eb_a896_a8a1590dbef8row1_col2\" class=\"data row1 col2\" >0.764</td>\n",
       "            </tr>\n",
       "            <tr>\n",
       "                        <th id=\"T_b1d4d3b0_281c_11eb_a896_a8a1590dbef8level0_row2\" class=\"row_heading level0 row2\" >28</th>\n",
       "                        <td id=\"T_b1d4d3b0_281c_11eb_a896_a8a1590dbef8row2_col0\" class=\"data row2 col0\" >0.560000</td>\n",
       "                        <td id=\"T_b1d4d3b0_281c_11eb_a896_a8a1590dbef8row2_col1\" class=\"data row2 col1\" >0.521</td>\n",
       "                        <td id=\"T_b1d4d3b0_281c_11eb_a896_a8a1590dbef8row2_col2\" class=\"data row2 col2\" >0.764</td>\n",
       "            </tr>\n",
       "            <tr>\n",
       "                        <th id=\"T_b1d4d3b0_281c_11eb_a896_a8a1590dbef8level0_row3\" class=\"row_heading level0 row3\" >27</th>\n",
       "                        <td id=\"T_b1d4d3b0_281c_11eb_a896_a8a1590dbef8row3_col0\" class=\"data row3 col0\" >0.540000</td>\n",
       "                        <td id=\"T_b1d4d3b0_281c_11eb_a896_a8a1590dbef8row3_col1\" class=\"data row3 col1\" >0.519</td>\n",
       "                        <td id=\"T_b1d4d3b0_281c_11eb_a896_a8a1590dbef8row3_col2\" class=\"data row3 col2\" >0.764</td>\n",
       "            </tr>\n",
       "            <tr>\n",
       "                        <th id=\"T_b1d4d3b0_281c_11eb_a896_a8a1590dbef8level0_row4\" class=\"row_heading level0 row4\" >24</th>\n",
       "                        <td id=\"T_b1d4d3b0_281c_11eb_a896_a8a1590dbef8row4_col0\" class=\"data row4 col0\" >0.480000</td>\n",
       "                        <td id=\"T_b1d4d3b0_281c_11eb_a896_a8a1590dbef8row4_col1\" class=\"data row4 col1\" >0.515</td>\n",
       "                        <td id=\"T_b1d4d3b0_281c_11eb_a896_a8a1590dbef8row4_col2\" class=\"data row4 col2\" >0.764</td>\n",
       "            </tr>\n",
       "    </tbody></table>"
      ],
      "text/plain": [
       "<pandas.io.formats.style.Styler at 0x27da1e78ca0>"
      ]
     },
     "metadata": {},
     "output_type": "display_data"
    }
   ],
   "source": [
    "my_lr_model(features_train, \n",
    "            target_train, \n",
    "            features_valid, \n",
    "            target_valid, \n",
    "            class_weight='balanced')"
   ]
  },
  {
   "cell_type": "markdown",
   "metadata": {},
   "source": [
    "## 4.2 Алгоритм случайного леса со взвешиванием классов <a id=\"rf_balance\">\n",
    "[вернуться к содержанию](#contents)"
   ]
  },
  {
   "cell_type": "code",
   "execution_count": 29,
   "metadata": {},
   "outputs": [
    {
     "data": {
      "image/png": "[encoded data removed]",
      "text/plain": [
       "<Figure size 432x288 with 2 Axes>"
      ]
     },
     "metadata": {},
     "output_type": "display_data"
    },
    {
     "data": {
      "text/html": [
       "<style  type=\"text/css\" >\n",
       "    #T_b783c6ad_281c_11eb_b5ab_a8a1590dbef8row0_col1 {\n",
       "            background-color:  yellow;\n",
       "        }    #T_b783c6ad_281c_11eb_b5ab_a8a1590dbef8row0_col2 {\n",
       "            background-color:  yellow;\n",
       "        }</style><table id=\"T_b783c6ad_281c_11eb_b5ab_a8a1590dbef8\" ><thead>    <tr>        <th class=\"blank level0\" ></th>        <th class=\"col_heading level0 col0\" >n_estim_value</th>        <th class=\"col_heading level0 col1\" >f1_value</th>        <th class=\"col_heading level0 col2\" >roc_auc_value</th>    </tr></thead><tbody>\n",
       "                <tr>\n",
       "                        <th id=\"T_b783c6ad_281c_11eb_b5ab_a8a1590dbef8level0_row0\" class=\"row_heading level0 row0\" >42</th>\n",
       "                        <td id=\"T_b783c6ad_281c_11eb_b5ab_a8a1590dbef8row0_col0\" class=\"data row0 col0\" >43</td>\n",
       "                        <td id=\"T_b783c6ad_281c_11eb_b5ab_a8a1590dbef8row0_col1\" class=\"data row0 col1\" >0.607</td>\n",
       "                        <td id=\"T_b783c6ad_281c_11eb_b5ab_a8a1590dbef8row0_col2\" class=\"data row0 col2\" >0.856</td>\n",
       "            </tr>\n",
       "            <tr>\n",
       "                        <th id=\"T_b783c6ad_281c_11eb_b5ab_a8a1590dbef8level0_row1\" class=\"row_heading level0 row1\" >38</th>\n",
       "                        <td id=\"T_b783c6ad_281c_11eb_b5ab_a8a1590dbef8row1_col0\" class=\"data row1 col0\" >39</td>\n",
       "                        <td id=\"T_b783c6ad_281c_11eb_b5ab_a8a1590dbef8row1_col1\" class=\"data row1 col1\" >0.603</td>\n",
       "                        <td id=\"T_b783c6ad_281c_11eb_b5ab_a8a1590dbef8row1_col2\" class=\"data row1 col2\" >0.855</td>\n",
       "            </tr>\n",
       "            <tr>\n",
       "                        <th id=\"T_b783c6ad_281c_11eb_b5ab_a8a1590dbef8level0_row2\" class=\"row_heading level0 row2\" >41</th>\n",
       "                        <td id=\"T_b783c6ad_281c_11eb_b5ab_a8a1590dbef8row2_col0\" class=\"data row2 col0\" >42</td>\n",
       "                        <td id=\"T_b783c6ad_281c_11eb_b5ab_a8a1590dbef8row2_col1\" class=\"data row2 col1\" >0.603</td>\n",
       "                        <td id=\"T_b783c6ad_281c_11eb_b5ab_a8a1590dbef8row2_col2\" class=\"data row2 col2\" >0.855</td>\n",
       "            </tr>\n",
       "            <tr>\n",
       "                        <th id=\"T_b783c6ad_281c_11eb_b5ab_a8a1590dbef8level0_row3\" class=\"row_heading level0 row3\" >39</th>\n",
       "                        <td id=\"T_b783c6ad_281c_11eb_b5ab_a8a1590dbef8row3_col0\" class=\"data row3 col0\" >40</td>\n",
       "                        <td id=\"T_b783c6ad_281c_11eb_b5ab_a8a1590dbef8row3_col1\" class=\"data row3 col1\" >0.601</td>\n",
       "                        <td id=\"T_b783c6ad_281c_11eb_b5ab_a8a1590dbef8row3_col2\" class=\"data row3 col2\" >0.855</td>\n",
       "            </tr>\n",
       "            <tr>\n",
       "                        <th id=\"T_b783c6ad_281c_11eb_b5ab_a8a1590dbef8level0_row4\" class=\"row_heading level0 row4\" >40</th>\n",
       "                        <td id=\"T_b783c6ad_281c_11eb_b5ab_a8a1590dbef8row4_col0\" class=\"data row4 col0\" >41</td>\n",
       "                        <td id=\"T_b783c6ad_281c_11eb_b5ab_a8a1590dbef8row4_col1\" class=\"data row4 col1\" >0.601</td>\n",
       "                        <td id=\"T_b783c6ad_281c_11eb_b5ab_a8a1590dbef8row4_col2\" class=\"data row4 col2\" >0.855</td>\n",
       "            </tr>\n",
       "    </tbody></table>"
      ],
      "text/plain": [
       "<pandas.io.formats.style.Styler at 0x27da2eeae50>"
      ]
     },
     "metadata": {},
     "output_type": "display_data"
    }
   ],
   "source": [
    "my_rf_model(features_train, \n",
    "            target_train, \n",
    "            features_valid, \n",
    "            target_valid, \n",
    "            class_weight='balanced')"
   ]
  },
  {
   "cell_type": "markdown",
   "metadata": {},
   "source": [
    "## 4.3 Алгоритм решающего дерева <a id=\"dt_balance\">\n",
    "[вернуться к содержанию](#contents)"
   ]
  },
  {
   "cell_type": "code",
   "execution_count": 30,
   "metadata": {
    "scrolled": false
   },
   "outputs": [
    {
     "data": {
      "image/png": "[encoded data removed]",
      "text/plain": [
       "<Figure size 432x288 with 2 Axes>"
      ]
     },
     "metadata": {},
     "output_type": "display_data"
    },
    {
     "data": {
      "text/html": [
       "<style  type=\"text/css\" >\n",
       "    #T_b802f365_281c_11eb_bdb6_a8a1590dbef8row0_col1 {\n",
       "            background-color:  yellow;\n",
       "        }    #T_b802f365_281c_11eb_bdb6_a8a1590dbef8row0_col2 {\n",
       "            background-color:  yellow;\n",
       "        }</style><table id=\"T_b802f365_281c_11eb_bdb6_a8a1590dbef8\" ><thead>    <tr>        <th class=\"blank level0\" ></th>        <th class=\"col_heading level0 col0\" >depth_value</th>        <th class=\"col_heading level0 col1\" >f1_value</th>        <th class=\"col_heading level0 col2\" >roc_auc_value</th>    </tr></thead><tbody>\n",
       "                <tr>\n",
       "                        <th id=\"T_b802f365_281c_11eb_bdb6_a8a1590dbef8level0_row0\" class=\"row_heading level0 row0\" >4</th>\n",
       "                        <td id=\"T_b802f365_281c_11eb_bdb6_a8a1590dbef8row0_col0\" class=\"data row0 col0\" >5</td>\n",
       "                        <td id=\"T_b802f365_281c_11eb_bdb6_a8a1590dbef8row0_col1\" class=\"data row0 col1\" >0.600</td>\n",
       "                        <td id=\"T_b802f365_281c_11eb_bdb6_a8a1590dbef8row0_col2\" class=\"data row0 col2\" >0.848</td>\n",
       "            </tr>\n",
       "            <tr>\n",
       "                        <th id=\"T_b802f365_281c_11eb_bdb6_a8a1590dbef8level0_row1\" class=\"row_heading level0 row1\" >6</th>\n",
       "                        <td id=\"T_b802f365_281c_11eb_bdb6_a8a1590dbef8row1_col0\" class=\"data row1 col0\" >7</td>\n",
       "                        <td id=\"T_b802f365_281c_11eb_bdb6_a8a1590dbef8row1_col1\" class=\"data row1 col1\" >0.594</td>\n",
       "                        <td id=\"T_b802f365_281c_11eb_bdb6_a8a1590dbef8row1_col2\" class=\"data row1 col2\" >0.828</td>\n",
       "            </tr>\n",
       "            <tr>\n",
       "                        <th id=\"T_b802f365_281c_11eb_bdb6_a8a1590dbef8level0_row2\" class=\"row_heading level0 row2\" >5</th>\n",
       "                        <td id=\"T_b802f365_281c_11eb_bdb6_a8a1590dbef8row2_col0\" class=\"data row2 col0\" >6</td>\n",
       "                        <td id=\"T_b802f365_281c_11eb_bdb6_a8a1590dbef8row2_col1\" class=\"data row2 col1\" >0.590</td>\n",
       "                        <td id=\"T_b802f365_281c_11eb_bdb6_a8a1590dbef8row2_col2\" class=\"data row2 col2\" >0.835</td>\n",
       "            </tr>\n",
       "            <tr>\n",
       "                        <th id=\"T_b802f365_281c_11eb_bdb6_a8a1590dbef8level0_row3\" class=\"row_heading level0 row3\" >7</th>\n",
       "                        <td id=\"T_b802f365_281c_11eb_bdb6_a8a1590dbef8row3_col0\" class=\"data row3 col0\" >8</td>\n",
       "                        <td id=\"T_b802f365_281c_11eb_bdb6_a8a1590dbef8row3_col1\" class=\"data row3 col1\" >0.589</td>\n",
       "                        <td id=\"T_b802f365_281c_11eb_bdb6_a8a1590dbef8row3_col2\" class=\"data row3 col2\" >0.812</td>\n",
       "            </tr>\n",
       "            <tr>\n",
       "                        <th id=\"T_b802f365_281c_11eb_bdb6_a8a1590dbef8level0_row4\" class=\"row_heading level0 row4\" >8</th>\n",
       "                        <td id=\"T_b802f365_281c_11eb_bdb6_a8a1590dbef8row4_col0\" class=\"data row4 col0\" >9</td>\n",
       "                        <td id=\"T_b802f365_281c_11eb_bdb6_a8a1590dbef8row4_col1\" class=\"data row4 col1\" >0.586</td>\n",
       "                        <td id=\"T_b802f365_281c_11eb_bdb6_a8a1590dbef8row4_col2\" class=\"data row4 col2\" >0.806</td>\n",
       "            </tr>\n",
       "    </tbody></table>"
      ],
      "text/plain": [
       "<pandas.io.formats.style.Styler at 0x27da304a0a0>"
      ]
     },
     "metadata": {},
     "output_type": "display_data"
    }
   ],
   "source": [
    "my_dt_model(features_train, \n",
    "            target_train, \n",
    "            features_valid, \n",
    "            target_valid, \n",
    "            class_weight='balanced')"
   ]
  },
  {
   "cell_type": "markdown",
   "metadata": {},
   "source": [
    "## 4.4 Выводы для взвешенной выборки<a id=\"conclusions_balance\">\n",
    "[вернуться к содержанию](#contents)\n",
    "  - наибольший F1 равен 0.527 для логистической регрессии при пороге в 0.50\n",
    "  - наибольший F1 равен 0.609 для случайного леса при n=11\n",
    "  - наибольший F1 равен 0.600 для решающего дерева с глубиной depth=5"
   ]
  },
  {
   "cell_type": "markdown",
   "metadata": {},
   "source": [
    "## 5. Модели с увеличенной выборкой\n",
    "[вернуться к содержанию]"
   ]
  },
  {
   "cell_type": "code",
   "execution_count": 31,
   "metadata": {
    "scrolled": false
   },
   "outputs": [],
   "source": [
    "def upsample(features, target, repeat):\n",
    "    features_zeros = features[target == 0]\n",
    "    features_ones = features[target == 1]\n",
    "    target_zeros = target[target == 0]\n",
    "    target_ones = target[target == 1]\n",
    "    \n",
    "    # увеличиваем размер класса \"1\" на заданный коэфициент\n",
    "    features_upsampled = pd.concat([features_zeros] + [features_ones] * repeat)\n",
    "    target_upsampled = pd.concat([target_zeros] + [target_ones] * repeat)\n",
    "    \n",
    "    # премешиваем, т.к. идущие друг за другом одинаковые вопросы не помогут обучению\n",
    "    features_upsampled, target_upsampled = shuffle(\n",
    "        features_upsampled, target_upsampled, random_state=12345)\n",
    "    \n",
    "    return features_upsampled, target_upsampled"
   ]
  },
  {
   "cell_type": "code",
   "execution_count": 32,
   "metadata": {},
   "outputs": [
    {
     "name": "stdout",
     "output_type": "stream",
     "text": [
      "Исходное соотношение классов в target_train: \n",
      "0    4376\n",
      "1    1078\n",
      "Name: Exited, dtype: int64\n",
      "--------------------------------------------------------\n",
      "Cоотношение классов в target_upsampled: \n",
      "0    4376\n",
      "1    4312\n",
      "Name: Exited, dtype: int64\n"
     ]
    }
   ],
   "source": [
    "# применяем функцию, число repeat равно исходному соотношению классов в целевой переменной\n",
    "features_upsampled, target_upsampled = upsample(features_train, target_train, repeat=int(classes_ratio.round(0)))\n",
    "\n",
    "print('Исходное соотношение классов в target_train: ', target_train.value_counts(), sep='\\n')\n",
    "print('--------------------------------------------------------')\n",
    "print('Cоотношение классов в target_upsampled: ', target_upsampled.value_counts(), sep='\\n')"
   ]
  },
  {
   "cell_type": "markdown",
   "metadata": {},
   "source": [
    "## 5.1 Алгоритм логистической регрессии <a id=\"lr_upsampled\">\n",
    "[вернуться к содержанию](#contents)"
   ]
  },
  {
   "cell_type": "code",
   "execution_count": 33,
   "metadata": {},
   "outputs": [
    {
     "data": {
      "image/png": "[encoded data removed]",
      "text/plain": [
       "<Figure size 432x288 with 2 Axes>"
      ]
     },
     "metadata": {},
     "output_type": "display_data"
    },
    {
     "data": {
      "text/html": [
       "<style  type=\"text/css\" >\n",
       "    #T_b8cc0e61_281c_11eb_a1b1_a8a1590dbef8row0_col1 {\n",
       "            background-color:  yellow;\n",
       "        }    #T_b8cc0e61_281c_11eb_a1b1_a8a1590dbef8row0_col2 {\n",
       "            background-color:  yellow;\n",
       "        }    #T_b8cc0e61_281c_11eb_a1b1_a8a1590dbef8row1_col2 {\n",
       "            background-color:  yellow;\n",
       "        }    #T_b8cc0e61_281c_11eb_a1b1_a8a1590dbef8row2_col2 {\n",
       "            background-color:  yellow;\n",
       "        }    #T_b8cc0e61_281c_11eb_a1b1_a8a1590dbef8row3_col2 {\n",
       "            background-color:  yellow;\n",
       "        }    #T_b8cc0e61_281c_11eb_a1b1_a8a1590dbef8row4_col2 {\n",
       "            background-color:  yellow;\n",
       "        }</style><table id=\"T_b8cc0e61_281c_11eb_a1b1_a8a1590dbef8\" ><thead>    <tr>        <th class=\"blank level0\" ></th>        <th class=\"col_heading level0 col0\" >threshold</th>        <th class=\"col_heading level0 col1\" >f1_value</th>        <th class=\"col_heading level0 col2\" >roc_auc_value</th>    </tr></thead><tbody>\n",
       "                <tr>\n",
       "                        <th id=\"T_b8cc0e61_281c_11eb_a1b1_a8a1590dbef8level0_row0\" class=\"row_heading level0 row0\" >25</th>\n",
       "                        <td id=\"T_b8cc0e61_281c_11eb_a1b1_a8a1590dbef8row0_col0\" class=\"data row0 col0\" >0.500000</td>\n",
       "                        <td id=\"T_b8cc0e61_281c_11eb_a1b1_a8a1590dbef8row0_col1\" class=\"data row0 col1\" >0.527</td>\n",
       "                        <td id=\"T_b8cc0e61_281c_11eb_a1b1_a8a1590dbef8row0_col2\" class=\"data row0 col2\" >0.764</td>\n",
       "            </tr>\n",
       "            <tr>\n",
       "                        <th id=\"T_b8cc0e61_281c_11eb_a1b1_a8a1590dbef8level0_row1\" class=\"row_heading level0 row1\" >26</th>\n",
       "                        <td id=\"T_b8cc0e61_281c_11eb_a1b1_a8a1590dbef8row1_col0\" class=\"data row1 col0\" >0.520000</td>\n",
       "                        <td id=\"T_b8cc0e61_281c_11eb_a1b1_a8a1590dbef8row1_col1\" class=\"data row1 col1\" >0.523</td>\n",
       "                        <td id=\"T_b8cc0e61_281c_11eb_a1b1_a8a1590dbef8row1_col2\" class=\"data row1 col2\" >0.764</td>\n",
       "            </tr>\n",
       "            <tr>\n",
       "                        <th id=\"T_b8cc0e61_281c_11eb_a1b1_a8a1590dbef8level0_row2\" class=\"row_heading level0 row2\" >27</th>\n",
       "                        <td id=\"T_b8cc0e61_281c_11eb_a1b1_a8a1590dbef8row2_col0\" class=\"data row2 col0\" >0.540000</td>\n",
       "                        <td id=\"T_b8cc0e61_281c_11eb_a1b1_a8a1590dbef8row2_col1\" class=\"data row2 col1\" >0.518</td>\n",
       "                        <td id=\"T_b8cc0e61_281c_11eb_a1b1_a8a1590dbef8row2_col2\" class=\"data row2 col2\" >0.764</td>\n",
       "            </tr>\n",
       "            <tr>\n",
       "                        <th id=\"T_b8cc0e61_281c_11eb_a1b1_a8a1590dbef8level0_row3\" class=\"row_heading level0 row3\" >28</th>\n",
       "                        <td id=\"T_b8cc0e61_281c_11eb_a1b1_a8a1590dbef8row3_col0\" class=\"data row3 col0\" >0.560000</td>\n",
       "                        <td id=\"T_b8cc0e61_281c_11eb_a1b1_a8a1590dbef8row3_col1\" class=\"data row3 col1\" >0.518</td>\n",
       "                        <td id=\"T_b8cc0e61_281c_11eb_a1b1_a8a1590dbef8row3_col2\" class=\"data row3 col2\" >0.764</td>\n",
       "            </tr>\n",
       "            <tr>\n",
       "                        <th id=\"T_b8cc0e61_281c_11eb_a1b1_a8a1590dbef8level0_row4\" class=\"row_heading level0 row4\" >24</th>\n",
       "                        <td id=\"T_b8cc0e61_281c_11eb_a1b1_a8a1590dbef8row4_col0\" class=\"data row4 col0\" >0.480000</td>\n",
       "                        <td id=\"T_b8cc0e61_281c_11eb_a1b1_a8a1590dbef8row4_col1\" class=\"data row4 col1\" >0.513</td>\n",
       "                        <td id=\"T_b8cc0e61_281c_11eb_a1b1_a8a1590dbef8row4_col2\" class=\"data row4 col2\" >0.764</td>\n",
       "            </tr>\n",
       "    </tbody></table>"
      ],
      "text/plain": [
       "<pandas.io.formats.style.Styler at 0x27da304afd0>"
      ]
     },
     "metadata": {},
     "output_type": "display_data"
    }
   ],
   "source": [
    "my_lr_model(features_upsampled, \n",
    "            target_upsampled, \n",
    "            features_valid, \n",
    "            target_valid, \n",
    "            class_weight=None)"
   ]
  },
  {
   "cell_type": "markdown",
   "metadata": {},
   "source": [
    "## 5.2 Алгоритм случайного леса <a id=\"rf_upsampled\">\n",
    "[вернуться к содержанию](#contents)"
   ]
  },
  {
   "cell_type": "code",
   "execution_count": 34,
   "metadata": {},
   "outputs": [
    {
     "data": {
      "image/png": "[encoded data removed]",
      "text/plain": [
       "<Figure size 432x288 with 2 Axes>"
      ]
     },
     "metadata": {},
     "output_type": "display_data"
    },
    {
     "data": {
      "text/html": [
       "<style  type=\"text/css\" >\n",
       "    #T_c0555b11_281c_11eb_949f_a8a1590dbef8row0_col1 {\n",
       "            background-color:  yellow;\n",
       "        }    #T_c0555b11_281c_11eb_949f_a8a1590dbef8row3_col2 {\n",
       "            background-color:  yellow;\n",
       "        }</style><table id=\"T_c0555b11_281c_11eb_949f_a8a1590dbef8\" ><thead>    <tr>        <th class=\"blank level0\" ></th>        <th class=\"col_heading level0 col0\" >n_estim_value</th>        <th class=\"col_heading level0 col1\" >f1_value</th>        <th class=\"col_heading level0 col2\" >roc_auc_value</th>    </tr></thead><tbody>\n",
       "                <tr>\n",
       "                        <th id=\"T_c0555b11_281c_11eb_949f_a8a1590dbef8level0_row0\" class=\"row_heading level0 row0\" >29</th>\n",
       "                        <td id=\"T_c0555b11_281c_11eb_949f_a8a1590dbef8row0_col0\" class=\"data row0 col0\" >30</td>\n",
       "                        <td id=\"T_c0555b11_281c_11eb_949f_a8a1590dbef8row0_col1\" class=\"data row0 col1\" >0.639</td>\n",
       "                        <td id=\"T_c0555b11_281c_11eb_949f_a8a1590dbef8row0_col2\" class=\"data row0 col2\" >0.854</td>\n",
       "            </tr>\n",
       "            <tr>\n",
       "                        <th id=\"T_c0555b11_281c_11eb_949f_a8a1590dbef8level0_row1\" class=\"row_heading level0 row1\" >31</th>\n",
       "                        <td id=\"T_c0555b11_281c_11eb_949f_a8a1590dbef8row1_col0\" class=\"data row1 col0\" >32</td>\n",
       "                        <td id=\"T_c0555b11_281c_11eb_949f_a8a1590dbef8row1_col1\" class=\"data row1 col1\" >0.637</td>\n",
       "                        <td id=\"T_c0555b11_281c_11eb_949f_a8a1590dbef8row1_col2\" class=\"data row1 col2\" >0.854</td>\n",
       "            </tr>\n",
       "            <tr>\n",
       "                        <th id=\"T_c0555b11_281c_11eb_949f_a8a1590dbef8level0_row2\" class=\"row_heading level0 row2\" >21</th>\n",
       "                        <td id=\"T_c0555b11_281c_11eb_949f_a8a1590dbef8row2_col0\" class=\"data row2 col0\" >22</td>\n",
       "                        <td id=\"T_c0555b11_281c_11eb_949f_a8a1590dbef8row2_col1\" class=\"data row2 col1\" >0.636</td>\n",
       "                        <td id=\"T_c0555b11_281c_11eb_949f_a8a1590dbef8row2_col2\" class=\"data row2 col2\" >0.853</td>\n",
       "            </tr>\n",
       "            <tr>\n",
       "                        <th id=\"T_c0555b11_281c_11eb_949f_a8a1590dbef8level0_row3\" class=\"row_heading level0 row3\" >28</th>\n",
       "                        <td id=\"T_c0555b11_281c_11eb_949f_a8a1590dbef8row3_col0\" class=\"data row3 col0\" >29</td>\n",
       "                        <td id=\"T_c0555b11_281c_11eb_949f_a8a1590dbef8row3_col1\" class=\"data row3 col1\" >0.636</td>\n",
       "                        <td id=\"T_c0555b11_281c_11eb_949f_a8a1590dbef8row3_col2\" class=\"data row3 col2\" >0.854</td>\n",
       "            </tr>\n",
       "            <tr>\n",
       "                        <th id=\"T_c0555b11_281c_11eb_949f_a8a1590dbef8level0_row4\" class=\"row_heading level0 row4\" >30</th>\n",
       "                        <td id=\"T_c0555b11_281c_11eb_949f_a8a1590dbef8row4_col0\" class=\"data row4 col0\" >31</td>\n",
       "                        <td id=\"T_c0555b11_281c_11eb_949f_a8a1590dbef8row4_col1\" class=\"data row4 col1\" >0.636</td>\n",
       "                        <td id=\"T_c0555b11_281c_11eb_949f_a8a1590dbef8row4_col2\" class=\"data row4 col2\" >0.854</td>\n",
       "            </tr>\n",
       "    </tbody></table>"
      ],
      "text/plain": [
       "<pandas.io.formats.style.Styler at 0x27da41405e0>"
      ]
     },
     "metadata": {},
     "output_type": "display_data"
    }
   ],
   "source": [
    "my_rf_model(features_upsampled, \n",
    "            target_upsampled, \n",
    "            features_valid, \n",
    "            target_valid, \n",
    "            class_weight=None)"
   ]
  },
  {
   "cell_type": "markdown",
   "metadata": {},
   "source": [
    "## 5.3 Алгоритм решающего дерева <a id=\"dt_upsampled\">\n",
    "[вернуться к содержанию](#contents)"
   ]
  },
  {
   "cell_type": "code",
   "execution_count": 35,
   "metadata": {
    "scrolled": true
   },
   "outputs": [
    {
     "data": {
      "image/png": "[encoded data removed]",
      "text/plain": [
       "<Figure size 432x288 with 2 Axes>"
      ]
     },
     "metadata": {},
     "output_type": "display_data"
    },
    {
     "data": {
      "text/html": [
       "<style  type=\"text/css\" >\n",
       "    #T_c0e0b4a8_281c_11eb_b1d8_a8a1590dbef8row0_col1 {\n",
       "            background-color:  yellow;\n",
       "        }    #T_c0e0b4a8_281c_11eb_b1d8_a8a1590dbef8row0_col2 {\n",
       "            background-color:  yellow;\n",
       "        }</style><table id=\"T_c0e0b4a8_281c_11eb_b1d8_a8a1590dbef8\" ><thead>    <tr>        <th class=\"blank level0\" ></th>        <th class=\"col_heading level0 col0\" >depth_value</th>        <th class=\"col_heading level0 col1\" >f1_value</th>        <th class=\"col_heading level0 col2\" >roc_auc_value</th>    </tr></thead><tbody>\n",
       "                <tr>\n",
       "                        <th id=\"T_c0e0b4a8_281c_11eb_b1d8_a8a1590dbef8level0_row0\" class=\"row_heading level0 row0\" >4</th>\n",
       "                        <td id=\"T_c0e0b4a8_281c_11eb_b1d8_a8a1590dbef8row0_col0\" class=\"data row0 col0\" >5</td>\n",
       "                        <td id=\"T_c0e0b4a8_281c_11eb_b1d8_a8a1590dbef8row0_col1\" class=\"data row0 col1\" >0.601</td>\n",
       "                        <td id=\"T_c0e0b4a8_281c_11eb_b1d8_a8a1590dbef8row0_col2\" class=\"data row0 col2\" >0.848</td>\n",
       "            </tr>\n",
       "            <tr>\n",
       "                        <th id=\"T_c0e0b4a8_281c_11eb_b1d8_a8a1590dbef8level0_row1\" class=\"row_heading level0 row1\" >6</th>\n",
       "                        <td id=\"T_c0e0b4a8_281c_11eb_b1d8_a8a1590dbef8row1_col0\" class=\"data row1 col0\" >7</td>\n",
       "                        <td id=\"T_c0e0b4a8_281c_11eb_b1d8_a8a1590dbef8row1_col1\" class=\"data row1 col1\" >0.595</td>\n",
       "                        <td id=\"T_c0e0b4a8_281c_11eb_b1d8_a8a1590dbef8row1_col2\" class=\"data row1 col2\" >0.825</td>\n",
       "            </tr>\n",
       "            <tr>\n",
       "                        <th id=\"T_c0e0b4a8_281c_11eb_b1d8_a8a1590dbef8level0_row2\" class=\"row_heading level0 row2\" >7</th>\n",
       "                        <td id=\"T_c0e0b4a8_281c_11eb_b1d8_a8a1590dbef8row2_col0\" class=\"data row2 col0\" >8</td>\n",
       "                        <td id=\"T_c0e0b4a8_281c_11eb_b1d8_a8a1590dbef8row2_col1\" class=\"data row2 col1\" >0.593</td>\n",
       "                        <td id=\"T_c0e0b4a8_281c_11eb_b1d8_a8a1590dbef8row2_col2\" class=\"data row2 col2\" >0.814</td>\n",
       "            </tr>\n",
       "            <tr>\n",
       "                        <th id=\"T_c0e0b4a8_281c_11eb_b1d8_a8a1590dbef8level0_row3\" class=\"row_heading level0 row3\" >5</th>\n",
       "                        <td id=\"T_c0e0b4a8_281c_11eb_b1d8_a8a1590dbef8row3_col0\" class=\"data row3 col0\" >6</td>\n",
       "                        <td id=\"T_c0e0b4a8_281c_11eb_b1d8_a8a1590dbef8row3_col1\" class=\"data row3 col1\" >0.590</td>\n",
       "                        <td id=\"T_c0e0b4a8_281c_11eb_b1d8_a8a1590dbef8row3_col2\" class=\"data row3 col2\" >0.837</td>\n",
       "            </tr>\n",
       "            <tr>\n",
       "                        <th id=\"T_c0e0b4a8_281c_11eb_b1d8_a8a1590dbef8level0_row4\" class=\"row_heading level0 row4\" >3</th>\n",
       "                        <td id=\"T_c0e0b4a8_281c_11eb_b1d8_a8a1590dbef8row4_col0\" class=\"data row4 col0\" >4</td>\n",
       "                        <td id=\"T_c0e0b4a8_281c_11eb_b1d8_a8a1590dbef8row4_col1\" class=\"data row4 col1\" >0.584</td>\n",
       "                        <td id=\"T_c0e0b4a8_281c_11eb_b1d8_a8a1590dbef8row4_col2\" class=\"data row4 col2\" >0.831</td>\n",
       "            </tr>\n",
       "    </tbody></table>"
      ],
      "text/plain": [
       "<pandas.io.formats.style.Styler at 0x27da30f1520>"
      ]
     },
     "metadata": {},
     "output_type": "display_data"
    }
   ],
   "source": [
    "my_dt_model(features_upsampled, \n",
    "            target_upsampled, \n",
    "            features_valid, \n",
    "            target_valid, \n",
    "            class_weight=None)"
   ]
  },
  {
   "cell_type": "markdown",
   "metadata": {},
   "source": [
    "## 5.4 Выводы для увеличенной выборки <a id=\"conclusions_upsampled\">\n",
    "[вернуться к содержанию](#contents)\n",
    "  - наибольший F1 равен 0.527 для логистической регрессии при пороге в 0.50\n",
    "  - наибольший F1 равен 0.639 для случайного леса при n=30\n",
    "  - наибольший F1 равен 0.601 для решающего дерева с глубиной depth=5"
   ]
  },
  {
   "cell_type": "markdown",
   "metadata": {},
   "source": [
    "## 6. Модели с уменьшенной выборкой\n",
    "[вернуться к содержанию](#contents)"
   ]
  },
  {
   "cell_type": "code",
   "execution_count": 36,
   "metadata": {
    "scrolled": true
   },
   "outputs": [],
   "source": [
    "def downsample(features, target, fraction):\n",
    "    features_zeros = features[target == 0]\n",
    "    features_ones = features[target == 1]\n",
    "    target_zeros = target[target == 0]\n",
    "    target_ones = target[target == 1]\n",
    "    \n",
    "    # уменьшаем размер класса \"0\" на заданный коэфициент выбросыванием из таблицы случайных элементов\n",
    "    features_downsampled = pd.concat(\n",
    "                [features_zeros.sample(frac=fraction, random_state=12345)] + [features_ones])\n",
    "    target_downsampled = pd.concat(\n",
    "                [target_zeros.sample(frac=fraction, random_state=12345)] + [target_ones])\n",
    "    \n",
    "    # премешиваем, т.к. идущие друг за другом одинаковые вопросы не помогут обучению\n",
    "    features_downsampled, target_downsampled = shuffle(\n",
    "        features_downsampled, target_downsampled, random_state=12345)\n",
    "    \n",
    "    return features_downsampled, target_downsampled"
   ]
  },
  {
   "cell_type": "code",
   "execution_count": 37,
   "metadata": {},
   "outputs": [
    {
     "name": "stdout",
     "output_type": "stream",
     "text": [
      "Исходное соотношение классов в target_train:\n",
      "0    4376\n",
      "1    1078\n",
      "Name: Exited, dtype: int64\n",
      "--------------------------------------------------------\n",
      "Cоотношение классов в target_downsampled:\n",
      "0    1094\n",
      "1    1078\n",
      "Name: Exited, dtype: int64\n"
     ]
    }
   ],
   "source": [
    "# применяем функцию, число repeat равно исходному соотношению классов в целевой переменной\n",
    "features_downsampled, target_downsampled = downsample(features_train, target_train, 0.25)\n",
    "\n",
    "print('Исходное соотношение классов в target_train:', target_train.value_counts(), sep='\\n')\n",
    "print('--------------------------------------------------------')\n",
    "print('Cоотношение классов в target_downsampled:', target_downsampled.value_counts(), sep='\\n')"
   ]
  },
  {
   "cell_type": "markdown",
   "metadata": {},
   "source": [
    "## 6.1 Алгоритм логистической регрессии <a id=\"lr_downsampled\">\n",
    "[вернуться к содержанию](#contents)"
   ]
  },
  {
   "cell_type": "code",
   "execution_count": 38,
   "metadata": {},
   "outputs": [
    {
     "data": {
      "image/png": "[encoded data removed]",
      "text/plain": [
       "<Figure size 432x288 with 2 Axes>"
      ]
     },
     "metadata": {},
     "output_type": "display_data"
    },
    {
     "data": {
      "text/html": [
       "<style  type=\"text/css\" >\n",
       "    #T_c170ff82_281c_11eb_b17f_a8a1590dbef8row0_col1 {\n",
       "            background-color:  yellow;\n",
       "        }    #T_c170ff82_281c_11eb_b17f_a8a1590dbef8row0_col2 {\n",
       "            background-color:  yellow;\n",
       "        }    #T_c170ff82_281c_11eb_b17f_a8a1590dbef8row1_col2 {\n",
       "            background-color:  yellow;\n",
       "        }    #T_c170ff82_281c_11eb_b17f_a8a1590dbef8row2_col2 {\n",
       "            background-color:  yellow;\n",
       "        }    #T_c170ff82_281c_11eb_b17f_a8a1590dbef8row3_col2 {\n",
       "            background-color:  yellow;\n",
       "        }    #T_c170ff82_281c_11eb_b17f_a8a1590dbef8row4_col2 {\n",
       "            background-color:  yellow;\n",
       "        }</style><table id=\"T_c170ff82_281c_11eb_b17f_a8a1590dbef8\" ><thead>    <tr>        <th class=\"blank level0\" ></th>        <th class=\"col_heading level0 col0\" >threshold</th>        <th class=\"col_heading level0 col1\" >f1_value</th>        <th class=\"col_heading level0 col2\" >roc_auc_value</th>    </tr></thead><tbody>\n",
       "                <tr>\n",
       "                        <th id=\"T_c170ff82_281c_11eb_b17f_a8a1590dbef8level0_row0\" class=\"row_heading level0 row0\" >26</th>\n",
       "                        <td id=\"T_c170ff82_281c_11eb_b17f_a8a1590dbef8row0_col0\" class=\"data row0 col0\" >0.520000</td>\n",
       "                        <td id=\"T_c170ff82_281c_11eb_b17f_a8a1590dbef8row0_col1\" class=\"data row0 col1\" >0.517</td>\n",
       "                        <td id=\"T_c170ff82_281c_11eb_b17f_a8a1590dbef8row0_col2\" class=\"data row0 col2\" >0.758</td>\n",
       "            </tr>\n",
       "            <tr>\n",
       "                        <th id=\"T_c170ff82_281c_11eb_b17f_a8a1590dbef8level0_row1\" class=\"row_heading level0 row1\" >25</th>\n",
       "                        <td id=\"T_c170ff82_281c_11eb_b17f_a8a1590dbef8row1_col0\" class=\"data row1 col0\" >0.500000</td>\n",
       "                        <td id=\"T_c170ff82_281c_11eb_b17f_a8a1590dbef8row1_col1\" class=\"data row1 col1\" >0.514</td>\n",
       "                        <td id=\"T_c170ff82_281c_11eb_b17f_a8a1590dbef8row1_col2\" class=\"data row1 col2\" >0.758</td>\n",
       "            </tr>\n",
       "            <tr>\n",
       "                        <th id=\"T_c170ff82_281c_11eb_b17f_a8a1590dbef8level0_row2\" class=\"row_heading level0 row2\" >24</th>\n",
       "                        <td id=\"T_c170ff82_281c_11eb_b17f_a8a1590dbef8row2_col0\" class=\"data row2 col0\" >0.480000</td>\n",
       "                        <td id=\"T_c170ff82_281c_11eb_b17f_a8a1590dbef8row2_col1\" class=\"data row2 col1\" >0.512</td>\n",
       "                        <td id=\"T_c170ff82_281c_11eb_b17f_a8a1590dbef8row2_col2\" class=\"data row2 col2\" >0.758</td>\n",
       "            </tr>\n",
       "            <tr>\n",
       "                        <th id=\"T_c170ff82_281c_11eb_b17f_a8a1590dbef8level0_row3\" class=\"row_heading level0 row3\" >27</th>\n",
       "                        <td id=\"T_c170ff82_281c_11eb_b17f_a8a1590dbef8row3_col0\" class=\"data row3 col0\" >0.540000</td>\n",
       "                        <td id=\"T_c170ff82_281c_11eb_b17f_a8a1590dbef8row3_col1\" class=\"data row3 col1\" >0.509</td>\n",
       "                        <td id=\"T_c170ff82_281c_11eb_b17f_a8a1590dbef8row3_col2\" class=\"data row3 col2\" >0.758</td>\n",
       "            </tr>\n",
       "            <tr>\n",
       "                        <th id=\"T_c170ff82_281c_11eb_b17f_a8a1590dbef8level0_row4\" class=\"row_heading level0 row4\" >23</th>\n",
       "                        <td id=\"T_c170ff82_281c_11eb_b17f_a8a1590dbef8row4_col0\" class=\"data row4 col0\" >0.460000</td>\n",
       "                        <td id=\"T_c170ff82_281c_11eb_b17f_a8a1590dbef8row4_col1\" class=\"data row4 col1\" >0.507</td>\n",
       "                        <td id=\"T_c170ff82_281c_11eb_b17f_a8a1590dbef8row4_col2\" class=\"data row4 col2\" >0.758</td>\n",
       "            </tr>\n",
       "    </tbody></table>"
      ],
      "text/plain": [
       "<pandas.io.formats.style.Styler at 0x27da3104af0>"
      ]
     },
     "metadata": {},
     "output_type": "display_data"
    }
   ],
   "source": [
    "my_lr_model(features_downsampled, \n",
    "            target_downsampled, \n",
    "            features_valid, \n",
    "            target_valid, \n",
    "            class_weight=None)"
   ]
  },
  {
   "cell_type": "markdown",
   "metadata": {},
   "source": [
    "## 6.2 Алгоритм случайного леса <a id=\"rf_downsampled\">\n",
    "[вернуться к содержанию](#contents)"
   ]
  },
  {
   "cell_type": "code",
   "execution_count": 39,
   "metadata": {
    "scrolled": true
   },
   "outputs": [
    {
     "data": {
      "image/png": "[encoded data removed]",
      "text/plain": [
       "<Figure size 432x288 with 2 Axes>"
      ]
     },
     "metadata": {},
     "output_type": "display_data"
    },
    {
     "data": {
      "text/html": [
       "<style  type=\"text/css\" >\n",
       "    #T_c4c9f8f8_281c_11eb_94dd_a8a1590dbef8row0_col1 {\n",
       "            background-color:  yellow;\n",
       "        }    #T_c4c9f8f8_281c_11eb_94dd_a8a1590dbef8row3_col2 {\n",
       "            background-color:  yellow;\n",
       "        }</style><table id=\"T_c4c9f8f8_281c_11eb_94dd_a8a1590dbef8\" ><thead>    <tr>        <th class=\"blank level0\" ></th>        <th class=\"col_heading level0 col0\" >n_estim_value</th>        <th class=\"col_heading level0 col1\" >f1_value</th>        <th class=\"col_heading level0 col2\" >roc_auc_value</th>    </tr></thead><tbody>\n",
       "                <tr>\n",
       "                        <th id=\"T_c4c9f8f8_281c_11eb_94dd_a8a1590dbef8level0_row0\" class=\"row_heading level0 row0\" >39</th>\n",
       "                        <td id=\"T_c4c9f8f8_281c_11eb_94dd_a8a1590dbef8row0_col0\" class=\"data row0 col0\" >40</td>\n",
       "                        <td id=\"T_c4c9f8f8_281c_11eb_94dd_a8a1590dbef8row0_col1\" class=\"data row0 col1\" >0.629</td>\n",
       "                        <td id=\"T_c4c9f8f8_281c_11eb_94dd_a8a1590dbef8row0_col2\" class=\"data row0 col2\" >0.855</td>\n",
       "            </tr>\n",
       "            <tr>\n",
       "                        <th id=\"T_c4c9f8f8_281c_11eb_94dd_a8a1590dbef8level0_row1\" class=\"row_heading level0 row1\" >43</th>\n",
       "                        <td id=\"T_c4c9f8f8_281c_11eb_94dd_a8a1590dbef8row1_col0\" class=\"data row1 col0\" >44</td>\n",
       "                        <td id=\"T_c4c9f8f8_281c_11eb_94dd_a8a1590dbef8row1_col1\" class=\"data row1 col1\" >0.628</td>\n",
       "                        <td id=\"T_c4c9f8f8_281c_11eb_94dd_a8a1590dbef8row1_col2\" class=\"data row1 col2\" >0.857</td>\n",
       "            </tr>\n",
       "            <tr>\n",
       "                        <th id=\"T_c4c9f8f8_281c_11eb_94dd_a8a1590dbef8level0_row2\" class=\"row_heading level0 row2\" >37</th>\n",
       "                        <td id=\"T_c4c9f8f8_281c_11eb_94dd_a8a1590dbef8row2_col0\" class=\"data row2 col0\" >38</td>\n",
       "                        <td id=\"T_c4c9f8f8_281c_11eb_94dd_a8a1590dbef8row2_col1\" class=\"data row2 col1\" >0.628</td>\n",
       "                        <td id=\"T_c4c9f8f8_281c_11eb_94dd_a8a1590dbef8row2_col2\" class=\"data row2 col2\" >0.853</td>\n",
       "            </tr>\n",
       "            <tr>\n",
       "                        <th id=\"T_c4c9f8f8_281c_11eb_94dd_a8a1590dbef8level0_row3\" class=\"row_heading level0 row3\" >42</th>\n",
       "                        <td id=\"T_c4c9f8f8_281c_11eb_94dd_a8a1590dbef8row3_col0\" class=\"data row3 col0\" >43</td>\n",
       "                        <td id=\"T_c4c9f8f8_281c_11eb_94dd_a8a1590dbef8row3_col1\" class=\"data row3 col1\" >0.627</td>\n",
       "                        <td id=\"T_c4c9f8f8_281c_11eb_94dd_a8a1590dbef8row3_col2\" class=\"data row3 col2\" >0.857</td>\n",
       "            </tr>\n",
       "            <tr>\n",
       "                        <th id=\"T_c4c9f8f8_281c_11eb_94dd_a8a1590dbef8level0_row4\" class=\"row_heading level0 row4\" >41</th>\n",
       "                        <td id=\"T_c4c9f8f8_281c_11eb_94dd_a8a1590dbef8row4_col0\" class=\"data row4 col0\" >42</td>\n",
       "                        <td id=\"T_c4c9f8f8_281c_11eb_94dd_a8a1590dbef8row4_col1\" class=\"data row4 col1\" >0.626</td>\n",
       "                        <td id=\"T_c4c9f8f8_281c_11eb_94dd_a8a1590dbef8row4_col2\" class=\"data row4 col2\" >0.856</td>\n",
       "            </tr>\n",
       "    </tbody></table>"
      ],
      "text/plain": [
       "<pandas.io.formats.style.Styler at 0x27da2fa5130>"
      ]
     },
     "metadata": {},
     "output_type": "display_data"
    }
   ],
   "source": [
    "my_rf_model(features_downsampled, \n",
    "            target_downsampled, \n",
    "            features_valid, \n",
    "            target_valid, \n",
    "            class_weight=None)"
   ]
  },
  {
   "cell_type": "markdown",
   "metadata": {},
   "source": [
    "## 6.3 Алгоритм решающего дерева <a id=\"dt_downsampled\">\n",
    "[вернуться к содержанию](#contents)"
   ]
  },
  {
   "cell_type": "code",
   "execution_count": 40,
   "metadata": {
    "scrolled": false
   },
   "outputs": [
    {
     "data": {
      "image/png": "[encoded data removed]",
      "text/plain": [
       "<Figure size 432x288 with 2 Axes>"
      ]
     },
     "metadata": {},
     "output_type": "display_data"
    },
    {
     "data": {
      "text/html": [
       "<style  type=\"text/css\" >\n",
       "    #T_c529ca72_281c_11eb_b75b_a8a1590dbef8row0_col1 {\n",
       "            background-color:  yellow;\n",
       "        }    #T_c529ca72_281c_11eb_b75b_a8a1590dbef8row4_col2 {\n",
       "            background-color:  yellow;\n",
       "        }</style><table id=\"T_c529ca72_281c_11eb_b75b_a8a1590dbef8\" ><thead>    <tr>        <th class=\"blank level0\" ></th>        <th class=\"col_heading level0 col0\" >depth_value</th>        <th class=\"col_heading level0 col1\" >f1_value</th>        <th class=\"col_heading level0 col2\" >roc_auc_value</th>    </tr></thead><tbody>\n",
       "                <tr>\n",
       "                        <th id=\"T_c529ca72_281c_11eb_b75b_a8a1590dbef8level0_row0\" class=\"row_heading level0 row0\" >6</th>\n",
       "                        <td id=\"T_c529ca72_281c_11eb_b75b_a8a1590dbef8row0_col0\" class=\"data row0 col0\" >7</td>\n",
       "                        <td id=\"T_c529ca72_281c_11eb_b75b_a8a1590dbef8row0_col1\" class=\"data row0 col1\" >0.586</td>\n",
       "                        <td id=\"T_c529ca72_281c_11eb_b75b_a8a1590dbef8row0_col2\" class=\"data row0 col2\" >0.812</td>\n",
       "            </tr>\n",
       "            <tr>\n",
       "                        <th id=\"T_c529ca72_281c_11eb_b75b_a8a1590dbef8level0_row1\" class=\"row_heading level0 row1\" >7</th>\n",
       "                        <td id=\"T_c529ca72_281c_11eb_b75b_a8a1590dbef8row1_col0\" class=\"data row1 col0\" >8</td>\n",
       "                        <td id=\"T_c529ca72_281c_11eb_b75b_a8a1590dbef8row1_col1\" class=\"data row1 col1\" >0.573</td>\n",
       "                        <td id=\"T_c529ca72_281c_11eb_b75b_a8a1590dbef8row1_col2\" class=\"data row1 col2\" >0.795</td>\n",
       "            </tr>\n",
       "            <tr>\n",
       "                        <th id=\"T_c529ca72_281c_11eb_b75b_a8a1590dbef8level0_row2\" class=\"row_heading level0 row2\" >2</th>\n",
       "                        <td id=\"T_c529ca72_281c_11eb_b75b_a8a1590dbef8row2_col0\" class=\"data row2 col0\" >3</td>\n",
       "                        <td id=\"T_c529ca72_281c_11eb_b75b_a8a1590dbef8row2_col1\" class=\"data row2 col1\" >0.570</td>\n",
       "                        <td id=\"T_c529ca72_281c_11eb_b75b_a8a1590dbef8row2_col2\" class=\"data row2 col2\" >0.802</td>\n",
       "            </tr>\n",
       "            <tr>\n",
       "                        <th id=\"T_c529ca72_281c_11eb_b75b_a8a1590dbef8level0_row3\" class=\"row_heading level0 row3\" >4</th>\n",
       "                        <td id=\"T_c529ca72_281c_11eb_b75b_a8a1590dbef8row3_col0\" class=\"data row3 col0\" >5</td>\n",
       "                        <td id=\"T_c529ca72_281c_11eb_b75b_a8a1590dbef8row3_col1\" class=\"data row3 col1\" >0.569</td>\n",
       "                        <td id=\"T_c529ca72_281c_11eb_b75b_a8a1590dbef8row3_col2\" class=\"data row3 col2\" >0.816</td>\n",
       "            </tr>\n",
       "            <tr>\n",
       "                        <th id=\"T_c529ca72_281c_11eb_b75b_a8a1590dbef8level0_row4\" class=\"row_heading level0 row4\" >5</th>\n",
       "                        <td id=\"T_c529ca72_281c_11eb_b75b_a8a1590dbef8row4_col0\" class=\"data row4 col0\" >6</td>\n",
       "                        <td id=\"T_c529ca72_281c_11eb_b75b_a8a1590dbef8row4_col1\" class=\"data row4 col1\" >0.566</td>\n",
       "                        <td id=\"T_c529ca72_281c_11eb_b75b_a8a1590dbef8row4_col2\" class=\"data row4 col2\" >0.820</td>\n",
       "            </tr>\n",
       "    </tbody></table>"
      ],
      "text/plain": [
       "<pandas.io.formats.style.Styler at 0x27da2eeab80>"
      ]
     },
     "metadata": {},
     "output_type": "display_data"
    }
   ],
   "source": [
    "my_dt_model(features_downsampled, \n",
    "            target_downsampled, \n",
    "            features_valid, \n",
    "            target_valid, \n",
    "            class_weight=None)"
   ]
  },
  {
   "cell_type": "markdown",
   "metadata": {},
   "source": [
    "## 6.4 Выводы для уменьшенной выборки <a id=\"conclusions_downsampled\">\n",
    "  - наибольший F1 равен 0.517 для логистической регрессии при пороге в 0.52\n",
    "  - наибольший F1 равен 0.629 для случайного леса при n=40\n",
    "  - наибольший F1 равен 0.586 для решающего дерева с глубиной depth=7"
   ]
  },
  {
   "cell_type": "markdown",
   "metadata": {},
   "source": [
    "## 7. Проверка лучшей F1 модели на тестовой выборке\n",
    "[вернуться к содержанию](#contents)"
   ]
  },
  {
   "cell_type": "markdown",
   "metadata": {},
   "source": [
    "## 7.1 Сводная таблица <a id=\"pivot_f1\">"
   ]
  },
  {
   "cell_type": "markdown",
   "metadata": {},
   "source": [
    "<table width=\"100%\" border=\"1\" cellpadding=\"4\" cellspacing=\"0\">\n",
    "   <caption>Значение F1 метрики </caption>\n",
    "    <tr>\n",
    "        <td> <b>Model type </td>\n",
    "        <td> <b>Disbalanced classed</td>\n",
    "        <td> <b>Balanced classed </td>\n",
    "        <td> <b>Upsampled class \"1\" </td>\n",
    "        <td> <b>Downsampled class \"0\" </td>\n",
    "    </tr>\n",
    "    <tr>\n",
    "        <td> <b>Logistic regression </td>\n",
    "        <td> 0.527 </td>\n",
    "        <td> 0.527 </td>\n",
    "        <td> 0.527</td>\n",
    "        <td> 0.517</td>\n",
    "    </tr>\n",
    "    <tr>\n",
    "        <td> <b>Random Forest </td>\n",
    "        <td> 0.631 </td>\n",
    "        <td> 0.609</td>\n",
    "        <td> <b>0.639</td>\n",
    "        <td> 0.629</td>\n",
    "    </tr>\n",
    "    <tr>\n",
    "        <td> <b> Decision Tree </td>\n",
    "        <td> 0.615 </td>\n",
    "        <td> 0.600</td>\n",
    "        <td> 0.601</td>\n",
    "        <td> 0.586</td>\n",
    "    </tr>\n",
    "</table>"
   ]
  },
  {
   "cell_type": "markdown",
   "metadata": {},
   "source": [
    "#### Лучшей является модель на основе алгоритма `Random Forest` с `upsampled` выборкой c `n_est = 30`"
   ]
  },
  {
   "cell_type": "markdown",
   "metadata": {},
   "source": [
    "## 7.2 Проверка на тестовой выборке <a id=\"testing\">"
   ]
  },
  {
   "cell_type": "code",
   "execution_count": 41,
   "metadata": {},
   "outputs": [
    {
     "data": {
      "text/markdown": [
       "**На тестовой выборке: метрика F1 - 0.61, метрика roc_auc - 0.84**"
      ],
      "text/plain": [
       "<IPython.core.display.Markdown object>"
      ]
     },
     "execution_count": 41,
     "metadata": {},
     "output_type": "execute_result"
    }
   ],
   "source": [
    "rf_model = RandomForestClassifier(n_estimators=30, \n",
    "                                  random_state=12345, \n",
    "                                  class_weight=None)\n",
    "\n",
    "rf_model.fit(features_upsampled, target_upsampled)\n",
    "\n",
    "# делаем прогноз для тестовой выборки\n",
    "predicted_test = rf_model.predict(features_test)\n",
    "probabilities_test = rf_model.predict_proba(features_test) \n",
    "\n",
    "f1 = f1_score(target_test, predicted_test)\n",
    "roc_auc = roc_auc_score(target_test, probabilities_test[:, 1])\n",
    "\n",
    "md('**На тестовой выборке: метрика F1 - {}, метрика roc_auc - {}**'.format(round(f1, 2), round(roc_auc, 2)))"
   ]
  },
  {
   "cell_type": "code",
   "execution_count": 42,
   "metadata": {
    "scrolled": true
   },
   "outputs": [
    {
     "name": "stdout",
     "output_type": "stream",
     "text": [
      "fpr: [0.         0.         0.00138122 0.00345304 0.00552486 0.00759669\n",
      " 0.01174033 0.01381215 0.01588398 0.01933702 0.02762431 0.03245856\n",
      " 0.04005525 0.04903315 0.06146409 0.0718232  0.08287293 0.10428177\n",
      " 0.12154696 0.14088398 0.16781768 0.1961326  0.23756906 0.27417127\n",
      " 0.31975138 0.36809392 0.43439227 0.51243094 0.59668508 0.69958564\n",
      " 0.83218232 1.        ]\n",
      "tpr: [0.         0.01886792 0.03773585 0.0754717  0.12398922 0.16981132\n",
      " 0.22102426 0.26954178 0.32345013 0.37196765 0.39622642 0.42587601\n",
      " 0.47169811 0.50134771 0.52830189 0.5606469  0.59299191 0.61994609\n",
      " 0.64420485 0.67115903 0.69541779 0.71698113 0.7574124  0.79245283\n",
      " 0.82210243 0.85175202 0.87331536 0.89757412 0.94339623 0.95956873\n",
      " 0.98382749 1.        ]\n",
      "roc_auc_score:  0.8433921311670711\n"
     ]
    },
    {
     "data": {
      "image/png": "[encoded data removed]",
      "text/plain": [
       "<Figure size 432x288 with 1 Axes>"
      ]
     },
     "metadata": {},
     "output_type": "display_data"
    }
   ],
   "source": [
    "fpr, tpr, thresholds = roc_curve(target_test, probabilities_test[:, 1]) \n",
    "\n",
    "print('fpr:', fpr)\n",
    "print('tpr:', tpr)\n",
    "print('roc_auc_score: ', roc_auc_score(target_test, probabilities_test[:, 1]))\n",
    "\n",
    "\n",
    "plt.figure()\n",
    "plt.plot(fpr, tpr)\n",
    "# ROC-кривая случайной модели (выглядит как прямая)\n",
    "plt.plot([0, 1], [0, 1], linestyle='--')\n",
    "plt.xlim([0.0, 1.0])\n",
    "plt.ylim([0.0, 1.0])\n",
    "plt.xlabel('False Positive Rate', fontsize=16)\n",
    "plt.ylabel('True Positive Rate', fontsize=16)\n",
    "plt.title('ROC-кривая', fontsize=16)\n",
    "plt.show()"
   ]
  },
  {
   "cell_type": "markdown",
   "metadata": {},
   "source": [
    "## 8. Выводы <a id=\"summary\">\n",
    "[вернуться к содержанию](#contents)\n",
    "    \n",
    "Наилучшей моделью с точки зрения F1 метрики является модель на основе алгоритма `Random Forest` с `upsampled` выборкой c гиперпараметром `n_est = 30`. Она демонстрирует F1 = 0.64 на валидационной и F1 = 0.61 на тестовой выборках, соответственно. При этом значение roc_auc метрики находится в пределах 0.84-0.86."
   ]
  }
 ],
 "metadata": {
  "kernelspec": {
   "display_name": "Python 3",
   "language": "python",
   "name": "python3"
  },
  "language_info": {
   "codemirror_mode": {
    "name": "ipython",
    "version": 3
   },
   "file_extension": ".py",
   "mimetype": "text/x-python",
   "name": "python",
   "nbconvert_exporter": "python",
   "pygments_lexer": "ipython3",
   "version": "3.8.3"
  },
  "toc": {
   "base_numbering": 1,
   "nav_menu": {},
   "number_sections": true,
   "sideBar": true,
   "skip_h1_title": false,
   "title_cell": "Table of Contents",
   "title_sidebar": "Contents",
   "toc_cell": false,
   "toc_position": {},
   "toc_section_display": true,
   "toc_window_display": false
  },
  "varInspector": {
   "cols": {
    "lenName": 16,
    "lenType": 16,
    "lenVar": 40
   },
   "kernels_config": {
    "python": {
     "delete_cmd_postfix": "",
     "delete_cmd_prefix": "del ",
     "library": "var_list.py",
     "varRefreshCmd": "print(var_dic_list())"
    },
    "r": {
     "delete_cmd_postfix": ") ",
     "delete_cmd_prefix": "rm(",
     "library": "var_list.r",
     "varRefreshCmd": "cat(var_dic_list()) "
    }
   },
   "types_to_exclude": [
    "module",
    "function",
    "builtin_function_or_method",
    "instance",
    "_Feature"
   ],
   "window_display": false
  }
 },
 "nbformat": 4,
 "nbformat_minor": 2
}
