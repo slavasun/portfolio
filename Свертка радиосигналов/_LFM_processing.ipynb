{
 "cells": [
  {
   "cell_type": "markdown",
   "metadata": {},
   "source": [
    "# Сжатие сигнала путем свертки с линейно-частотно модулированным (ЛЧМ) сигналом <a id=\"intro\">"
   ]
  },
  {
   "cell_type": "markdown",
   "metadata": {},
   "source": [
    "## 1. Описание проекта"
   ]
  },
  {
   "cell_type": "markdown",
   "metadata": {},
   "source": [
    "**Целью данного проекта** является определение ключевой характеристики изделия - длительности сжатого сигнала в наносекундах (нс). В общем случае, чем меньшую длительность имеет сжатый сигнал, тем выше пространственное разрешение (точность определения координаты объекта в пространстве) радиолокационной системы.\n",
    "\n",
    "**План работы:**\n",
    "1. Считать данные из файлов контрольно-измерительного оборудования.\n",
    "1. Преобразовать комплексные числа в децибелы (дБ).\n",
    "1. Провести свертку сигналов и обратное Фурье-преобразование для перехода из частотной во временную область.\n",
    "1. Определить положение пика (индекс) амплитудно-частотной характеристики\n",
    "1. Провести линейную интерполяцию соседних к данному точек\n",
    "1. Рассчитать интересующую длительность импульса по уровню -6 дБ."
   ]
  },
  {
   "cell_type": "markdown",
   "metadata": {},
   "source": [
    "## Содержание <a id=\"contents\"> \n",
    "\n",
    "1. [Описание проекта](#intro)  \n",
    "2. [Чтение данных формирующих и сжимающих линий задержек](#reading)  \n",
    "3. [Свертка сигналов и обратное Фурье-преобразование](#convolution)      \n",
    "4. [Определение длительности сжатого импульса](#calculation)"
   ]
  },
  {
   "cell_type": "markdown",
   "metadata": {},
   "source": [
    "## 2. Чтение данных формирующих и сжимающих линий задержек<a id=\"reading\">  \n",
    "[к содержанию](#contents)"
   ]
  },
  {
   "cell_type": "code",
   "execution_count": 1,
   "metadata": {},
   "outputs": [],
   "source": [
    "from pylab import *\n",
    "import pandas as pd\n",
    "import numpy as np\n",
    "from pdf_build import pdf_report\n",
    "import seaborn as sns\n",
    "sns.set_style('darkgrid')\n",
    "sns.set_palette('muted')\n",
    "from matplotlib import pyplot as plt\n",
    "plt.rc('xtick',labelsize=16)\n",
    "plt.rc('ytick',labelsize=16)\n",
    "%matplotlib inline\n",
    "from scipy.interpolate import interp1d\n",
    "from scipy.signal import chirp"
   ]
  },
  {
   "cell_type": "markdown",
   "metadata": {},
   "source": [
    "Указываем имена обрабатываемых S2P-файлов:"
   ]
  },
  {
   "cell_type": "code",
   "execution_count": 2,
   "metadata": {},
   "outputs": [],
   "source": [
    "UP_filename = 'sample5(UP)_after_welding.s2p' # для ДАЛЗ110В\n",
    "DN_filename = 'sample6(DN)_after_welding.s2p' # для ДАЛЗ110У"
   ]
  },
  {
   "cell_type": "markdown",
   "metadata": {},
   "source": [
    "Читаем данные из файла для ВОСХОДЯЩИХ/ФОРМИРУЮЩИХ линий задержек:"
   ]
  },
  {
   "cell_type": "code",
   "execution_count": 3,
   "metadata": {},
   "outputs": [
    {
     "name": "stdout",
     "output_type": "stream",
     "text": [
      "ДАЛЗ UP в дБ: [-69.43, -69.15, -69.47, -69.41, -69.27, -69.48, -69.33, -68.96, -69.82, -69.53] и так далее...\n"
     ]
    }
   ],
   "source": [
    "freq = []\n",
    "UP_S21 = []\n",
    "UP_S21_ABS = []\n",
    "UP_S21_dB = []\n",
    "with open(UP_filename) as data:\n",
    "    for line in range(5): # пропускаем первые пять строк файла\n",
    "        next(data)\n",
    "    for line in data:\n",
    "        freq.append(float(line.split()[0]))  # берем значения частот из 0-го столбца\n",
    "        UP_S21.append(complex(float(line.split()[3]), float(line.split()[4]))) # берем значения S21 из 3 и 4-го столбца\n",
    "        UP_S21_ABS.append(abs(complex(float(line.split()[3]), float(line.split()[4])))) # складываем как комплексное число по модулю\n",
    "        UP_S21_dB.append(round((20 * math.log10(abs(complex(float(line.split()[3]), float(line.split()[4]))))), 2))\n",
    "print(\"ДАЛЗ UP в дБ:\", UP_S21_dB[0:10], 'и так далее...')"
   ]
  },
  {
   "cell_type": "markdown",
   "metadata": {},
   "source": [
    "Читаем данные из s2p-файла для УБЫВАЮЩИХ/СЖИМАЮЩИХ линий задержек:"
   ]
  },
  {
   "cell_type": "code",
   "execution_count": 4,
   "metadata": {
    "scrolled": true
   },
   "outputs": [
    {
     "name": "stdout",
     "output_type": "stream",
     "text": [
      "ДАЛЗ DN в дБ: [-67.12, -67.15, -67.06, -67.06, -67.31, -67.41, -66.93, -67.24, -67.26, -67.06] и так далее...\n"
     ]
    }
   ],
   "source": [
    "DN_S21 = []\n",
    "DN_S21_ABS = []\n",
    "DN_S21_dB = []\n",
    "with open(DN_filename) as data:\n",
    "    for line in range(5):\n",
    "        next(data)\n",
    "    for line in data:\n",
    "        DN_S21.append(complex(float(line.split()[3]), float(line.split()[4])))\n",
    "        DN_S21_ABS.append(abs(complex(float(line.split()[3]), float(line.split()[4]))))\n",
    "        DN_S21_dB.append(round((20 * math.log10(abs(complex(float(line.split()[3]), float(line.split()[4]))))), 2))\n",
    "print(\"ДАЛЗ DN в дБ:\", DN_S21_dB[0:10], 'и так далее...')"
   ]
  },
  {
   "cell_type": "markdown",
   "metadata": {},
   "source": [
    "## 3. Свертка сигналов и обратное Фурье-преобразование<a id=\"convolution\">\n",
    "[к содержанию](#contents)"
   ]
  },
  {
   "cell_type": "markdown",
   "metadata": {},
   "source": [
    "Определяем частотный диапазон (span) из s2p-файла:"
   ]
  },
  {
   "cell_type": "code",
   "execution_count": 5,
   "metadata": {},
   "outputs": [
    {
     "name": "stdout",
     "output_type": "stream",
     "text": [
      "Частотный диапазон (span) = 20.0 МГц\n"
     ]
    }
   ],
   "source": [
    "span = freq[-1] - freq[0]\n",
    "print('Частотный диапазон (span) =', span * 1E-6, 'МГц')"
   ]
  },
  {
   "cell_type": "markdown",
   "metadata": {},
   "source": [
    "Делаем свертку формирующего и сжимающего сигналов в частотной области как произведение комплексных чисел:"
   ]
  },
  {
   "cell_type": "code",
   "execution_count": 6,
   "metadata": {},
   "outputs": [],
   "source": [
    "result = np.array(UP_S21) * np.array(DN_S21)"
   ]
  },
  {
   "cell_type": "markdown",
   "metadata": {},
   "source": [
    "Проводим обратное Фурье-преобразование из частотной во временную область, чтобы определить длительность сжатого импульса:"
   ]
  },
  {
   "cell_type": "code",
   "execution_count": 7,
   "metadata": {},
   "outputs": [],
   "source": [
    "result_ifft = np.fft.ifft(result)\n",
    "# можно брать меньшее количество элементов массива\n",
    "# http://old.pynsk.ru/posts/2015/Nov/09/matematika-v-python-preobrazovanie-fure/#.XFfnh2lwm7T"
   ]
  },
  {
   "cell_type": "markdown",
   "metadata": {},
   "source": [
    "Переводим спектр из значений по модули в дБ:"
   ]
  },
  {
   "cell_type": "code",
   "execution_count": 8,
   "metadata": {},
   "outputs": [
    {
     "data": {
      "text/plain": [
       "[-137.24,\n",
       " -147.05,\n",
       " -159.46,\n",
       " -154.88,\n",
       " -165.4,\n",
       " -174.82,\n",
       " -169.61,\n",
       " -176.01,\n",
       " -170.38,\n",
       " -179.81]"
      ]
     },
     "execution_count": 8,
     "metadata": {},
     "output_type": "execute_result"
    }
   ],
   "source": [
    "result_ifft_dB = []\n",
    "for i in range(len(result_ifft)):\n",
    "    result_ifft_dB.append(round((20 * math.log10(abs(result_ifft[i]))), 2))\n",
    "\n",
    "result_ifft_dB[:10]"
   ]
  },
  {
   "cell_type": "markdown",
   "metadata": {},
   "source": [
    "Считаем временной шаг для данного частотного диапазона и создаем шкалу времени в наносекундах (коэф. 1E9):"
   ]
  },
  {
   "cell_type": "code",
   "execution_count": 9,
   "metadata": {},
   "outputs": [],
   "source": [
    "# чем больше span на R&S берем, тем мельче временной шаг, умножая его на количество точек получаем\n",
    "time_step = round(1/span, 11) "
   ]
  },
  {
   "cell_type": "code",
   "execution_count": 10,
   "metadata": {
    "scrolled": true
   },
   "outputs": [
    {
     "name": "stdout",
     "output_type": "stream",
     "text": [
      "Временной шаг (1/span):  50.0 нс\n",
      "Общее время:  5000 мкс\n",
      "---------------------------------\n",
      "Временной лист для оси X:  [0.0, 50.0, 100.0, 150.0, 200.0, 250.0, 300.0, 350.0, 400.0, 450.0] и так далее, общее количество точек: 100001 шт.\n",
      "---------------------------------\n",
      "Значения в dB для оси Y:  [-137.24, -147.05, -159.46, -154.88, -165.4, -174.82, -169.61, -176.01, -170.38, -179.81] и так далее, общее количество точек: 100001 шт.\n"
     ]
    }
   ],
   "source": [
    "# временной интервал, который можем измерить во времени, т.е. чем больше span, тем хуже для timedomain области\n",
    "time_list = []\n",
    "for i in range(len(freq)):\n",
    "    time_list.append(round((time_step * i * 1E9), 2))\n",
    "print(\"Временной шаг (1/span): \", time_step * 1E9, \"нс\")\n",
    "print(\"Общее время: \", round(time_step * 1E6 * (len(freq) - 1)), \"мкс\") # умножаем на 1Е6, чтобы результат был в микросекундах\n",
    "print('---------------------------------')\n",
    "print(\"Временной лист для оси X: \", time_list[:10], \"и так далее, общее количество точек:\", len(time_list), \"шт.\")\n",
    "print('---------------------------------')\n",
    "print(\"Значения в dB для оси Y: \", result_ifft_dB[:10],\n",
    "      \"и так далее, общее количество точек:\", len(result_ifft_dB), \"шт.\")"
   ]
  },
  {
   "cell_type": "markdown",
   "metadata": {},
   "source": [
    "## 3. Определение длительности сжатого импульса<a id=\"calculation\">\n",
    "[к содержанию](#contents)"
   ]
  },
  {
   "cell_type": "markdown",
   "metadata": {},
   "source": [
    "Находим максимум и его индекс:"
   ]
  },
  {
   "cell_type": "code",
   "execution_count": 11,
   "metadata": {},
   "outputs": [
    {
     "name": "stdout",
     "output_type": "stream",
     "text": [
      "Максимум характеристики:  -76.87 дБ\n"
     ]
    }
   ],
   "source": [
    "maximum_dB_value = max(result_ifft_dB)\n",
    "print(\"Максимум характеристики: \", max(result_ifft_dB), \"дБ\")\n",
    "\n",
    "for i in range(len(result_ifft_dB)):\n",
    "    if result_ifft_dB[i] == maximum_dB_value:\n",
    "        maximum_dB_index = i"
   ]
  },
  {
   "cell_type": "markdown",
   "metadata": {},
   "source": [
    "Делаем линейную интерполяцию на вершине пика АЧХ для точного определения длительности по заданному уровню:"
   ]
  },
  {
   "cell_type": "code",
   "execution_count": 12,
   "metadata": {},
   "outputs": [],
   "source": [
    "time_list_interp = np.linspace(time_list[maximum_dB_index - 5], time_list[maximum_dB_index + 5], num=10001)\n",
    "result_ifft_dB_interp = np.interp(time_list_interp, time_list[:2000], result_ifft_dB[:2000])"
   ]
  },
  {
   "cell_type": "markdown",
   "metadata": {},
   "source": [
    "Находим индекс максимуму характеристики в интерполированном ряде:"
   ]
  },
  {
   "cell_type": "code",
   "execution_count": 13,
   "metadata": {},
   "outputs": [],
   "source": [
    "maximum_dB_value_interp = max(result_ifft_dB_interp)\n",
    "for i in range(len(result_ifft_dB_interp)):\n",
    "    if result_ifft_dB_interp[i] == maximum_dB_value_interp:\n",
    "        maximum_dB_index = i"
   ]
  },
  {
   "cell_type": "markdown",
   "metadata": {},
   "source": [
    "Считаем длительность по измеренным значениям ряду по уровню -6дБ (грубая оценка):"
   ]
  },
  {
   "cell_type": "code",
   "execution_count": 14,
   "metadata": {},
   "outputs": [
    {
     "name": "stdout",
     "output_type": "stream",
     "text": [
      "Длительность сжатого сигнала (грубо):  200.0 нс\n"
     ]
    }
   ],
   "source": [
    "i = 0\n",
    "time_list_level_6dB = []\n",
    "for item in result_ifft_dB:\n",
    "    if item > maximum_dB_value - 6:\n",
    "        time_list_level_6dB.append(time_list[i])\n",
    "    i += 1\n",
    "print(\"Длительность сжатого сигнала (грубо): \",\n",
    "      round((time_list_level_6dB[-1] - time_list_level_6dB[0]), 2), \"нс\")"
   ]
  },
  {
   "cell_type": "markdown",
   "metadata": {},
   "source": [
    "Считаем длительность по интерполированному ряду по уровню -6дБ (точное значение):"
   ]
  },
  {
   "cell_type": "code",
   "execution_count": 15,
   "metadata": {},
   "outputs": [
    {
     "name": "stdout",
     "output_type": "stream",
     "text": [
      "Длительность сжатого сигнала (точно):  247.75 нс\n"
     ]
    }
   ],
   "source": [
    "i = 0\n",
    "time_list_level_6dB_interp = []\n",
    "for item in result_ifft_dB_interp:\n",
    "    if item > maximum_dB_value - 6:\n",
    "        time_list_level_6dB_interp.append(time_list_interp[i])\n",
    "    i += 1\n",
    "print(\"Длительность сжатого сигнала (точно): \",\n",
    "      round((time_list_level_6dB_interp[-1] - time_list_level_6dB_interp[0]), 2), \"нс\")"
   ]
  },
  {
   "cell_type": "markdown",
   "metadata": {},
   "source": [
    "Строим результат свертки в дБ формате:"
   ]
  },
  {
   "cell_type": "code",
   "execution_count": 16,
   "metadata": {},
   "outputs": [],
   "source": [
    "time_list = pd.DataFrame(time_list[:2000], columns=['time']).copy()\n",
    "result_ifft_dB = pd.DataFrame(result_ifft_dB[:2000], columns=['signal']).copy()"
   ]
  },
  {
   "cell_type": "code",
   "execution_count": 17,
   "metadata": {},
   "outputs": [
    {
     "data": {
      "text/html": [
       "<div>\n",
       "<style scoped>\n",
       "    .dataframe tbody tr th:only-of-type {\n",
       "        vertical-align: middle;\n",
       "    }\n",
       "\n",
       "    .dataframe tbody tr th {\n",
       "        vertical-align: top;\n",
       "    }\n",
       "\n",
       "    .dataframe thead th {\n",
       "        text-align: right;\n",
       "    }\n",
       "</style>\n",
       "<table border=\"1\" class=\"dataframe\">\n",
       "  <thead>\n",
       "    <tr style=\"text-align: right;\">\n",
       "      <th></th>\n",
       "      <th>time, ns</th>\n",
       "      <th>signal, dB</th>\n",
       "    </tr>\n",
       "  </thead>\n",
       "  <tbody>\n",
       "    <tr>\n",
       "      <th>0</th>\n",
       "      <td>0.0</td>\n",
       "      <td>-137.24</td>\n",
       "    </tr>\n",
       "    <tr>\n",
       "      <th>1</th>\n",
       "      <td>50.0</td>\n",
       "      <td>-147.05</td>\n",
       "    </tr>\n",
       "    <tr>\n",
       "      <th>2</th>\n",
       "      <td>100.0</td>\n",
       "      <td>-159.46</td>\n",
       "    </tr>\n",
       "    <tr>\n",
       "      <th>3</th>\n",
       "      <td>150.0</td>\n",
       "      <td>-154.88</td>\n",
       "    </tr>\n",
       "    <tr>\n",
       "      <th>4</th>\n",
       "      <td>200.0</td>\n",
       "      <td>-165.40</td>\n",
       "    </tr>\n",
       "  </tbody>\n",
       "</table>\n",
       "</div>"
      ],
      "text/plain": [
       "   time, ns  signal, dB\n",
       "0       0.0     -137.24\n",
       "1      50.0     -147.05\n",
       "2     100.0     -159.46\n",
       "3     150.0     -154.88\n",
       "4     200.0     -165.40"
      ]
     },
     "execution_count": 17,
     "metadata": {},
     "output_type": "execute_result"
    }
   ],
   "source": [
    "result_time_domain = time_list.join(result_ifft_dB)\n",
    "result_time_domain.columns = ['time, ns', 'signal, dB']\n",
    "result_time_domain.head()"
   ]
  },
  {
   "cell_type": "code",
   "execution_count": 18,
   "metadata": {},
   "outputs": [
    {
     "data": {
      "text/plain": [
       "[<matplotlib.lines.Line2D at 0x21f3bd8b100>]"
      ]
     },
     "execution_count": 18,
     "metadata": {},
     "output_type": "execute_result"
    }
   ],
   "source": [
    "plt.plot(result_time_domain.time, result_time_domain.signal, 'o', markersize=2)"
   ]
  },
  {
   "cell_type": "code",
   "execution_count": null,
   "metadata": {},
   "outputs": [],
   "source": [
    "plt.plot(result_time_domain.time, result_time_domain.signal, 'o', markersize=2)\n",
    "\n",
    "plt.show()"
   ]
  },
  {
   "cell_type": "code",
   "execution_count": null,
   "metadata": {
    "scrolled": true
   },
   "outputs": [],
   "source": [
    "# plt.figure(figsize=(10,10))\n",
    "# plt.plot(time_list[:2000], result_ifft_dB[:2000], 'o', markersize=2)\n",
    "# plt.plot(time_list_interp, result_ifft_dB_interp, '-')\n",
    "# plt.xlabel('Время, нc')\n",
    "# plt.ylabel('Затухание, дБ')\n",
    "# plt.title('Сжатый сигнал')\n",
    "# plt.grid(True)\n",
    "# plt.text(36900, maximum_dB_value + 1, maximum_dB_value)\n",
    "# #plt.savefig('convolution.png')\n",
    "# plt.show()\n",
    "\n",
    "# для использования pdf_build.py\n",
    "# picture = ['test.png']\n",
    "# f = pdf_report(picture, 'report', 'test_picture.pdf')"
   ]
  },
  {
   "cell_type": "code",
   "execution_count": null,
   "metadata": {},
   "outputs": [],
   "source": []
  }
 ],
 "metadata": {
  "kernelspec": {
   "display_name": "Python 3",
   "language": "python",
   "name": "python3"
  },
  "language_info": {
   "codemirror_mode": {
    "name": "ipython",
    "version": 3
   },
   "file_extension": ".py",
   "mimetype": "text/x-python",
   "name": "python",
   "nbconvert_exporter": "python",
   "pygments_lexer": "ipython3",
   "version": "3.8.3"
  },
  "varInspector": {
   "cols": {
    "lenName": 16,
    "lenType": 16,
    "lenVar": 40
   },
   "kernels_config": {
    "python": {
     "delete_cmd_postfix": "",
     "delete_cmd_prefix": "del ",
     "library": "var_list.py",
     "varRefreshCmd": "print(var_dic_list())"
    },
    "r": {
     "delete_cmd_postfix": ") ",
     "delete_cmd_prefix": "rm(",
     "library": "var_list.r",
     "varRefreshCmd": "cat(var_dic_list()) "
    }
   },
   "types_to_exclude": [
    "module",
    "function",
    "builtin_function_or_method",
    "instance",
    "_Feature"
   ],
   "window_display": false
  }
 },
 "nbformat": 4,
 "nbformat_minor": 4
}
