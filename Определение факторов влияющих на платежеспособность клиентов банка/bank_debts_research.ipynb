{
 "cells": [
  {
   "cell_type": "markdown",
   "metadata": {},
   "source": [
    "## Исследование надёжности заёмщиков\n",
    "\n",
    "Заказчик — кредитный отдел банка. Нужно разобраться, влияет ли семейное положение и количество детей клиента на факт погашения кредита в срок. Входные данные от банка — статистика о платёжеспособности клиентов.\n",
    "\n",
    "Результаты исследования будут учтены при построении модели **кредитного скоринга** — специальной системы, которая оценивает способность потенциального заёмщика вернуть кредит банку."
   ]
  },
  {
   "cell_type": "markdown",
   "metadata": {},
   "source": [
    "### Шаг 1. Откройте файл с данными и изучите общую информацию. "
   ]
  },
  {
   "cell_type": "code",
   "execution_count": 1,
   "metadata": {},
   "outputs": [],
   "source": [
    "import pandas as pd\n",
    "import numpy as np\n",
    "from pymystem3 import Mystem #для локального Notebook: pip install pymystem3==0.1.10 \n",
    "m = Mystem()\n",
    "from collections import Counter"
   ]
  },
  {
   "cell_type": "code",
   "execution_count": 2,
   "metadata": {},
   "outputs": [],
   "source": [
    "df = pd.read_csv('/datasets/data.csv')"
   ]
  },
  {
   "cell_type": "markdown",
   "metadata": {},
   "source": [
    "#### Найденные ошибки в данных:\n",
    "- в данных по количеству детей children есть маловероятные значения -1 и 20;\n",
    "- в данных по трудовому стажу days_employed есть отрицательные значения, нереально большие величины, избыточные десятичные знаки, пропуски типа NaN;\n",
    "- в данных по возрасту dob_years заемщика есть значения равные нулю;\n",
    "- в данных по образованию education разное написание одно и того же вида образования;\n",
    "- в данных пола клиента gender у индекса 10701 значение поля 'XNA';\n",
    "- в данных о целях кредита необходима лемматизация;\n",
    "- есть строки полные дубликаты."
   ]
  },
  {
   "cell_type": "markdown",
   "metadata": {},
   "source": [
    "### Шаг 2. Предобработка данных"
   ]
  },
  {
   "cell_type": "code",
   "execution_count": 3,
   "metadata": {},
   "outputs": [],
   "source": [
    "# заменим отрицательные значения трудового стажа в положительные\n",
    "df.loc[df['days_employed'] < 0, 'days_employed'] = -1 * df[df['days_employed'] < 0]\n",
    "\n",
    "# переведем дни стажа в года\n",
    "df['days_employed'] = df['days_employed'] / 365\n",
    "df['days_employed'] = df['days_employed'].round(decimals=2)\n",
    "df.columns = ['children', 'years_employed', 'dob_years', 'education', 'education_id',\n",
    "       'family_status', 'family_status_id', 'gender', 'income_type', 'debt',\n",
    "       'total_income', 'purpose']\n",
    "\n",
    "# приведем к единобразию категории образования\n",
    "df['education'] = df['education'].str.lower()\n",
    "\n",
    "# в данных по количеству детей children есть нереальные значения в -1 и 20 детей, \n",
    "# общее кол-во строк 76 относительно длины датафрейма 21525 составляет 0.4% => можно удалить\n",
    "df = df[(df['children'] != -1) & (df['children'] != 20)]"
   ]
  },
  {
   "cell_type": "code",
   "execution_count": 4,
   "metadata": {},
   "outputs": [
    {
     "data": {
      "text/plain": [
       "0.10170330058661389"
      ]
     },
     "execution_count": 4,
     "metadata": {},
     "output_type": "execute_result"
    }
   ],
   "source": [
    "# вынесем данные содержащие NaN в total_income в отдельный датафрейм\n",
    "df_nan_only = df[df['total_income'].notna() == False]\n",
    "\n",
    "# проверим как распределены пропуски в total_income для каждой категориям, здесь пример для children   \n",
    "df_nan_only['children'].value_counts(normalize=True).round(2)\n",
    "\n",
    "# соотнесем абсолютные значения children с общим количеством в исходном датафрейме \n",
    "# например, для заемщиков с количеством детей 0:\n",
    "df_nan_only[df_nan_only['children'] == 0]['children'].count() / df[df['children'] == 0]['children'].count()\n",
    "\n",
    "# для остальных категорий провяряем аналогичным образом \n"
   ]
  },
  {
   "cell_type": "markdown",
   "metadata": {},
   "source": [
    "#### Вывод\n",
    "- пропуски в столбце total_income занимают не более 11% в каждой категории children, education, family_status, gender, income_type;\n",
    "- есть закономерность в расположении пропусков между days_employed и total_income, возможно, значения ежемесячного дохода являются усредненными и рассчитываются исходя из общего стажа. Тогда пропуски в данных по стажу дали пропуски в доходе."
   ]
  },
  {
   "cell_type": "markdown",
   "metadata": {},
   "source": [
    "### Обработка пропусков"
   ]
  },
  {
   "cell_type": "code",
   "execution_count": 5,
   "metadata": {},
   "outputs": [
    {
     "name": "stdout",
     "output_type": "stream",
     "text": [
      "Медианные значения дохода в зависимости от типа занятости: income_type\n",
      "безработный        131339.751676\n",
      "в декрете           53829.130729\n",
      "госслужащий        150420.150276\n",
      "компаньон          172517.418907\n",
      "пенсионер          118480.837408\n",
      "предприниматель    499163.144947\n",
      "сотрудник          142587.588976\n",
      "студент             98201.625314\n",
      "Name: total_income, dtype: float64\n"
     ]
    }
   ],
   "source": [
    "# найдем пропуски и заменим их\n",
    "df.isna().sum()\n",
    "\n",
    "# считаем медиану для стажа по группе тех, у кого стаж до 60 лет\n",
    "years_employed_median = df[df['years_employed'] < 60]['years_employed'].median()\n",
    "\n",
    "# считаем медиану для каждого типа занятости\n",
    "medians_by_income_type = df.groupby('income_type')['total_income'].agg('median')\n",
    "print('Медианные значения дохода в зависимости от типа занятости:',medians_by_income_type)"
   ]
  },
  {
   "cell_type": "code",
   "execution_count": 6,
   "metadata": {},
   "outputs": [],
   "source": [
    "# заменяем пропуски в стаже\n",
    "df = df.fillna('empty')\n",
    "df.loc[df['years_employed'] == 'empty', 'years_employed'] = years_employed_median\n",
    "\n",
    "# заменяем пропуски в стаже (для каждого типа занятости свое медианное значение)\n",
    "df.loc[(df['total_income'] == 'empty')&(df['income_type'] == 'сотрудник'), 'total_income'] = medians_by_income_type['сотрудник']\n",
    "df.loc[(df['total_income'] == 'empty')&(df['income_type'] == 'компаньон'), 'total_income'] = medians_by_income_type['компаньон']\n",
    "df.loc[(df['total_income'] == 'empty')&(df['income_type'] == 'пенсионер'), 'total_income'] = medians_by_income_type['пенсионер']\n",
    "df.loc[(df['total_income'] == 'empty')&(df['income_type'] == 'госслужащий'), 'total_income'] = medians_by_income_type['госслужащий']\n",
    "df.loc[(df['total_income'] == 'empty')&(df['income_type'] == 'предприниматель'), 'total_income'] = medians_by_income_type['предприниматель']\n",
    "df.loc[(df['total_income'] == 'empty')&(df['income_type'] == 'безработный'), 'total_income'] = medians_by_income_type['безработный']\n",
    "df.loc[(df['total_income'] == 'empty')&(df['income_type'] == 'студент'), 'total_income'] = medians_by_income_type['студент']\n",
    "df.loc[(df['total_income'] == 'empty')&(df['income_type'] == 'в декрете'), 'total_income'] = medians_by_income_type['в декрете']"
   ]
  },
  {
   "cell_type": "markdown",
   "metadata": {},
   "source": [
    "#### Вывод\n",
    "- Пропуски в ежемесячном доходе total_income и трудовом стаже years_employed заменены на медианные значения, т.к. в обеих категориях есть сильные выбросы (сильно превышают полутора квантильный размах). "
   ]
  },
  {
   "cell_type": "markdown",
   "metadata": {},
   "source": [
    "### Замена типа данных"
   ]
  },
  {
   "cell_type": "code",
   "execution_count": 7,
   "metadata": {},
   "outputs": [],
   "source": [
    "# для ежемесячного дохода выбираем целочисленный тип данных, т.к. тут точность до копеек избыточна\n",
    "df['total_income'] = df['total_income'].astype('int')\n",
    "df['years_employed'] = pd.to_numeric(df['years_employed'])"
   ]
  },
  {
   "cell_type": "markdown",
   "metadata": {},
   "source": [
    "### Обработка дубликатов"
   ]
  },
  {
   "cell_type": "code",
   "execution_count": 8,
   "metadata": {},
   "outputs": [],
   "source": [
    "# найдем полные дубликаты и удалим их\n",
    "df = df.drop_duplicates().reset_index(drop=True)\n",
    "# заметка для себя, посмотреть дубликаты: df.loc[df.duplicated(keep=False) == True].sort_values('dob_years')"
   ]
  },
  {
   "cell_type": "markdown",
   "metadata": {},
   "source": [
    "#### Вывод\n",
    "- Исходные данные содержали 71 строку дубликатов, возможно они появились в результате объединения данных из разных источников."
   ]
  },
  {
   "cell_type": "markdown",
   "metadata": {},
   "source": [
    "### Лемматизация"
   ]
  },
  {
   "cell_type": "code",
   "execution_count": 9,
   "metadata": {},
   "outputs": [
    {
     "name": "stdout",
     "output_type": "stream",
     "text": [
      "Counter({'недвижимость': 6314, 'жилье': 4437, 'автомобиль': 4279, 'образование': 3988, 'свадьба': 2313, 'строительство': 1867, 'высокий': 1367, 'коммерческий': 1303, 'жилой': 1222, 'заниматься': 904, 'дополнительный': 899, 'подержать': 842, 'проведение': 763, 'сыграть': 760, 'сдача': 649, 'семья': 637, 'собственный': 628, 'ремонт': 604, 'приобретение': 459, 'профильный': 432, 'подержанный': 110})\n"
     ]
    }
   ],
   "source": [
    "# лемматизируем все цели, сложив их в одну строку\n",
    "stroke = ' '.join(df['purpose'])\n",
    "purpose = m.lemmatize(stroke)\n",
    "\n",
    "# выделяем наиболее частые леммы в словарь\n",
    "lemmas_dict = Counter(purpose)\n",
    "\n",
    "# удаляем из словаря мусорные элементы\n",
    "exceptions = [' ', 'покупка', 'с', 'со','на', 'для', 'получение', \n",
    "                                              'операция', '\\n', 'свой', 'сделка']\n",
    "for exception in exceptions:\n",
    "    del lemmas_dict[exception]\n",
    "print(lemmas_dict)\n"
   ]
  },
  {
   "cell_type": "code",
   "execution_count": 10,
   "metadata": {},
   "outputs": [
    {
     "name": "stdout",
     "output_type": "stream",
     "text": [
      "Частота лемм: [6314, 4437, 4279, 3988, 2313, 1867, 1367, 1303, 1222, 904, 899, 842, 763, 760, 649, 637, 628, 604, 459, 432, 110]\n"
     ]
    }
   ],
   "source": [
    "# ранжируем леммы по убыванию частоте\n",
    "lemmas_freq = sorted(lemmas_dict.values(), reverse=True)\n",
    "print('Частота лемм:', lemmas_freq)"
   ]
  },
  {
   "cell_type": "code",
   "execution_count": 11,
   "metadata": {},
   "outputs": [],
   "source": [
    "def get_key(d, value):\n",
    "    \"\"\"Возвращает ключ словаря по заданному значению\"\"\"\n",
    "    for k, v in d.items():\n",
    "        if v == value:\n",
    "            return k\n",
    "\n",
    "   \n",
    "def assign_purpose_category(row, category_quantity):\n",
    "    \"\"\"Разбивает цели кредита на заданное количество категорий\"\"\"\n",
    "    purpose = m.lemmatize(row['purpose'])\n",
    "    for i in range(category_quantity):\n",
    "        key = get_key(lemmas_dict, lemmas_freq[i])\n",
    "        if key in purpose:\n",
    "            return key\n",
    "\n",
    "# добавим новые категории в датафрейм, количество категорий указываем в args \n",
    "df['purpose_category'] = df.apply(assign_purpose_category, args=(5,), axis=1)\n",
    "\n",
    "\n",
    "# памятки для себя:\n",
    "# https://kite.com/python/answers/how-to-apply-a-function-with-multiple-arguments-to-a-pandas-dataframe-in-python\n",
    "# https://pandas.pydata.org/pandas-docs/stable/reference/api/pandas.Series.apply.html\n",
    "    "
   ]
  },
  {
   "cell_type": "markdown",
   "metadata": {},
   "source": [
    "#### Вывод\n",
    "- по цели кредита данные разбиты на пять категорий"
   ]
  },
  {
   "cell_type": "markdown",
   "metadata": {},
   "source": [
    "### Категоризация данных"
   ]
  },
  {
   "cell_type": "code",
   "execution_count": 12,
   "metadata": {},
   "outputs": [],
   "source": [
    "# уровни дохода выбраны так, чтобы не было групп с очень малым числом \n",
    "# наблюдений (например, c доходом более 500 тыс. всего 222 строки, около 1% от общего числа)\n",
    "wrong_income_values = []\n",
    "def assign_income_category(income):\n",
    "    \"\"\"Разбивает доход на категории\"\"\"\n",
    "    try:\n",
    "        if income <= 100000:\n",
    "            return 'менее 100 тыс.'\n",
    "        elif 100000 < income <= 150000:\n",
    "            return 'от 100 до 150 тыс.'\n",
    "        elif 150000 < income <= 200000:\n",
    "            return 'от 150 до 200 тыс.'\n",
    "        else:\n",
    "            return 'более 200 тыс.'        \n",
    "    except:\n",
    "        print('Необработано значение: ', income)\n",
    "        wrong_income_values.append(income)\n",
    "\n",
    "# добавим новые категории в датафрейм\n",
    "df['total_income_category'] = df['total_income'].apply(assign_income_category)"
   ]
  },
  {
   "cell_type": "markdown",
   "metadata": {},
   "source": [
    "#### Вывод\n",
    "- по размеру ежемесячного дохода данные разбиты на четыре категории"
   ]
  },
  {
   "cell_type": "markdown",
   "metadata": {},
   "source": [
    "### Шаг 3. Ответьте на вопросы"
   ]
  },
  {
   "cell_type": "markdown",
   "metadata": {},
   "source": [
    "#### Есть ли зависимость между наличием детей и возвратом кредита в срок?"
   ]
  },
  {
   "cell_type": "code",
   "execution_count": 13,
   "metadata": {},
   "outputs": [
    {
     "data": {
      "text/html": [
       "<div>\n",
       "<style scoped>\n",
       "    .dataframe tbody tr th:only-of-type {\n",
       "        vertical-align: middle;\n",
       "    }\n",
       "\n",
       "    .dataframe tbody tr th {\n",
       "        vertical-align: top;\n",
       "    }\n",
       "\n",
       "    .dataframe thead tr th {\n",
       "        text-align: left;\n",
       "    }\n",
       "\n",
       "    .dataframe thead tr:last-of-type th {\n",
       "        text-align: right;\n",
       "    }\n",
       "</style>\n",
       "<table border=\"1\" class=\"dataframe\">\n",
       "  <thead>\n",
       "    <tr>\n",
       "      <th></th>\n",
       "      <th>count</th>\n",
       "      <th>&lt;lambda&gt;</th>\n",
       "    </tr>\n",
       "    <tr>\n",
       "      <th></th>\n",
       "      <th>debt</th>\n",
       "      <th>debt</th>\n",
       "    </tr>\n",
       "    <tr>\n",
       "      <th>children</th>\n",
       "      <th></th>\n",
       "      <th></th>\n",
       "    </tr>\n",
       "  </thead>\n",
       "  <tbody>\n",
       "    <tr>\n",
       "      <td>0</td>\n",
       "      <td>14091</td>\n",
       "      <td>7.543822</td>\n",
       "    </tr>\n",
       "    <tr>\n",
       "      <td>1</td>\n",
       "      <td>4808</td>\n",
       "      <td>9.234609</td>\n",
       "    </tr>\n",
       "    <tr>\n",
       "      <td>2</td>\n",
       "      <td>2052</td>\n",
       "      <td>9.454191</td>\n",
       "    </tr>\n",
       "    <tr>\n",
       "      <td>3</td>\n",
       "      <td>330</td>\n",
       "      <td>8.181818</td>\n",
       "    </tr>\n",
       "    <tr>\n",
       "      <td>4</td>\n",
       "      <td>41</td>\n",
       "      <td>9.756098</td>\n",
       "    </tr>\n",
       "    <tr>\n",
       "      <td>5</td>\n",
       "      <td>9</td>\n",
       "      <td>0.000000</td>\n",
       "    </tr>\n",
       "  </tbody>\n",
       "</table>\n",
       "</div>"
      ],
      "text/plain": [
       "          count  <lambda>\n",
       "           debt      debt\n",
       "children                 \n",
       "0         14091  7.543822\n",
       "1          4808  9.234609\n",
       "2          2052  9.454191\n",
       "3           330  8.181818\n",
       "4            41  9.756098\n",
       "5             9  0.000000"
      ]
     },
     "execution_count": 13,
     "metadata": {},
     "output_type": "execute_result"
    }
   ],
   "source": [
    "df.pivot_table(index='children',\n",
    "               values=['debt'],\n",
    "               aggfunc=['count', (lambda x: np.mean(x)*100)])"
   ]
  },
  {
   "cell_type": "markdown",
   "metadata": {},
   "source": [
    "#### Вывод\n",
    "- Выраженной зависимости между наличием и количеством детей и возвратом кредита в срок не прослеживается.\n",
    "- Заемщики с пятью детьми всегда возвращали кредит в срок, но размер выборки под ним недостаточен, **нельзя** принимать этот факт для принятия решений.\n",
    "- Среди остальных наименьшее количество просрочек допускали заемщики без детей. Требуется проверить на статистическую значимость группы категорий \"без детей\" и \"с детьми\"."
   ]
  },
  {
   "cell_type": "markdown",
   "metadata": {},
   "source": [
    "#### Есть ли зависимость между семейным положением и возвратом кредита в срок?"
   ]
  },
  {
   "cell_type": "code",
   "execution_count": 14,
   "metadata": {},
   "outputs": [
    {
     "data": {
      "text/html": [
       "<div>\n",
       "<style scoped>\n",
       "    .dataframe tbody tr th:only-of-type {\n",
       "        vertical-align: middle;\n",
       "    }\n",
       "\n",
       "    .dataframe tbody tr th {\n",
       "        vertical-align: top;\n",
       "    }\n",
       "\n",
       "    .dataframe thead tr th {\n",
       "        text-align: left;\n",
       "    }\n",
       "\n",
       "    .dataframe thead tr:last-of-type th {\n",
       "        text-align: right;\n",
       "    }\n",
       "</style>\n",
       "<table border=\"1\" class=\"dataframe\">\n",
       "  <thead>\n",
       "    <tr>\n",
       "      <th></th>\n",
       "      <th>count</th>\n",
       "      <th>&lt;lambda&gt;</th>\n",
       "    </tr>\n",
       "    <tr>\n",
       "      <th></th>\n",
       "      <th>debt</th>\n",
       "      <th>debt</th>\n",
       "    </tr>\n",
       "    <tr>\n",
       "      <th>family_status</th>\n",
       "      <th></th>\n",
       "      <th></th>\n",
       "    </tr>\n",
       "  </thead>\n",
       "  <tbody>\n",
       "    <tr>\n",
       "      <td>Не женат / не замужем</td>\n",
       "      <td>2796</td>\n",
       "      <td>9.763948</td>\n",
       "    </tr>\n",
       "    <tr>\n",
       "      <td>в разводе</td>\n",
       "      <td>1189</td>\n",
       "      <td>7.064760</td>\n",
       "    </tr>\n",
       "    <tr>\n",
       "      <td>вдовец / вдова</td>\n",
       "      <td>951</td>\n",
       "      <td>6.624606</td>\n",
       "    </tr>\n",
       "    <tr>\n",
       "      <td>гражданский брак</td>\n",
       "      <td>4134</td>\n",
       "      <td>9.313014</td>\n",
       "    </tr>\n",
       "    <tr>\n",
       "      <td>женат / замужем</td>\n",
       "      <td>12261</td>\n",
       "      <td>7.560558</td>\n",
       "    </tr>\n",
       "  </tbody>\n",
       "</table>\n",
       "</div>"
      ],
      "text/plain": [
       "                       count  <lambda>\n",
       "                        debt      debt\n",
       "family_status                         \n",
       "Не женат / не замужем   2796  9.763948\n",
       "в разводе               1189  7.064760\n",
       "вдовец / вдова           951  6.624606\n",
       "гражданский брак        4134  9.313014\n",
       "женат / замужем        12261  7.560558"
      ]
     },
     "execution_count": 14,
     "metadata": {},
     "output_type": "execute_result"
    }
   ],
   "source": [
    "df.pivot_table(index='family_status',\n",
    "               values=['debt'],\n",
    "               aggfunc=['count', (lambda x: np.mean(x)*100)])"
   ]
  },
  {
   "cell_type": "markdown",
   "metadata": {},
   "source": [
    "#### Вывод\n",
    "- Наименьший процент просрочек допускали заемщики категорий \"вдовец/вдова\" и \"в разводе\", 6.6 и 7.1%, соответственно.\n",
    "- Наибольший процент просрочек у заемщиков категорий \"Не женат/не замужем\" и \"гражданский брак\", 9.8 и 9.3%, соответственно."
   ]
  },
  {
   "cell_type": "markdown",
   "metadata": {},
   "source": [
    "#### Есть ли зависимость между уровнем дохода и возвратом кредита в срок?"
   ]
  },
  {
   "cell_type": "code",
   "execution_count": 15,
   "metadata": {},
   "outputs": [
    {
     "data": {
      "text/html": [
       "<div>\n",
       "<style scoped>\n",
       "    .dataframe tbody tr th:only-of-type {\n",
       "        vertical-align: middle;\n",
       "    }\n",
       "\n",
       "    .dataframe tbody tr th {\n",
       "        vertical-align: top;\n",
       "    }\n",
       "\n",
       "    .dataframe thead tr th {\n",
       "        text-align: left;\n",
       "    }\n",
       "\n",
       "    .dataframe thead tr:last-of-type th {\n",
       "        text-align: right;\n",
       "    }\n",
       "</style>\n",
       "<table border=\"1\" class=\"dataframe\">\n",
       "  <thead>\n",
       "    <tr>\n",
       "      <th></th>\n",
       "      <th>count</th>\n",
       "      <th>&lt;lambda&gt;</th>\n",
       "    </tr>\n",
       "    <tr>\n",
       "      <th></th>\n",
       "      <th>debt</th>\n",
       "      <th>debt</th>\n",
       "    </tr>\n",
       "    <tr>\n",
       "      <th>total_income_category</th>\n",
       "      <th></th>\n",
       "      <th></th>\n",
       "    </tr>\n",
       "  </thead>\n",
       "  <tbody>\n",
       "    <tr>\n",
       "      <td>более 200 тыс.</td>\n",
       "      <td>5039</td>\n",
       "      <td>7.064894</td>\n",
       "    </tr>\n",
       "    <tr>\n",
       "      <td>менее 100 тыс.</td>\n",
       "      <td>4444</td>\n",
       "      <td>7.965797</td>\n",
       "    </tr>\n",
       "    <tr>\n",
       "      <td>от 100 до 150 тыс.</td>\n",
       "      <td>7110</td>\n",
       "      <td>8.706048</td>\n",
       "    </tr>\n",
       "    <tr>\n",
       "      <td>от 150 до 200 тыс.</td>\n",
       "      <td>4738</td>\n",
       "      <td>8.505699</td>\n",
       "    </tr>\n",
       "  </tbody>\n",
       "</table>\n",
       "</div>"
      ],
      "text/plain": [
       "                      count  <lambda>\n",
       "                       debt      debt\n",
       "total_income_category                \n",
       "более 200 тыс.         5039  7.064894\n",
       "менее 100 тыс.         4444  7.965797\n",
       "от 100 до 150 тыс.     7110  8.706048\n",
       "от 150 до 200 тыс.     4738  8.505699"
      ]
     },
     "execution_count": 15,
     "metadata": {},
     "output_type": "execute_result"
    }
   ],
   "source": [
    "df.pivot_table(index='total_income_category',\n",
    "               values=['debt'],\n",
    "               aggfunc=['count', (lambda x: np.mean(x)*100)])"
   ]
  },
  {
   "cell_type": "code",
   "execution_count": 16,
   "metadata": {},
   "outputs": [
    {
     "data": {
      "text/plain": [
       "<matplotlib.axes._subplots.AxesSubplot at 0x7f3f1d268e90>"
      ]
     },
     "execution_count": 16,
     "metadata": {},
     "output_type": "execute_result"
    },
    {
     "data": {
      "image/png": "[encoded data removed]",
      "text/plain": [
       "<Figure size 432x288 with 1 Axes>"
      ]
     },
     "metadata": {
      "needs_background": "light"
     },
     "output_type": "display_data"
    }
   ],
   "source": [
    "df.pivot_table(index='total_income_category',\n",
    "               values=['debt'],\n",
    "               aggfunc=[(lambda x: np.mean(x)*100)]).plot(grid=True)"
   ]
  },
  {
   "cell_type": "markdown",
   "metadata": {},
   "source": [
    "##### Вывод\n",
    "- Наибольший процент просрочек в группах с доходом от 100 до 150 тыс (около 8.5%). \n",
    "- Возможно заемщики из этих групп берут кредиты бОльшего размера с более высоким платежом. Целесообразно запросить дополнительные данные и проверить взаимосвязь просрочки по кредиту с его размером и величиной ежемесячного платежа."
   ]
  },
  {
   "cell_type": "markdown",
   "metadata": {},
   "source": [
    "#### Как разные цели кредита влияют на его возврат в срок?"
   ]
  },
  {
   "cell_type": "code",
   "execution_count": 17,
   "metadata": {},
   "outputs": [
    {
     "data": {
      "text/html": [
       "<div>\n",
       "<style scoped>\n",
       "    .dataframe tbody tr th:only-of-type {\n",
       "        vertical-align: middle;\n",
       "    }\n",
       "\n",
       "    .dataframe tbody tr th {\n",
       "        vertical-align: top;\n",
       "    }\n",
       "\n",
       "    .dataframe thead tr th {\n",
       "        text-align: left;\n",
       "    }\n",
       "\n",
       "    .dataframe thead tr:last-of-type th {\n",
       "        text-align: right;\n",
       "    }\n",
       "</style>\n",
       "<table border=\"1\" class=\"dataframe\">\n",
       "  <thead>\n",
       "    <tr>\n",
       "      <th></th>\n",
       "      <th>count</th>\n",
       "      <th>&lt;lambda&gt;</th>\n",
       "    </tr>\n",
       "    <tr>\n",
       "      <th></th>\n",
       "      <th>debt</th>\n",
       "      <th>debt</th>\n",
       "    </tr>\n",
       "    <tr>\n",
       "      <th>purpose_category</th>\n",
       "      <th></th>\n",
       "      <th></th>\n",
       "    </tr>\n",
       "  </thead>\n",
       "  <tbody>\n",
       "    <tr>\n",
       "      <td>автомобиль</td>\n",
       "      <td>4279</td>\n",
       "      <td>9.347978</td>\n",
       "    </tr>\n",
       "    <tr>\n",
       "      <td>жилье</td>\n",
       "      <td>4437</td>\n",
       "      <td>6.941627</td>\n",
       "    </tr>\n",
       "    <tr>\n",
       "      <td>недвижимость</td>\n",
       "      <td>6314</td>\n",
       "      <td>7.475451</td>\n",
       "    </tr>\n",
       "    <tr>\n",
       "      <td>образование</td>\n",
       "      <td>3988</td>\n",
       "      <td>9.252758</td>\n",
       "    </tr>\n",
       "    <tr>\n",
       "      <td>свадьба</td>\n",
       "      <td>2313</td>\n",
       "      <td>7.911803</td>\n",
       "    </tr>\n",
       "  </tbody>\n",
       "</table>\n",
       "</div>"
      ],
      "text/plain": [
       "                 count  <lambda>\n",
       "                  debt      debt\n",
       "purpose_category                \n",
       "автомобиль        4279  9.347978\n",
       "жилье             4437  6.941627\n",
       "недвижимость      6314  7.475451\n",
       "образование       3988  9.252758\n",
       "свадьба           2313  7.911803"
      ]
     },
     "execution_count": 17,
     "metadata": {},
     "output_type": "execute_result"
    }
   ],
   "source": [
    "df.pivot_table(index='purpose_category',\n",
    "               values=['debt'],\n",
    "               aggfunc=['count', (lambda x: np.mean(x)*100)])"
   ]
  },
  {
   "cell_type": "markdown",
   "metadata": {},
   "source": [
    "#### Вывод\n",
    "- наибольший процент просрочки для кредитов взятых на автомобиль (9.4%) и образование (9.3%), \n",
    "- кредиты связанные с жильем и недвижимостью имеют наименьший процент просрочек, 6.9% и 7.5%, соответственно."
   ]
  },
  {
   "cell_type": "markdown",
   "metadata": {},
   "source": [
    "#### Как (в процентах) выплачивают кредит на автомобиль люди с детьми? "
   ]
  },
  {
   "cell_type": "code",
   "execution_count": 18,
   "metadata": {},
   "outputs": [
    {
     "name": "stdout",
     "output_type": "stream",
     "text": [
      "Процент просрочек у заемщиков с детьми и кредитом на автомобиль 10.95%\n",
      "Процент просрочек у заемщиков без детей и кредитом на автомобиль 8.54%\n"
     ]
    }
   ],
   "source": [
    "# процент просрочек у заемщиков с детьми и кредитом на автомобиль\n",
    "v1 = df[(df['purpose_category'] == 'автомобиль') & (df['children'] > 0)]['debt'].mean()\n",
    "print('Процент просрочек у заемщиков с детьми и кредитом на автомобиль {:.2%}'.format(v1))\n",
    "\n",
    "# процент просрочек у заемщиков без детей и кредитом на автомобиль\n",
    "v2 = df[(df['purpose_category'] == 'автомобиль') & (df['children'] == 0)]['debt'].mean()\n",
    "print('Процент просрочек у заемщиков без детей и кредитом на автомобиль {:.2%}'.format(v2))"
   ]
  },
  {
   "cell_type": "code",
   "execution_count": 19,
   "metadata": {},
   "outputs": [
    {
     "data": {
      "text/html": [
       "<div>\n",
       "<style scoped>\n",
       "    .dataframe tbody tr th:only-of-type {\n",
       "        vertical-align: middle;\n",
       "    }\n",
       "\n",
       "    .dataframe tbody tr th {\n",
       "        vertical-align: top;\n",
       "    }\n",
       "\n",
       "    .dataframe thead tr th {\n",
       "        text-align: left;\n",
       "    }\n",
       "\n",
       "    .dataframe thead tr:last-of-type th {\n",
       "        text-align: right;\n",
       "    }\n",
       "</style>\n",
       "<table border=\"1\" class=\"dataframe\">\n",
       "  <thead>\n",
       "    <tr>\n",
       "      <th></th>\n",
       "      <th>count</th>\n",
       "      <th>&lt;lambda&gt;</th>\n",
       "    </tr>\n",
       "    <tr>\n",
       "      <th></th>\n",
       "      <th>debt</th>\n",
       "      <th>debt</th>\n",
       "    </tr>\n",
       "    <tr>\n",
       "      <th>children</th>\n",
       "      <th></th>\n",
       "      <th></th>\n",
       "    </tr>\n",
       "  </thead>\n",
       "  <tbody>\n",
       "    <tr>\n",
       "      <td>0</td>\n",
       "      <td>2845</td>\n",
       "      <td>8.541301</td>\n",
       "    </tr>\n",
       "    <tr>\n",
       "      <td>1</td>\n",
       "      <td>963</td>\n",
       "      <td>10.695742</td>\n",
       "    </tr>\n",
       "    <tr>\n",
       "      <td>2</td>\n",
       "      <td>399</td>\n",
       "      <td>12.030075</td>\n",
       "    </tr>\n",
       "    <tr>\n",
       "      <td>3</td>\n",
       "      <td>60</td>\n",
       "      <td>8.333333</td>\n",
       "    </tr>\n",
       "    <tr>\n",
       "      <td>4</td>\n",
       "      <td>10</td>\n",
       "      <td>10.000000</td>\n",
       "    </tr>\n",
       "    <tr>\n",
       "      <td>5</td>\n",
       "      <td>2</td>\n",
       "      <td>0.000000</td>\n",
       "    </tr>\n",
       "  </tbody>\n",
       "</table>\n",
       "</div>"
      ],
      "text/plain": [
       "         count   <lambda>\n",
       "          debt       debt\n",
       "children                 \n",
       "0         2845   8.541301\n",
       "1          963  10.695742\n",
       "2          399  12.030075\n",
       "3           60   8.333333\n",
       "4           10  10.000000\n",
       "5            2   0.000000"
      ]
     },
     "execution_count": 19,
     "metadata": {},
     "output_type": "execute_result"
    }
   ],
   "source": [
    "df_auto = df[df['purpose_category'] == 'автомобиль'] \n",
    "# более подробное влияние количества детей среди кредитов на автомобиль\n",
    "df_auto.pivot_table(index='children',\n",
    "               values=['debt'],\n",
    "               aggfunc=['count', (lambda x: np.mean(x)*100)])"
   ]
  },
  {
   "cell_type": "markdown",
   "metadata": {},
   "source": [
    "#### Вывод\n",
    "- среди кредитов на автомобиль больший процент просрочек имеют заемщики с детьми (10.95%), чем заемщики без детей (8.54%)"
   ]
  },
  {
   "cell_type": "code",
   "execution_count": 20,
   "metadata": {},
   "outputs": [
    {
     "data": {
      "text/html": [
       "<div>\n",
       "<style scoped>\n",
       "    .dataframe tbody tr th:only-of-type {\n",
       "        vertical-align: middle;\n",
       "    }\n",
       "\n",
       "    .dataframe tbody tr th {\n",
       "        vertical-align: top;\n",
       "    }\n",
       "\n",
       "    .dataframe thead th {\n",
       "        text-align: right;\n",
       "    }\n",
       "</style>\n",
       "<table border=\"1\" class=\"dataframe\">\n",
       "  <thead>\n",
       "    <tr style=\"text-align: right;\">\n",
       "      <th>purpose_category</th>\n",
       "      <th>автомобиль</th>\n",
       "      <th>жилье</th>\n",
       "      <th>недвижимость</th>\n",
       "      <th>образование</th>\n",
       "      <th>свадьба</th>\n",
       "    </tr>\n",
       "    <tr>\n",
       "      <th>children</th>\n",
       "      <th></th>\n",
       "      <th></th>\n",
       "      <th></th>\n",
       "      <th></th>\n",
       "      <th></th>\n",
       "    </tr>\n",
       "  </thead>\n",
       "  <tbody>\n",
       "    <tr>\n",
       "      <td>0</td>\n",
       "      <td>0.085413</td>\n",
       "      <td>0.066184</td>\n",
       "      <td>0.068057</td>\n",
       "      <td>0.086677</td>\n",
       "      <td>0.075163</td>\n",
       "    </tr>\n",
       "    <tr>\n",
       "      <td>1</td>\n",
       "      <td>0.106957</td>\n",
       "      <td>0.070450</td>\n",
       "      <td>0.089825</td>\n",
       "      <td>0.103926</td>\n",
       "      <td>0.095865</td>\n",
       "    </tr>\n",
       "    <tr>\n",
       "      <td>2</td>\n",
       "      <td>0.120301</td>\n",
       "      <td>0.084112</td>\n",
       "      <td>0.085667</td>\n",
       "      <td>0.114144</td>\n",
       "      <td>0.055814</td>\n",
       "    </tr>\n",
       "    <tr>\n",
       "      <td>3</td>\n",
       "      <td>0.083333</td>\n",
       "      <td>0.082192</td>\n",
       "      <td>0.072917</td>\n",
       "      <td>0.057971</td>\n",
       "      <td>0.156250</td>\n",
       "    </tr>\n",
       "    <tr>\n",
       "      <td>4</td>\n",
       "      <td>0.100000</td>\n",
       "      <td>0.181818</td>\n",
       "      <td>0.100000</td>\n",
       "      <td>0.000000</td>\n",
       "      <td>0.000000</td>\n",
       "    </tr>\n",
       "    <tr>\n",
       "      <td>5</td>\n",
       "      <td>0.000000</td>\n",
       "      <td>0.000000</td>\n",
       "      <td>0.000000</td>\n",
       "      <td>0.000000</td>\n",
       "      <td>0.000000</td>\n",
       "    </tr>\n",
       "  </tbody>\n",
       "</table>\n",
       "</div>"
      ],
      "text/plain": [
       "purpose_category  автомобиль     жилье  недвижимость  образование   свадьба\n",
       "children                                                                   \n",
       "0                   0.085413  0.066184      0.068057     0.086677  0.075163\n",
       "1                   0.106957  0.070450      0.089825     0.103926  0.095865\n",
       "2                   0.120301  0.084112      0.085667     0.114144  0.055814\n",
       "3                   0.083333  0.082192      0.072917     0.057971  0.156250\n",
       "4                   0.100000  0.181818      0.100000     0.000000  0.000000\n",
       "5                   0.000000  0.000000      0.000000     0.000000  0.000000"
      ]
     },
     "execution_count": 20,
     "metadata": {},
     "output_type": "execute_result"
    }
   ],
   "source": [
    "df.pivot_table(index='children',\n",
    "               columns='purpose_category',\n",
    "               values='debt',\n",
    "               aggfunc='mean')"
   ]
  },
  {
   "cell_type": "markdown",
   "metadata": {},
   "source": [
    "### Шаг 4. Общий вывод"
   ]
  },
  {
   "cell_type": "markdown",
   "metadata": {},
   "source": [
    "Самый малый риск просрочек платежа несут заемщики без детей из категорий \"вдовец/вдова\" и \"в разводе\" с доходом более 200 тысяч рублей в месяц, берущие кредит на сделку с недвижостью.\n",
    "\n",
    "Наиболее рискованными являются заемщки имеющие детей, находящиеся в гражданском браке или холостые, с доходом от 100 до 200 тыс, берущие кредит для покупки автомобиля."
   ]
  }
 ],
 "metadata": {
  "kernelspec": {
   "display_name": "Python 3",
   "language": "python",
   "name": "python3"
  },
  "language_info": {
   "codemirror_mode": {
    "name": "ipython",
    "version": 3
   },
   "file_extension": ".py",
   "mimetype": "text/x-python",
   "name": "python",
   "nbconvert_exporter": "python",
   "pygments_lexer": "ipython3",
   "version": "3.7.6"
  }
 },
 "nbformat": 4,
 "nbformat_minor": 2
}
