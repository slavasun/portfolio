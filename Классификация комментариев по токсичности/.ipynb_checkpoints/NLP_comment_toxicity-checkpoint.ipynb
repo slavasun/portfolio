{
 "cells": [
  {
   "cell_type": "markdown",
   "metadata": {},
   "source": [
    "# Модель для классификации комментариев для интернет-магазина \"Викишоп\""
   ]
  },
  {
   "cell_type": "markdown",
   "metadata": {},
   "source": [
    "Интернет-магазин «Викишоп» запускает новый сервис. Теперь пользователи могут редактировать и дополнять описания товаров, как в вики-сообществах. То есть клиенты предлагают свои правки и комментируют изменения других. Магазину нужен инструмент, который будет искать токсичные комментарии и отправлять их на модерацию. В вашем распоряжении набор данных с разметкой о токсичности правок.\n",
    "\n",
    "**Цель** - обучить модель классифицировать комментарии на позитивные и негативные. Построить модель со значением метрики качества F1 не меньше 0.75."
   ]
  },
  {
   "cell_type": "markdown",
   "metadata": {},
   "source": [
    "# Предобработка"
   ]
  },
  {
   "cell_type": "code",
   "execution_count": 3,
   "metadata": {},
   "outputs": [
    {
     "name": "stderr",
     "output_type": "stream",
     "text": [
      "[nltk_data] Downloading package punkt to\n",
      "[nltk_data]     C:\\Users\\Slava\\AppData\\Roaming\\nltk_data...\n",
      "[nltk_data]   Package punkt is already up-to-date!\n",
      "[nltk_data] Downloading package wordnet to\n",
      "[nltk_data]     C:\\Users\\Slava\\AppData\\Roaming\\nltk_data...\n",
      "[nltk_data]   Package wordnet is already up-to-date!\n",
      "[nltk_data] Downloading package stopwords to\n",
      "[nltk_data]     C:\\Users\\Slava\\AppData\\Roaming\\nltk_data...\n",
      "[nltk_data]   Package stopwords is already up-to-date!\n"
     ]
    }
   ],
   "source": [
    "import pandas as pd\n",
    "import numpy as np\n",
    "import matplotlib.pyplot as plt\n",
    "plt.rc('xtick',labelsize=16)\n",
    "plt.rc('ytick',labelsize=16)\n",
    "import seaborn as sns\n",
    "sns.set_style('darkgrid')\n",
    "sns.set_palette('muted')\n",
    "import nltk\n",
    "nltk.download('punkt')\n",
    "nltk.download('wordnet')\n",
    "nltk.download('stopwords')\n",
    "from nltk.stem import WordNetLemmatizer\n",
    "from nltk.corpus import stopwords as nltk_stopwords\n",
    "\n",
    "import re\n",
    "\n",
    "from sklearn.feature_extraction.text import TfidfVectorizer\n",
    "from sklearn.ensemble import RandomForestClassifier\n",
    "from sklearn.linear_model import LogisticRegression\n",
    "from sklearn.metrics import f1_score, confusion_matrix\n",
    "from sklearn.metrics import roc_auc_score, roc_curve\n",
    "from sklearn.model_selection import train_test_split\n",
    "\n",
    "import itertools # для демонстрации случайных элементов из объекта типа set"
   ]
  },
  {
   "cell_type": "markdown",
   "metadata": {},
   "source": [
    "## Загрузка и подготовка данных\n",
    "Столбец `text` в нём содержит текст комментария, а `toxic` — целевой признак."
   ]
  },
  {
   "cell_type": "markdown",
   "metadata": {},
   "source": [
    "Загрузим данные:"
   ]
  },
  {
   "cell_type": "code",
   "execution_count": 4,
   "metadata": {},
   "outputs": [
    {
     "name": "stdout",
     "output_type": "stream",
     "text": [
      "<class 'pandas.core.frame.DataFrame'>\n",
      "RangeIndex: 159571 entries, 0 to 159570\n",
      "Data columns (total 2 columns):\n",
      " #   Column  Non-Null Count   Dtype \n",
      "---  ------  --------------   ----- \n",
      " 0   text    159571 non-null  object\n",
      " 1   toxic   159571 non-null  int64 \n",
      "dtypes: int64(1), object(1)\n",
      "memory usage: 2.4+ MB\n"
     ]
    }
   ],
   "source": [
    "path = ''\n",
    "df = pd.read_csv(path + 'toxic_comments.csv')\n",
    "df.info()"
   ]
  },
  {
   "cell_type": "markdown",
   "metadata": {},
   "source": [
    "Проверим на дубликаты на всякий случай:"
   ]
  },
  {
   "cell_type": "code",
   "execution_count": 5,
   "metadata": {},
   "outputs": [
    {
     "data": {
      "text/plain": [
       "0"
      ]
     },
     "execution_count": 5,
     "metadata": {},
     "output_type": "execute_result"
    }
   ],
   "source": [
    "df.duplicated().sum()"
   ]
  },
  {
   "cell_type": "markdown",
   "metadata": {},
   "source": [
    "Проверим баланс классов:"
   ]
  },
  {
   "cell_type": "code",
   "execution_count": 6,
   "metadata": {},
   "outputs": [
    {
     "data": {
      "text/plain": [
       "0    0.898321\n",
       "1    0.101679\n",
       "Name: toxic, dtype: float64"
      ]
     },
     "execution_count": 6,
     "metadata": {},
     "output_type": "execute_result"
    },
    {
     "data": {
      "image/png": "[encoded data removed]",
      "text/plain": [
       "<Figure size 432x288 with 1 Axes>"
      ]
     },
     "metadata": {},
     "output_type": "display_data"
    }
   ],
   "source": [
    "sns.countplot(df['toxic'])\n",
    "df['toxic'].value_counts(normalize=True)"
   ]
  },
  {
   "cell_type": "code",
   "execution_count": 7,
   "metadata": {},
   "outputs": [
    {
     "data": {
      "text/html": [
       "<div>\n",
       "<style scoped>\n",
       "    .dataframe tbody tr th:only-of-type {\n",
       "        vertical-align: middle;\n",
       "    }\n",
       "\n",
       "    .dataframe tbody tr th {\n",
       "        vertical-align: top;\n",
       "    }\n",
       "\n",
       "    .dataframe thead th {\n",
       "        text-align: right;\n",
       "    }\n",
       "</style>\n",
       "<table border=\"1\" class=\"dataframe\">\n",
       "  <thead>\n",
       "    <tr style=\"text-align: right;\">\n",
       "      <th></th>\n",
       "      <th>text</th>\n",
       "      <th>toxic</th>\n",
       "    </tr>\n",
       "  </thead>\n",
       "  <tbody>\n",
       "    <tr>\n",
       "      <th>78759</th>\n",
       "      <td>You been cryin Tasc0? Bout time they BLOCKED y...</td>\n",
       "      <td>1</td>\n",
       "    </tr>\n",
       "    <tr>\n",
       "      <th>31798</th>\n",
       "      <td>\"\\n\\n Admin \\n\\n\"\"I saw you were made admin an...</td>\n",
       "      <td>1</td>\n",
       "    </tr>\n",
       "    <tr>\n",
       "      <th>107592</th>\n",
       "      <td>JzG\\n\\nWrong is still wrong, the circumstances...</td>\n",
       "      <td>1</td>\n",
       "    </tr>\n",
       "    <tr>\n",
       "      <th>109206</th>\n",
       "      <td>\"\\n\\nOk, now I really don't understand you. Yo...</td>\n",
       "      <td>1</td>\n",
       "    </tr>\n",
       "    <tr>\n",
       "      <th>66741</th>\n",
       "      <td>==ChrisO Internet Vandal and Criminal==\\nChris...</td>\n",
       "      <td>1</td>\n",
       "    </tr>\n",
       "  </tbody>\n",
       "</table>\n",
       "</div>"
      ],
      "text/plain": [
       "                                                     text  toxic\n",
       "78759   You been cryin Tasc0? Bout time they BLOCKED y...      1\n",
       "31798   \"\\n\\n Admin \\n\\n\"\"I saw you were made admin an...      1\n",
       "107592  JzG\\n\\nWrong is still wrong, the circumstances...      1\n",
       "109206  \"\\n\\nOk, now I really don't understand you. Yo...      1\n",
       "66741   ==ChrisO Internet Vandal and Criminal==\\nChris...      1"
      ]
     },
     "execution_count": 7,
     "metadata": {},
     "output_type": "execute_result"
    }
   ],
   "source": [
    "df.query('toxic == 1').sample(5)"
   ]
  },
  {
   "cell_type": "markdown",
   "metadata": {},
   "source": [
    "**По этому этапу можно сказать, что пропусков и дубликатов в датафрейме нет. Также нет и баланса классов, почти 90% комментариев нетоксичные, остальные 10% весьма toxic (отдельный привет Britney Spears =)**"
   ]
  },
  {
   "cell_type": "markdown",
   "metadata": {},
   "source": [
    "## Чистка текста"
   ]
  },
  {
   "cell_type": "code",
   "execution_count": 8,
   "metadata": {},
   "outputs": [],
   "source": [
    "def clear_text(text):\n",
    "    \"\"\"Оставляет только латинские буквы, очищая текст от цифр и \n",
    "    служебных символов типа \\n \"\"\"\n",
    "    text = text.lower()\n",
    "    # все что не текст или кавычка в тексте (например I'm) заменяем на пробел\n",
    "    clear_text = re.sub(r'[^a-zA-z]', ' ', text) \n",
    "    clear_text = clear_text.split()\n",
    "    clear_text = ' '.join(clear_text)\n",
    "    return clear_text"
   ]
  },
  {
   "cell_type": "code",
   "execution_count": 9,
   "metadata": {
    "scrolled": true
   },
   "outputs": [
    {
     "data": {
      "text/html": [
       "<div>\n",
       "<style scoped>\n",
       "    .dataframe tbody tr th:only-of-type {\n",
       "        vertical-align: middle;\n",
       "    }\n",
       "\n",
       "    .dataframe tbody tr th {\n",
       "        vertical-align: top;\n",
       "    }\n",
       "\n",
       "    .dataframe thead th {\n",
       "        text-align: right;\n",
       "    }\n",
       "</style>\n",
       "<table border=\"1\" class=\"dataframe\">\n",
       "  <thead>\n",
       "    <tr style=\"text-align: right;\">\n",
       "      <th></th>\n",
       "      <th>text</th>\n",
       "      <th>toxic</th>\n",
       "      <th>text_cleared</th>\n",
       "    </tr>\n",
       "  </thead>\n",
       "  <tbody>\n",
       "    <tr>\n",
       "      <th>0</th>\n",
       "      <td>Explanation\\nWhy the edits made under my usern...</td>\n",
       "      <td>0</td>\n",
       "      <td>explanation why the edits made under my userna...</td>\n",
       "    </tr>\n",
       "    <tr>\n",
       "      <th>1</th>\n",
       "      <td>D'aww! He matches this background colour I'm s...</td>\n",
       "      <td>0</td>\n",
       "      <td>d aww he matches this background colour i m se...</td>\n",
       "    </tr>\n",
       "    <tr>\n",
       "      <th>2</th>\n",
       "      <td>Hey man, I'm really not trying to edit war. It...</td>\n",
       "      <td>0</td>\n",
       "      <td>hey man i m really not trying to edit war it s...</td>\n",
       "    </tr>\n",
       "    <tr>\n",
       "      <th>3</th>\n",
       "      <td>\"\\nMore\\nI can't make any real suggestions on ...</td>\n",
       "      <td>0</td>\n",
       "      <td>more i can t make any real suggestions on impr...</td>\n",
       "    </tr>\n",
       "    <tr>\n",
       "      <th>4</th>\n",
       "      <td>You, sir, are my hero. Any chance you remember...</td>\n",
       "      <td>0</td>\n",
       "      <td>you sir are my hero any chance you remember wh...</td>\n",
       "    </tr>\n",
       "    <tr>\n",
       "      <th>5</th>\n",
       "      <td>\"\\n\\nCongratulations from me as well, use the ...</td>\n",
       "      <td>0</td>\n",
       "      <td>congratulations from me as well use the tools ...</td>\n",
       "    </tr>\n",
       "    <tr>\n",
       "      <th>6</th>\n",
       "      <td>COCKSUCKER BEFORE YOU PISS AROUND ON MY WORK</td>\n",
       "      <td>1</td>\n",
       "      <td>cocksucker before you piss around on my work</td>\n",
       "    </tr>\n",
       "    <tr>\n",
       "      <th>7</th>\n",
       "      <td>Your vandalism to the Matt Shirvington article...</td>\n",
       "      <td>0</td>\n",
       "      <td>your vandalism to the matt shirvington article...</td>\n",
       "    </tr>\n",
       "    <tr>\n",
       "      <th>8</th>\n",
       "      <td>Sorry if the word 'nonsense' was offensive to ...</td>\n",
       "      <td>0</td>\n",
       "      <td>sorry if the word nonsense was offensive to yo...</td>\n",
       "    </tr>\n",
       "    <tr>\n",
       "      <th>9</th>\n",
       "      <td>alignment on this subject and which are contra...</td>\n",
       "      <td>0</td>\n",
       "      <td>alignment on this subject and which are contra...</td>\n",
       "    </tr>\n",
       "  </tbody>\n",
       "</table>\n",
       "</div>"
      ],
      "text/plain": [
       "                                                text  toxic  \\\n",
       "0  Explanation\\nWhy the edits made under my usern...      0   \n",
       "1  D'aww! He matches this background colour I'm s...      0   \n",
       "2  Hey man, I'm really not trying to edit war. It...      0   \n",
       "3  \"\\nMore\\nI can't make any real suggestions on ...      0   \n",
       "4  You, sir, are my hero. Any chance you remember...      0   \n",
       "5  \"\\n\\nCongratulations from me as well, use the ...      0   \n",
       "6       COCKSUCKER BEFORE YOU PISS AROUND ON MY WORK      1   \n",
       "7  Your vandalism to the Matt Shirvington article...      0   \n",
       "8  Sorry if the word 'nonsense' was offensive to ...      0   \n",
       "9  alignment on this subject and which are contra...      0   \n",
       "\n",
       "                                        text_cleared  \n",
       "0  explanation why the edits made under my userna...  \n",
       "1  d aww he matches this background colour i m se...  \n",
       "2  hey man i m really not trying to edit war it s...  \n",
       "3  more i can t make any real suggestions on impr...  \n",
       "4  you sir are my hero any chance you remember wh...  \n",
       "5  congratulations from me as well use the tools ...  \n",
       "6       cocksucker before you piss around on my work  \n",
       "7  your vandalism to the matt shirvington article...  \n",
       "8  sorry if the word nonsense was offensive to yo...  \n",
       "9  alignment on this subject and which are contra...  "
      ]
     },
     "execution_count": 9,
     "metadata": {},
     "output_type": "execute_result"
    }
   ],
   "source": [
    "df['text_cleared'] = df['text'].apply(clear_text)\n",
    "df.head(10)"
   ]
  },
  {
   "cell_type": "markdown",
   "metadata": {},
   "source": [
    "## Лемматизация\n",
    "\n",
    "Применим лемматизацию для английского языка, как это сделать [инфу брал здесь](https://webdevblog.ru/podhody-lemmatizacii-s-primerami-v-python/). Сначала инициализируем Wordnet Lemmatizer:"
   ]
  },
  {
   "cell_type": "code",
   "execution_count": 10,
   "metadata": {},
   "outputs": [],
   "source": [
    "lemmatizer = WordNetLemmatizer()"
   ]
  },
  {
   "cell_type": "markdown",
   "metadata": {},
   "source": [
    "Разобъем преложение на слова с помощью nltk.word_tokenize, а затем каждое слово лемматизируем:"
   ]
  },
  {
   "cell_type": "code",
   "execution_count": 11,
   "metadata": {},
   "outputs": [],
   "source": [
    "def lemmatize(text):\n",
    "    \"\"\"Возвращает строку из лемм исходных слов\"\"\"\n",
    "    word_list = nltk.word_tokenize(text)\n",
    "    lemmatized_output = ' '.join(\n",
    "                            [lemmatizer.lemmatize(word) for word in word_list])\n",
    "    return lemmatized_output"
   ]
  },
  {
   "cell_type": "code",
   "execution_count": 12,
   "metadata": {
    "scrolled": true
   },
   "outputs": [
    {
     "name": "stdout",
     "output_type": "stream",
     "text": [
      "Wall time: 1min 38s\n"
     ]
    }
   ],
   "source": [
    "%%time\n",
    "df['text_lemm'] = df['text_cleared'].apply(lemmatize)"
   ]
  },
  {
   "cell_type": "markdown",
   "metadata": {},
   "source": [
    "Разделим на обучающую и тестовую выборки в пропорции 70:30%. Здесь почему-то странно, используя `stratify=df['toxic']`, метрика получалась на 0.2-0.4 хуже, поэтому убрал."
   ]
  },
  {
   "cell_type": "code",
   "execution_count": 13,
   "metadata": {},
   "outputs": [],
   "source": [
    "X_train, X_test, y_train, y_test = train_test_split(df['text_lemm'], \n",
    "                                                    df['toxic'],\n",
    "                                                    test_size=0.30,\n",
    "                                                    random_state=123)"
   ]
  },
  {
   "cell_type": "markdown",
   "metadata": {},
   "source": [
    "Создадим корпус комментариев, используем кодировку Unicode:"
   ]
  },
  {
   "cell_type": "code",
   "execution_count": 14,
   "metadata": {},
   "outputs": [
    {
     "name": "stdout",
     "output_type": "stream",
     "text": [
      "Длина обучающего корпуса: 111699\n",
      "Длина тестового корпуса: 47872\n"
     ]
    }
   ],
   "source": [
    "corpus_train = X_train.values.astype('U')\n",
    "corpus_test = X_test.values.astype('U')\n",
    "\n",
    "print(\"Длина обучающего корпуса:\", len(corpus_train))\n",
    "print(\"Длина тестового корпуса:\", len(corpus_test))"
   ]
  },
  {
   "cell_type": "markdown",
   "metadata": {},
   "source": [
    "# Обучение"
   ]
  },
  {
   "cell_type": "code",
   "execution_count": 15,
   "metadata": {},
   "outputs": [],
   "source": [
    "def my_lr_model(X_train, y_train, \n",
    "                X_test, y_test, \n",
    "                class_weight):\n",
    "    \"\"\"Задает алгоритм логистической регрессии с возможностью взвесить классы и\n",
    "    разными значениями порога threshold, а также отображает график f1 и auc метрик.\"\"\"\n",
    "    threshold_list = []\n",
    "    f1_score_list = []\n",
    "    roc_auc_list = []\n",
    "    # сделаем прогноз с разными порогами\n",
    "    for threshold in np.arange(0, 1, 0.05):\n",
    "        lr_model = LogisticRegression(random_state=12345,\n",
    "                                      solver='liblinear', \n",
    "                                      class_weight=class_weight)\n",
    "        lr_model.fit(X_train, y_train)\n",
    "        # воспользуемся уже обученной моделью, чтобы определить вероятности для \"0\" и \"1\"\n",
    "        proba_test = lr_model.predict_proba(X_test)\n",
    "        # вероятности для класса \"1\"\n",
    "        proba_1_test = proba_test[:, 1]\n",
    "        # откорректируем прогноз по порогу   \n",
    "        predict_test = np.where(proba_1_test > threshold, 1, 0)\n",
    "        f1 = f1_score(y_test, predict_test)\n",
    "        roc_auc = roc_auc_score(y_test, proba_1_test)\n",
    "        # сохраним значения метрик \n",
    "        threshold_list.append(threshold)\n",
    "        f1_score_list.append(f1)\n",
    "        roc_auc_list.append(roc_auc)\n",
    "        lr_model_result = pd.DataFrame({'threshold':threshold_list, \n",
    "                                       'f1_value':f1_score_list, \n",
    "                                       'roc_auc_value':roc_auc_list})\n",
    "        \n",
    "    # посмотрим графически\n",
    "    ax = lr_model_result.plot(x=\"threshold\", y=\"f1_value\", legend=False, \n",
    "                              marker='.', linestyle='', color='b')\n",
    "    ax2 = ax.twinx()\n",
    "    lr_model_result.plot(x=\"threshold\", y=\"roc_auc_value\", ax=ax2, legend=False,\n",
    "                         marker='.', linestyle='-', color='g')\n",
    "    ax.figure.legend(loc='center', fontsize=16)\n",
    "    plt.show()\n",
    "    \n",
    "    display(lr_model_result\n",
    "     .sort_values(by='f1_value', ascending=False)\n",
    "     .head(10)\n",
    "     .style\n",
    "     .format('{:.3f}', subset=['f1_value', 'roc_auc_value'])\n",
    "     .highlight_max(subset=['f1_value', 'roc_auc_value'])\n",
    "    )"
   ]
  },
  {
   "cell_type": "markdown",
   "metadata": {},
   "source": [
    "## TF-IDF без N-грамм"
   ]
  },
  {
   "cell_type": "markdown",
   "metadata": {},
   "source": [
    "Подгрузим английский стоп-слова (слова не несущие смысловой нагрузки):"
   ]
  },
  {
   "cell_type": "code",
   "execution_count": 16,
   "metadata": {},
   "outputs": [],
   "source": [
    "stopwords = set(nltk_stopwords.words('english'))"
   ]
  },
  {
   "cell_type": "markdown",
   "metadata": {},
   "source": [
    "Пример 20 английских стоп-слов:"
   ]
  },
  {
   "cell_type": "code",
   "execution_count": 17,
   "metadata": {
    "scrolled": true
   },
   "outputs": [
    {
     "name": "stdout",
     "output_type": "stream",
     "text": [
      "{'won', 'wouldn', \"that'll\", 'or', 'to', 'isn', 'did', 'wasn', 'under', 've', 'who', \"wasn't\", 'theirs', 'same', 'my', 'between', 'their', 's', 'off', 'you'}"
     ]
    }
   ],
   "source": [
    "print(set(itertools.islice(stopwords, 20)), end='')"
   ]
  },
  {
   "cell_type": "markdown",
   "metadata": {},
   "source": [
    "Создадим счётчик, указав в нем стоп-слова:"
   ]
  },
  {
   "cell_type": "code",
   "execution_count": 18,
   "metadata": {},
   "outputs": [],
   "source": [
    "count_tf_idf = TfidfVectorizer(stop_words=stopwords)"
   ]
  },
  {
   "cell_type": "markdown",
   "metadata": {},
   "source": [
    "Вычислим TF-IDF для имеющегося корпуса текстов, полученные матрицы `tf_idf` далее используем как матрицы-признаков:"
   ]
  },
  {
   "cell_type": "code",
   "execution_count": 19,
   "metadata": {},
   "outputs": [
    {
     "name": "stdout",
     "output_type": "stream",
     "text": [
      "Wall time: 9.89 s\n"
     ]
    }
   ],
   "source": [
    "%%time\n",
    "tf_idf_train = count_tf_idf.fit_transform(corpus_train) # fit только на обучающей!\n",
    "tf_idf_test = count_tf_idf.transform(corpus_test)"
   ]
  },
  {
   "cell_type": "code",
   "execution_count": 20,
   "metadata": {},
   "outputs": [
    {
     "name": "stdout",
     "output_type": "stream",
     "text": [
      "Размер матрицы признаков: (111699, 130833)\n",
      "Размер целевой переменной: (111699,)\n"
     ]
    }
   ],
   "source": [
    "print(\"Размер матрицы признаков:\", tf_idf_train.shape)\n",
    "print(\"Размер целевой переменной:\", y_train.shape)"
   ]
  },
  {
   "cell_type": "code",
   "execution_count": 21,
   "metadata": {
    "scrolled": true
   },
   "outputs": [
    {
     "name": "stdout",
     "output_type": "stream",
     "text": [
      "Размер матрицы признаков: (47872, 130833)\n",
      "Размер целевой переменной: (47872,)\n"
     ]
    }
   ],
   "source": [
    "print(\"Размер матрицы признаков:\", tf_idf_test.shape)\n",
    "print(\"Размер целевой переменной:\", y_test.shape)"
   ]
  },
  {
   "cell_type": "markdown",
   "metadata": {},
   "source": [
    "Посмотрим на признаки-токены:"
   ]
  },
  {
   "cell_type": "code",
   "execution_count": 22,
   "metadata": {},
   "outputs": [
    {
     "data": {
      "text/html": [
       "<div>\n",
       "<style scoped>\n",
       "    .dataframe tbody tr th:only-of-type {\n",
       "        vertical-align: middle;\n",
       "    }\n",
       "\n",
       "    .dataframe tbody tr th {\n",
       "        vertical-align: top;\n",
       "    }\n",
       "\n",
       "    .dataframe thead th {\n",
       "        text-align: right;\n",
       "    }\n",
       "</style>\n",
       "<table border=\"1\" class=\"dataframe\">\n",
       "  <thead>\n",
       "    <tr style=\"text-align: right;\">\n",
       "      <th></th>\n",
       "      <th>feature_number</th>\n",
       "    </tr>\n",
       "  </thead>\n",
       "  <tbody>\n",
       "    <tr>\n",
       "      <th>__</th>\n",
       "      <td>0</td>\n",
       "    </tr>\n",
       "    <tr>\n",
       "      <th>___</th>\n",
       "      <td>1</td>\n",
       "    </tr>\n",
       "    <tr>\n",
       "      <th>____</th>\n",
       "      <td>2</td>\n",
       "    </tr>\n",
       "    <tr>\n",
       "      <th>_____</th>\n",
       "      <td>3</td>\n",
       "    </tr>\n",
       "    <tr>\n",
       "      <th>______</th>\n",
       "      <td>4</td>\n",
       "    </tr>\n",
       "    <tr>\n",
       "      <th>...</th>\n",
       "      <td>...</td>\n",
       "    </tr>\n",
       "    <tr>\n",
       "      <th>zzzzzzz</th>\n",
       "      <td>130828</td>\n",
       "    </tr>\n",
       "    <tr>\n",
       "      <th>zzzzzzzzzzzzzzzzz</th>\n",
       "      <td>130829</td>\n",
       "    </tr>\n",
       "    <tr>\n",
       "      <th>zzzzzzzzzzzzzzzzzzzzz</th>\n",
       "      <td>130830</td>\n",
       "    </tr>\n",
       "    <tr>\n",
       "      <th>zzzzzzzzzzzzzzzzzzzzzzzzzzzzzz</th>\n",
       "      <td>130831</td>\n",
       "    </tr>\n",
       "    <tr>\n",
       "      <th>zzzzzzzzzzzzzzzzzzzzzzzzzzzzzzzzzzzzzzzzzzzzzzzzzzzzzzzzz</th>\n",
       "      <td>130832</td>\n",
       "    </tr>\n",
       "  </tbody>\n",
       "</table>\n",
       "<p>130833 rows × 1 columns</p>\n",
       "</div>"
      ],
      "text/plain": [
       "                                                    feature_number\n",
       "__                                                               0\n",
       "___                                                              1\n",
       "____                                                             2\n",
       "_____                                                            3\n",
       "______                                                           4\n",
       "...                                                            ...\n",
       "zzzzzzz                                                     130828\n",
       "zzzzzzzzzzzzzzzzz                                           130829\n",
       "zzzzzzzzzzzzzzzzzzzzz                                       130830\n",
       "zzzzzzzzzzzzzzzzzzzzzzzzzzzzzz                              130831\n",
       "zzzzzzzzzzzzzzzzzzzzzzzzzzzzzzzzzzzzzzzzzzzzzzz...          130832\n",
       "\n",
       "[130833 rows x 1 columns]"
      ]
     },
     "execution_count": 22,
     "metadata": {},
     "output_type": "execute_result"
    }
   ],
   "source": [
    "feature_dict = count_tf_idf.vocabulary_\n",
    "\n",
    "feature_dict = (pd.DataFrame.from_dict(feature_dict, \n",
    "                                      orient='index', \n",
    "                                      columns=['feature_number'])\n",
    "                            .sort_values(by='feature_number')\n",
    "               )\n",
    "feature_dict"
   ]
  },
  {
   "cell_type": "markdown",
   "metadata": {},
   "source": [
    "Много бредовых токенов, для них хорошо бы провести второй раунд очистки, но пока попробуем запилить модель как есть =)\n",
    "\n",
    "Пример комментариев, содержащих такие бредовые токены:"
   ]
  },
  {
   "cell_type": "code",
   "execution_count": 23,
   "metadata": {
    "scrolled": false
   },
   "outputs": [
    {
     "data": {
      "text/html": [
       "<div>\n",
       "<style scoped>\n",
       "    .dataframe tbody tr th:only-of-type {\n",
       "        vertical-align: middle;\n",
       "    }\n",
       "\n",
       "    .dataframe tbody tr th {\n",
       "        vertical-align: top;\n",
       "    }\n",
       "\n",
       "    .dataframe thead th {\n",
       "        text-align: right;\n",
       "    }\n",
       "</style>\n",
       "<table border=\"1\" class=\"dataframe\">\n",
       "  <thead>\n",
       "    <tr style=\"text-align: right;\">\n",
       "      <th></th>\n",
       "      <th>text</th>\n",
       "      <th>toxic</th>\n",
       "      <th>text_cleared</th>\n",
       "      <th>text_lemm</th>\n",
       "    </tr>\n",
       "  </thead>\n",
       "  <tbody>\n",
       "    <tr>\n",
       "      <th>14885</th>\n",
       "      <td>Aargh - it's past 1 AM here and I need to be u...</td>\n",
       "      <td>1</td>\n",
       "      <td>aargh it s past am here and i need to be up in...</td>\n",
       "      <td>aargh it s past am here and i need to be up in...</td>\n",
       "    </tr>\n",
       "    <tr>\n",
       "      <th>16051</th>\n",
       "      <td>Zzzzzzz... youre a real bore. Now go bore some...</td>\n",
       "      <td>1</td>\n",
       "      <td>zzzzzzz youre a real bore now go bore someone ...</td>\n",
       "      <td>zzzzzzz youre a real bore now go bore someone ...</td>\n",
       "    </tr>\n",
       "    <tr>\n",
       "      <th>18938</th>\n",
       "      <td>\"\\nZZzzzzzzzzzzzzzzzzzzzzzzzzzzzz.  Thompsma.....</td>\n",
       "      <td>0</td>\n",
       "      <td>zzzzzzzzzzzzzzzzzzzzzzzzzzzzzz thompsma appare...</td>\n",
       "      <td>zzzzzzzzzzzzzzzzzzzzzzzzzzzzzz thompsma appare...</td>\n",
       "    </tr>\n",
       "    <tr>\n",
       "      <th>22439</th>\n",
       "      <td>WOOOOOOOOOOOOOOOOOOOOOOOOOOOOOOOOOOOOOOOOOOOO!...</td>\n",
       "      <td>1</td>\n",
       "      <td>woooooooooooooooooooooooooooooooooooooooooooo ...</td>\n",
       "      <td>woooooooooooooooooooooooooooooooooooooooooooo ...</td>\n",
       "    </tr>\n",
       "    <tr>\n",
       "      <th>48406</th>\n",
       "      <td>remove images \\n\\nplzzzzzzzzzzzzzzzzz remove t...</td>\n",
       "      <td>0</td>\n",
       "      <td>remove images plzzzzzzzzzzzzzzzzz remove those...</td>\n",
       "      <td>remove image plzzzzzzzzzzzzzzzzz remove those ...</td>\n",
       "    </tr>\n",
       "    <tr>\n",
       "      <th>52222</th>\n",
       "      <td>(That'll show 'em)\\n\\nBwa ha ha ha ha ha ha!\\n...</td>\n",
       "      <td>0</td>\n",
       "      <td>that ll show em bwa ha ha ha ha ha ha tee hee ...</td>\n",
       "      <td>that ll show em bwa ha ha ha ha ha ha tee hee ...</td>\n",
       "    </tr>\n",
       "    <tr>\n",
       "      <th>61424</th>\n",
       "      <td>(YAAAWN)\\nhuh?\\nwhat me?\\n\\noh fuck off you du...</td>\n",
       "      <td>1</td>\n",
       "      <td>yaaawn huh what me oh fuck off you dumb cunt y...</td>\n",
       "      <td>yaaawn huh what me oh fuck off you dumb cunt y...</td>\n",
       "    </tr>\n",
       "    <tr>\n",
       "      <th>62418</th>\n",
       "      <td>i did a project on this subject... boring zzzz...</td>\n",
       "      <td>0</td>\n",
       "      <td>i did a project on this subject boring zzzzzzz...</td>\n",
       "      <td>i did a project on this subject boring zzzzzzz...</td>\n",
       "    </tr>\n",
       "    <tr>\n",
       "      <th>74753</th>\n",
       "      <td>Dont Change It!!!! zzzzzzzzzzzzzzzzzzzzzzzzzzz...</td>\n",
       "      <td>0</td>\n",
       "      <td>dont change it zzzzzzzzzzzzzzzzzzzzzzzzzzzzzzz...</td>\n",
       "      <td>dont change it zzzzzzzzzzzzzzzzzzzzzzzzzzzzzzz...</td>\n",
       "    </tr>\n",
       "    <tr>\n",
       "      <th>77336</th>\n",
       "      <td>wazzzzzzzzzz up how 2 get 2 the pŘarkSuperscri...</td>\n",
       "      <td>0</td>\n",
       "      <td>wazzzzzzzzzz up how get the p arksuperscript text</td>\n",
       "      <td>wazzzzzzzzzz up how get the p arksuperscript text</td>\n",
       "    </tr>\n",
       "    <tr>\n",
       "      <th>128062</th>\n",
       "      <td>\"\\n\\n File:B0000DZ6KE.03. SS500 SCLZZZZZZZ .jp...</td>\n",
       "      <td>0</td>\n",
       "      <td>file b dz ke ss sclzzzzzzz jpg listed for dele...</td>\n",
       "      <td>file b dz ke s sclzzzzzzz jpg listed for delet...</td>\n",
       "    </tr>\n",
       "    <tr>\n",
       "      <th>152277</th>\n",
       "      <td>NAZI NAZI RACIST RASCISTARIACIAITIARACISTRACIS...</td>\n",
       "      <td>1</td>\n",
       "      <td>nazi nazi racist rascistariaciaitiaracistracis...</td>\n",
       "      <td>nazi nazi racist rascistariaciaitiaracistracis...</td>\n",
       "    </tr>\n",
       "  </tbody>\n",
       "</table>\n",
       "</div>"
      ],
      "text/plain": [
       "                                                     text  toxic  \\\n",
       "14885   Aargh - it's past 1 AM here and I need to be u...      1   \n",
       "16051   Zzzzzzz... youre a real bore. Now go bore some...      1   \n",
       "18938   \"\\nZZzzzzzzzzzzzzzzzzzzzzzzzzzzzz.  Thompsma.....      0   \n",
       "22439   WOOOOOOOOOOOOOOOOOOOOOOOOOOOOOOOOOOOOOOOOOOOO!...      1   \n",
       "48406   remove images \\n\\nplzzzzzzzzzzzzzzzzz remove t...      0   \n",
       "52222   (That'll show 'em)\\n\\nBwa ha ha ha ha ha ha!\\n...      0   \n",
       "61424   (YAAAWN)\\nhuh?\\nwhat me?\\n\\noh fuck off you du...      1   \n",
       "62418   i did a project on this subject... boring zzzz...      0   \n",
       "74753   Dont Change It!!!! zzzzzzzzzzzzzzzzzzzzzzzzzzz...      0   \n",
       "77336   wazzzzzzzzzz up how 2 get 2 the pŘarkSuperscri...      0   \n",
       "128062  \"\\n\\n File:B0000DZ6KE.03. SS500 SCLZZZZZZZ .jp...      0   \n",
       "152277  NAZI NAZI RACIST RASCISTARIACIAITIARACISTRACIS...      1   \n",
       "\n",
       "                                             text_cleared  \\\n",
       "14885   aargh it s past am here and i need to be up in...   \n",
       "16051   zzzzzzz youre a real bore now go bore someone ...   \n",
       "18938   zzzzzzzzzzzzzzzzzzzzzzzzzzzzzz thompsma appare...   \n",
       "22439   woooooooooooooooooooooooooooooooooooooooooooo ...   \n",
       "48406   remove images plzzzzzzzzzzzzzzzzz remove those...   \n",
       "52222   that ll show em bwa ha ha ha ha ha ha tee hee ...   \n",
       "61424   yaaawn huh what me oh fuck off you dumb cunt y...   \n",
       "62418   i did a project on this subject boring zzzzzzz...   \n",
       "74753   dont change it zzzzzzzzzzzzzzzzzzzzzzzzzzzzzzz...   \n",
       "77336   wazzzzzzzzzz up how get the p arksuperscript text   \n",
       "128062  file b dz ke ss sclzzzzzzz jpg listed for dele...   \n",
       "152277  nazi nazi racist rascistariaciaitiaracistracis...   \n",
       "\n",
       "                                                text_lemm  \n",
       "14885   aargh it s past am here and i need to be up in...  \n",
       "16051   zzzzzzz youre a real bore now go bore someone ...  \n",
       "18938   zzzzzzzzzzzzzzzzzzzzzzzzzzzzzz thompsma appare...  \n",
       "22439   woooooooooooooooooooooooooooooooooooooooooooo ...  \n",
       "48406   remove image plzzzzzzzzzzzzzzzzz remove those ...  \n",
       "52222   that ll show em bwa ha ha ha ha ha ha tee hee ...  \n",
       "61424   yaaawn huh what me oh fuck off you dumb cunt y...  \n",
       "62418   i did a project on this subject boring zzzzzzz...  \n",
       "74753   dont change it zzzzzzzzzzzzzzzzzzzzzzzzzzzzzzz...  \n",
       "77336   wazzzzzzzzzz up how get the p arksuperscript text  \n",
       "128062  file b dz ke s sclzzzzzzz jpg listed for delet...  \n",
       "152277  nazi nazi racist rascistariaciaitiaracistracis...  "
      ]
     },
     "execution_count": 23,
     "metadata": {},
     "output_type": "execute_result"
    }
   ],
   "source": [
    "df[df['text_lemm'].str.contains('zzzzzzz')]"
   ]
  },
  {
   "cell_type": "markdown",
   "metadata": {},
   "source": [
    "Обучаем и тестируем модель:"
   ]
  },
  {
   "cell_type": "code",
   "execution_count": 24,
   "metadata": {},
   "outputs": [
    {
     "data": {
      "image/png": "[encoded data removed]",
      "text/plain": [
       "<Figure size 432x288 with 2 Axes>"
      ]
     },
     "metadata": {},
     "output_type": "display_data"
    },
    {
     "data": {
      "text/html": [
       "<style  type=\"text/css\" >\n",
       "    #T_3941204d_436d_11eb_baa9_a8a1590dbef8row0_col1 {\n",
       "            background-color:  yellow;\n",
       "        }    #T_3941204d_436d_11eb_baa9_a8a1590dbef8row0_col2 {\n",
       "            background-color:  yellow;\n",
       "        }    #T_3941204d_436d_11eb_baa9_a8a1590dbef8row1_col2 {\n",
       "            background-color:  yellow;\n",
       "        }    #T_3941204d_436d_11eb_baa9_a8a1590dbef8row2_col2 {\n",
       "            background-color:  yellow;\n",
       "        }    #T_3941204d_436d_11eb_baa9_a8a1590dbef8row3_col2 {\n",
       "            background-color:  yellow;\n",
       "        }    #T_3941204d_436d_11eb_baa9_a8a1590dbef8row4_col2 {\n",
       "            background-color:  yellow;\n",
       "        }    #T_3941204d_436d_11eb_baa9_a8a1590dbef8row5_col2 {\n",
       "            background-color:  yellow;\n",
       "        }    #T_3941204d_436d_11eb_baa9_a8a1590dbef8row6_col2 {\n",
       "            background-color:  yellow;\n",
       "        }    #T_3941204d_436d_11eb_baa9_a8a1590dbef8row7_col2 {\n",
       "            background-color:  yellow;\n",
       "        }    #T_3941204d_436d_11eb_baa9_a8a1590dbef8row8_col2 {\n",
       "            background-color:  yellow;\n",
       "        }    #T_3941204d_436d_11eb_baa9_a8a1590dbef8row9_col2 {\n",
       "            background-color:  yellow;\n",
       "        }</style><table id=\"T_3941204d_436d_11eb_baa9_a8a1590dbef8\" ><thead>    <tr>        <th class=\"blank level0\" ></th>        <th class=\"col_heading level0 col0\" >threshold</th>        <th class=\"col_heading level0 col1\" >f1_value</th>        <th class=\"col_heading level0 col2\" >roc_auc_value</th>    </tr></thead><tbody>\n",
       "                <tr>\n",
       "                        <th id=\"T_3941204d_436d_11eb_baa9_a8a1590dbef8level0_row0\" class=\"row_heading level0 row0\" >5</th>\n",
       "                        <td id=\"T_3941204d_436d_11eb_baa9_a8a1590dbef8row0_col0\" class=\"data row0 col0\" >0.250000</td>\n",
       "                        <td id=\"T_3941204d_436d_11eb_baa9_a8a1590dbef8row0_col1\" class=\"data row0 col1\" >0.782</td>\n",
       "                        <td id=\"T_3941204d_436d_11eb_baa9_a8a1590dbef8row0_col2\" class=\"data row0 col2\" >0.969</td>\n",
       "            </tr>\n",
       "            <tr>\n",
       "                        <th id=\"T_3941204d_436d_11eb_baa9_a8a1590dbef8level0_row1\" class=\"row_heading level0 row1\" >6</th>\n",
       "                        <td id=\"T_3941204d_436d_11eb_baa9_a8a1590dbef8row1_col0\" class=\"data row1 col0\" >0.300000</td>\n",
       "                        <td id=\"T_3941204d_436d_11eb_baa9_a8a1590dbef8row1_col1\" class=\"data row1 col1\" >0.779</td>\n",
       "                        <td id=\"T_3941204d_436d_11eb_baa9_a8a1590dbef8row1_col2\" class=\"data row1 col2\" >0.969</td>\n",
       "            </tr>\n",
       "            <tr>\n",
       "                        <th id=\"T_3941204d_436d_11eb_baa9_a8a1590dbef8level0_row2\" class=\"row_heading level0 row2\" >4</th>\n",
       "                        <td id=\"T_3941204d_436d_11eb_baa9_a8a1590dbef8row2_col0\" class=\"data row2 col0\" >0.200000</td>\n",
       "                        <td id=\"T_3941204d_436d_11eb_baa9_a8a1590dbef8row2_col1\" class=\"data row2 col1\" >0.774</td>\n",
       "                        <td id=\"T_3941204d_436d_11eb_baa9_a8a1590dbef8row2_col2\" class=\"data row2 col2\" >0.969</td>\n",
       "            </tr>\n",
       "            <tr>\n",
       "                        <th id=\"T_3941204d_436d_11eb_baa9_a8a1590dbef8level0_row3\" class=\"row_heading level0 row3\" >7</th>\n",
       "                        <td id=\"T_3941204d_436d_11eb_baa9_a8a1590dbef8row3_col0\" class=\"data row3 col0\" >0.350000</td>\n",
       "                        <td id=\"T_3941204d_436d_11eb_baa9_a8a1590dbef8row3_col1\" class=\"data row3 col1\" >0.771</td>\n",
       "                        <td id=\"T_3941204d_436d_11eb_baa9_a8a1590dbef8row3_col2\" class=\"data row3 col2\" >0.969</td>\n",
       "            </tr>\n",
       "            <tr>\n",
       "                        <th id=\"T_3941204d_436d_11eb_baa9_a8a1590dbef8level0_row4\" class=\"row_heading level0 row4\" >8</th>\n",
       "                        <td id=\"T_3941204d_436d_11eb_baa9_a8a1590dbef8row4_col0\" class=\"data row4 col0\" >0.400000</td>\n",
       "                        <td id=\"T_3941204d_436d_11eb_baa9_a8a1590dbef8row4_col1\" class=\"data row4 col1\" >0.761</td>\n",
       "                        <td id=\"T_3941204d_436d_11eb_baa9_a8a1590dbef8row4_col2\" class=\"data row4 col2\" >0.969</td>\n",
       "            </tr>\n",
       "            <tr>\n",
       "                        <th id=\"T_3941204d_436d_11eb_baa9_a8a1590dbef8level0_row5\" class=\"row_heading level0 row5\" >3</th>\n",
       "                        <td id=\"T_3941204d_436d_11eb_baa9_a8a1590dbef8row5_col0\" class=\"data row5 col0\" >0.150000</td>\n",
       "                        <td id=\"T_3941204d_436d_11eb_baa9_a8a1590dbef8row5_col1\" class=\"data row5 col1\" >0.746</td>\n",
       "                        <td id=\"T_3941204d_436d_11eb_baa9_a8a1590dbef8row5_col2\" class=\"data row5 col2\" >0.969</td>\n",
       "            </tr>\n",
       "            <tr>\n",
       "                        <th id=\"T_3941204d_436d_11eb_baa9_a8a1590dbef8level0_row6\" class=\"row_heading level0 row6\" >9</th>\n",
       "                        <td id=\"T_3941204d_436d_11eb_baa9_a8a1590dbef8row6_col0\" class=\"data row6 col0\" >0.450000</td>\n",
       "                        <td id=\"T_3941204d_436d_11eb_baa9_a8a1590dbef8row6_col1\" class=\"data row6 col1\" >0.746</td>\n",
       "                        <td id=\"T_3941204d_436d_11eb_baa9_a8a1590dbef8row6_col2\" class=\"data row6 col2\" >0.969</td>\n",
       "            </tr>\n",
       "            <tr>\n",
       "                        <th id=\"T_3941204d_436d_11eb_baa9_a8a1590dbef8level0_row7\" class=\"row_heading level0 row7\" >10</th>\n",
       "                        <td id=\"T_3941204d_436d_11eb_baa9_a8a1590dbef8row7_col0\" class=\"data row7 col0\" >0.500000</td>\n",
       "                        <td id=\"T_3941204d_436d_11eb_baa9_a8a1590dbef8row7_col1\" class=\"data row7 col1\" >0.733</td>\n",
       "                        <td id=\"T_3941204d_436d_11eb_baa9_a8a1590dbef8row7_col2\" class=\"data row7 col2\" >0.969</td>\n",
       "            </tr>\n",
       "            <tr>\n",
       "                        <th id=\"T_3941204d_436d_11eb_baa9_a8a1590dbef8level0_row8\" class=\"row_heading level0 row8\" >11</th>\n",
       "                        <td id=\"T_3941204d_436d_11eb_baa9_a8a1590dbef8row8_col0\" class=\"data row8 col0\" >0.550000</td>\n",
       "                        <td id=\"T_3941204d_436d_11eb_baa9_a8a1590dbef8row8_col1\" class=\"data row8 col1\" >0.720</td>\n",
       "                        <td id=\"T_3941204d_436d_11eb_baa9_a8a1590dbef8row8_col2\" class=\"data row8 col2\" >0.969</td>\n",
       "            </tr>\n",
       "            <tr>\n",
       "                        <th id=\"T_3941204d_436d_11eb_baa9_a8a1590dbef8level0_row9\" class=\"row_heading level0 row9\" >12</th>\n",
       "                        <td id=\"T_3941204d_436d_11eb_baa9_a8a1590dbef8row9_col0\" class=\"data row9 col0\" >0.600000</td>\n",
       "                        <td id=\"T_3941204d_436d_11eb_baa9_a8a1590dbef8row9_col1\" class=\"data row9 col1\" >0.704</td>\n",
       "                        <td id=\"T_3941204d_436d_11eb_baa9_a8a1590dbef8row9_col2\" class=\"data row9 col2\" >0.969</td>\n",
       "            </tr>\n",
       "    </tbody></table>"
      ],
      "text/plain": [
       "<pandas.io.formats.style.Styler at 0x289939687f0>"
      ]
     },
     "metadata": {},
     "output_type": "display_data"
    },
    {
     "name": "stdout",
     "output_type": "stream",
     "text": [
      "Wall time: 20.6 s\n"
     ]
    }
   ],
   "source": [
    "%%time\n",
    "my_lr_model(tf_idf_train, y_train, \n",
    "            tf_idf_test, y_test, \n",
    "            class_weight=None)"
   ]
  },
  {
   "cell_type": "markdown",
   "metadata": {},
   "source": [
    "**С помощью логистической регрессии на базе TF-IDF признаков при базовом пороге в 0.5 получаем F1-метрику 0.73, что не дотягивает до требуемых 0.75. При подборе порога наилучший результат достигается F1-метрики в 0.78 достигается при threshold равным 0.25. Т.е. на модерацию пойдет большее число комментариев, но зато меньше вероятность, что токсичный коммент будет висеть на странице магазина.**\n",
    "\n",
    "**Здесь, конечно, нужен искать баланс вдруг модераторы не справятся с таким количеством комментриев, и тогда можно немного пожертвовать качеством модели, поставить порог повыше при этом не опускаясь ниже F1-метрики в 0.75.**"
   ]
  },
  {
   "cell_type": "markdown",
   "metadata": {},
   "source": [
    "## TF-IDF с N-граммами\n",
    "Попробуем TF-IDF и его N-граммы."
   ]
  },
  {
   "cell_type": "code",
   "execution_count": 25,
   "metadata": {},
   "outputs": [],
   "source": [
    "count_tf_idf = TfidfVectorizer(stop_words=stopwords, ngram_range=(1,2))"
   ]
  },
  {
   "cell_type": "code",
   "execution_count": 26,
   "metadata": {},
   "outputs": [
    {
     "name": "stdout",
     "output_type": "stream",
     "text": [
      "Wall time: 25.3 s\n"
     ]
    }
   ],
   "source": [
    "%%time\n",
    "tf_idf_train = count_tf_idf.fit_transform(corpus_train) # fit только на обучающей!\n",
    "tf_idf_test = count_tf_idf.transform(corpus_test)"
   ]
  },
  {
   "cell_type": "code",
   "execution_count": 27,
   "metadata": {},
   "outputs": [
    {
     "data": {
      "image/png": "[encoded data removed]",
      "text/plain": [
       "<Figure size 432x288 with 2 Axes>"
      ]
     },
     "metadata": {},
     "output_type": "display_data"
    },
    {
     "data": {
      "text/html": [
       "<style  type=\"text/css\" >\n",
       "    #T_75ca5129_436d_11eb_a362_a8a1590dbef8row0_col1 {\n",
       "            background-color:  yellow;\n",
       "        }    #T_75ca5129_436d_11eb_a362_a8a1590dbef8row0_col2 {\n",
       "            background-color:  yellow;\n",
       "        }    #T_75ca5129_436d_11eb_a362_a8a1590dbef8row1_col2 {\n",
       "            background-color:  yellow;\n",
       "        }    #T_75ca5129_436d_11eb_a362_a8a1590dbef8row2_col2 {\n",
       "            background-color:  yellow;\n",
       "        }    #T_75ca5129_436d_11eb_a362_a8a1590dbef8row3_col2 {\n",
       "            background-color:  yellow;\n",
       "        }    #T_75ca5129_436d_11eb_a362_a8a1590dbef8row4_col2 {\n",
       "            background-color:  yellow;\n",
       "        }    #T_75ca5129_436d_11eb_a362_a8a1590dbef8row5_col2 {\n",
       "            background-color:  yellow;\n",
       "        }    #T_75ca5129_436d_11eb_a362_a8a1590dbef8row6_col2 {\n",
       "            background-color:  yellow;\n",
       "        }    #T_75ca5129_436d_11eb_a362_a8a1590dbef8row7_col2 {\n",
       "            background-color:  yellow;\n",
       "        }    #T_75ca5129_436d_11eb_a362_a8a1590dbef8row8_col2 {\n",
       "            background-color:  yellow;\n",
       "        }    #T_75ca5129_436d_11eb_a362_a8a1590dbef8row9_col2 {\n",
       "            background-color:  yellow;\n",
       "        }</style><table id=\"T_75ca5129_436d_11eb_a362_a8a1590dbef8\" ><thead>    <tr>        <th class=\"blank level0\" ></th>        <th class=\"col_heading level0 col0\" >threshold</th>        <th class=\"col_heading level0 col1\" >f1_value</th>        <th class=\"col_heading level0 col2\" >roc_auc_value</th>    </tr></thead><tbody>\n",
       "                <tr>\n",
       "                        <th id=\"T_75ca5129_436d_11eb_a362_a8a1590dbef8level0_row0\" class=\"row_heading level0 row0\" >5</th>\n",
       "                        <td id=\"T_75ca5129_436d_11eb_a362_a8a1590dbef8row0_col0\" class=\"data row0 col0\" >0.250000</td>\n",
       "                        <td id=\"T_75ca5129_436d_11eb_a362_a8a1590dbef8row0_col1\" class=\"data row0 col1\" >0.769</td>\n",
       "                        <td id=\"T_75ca5129_436d_11eb_a362_a8a1590dbef8row0_col2\" class=\"data row0 col2\" >0.965</td>\n",
       "            </tr>\n",
       "            <tr>\n",
       "                        <th id=\"T_75ca5129_436d_11eb_a362_a8a1590dbef8level0_row1\" class=\"row_heading level0 row1\" >6</th>\n",
       "                        <td id=\"T_75ca5129_436d_11eb_a362_a8a1590dbef8row1_col0\" class=\"data row1 col0\" >0.300000</td>\n",
       "                        <td id=\"T_75ca5129_436d_11eb_a362_a8a1590dbef8row1_col1\" class=\"data row1 col1\" >0.767</td>\n",
       "                        <td id=\"T_75ca5129_436d_11eb_a362_a8a1590dbef8row1_col2\" class=\"data row1 col2\" >0.965</td>\n",
       "            </tr>\n",
       "            <tr>\n",
       "                        <th id=\"T_75ca5129_436d_11eb_a362_a8a1590dbef8level0_row2\" class=\"row_heading level0 row2\" >7</th>\n",
       "                        <td id=\"T_75ca5129_436d_11eb_a362_a8a1590dbef8row2_col0\" class=\"data row2 col0\" >0.350000</td>\n",
       "                        <td id=\"T_75ca5129_436d_11eb_a362_a8a1590dbef8row2_col1\" class=\"data row2 col1\" >0.758</td>\n",
       "                        <td id=\"T_75ca5129_436d_11eb_a362_a8a1590dbef8row2_col2\" class=\"data row2 col2\" >0.965</td>\n",
       "            </tr>\n",
       "            <tr>\n",
       "                        <th id=\"T_75ca5129_436d_11eb_a362_a8a1590dbef8level0_row3\" class=\"row_heading level0 row3\" >4</th>\n",
       "                        <td id=\"T_75ca5129_436d_11eb_a362_a8a1590dbef8row3_col0\" class=\"data row3 col0\" >0.200000</td>\n",
       "                        <td id=\"T_75ca5129_436d_11eb_a362_a8a1590dbef8row3_col1\" class=\"data row3 col1\" >0.756</td>\n",
       "                        <td id=\"T_75ca5129_436d_11eb_a362_a8a1590dbef8row3_col2\" class=\"data row3 col2\" >0.965</td>\n",
       "            </tr>\n",
       "            <tr>\n",
       "                        <th id=\"T_75ca5129_436d_11eb_a362_a8a1590dbef8level0_row4\" class=\"row_heading level0 row4\" >8</th>\n",
       "                        <td id=\"T_75ca5129_436d_11eb_a362_a8a1590dbef8row4_col0\" class=\"data row4 col0\" >0.400000</td>\n",
       "                        <td id=\"T_75ca5129_436d_11eb_a362_a8a1590dbef8row4_col1\" class=\"data row4 col1\" >0.745</td>\n",
       "                        <td id=\"T_75ca5129_436d_11eb_a362_a8a1590dbef8row4_col2\" class=\"data row4 col2\" >0.965</td>\n",
       "            </tr>\n",
       "            <tr>\n",
       "                        <th id=\"T_75ca5129_436d_11eb_a362_a8a1590dbef8level0_row5\" class=\"row_heading level0 row5\" >9</th>\n",
       "                        <td id=\"T_75ca5129_436d_11eb_a362_a8a1590dbef8row5_col0\" class=\"data row5 col0\" >0.450000</td>\n",
       "                        <td id=\"T_75ca5129_436d_11eb_a362_a8a1590dbef8row5_col1\" class=\"data row5 col1\" >0.729</td>\n",
       "                        <td id=\"T_75ca5129_436d_11eb_a362_a8a1590dbef8row5_col2\" class=\"data row5 col2\" >0.965</td>\n",
       "            </tr>\n",
       "            <tr>\n",
       "                        <th id=\"T_75ca5129_436d_11eb_a362_a8a1590dbef8level0_row6\" class=\"row_heading level0 row6\" >3</th>\n",
       "                        <td id=\"T_75ca5129_436d_11eb_a362_a8a1590dbef8row6_col0\" class=\"data row6 col0\" >0.150000</td>\n",
       "                        <td id=\"T_75ca5129_436d_11eb_a362_a8a1590dbef8row6_col1\" class=\"data row6 col1\" >0.721</td>\n",
       "                        <td id=\"T_75ca5129_436d_11eb_a362_a8a1590dbef8row6_col2\" class=\"data row6 col2\" >0.965</td>\n",
       "            </tr>\n",
       "            <tr>\n",
       "                        <th id=\"T_75ca5129_436d_11eb_a362_a8a1590dbef8level0_row7\" class=\"row_heading level0 row7\" >10</th>\n",
       "                        <td id=\"T_75ca5129_436d_11eb_a362_a8a1590dbef8row7_col0\" class=\"data row7 col0\" >0.500000</td>\n",
       "                        <td id=\"T_75ca5129_436d_11eb_a362_a8a1590dbef8row7_col1\" class=\"data row7 col1\" >0.708</td>\n",
       "                        <td id=\"T_75ca5129_436d_11eb_a362_a8a1590dbef8row7_col2\" class=\"data row7 col2\" >0.965</td>\n",
       "            </tr>\n",
       "            <tr>\n",
       "                        <th id=\"T_75ca5129_436d_11eb_a362_a8a1590dbef8level0_row8\" class=\"row_heading level0 row8\" >11</th>\n",
       "                        <td id=\"T_75ca5129_436d_11eb_a362_a8a1590dbef8row8_col0\" class=\"data row8 col0\" >0.550000</td>\n",
       "                        <td id=\"T_75ca5129_436d_11eb_a362_a8a1590dbef8row8_col1\" class=\"data row8 col1\" >0.686</td>\n",
       "                        <td id=\"T_75ca5129_436d_11eb_a362_a8a1590dbef8row8_col2\" class=\"data row8 col2\" >0.965</td>\n",
       "            </tr>\n",
       "            <tr>\n",
       "                        <th id=\"T_75ca5129_436d_11eb_a362_a8a1590dbef8level0_row9\" class=\"row_heading level0 row9\" >12</th>\n",
       "                        <td id=\"T_75ca5129_436d_11eb_a362_a8a1590dbef8row9_col0\" class=\"data row9 col0\" >0.600000</td>\n",
       "                        <td id=\"T_75ca5129_436d_11eb_a362_a8a1590dbef8row9_col1\" class=\"data row9 col1\" >0.662</td>\n",
       "                        <td id=\"T_75ca5129_436d_11eb_a362_a8a1590dbef8row9_col2\" class=\"data row9 col2\" >0.965</td>\n",
       "            </tr>\n",
       "    </tbody></table>"
      ],
      "text/plain": [
       "<pandas.io.formats.style.Styler at 0x2899ef46bb0>"
      ]
     },
     "metadata": {},
     "output_type": "display_data"
    },
    {
     "name": "stdout",
     "output_type": "stream",
     "text": [
      "Wall time: 1min 16s\n"
     ]
    }
   ],
   "source": [
    "%%time\n",
    "my_lr_model(tf_idf_train, y_train, \n",
    "            tf_idf_test, y_test, \n",
    "            class_weight=None)"
   ]
  },
  {
   "cell_type": "markdown",
   "metadata": {},
   "source": [
    "**Для логистической регрессии на базе TF-IDF и N-грамм при аналогичном пороге в 0.25 имеем качество модели F1 равным 0.77.**\n",
    "\n",
    "**Т.е. чуть хуже и при этом модель учится ~ в 4 раза дольше (для моего компа без N-грамм заняло 21 секунду, с N-граммами - 76 секунд).**"
   ]
  },
  {
   "cell_type": "markdown",
   "metadata": {},
   "source": [
    "# SGDClassifier\n",
    "<font color=blue> Градиентый спуск попробовал ради интереса, еще попробую его улучшить как [описано здесь](https://towardsdatascience.com/how-to-make-sgd-classifier-perform-as-well-as-logistic-regression-using-parfit-cc10bca2d3c4) </font>"
   ]
  },
  {
   "cell_type": "code",
   "execution_count": 41,
   "metadata": {},
   "outputs": [],
   "source": [
    "from sklearn.linear_model import SGDClassifier\n",
    "from sklearn.preprocessing import StandardScaler\n",
    "from sklearn.pipeline import make_pipeline"
   ]
  },
  {
   "cell_type": "code",
   "execution_count": 66,
   "metadata": {},
   "outputs": [],
   "source": [
    "clf = make_pipeline(StandardScaler(with_mean=False), \n",
    "                    SGDClassifier(max_iter=1000, loss='log', penalty='l2',\n",
    "                                 alpha=0.0001, shuffle=True))"
   ]
  },
  {
   "cell_type": "code",
   "execution_count": 67,
   "metadata": {},
   "outputs": [
    {
     "name": "stdout",
     "output_type": "stream",
     "text": [
      "Значение F1-метрики 0.48\n",
      "Wall time: 3.15 s\n"
     ]
    }
   ],
   "source": [
    "%%time\n",
    "clf.fit(tf_idf_train, y_train)\n",
    "\n",
    "predict_test = clf.predict(tf_idf_test)\n",
    "print('Значение F1-метрики {:.2f}'.format(f1_score(y_test, predict_test)))"
   ]
  },
  {
   "cell_type": "markdown",
   "metadata": {},
   "source": [
    "Очень плохая музыка - [я думал гораздо лучше будет](https://www.youtube.com/watch?v=_LhDRHRq-Es) =)"
   ]
  },
  {
   "cell_type": "markdown",
   "metadata": {},
   "source": [
    "# Выводы"
   ]
  },
  {
   "cell_type": "markdown",
   "metadata": {},
   "source": [
    "Итого результаты по качеству как F1-метрики следующие:\n",
    "\n",
    "| Модель | Значение F1 | Примечание |\n",
    "|:-|-:|-:|\n",
    "| TF-IDF <br /> без N-грамм | 0.78 | при пороге 0.25 |\n",
    "| TF-IDF <br /> с N-граммами| 0.77 | при пороге 0.25  |\n",
    "\n",
    "Обучение занимает довольно продолжительное время, поэтому еще можно  провести дополнительную очистку, удалить с помощью регулярных выражений всякие '----', повторения букв более двух подряд и т.п.\n",
    "Также можно попробовать применить техники upsampling или downsampling для выравнивания баланса классов."
   ]
  },
  {
   "cell_type": "markdown",
   "metadata": {},
   "source": [
    "Ссылка для себя: [оформление таблиц в markdown](https://www.pluralsight.com/guides/working-tables-github-markdown)"
   ]
  }
 ],
 "metadata": {
  "kernelspec": {
   "display_name": "Python 3",
   "language": "python",
   "name": "python3"
  },
  "language_info": {
   "codemirror_mode": {
    "name": "ipython",
    "version": 3
   },
   "file_extension": ".py",
   "mimetype": "text/x-python",
   "name": "python",
   "nbconvert_exporter": "python",
   "pygments_lexer": "ipython3",
   "version": "3.8.3"
  },
  "toc": {
   "base_numbering": 1,
   "nav_menu": {},
   "number_sections": true,
   "sideBar": true,
   "skip_h1_title": false,
   "title_cell": "Table of Contents",
   "title_sidebar": "Contents",
   "toc_cell": false,
   "toc_position": {},
   "toc_section_display": true,
   "toc_window_display": false
  },
  "varInspector": {
   "cols": {
    "lenName": 16,
    "lenType": 16,
    "lenVar": 40
   },
   "kernels_config": {
    "python": {
     "delete_cmd_postfix": "",
     "delete_cmd_prefix": "del ",
     "library": "var_list.py",
     "varRefreshCmd": "print(var_dic_list())"
    },
    "r": {
     "delete_cmd_postfix": ") ",
     "delete_cmd_prefix": "rm(",
     "library": "var_list.r",
     "varRefreshCmd": "cat(var_dic_list()) "
    }
   },
   "types_to_exclude": [
    "module",
    "function",
    "builtin_function_or_method",
    "instance",
    "_Feature"
   ],
   "window_display": false
  }
 },
 "nbformat": 4,
 "nbformat_minor": 4
}
