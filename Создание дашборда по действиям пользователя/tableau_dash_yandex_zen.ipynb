{
 "cells": [
  {
   "cell_type": "code",
   "execution_count": 39,
   "metadata": {},
   "outputs": [
    {
     "name": "stdout",
     "output_type": "stream",
     "text": [
      "          item_topic source_topic age_segment                  dt  visits\n",
      "record_id                                                                \n",
      "1040597       Деньги         Авто       18-25 2019-09-24 18:32:00       3\n",
      "1040598       Деньги         Авто       18-25 2019-09-24 18:35:00       1\n",
      "1040599       Деньги         Авто       18-25 2019-09-24 18:54:00       4\n",
      "1040600       Деньги         Авто       18-25 2019-09-24 18:55:00      17\n",
      "1040601       Деньги         Авто       18-25 2019-09-24 18:56:00      27\n"
     ]
    }
   ],
   "source": [
    "# импортируем библиотеки\n",
    "import pandas as pd\n",
    "from sqlalchemy import create_engine\n",
    "\n",
    "# Задаём параметры подключения к БД\n",
    "db_config = {'user': 'praktikum_student',         # имя пользователя\n",
    "             'pwd': 'Sdf4$2;d-d30pp', # пароль\n",
    "             'host': 'rc1b-wcoijxj3yxfsf3fs.mdb.yandexcloud.net',\n",
    "             'port': 6432,              # порт подключения\n",
    "             'db': 'data-analyst-zen-project-db'}          # название базы данных\n",
    "\n",
    "# Формируем строку соединения с БД\n",
    "connection_string = 'postgresql://{}:{}@{}:{}/{}'.format(db_config['user'],\n",
    "                                                        db_config['pwd'],\n",
    "                                                        db_config['host'],\n",
    "                                                        db_config['port'],\n",
    "                                                        db_config['db'])\n",
    "\n",
    "# Подключаемся к БД\n",
    "engine = create_engine(connection_string)\n",
    "\n",
    "# Формируем sql-запрос.\n",
    "query = '''SELECT * \n",
    "            FROM dash_visits\n",
    "        '''\n",
    "\n",
    "# Выполняем запрос и сохраняем результат выполнения в DataFrame\n",
    "data_raw = pd.io.sql.read_sql(query, con = engine, index_col = 'record_id')\n",
    "\n",
    "print(data_raw.head(5))"
   ]
  },
  {
   "cell_type": "code",
   "execution_count": 40,
   "metadata": {},
   "outputs": [],
   "source": [
    "# Выгружаем в CSV файл для Tableau\n",
    "data_raw.to_csv('dash_visits.csv', encoding='cp1251', sep=',')"
   ]
  },
  {
   "cell_type": "code",
   "execution_count": 41,
   "metadata": {},
   "outputs": [
    {
     "data": {
      "text/plain": [
       "count                   30745\n",
       "unique                     17\n",
       "top       2019-09-24 18:58:00\n",
       "freq                     3383\n",
       "first     2019-09-24 18:28:00\n",
       "last      2019-09-24 19:00:00\n",
       "Name: dt, dtype: object"
      ]
     },
     "execution_count": 41,
     "metadata": {},
     "output_type": "execute_result"
    }
   ],
   "source": [
    "data_raw['dt'].describe()"
   ]
  },
  {
   "cell_type": "code",
   "execution_count": 38,
   "metadata": {},
   "outputs": [
    {
     "name": "stdout",
     "output_type": "stream",
     "text": [
      "   event_id age_segment  event  item_id   item_topic item_type  source_id  \\\n",
      "0   2931262       18-25   show  1793260      Красота    native    8388799   \n",
      "1   2931277       18-25   show  7465641     Культура    native    5837959   \n",
      "2   2931285       18-25   show   406073      История       url    2335872   \n",
      "3   2931247       26-30   show   752665  Путешествия    native    6963489   \n",
      "4   2931278       26-30  click  6843081         Юмор       url    5427748   \n",
      "\n",
      "         source_topic source_type             ts  user_id  \n",
      "0             История   publisher  1569349657638  2185026  \n",
      "1             История   publisher  1569349657971  6845238  \n",
      "2          Сад и дача      domain  1569349658408  5244363  \n",
      "3            Здоровье   publisher  1569349657189  7553074  \n",
      "4  Семейные отношения      domain  1569349658054  1317585  \n"
     ]
    }
   ],
   "source": [
    "# Формируем sql-запрос.\n",
    "query = '''SELECT * \n",
    "            FROM log_raw\n",
    "        '''\n",
    "\n",
    "# Выполняем запрос и сохраняем результат выполнения в DataFrame\n",
    "data_raw = pd.io.sql.read_sql(query, con = engine)\n",
    "\n",
    "print(data_raw.head(5))"
   ]
  },
  {
   "cell_type": "code",
   "execution_count": null,
   "metadata": {},
   "outputs": [],
   "source": []
  }
 ],
 "metadata": {
  "kernelspec": {
   "display_name": "Python 3",
   "language": "python",
   "name": "python3"
  },
  "language_info": {
   "codemirror_mode": {
    "name": "ipython",
    "version": 3
   },
   "file_extension": ".py",
   "mimetype": "text/x-python",
   "name": "python",
   "nbconvert_exporter": "python",
   "pygments_lexer": "ipython3",
   "version": "3.8.3"
  }
 },
 "nbformat": 4,
 "nbformat_minor": 4
}
