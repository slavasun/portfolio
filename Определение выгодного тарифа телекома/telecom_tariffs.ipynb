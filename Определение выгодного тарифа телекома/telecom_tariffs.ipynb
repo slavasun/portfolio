{
 "cells": [
  {
   "cell_type": "markdown",
   "metadata": {
    "colab_type": "text",
    "id": "XDyppgJnBWxd"
   },
   "source": [
    "## Определение перспективного тарифа для телеком компании «Мегалайн»"
   ]
  },
  {
   "cell_type": "markdown",
   "metadata": {
    "colab_type": "text",
    "id": "lTQgObr8BWxg"
   },
   "source": [
    "Необходимо определить какой тариф приносит бОльшую выручку компании: тариф \"Смарт\" или тариф \"Ультра\".\n",
    "\n",
    "В распоряжении данные 500 пользователей «Мегалайна»: кто они, откуда, каким тарифом пользуются, сколько звонков и сообщений каждый отправил за 2018 год. Нужно проанализировать поведение клиентов и сделать вывод — какой тариф лучше."
   ]
  },
  {
   "cell_type": "markdown",
   "metadata": {
    "colab_type": "text",
    "id": "GLodXOXpBWxj"
   },
   "source": [
    "### Информация о входных данных\n",
    "__Таблица users (информация о пользователях):__\n",
    "- *user_id* — уникальный идентификатор пользователя\n",
    "- *first_name* — имя пользователя\n",
    "- *last_name* — фамилия пользователя\n",
    "- *age* — возраст пользователя (годы)\n",
    "- *reg_date* — дата подключения тарифа (день, месяц, год)\n",
    "- *churn_date* — дата прекращения пользования тарифом (если значение пропущено, то тариф ещё действовал на момент выгрузки данных)\n",
    "- *city* — город проживания пользователя\n",
    "- *tariff* — название тарифного плана\n",
    "\n",
    "__Таблица calls (информация о звонках):__\n",
    "- *id* — уникальный номер звонка\n",
    "- *call_date* — дата звонка\n",
    "- *duration* — длительность звонка в минутах\n",
    "- *user_id* — идентификатор пользователя, сделавшего звонок\n",
    "\n",
    "__Таблица messages (информация о сообщениях):__\n",
    "- *id* — уникальный номер сообщения\n",
    "- *message_date* — дата сообщения\n",
    "- *user_id* — идентификатор пользователя, отправившего сообщение\n",
    "\n",
    "__Таблица internet (информация об интернет-сессиях):__\n",
    "- *id* — уникальный номер сессии\n",
    "- *mb_used* — объём потраченного за сессию интернет-трафика (в мегабайтах)\n",
    "- *session_date* — дата интернет-сессии\n",
    "- *user_id* — идентификатор пользователя\n",
    "\n",
    "__Таблица tariffs (информация о тарифах):__\n",
    "- *tariff_name* — название тарифа\n",
    "- *rub_monthly_fee* — ежемесячная абонентская плата в рублях\n",
    "- *minutes_included* — количество минут разговора в месяц, включённых в абонентскую плату\n",
    "- *messages_included* — количество сообщений в месяц, включённых в абонентскую плату\n",
    "- *mb_per_month_included* — объём интернет-трафика, включённого в абонентскую плату (в мегабайтах)\n",
    "- *rub_per_minute* — стоимость минуты разговора сверх тарифного пакета (например, если в тарифе 100 минут разговора в месяц, то со 101 минуты будет взиматься плата)\n",
    "- *rub_per_message* — стоимость отправки сообщения сверх тарифного пакета\n",
    "- *rub_per_gb* — стоимость дополнительного гигабайта интернет-трафика сверх тарифного пакета (1 гигабайт = 1024 мегабайта)\n",
    "\n",
    "__NOTE__\n",
    "Обратите внимание: «Мегалайн» всегда округляет вверх значения минут и мегабайтов. Если пользователь проговорил всего 1 секунду, в тарифе засчитывается целая минута."
   ]
  },
  {
   "cell_type": "markdown",
   "metadata": {
    "colab_type": "text",
    "id": "US75zhg1BWxl"
   },
   "source": [
    "### План исследования:\n",
    "- провести предобработку данных (найти и по-возможности заполнить пропуски, найти и удалить дубликаты, привести данные к соответствующим типам данных);\n",
    "- посчитать помесячную выручку для каждого пользователя (выручка от абонентской платы + выручка от услуг сверх тарифного пакета);\n",
    "-  описать две выборки: группа \"Смарт\" и группа \"Ультра\" (среднее, дисперсию и стандартное отклонение для количества минут, количества сообщений, объема трафика)\n",
    "- проверить три гипотезы: \n",
    "> 1.   средние ежемесячные выручки пользователей тарифов ULTRA и SMART различаются;\n",
    "> 2.   средняя ежемесячная выручка пользователей ULTRA превышает среднюю ежемесячную выручку пользователей SMART;\n",
    "> 3. средняя ежемесячная выручка пользователей из Москвы отличается от аналогичной выручки пользователей из других регионов.\n",
    "- сделать выводы.\n",
    "\n"
   ]
  },
  {
   "cell_type": "code",
   "execution_count": 1,
   "metadata": {
    "colab": {},
    "colab_type": "code",
    "id": "UDMrqpOeBWx3"
   },
   "outputs": [
    {
     "name": "stdout",
     "output_type": "stream",
     "text": [
      "Populating the interactive namespace from numpy and matplotlib\n"
     ]
    }
   ],
   "source": [
    "%pylab inline\n",
    "import pandas as pd\n",
    "import matplotlib.pyplot as plt\n",
    "import numpy as np\n",
    "import seaborn as sns\n",
    "import scipy.stats as st\n",
    "\n",
    "pd.options.display.max_columns = 9999 # чтобы скролить таблицу по горизонтали"
   ]
  },
  {
   "cell_type": "code",
   "execution_count": 3,
   "metadata": {
    "colab": {},
    "colab_type": "code",
    "id": "PhHt3vUXBWyE"
   },
   "outputs": [],
   "source": [
    "path = ''\n",
    "users = pd.read_csv(path + 'users.csv')\n",
    "calls = pd.read_csv(path + 'calls.csv')\n",
    "messages = pd.read_csv(path + 'messages.csv')\n",
    "internet = pd.read_csv(path + 'internet.csv')\n",
    "tariffs = pd.read_csv(path + 'tariffs.csv')\n",
    "df_list = [users, calls, messages, internet, tariffs]"
   ]
  },
  {
   "cell_type": "code",
   "execution_count": 4,
   "metadata": {
    "colab": {
     "base_uri": "https://localhost:8080/",
     "height": 719
    },
    "colab_type": "code",
    "id": "aPlXpwb0BWyL",
    "outputId": "8a2e7f6d-6df6-4a85-e9d0-ff1b9de66b41",
    "scrolled": false
   },
   "outputs": [
    {
     "name": "stdout",
     "output_type": "stream",
     "text": [
      "500 user_id       0.000\n",
      "age           0.000\n",
      "churn_date    0.924\n",
      "city          0.000\n",
      "first_name    0.000\n",
      "last_name     0.000\n",
      "reg_date      0.000\n",
      "tariff        0.000\n",
      "dtype: float64\n",
      "Количество дубликатов:  0\n",
      "202607 id           0.0\n",
      "call_date    0.0\n",
      "duration     0.0\n",
      "user_id      0.0\n",
      "dtype: float64\n",
      "Количество дубликатов:  0\n",
      "123036 id              0.0\n",
      "message_date    0.0\n",
      "user_id         0.0\n",
      "dtype: float64\n",
      "Количество дубликатов:  0\n",
      "149396 Unnamed: 0      0.0\n",
      "id              0.0\n",
      "mb_used         0.0\n",
      "session_date    0.0\n",
      "user_id         0.0\n",
      "dtype: float64\n",
      "Количество дубликатов:  0\n",
      "2 messages_included        0.0\n",
      "mb_per_month_included    0.0\n",
      "minutes_included         0.0\n",
      "rub_monthly_fee          0.0\n",
      "rub_per_gb               0.0\n",
      "rub_per_message          0.0\n",
      "rub_per_minute           0.0\n",
      "tariff_name              0.0\n",
      "dtype: float64\n",
      "Количество дубликатов:  0\n"
     ]
    }
   ],
   "source": [
    "for df in df_list:\n",
    "    print(df.shape[0], df.isna().mean())\n",
    "    print('Количество дубликатов: ', df.duplicated().sum())\n",
    "# пропусков много в churn_date в пользователях, для них тариф еще действует, в остальном норм"
   ]
  },
  {
   "cell_type": "markdown",
   "metadata": {
    "colab_type": "text",
    "id": "rCwopWXcBWyd"
   },
   "source": [
    "### Предобработка данных по пользователям"
   ]
  },
  {
   "cell_type": "code",
   "execution_count": 5,
   "metadata": {
    "colab": {},
    "colab_type": "code",
    "id": "5hW409gcBWye"
   },
   "outputs": [],
   "source": [
    "# т.к. данные за весь 2018 год, то для тех у кого договор еще действует\n",
    "# заполним пропуски в churn_date на 31 декабря 2018\n",
    "users['churn_date'] = users['churn_date'].fillna('2018-12-31')"
   ]
  },
  {
   "cell_type": "code",
   "execution_count": 6,
   "metadata": {
    "colab": {
     "base_uri": "https://localhost:8080/",
     "height": 183
    },
    "colab_type": "code",
    "id": "TsbKjZbrBWyk",
    "outputId": "bf28b424-2c64-49fb-844c-2b3f9abe165b"
   },
   "outputs": [
    {
     "data": {
      "text/plain": [
       "user_id                int64\n",
       "age                    int64\n",
       "churn_date    datetime64[ns]\n",
       "city                  object\n",
       "first_name            object\n",
       "last_name             object\n",
       "reg_date      datetime64[ns]\n",
       "tariff                 int32\n",
       "dtype: object"
      ]
     },
     "execution_count": 6,
     "metadata": {},
     "output_type": "execute_result"
    }
   ],
   "source": [
    "# переведем churn_date и reg_date в формат даты-времени\n",
    "users['churn_date'] = pd.to_datetime(users['churn_date'], format='%Y-%m-%d')\n",
    "users['reg_date'] = pd.to_datetime(users['reg_date'], format='%Y-%m-%d')\n",
    "\n",
    "# tariff в единичку и нолик для удобства подсчета: smart -> 0, ultra -> 1\n",
    "users['tariff'] = users['tariff'].where(users['tariff'] != 'smart', 0)\n",
    "users['tariff'] = users['tariff'].where(users['tariff'] != 'ultra', 1)\n",
    "users['tariff'] = users['tariff'].astype('int')\n",
    "\n",
    "\n",
    "# проверим\n",
    "users.dtypes"
   ]
  },
  {
   "cell_type": "code",
   "execution_count": 7,
   "metadata": {
    "colab": {
     "base_uri": "https://localhost:8080/",
     "height": 206
    },
    "colab_type": "code",
    "id": "vuq36D4hBWyr",
    "outputId": "45ede6f4-970c-4bca-9a80-ffe4b39a2b6d",
    "scrolled": true
   },
   "outputs": [
    {
     "data": {
      "text/html": [
       "<div>\n",
       "<style scoped>\n",
       "    .dataframe tbody tr th:only-of-type {\n",
       "        vertical-align: middle;\n",
       "    }\n",
       "\n",
       "    .dataframe tbody tr th {\n",
       "        vertical-align: top;\n",
       "    }\n",
       "\n",
       "    .dataframe thead th {\n",
       "        text-align: right;\n",
       "    }\n",
       "</style>\n",
       "<table border=\"1\" class=\"dataframe\">\n",
       "  <thead>\n",
       "    <tr style=\"text-align: right;\">\n",
       "      <th></th>\n",
       "      <th>user_id</th>\n",
       "      <th>age</th>\n",
       "      <th>churn_date</th>\n",
       "      <th>city</th>\n",
       "      <th>first_name</th>\n",
       "      <th>last_name</th>\n",
       "      <th>reg_date</th>\n",
       "      <th>tariff</th>\n",
       "      <th>reg_month</th>\n",
       "      <th>month_sum</th>\n",
       "    </tr>\n",
       "  </thead>\n",
       "  <tbody>\n",
       "    <tr>\n",
       "      <th>313</th>\n",
       "      <td>1313</td>\n",
       "      <td>56</td>\n",
       "      <td>2018-12-31</td>\n",
       "      <td>Ставрополь</td>\n",
       "      <td>Онисим</td>\n",
       "      <td>Суслов</td>\n",
       "      <td>2018-10-24</td>\n",
       "      <td>0</td>\n",
       "      <td>2018-10-01</td>\n",
       "      <td>2</td>\n",
       "    </tr>\n",
       "    <tr>\n",
       "      <th>200</th>\n",
       "      <td>1200</td>\n",
       "      <td>36</td>\n",
       "      <td>2018-12-31</td>\n",
       "      <td>Санкт-Петербург</td>\n",
       "      <td>Тамара</td>\n",
       "      <td>Ларионова</td>\n",
       "      <td>2018-04-28</td>\n",
       "      <td>1</td>\n",
       "      <td>2018-04-01</td>\n",
       "      <td>8</td>\n",
       "    </tr>\n",
       "    <tr>\n",
       "      <th>245</th>\n",
       "      <td>1245</td>\n",
       "      <td>32</td>\n",
       "      <td>2018-12-31</td>\n",
       "      <td>Москва</td>\n",
       "      <td>Маргарита</td>\n",
       "      <td>Коновалова</td>\n",
       "      <td>2018-09-10</td>\n",
       "      <td>1</td>\n",
       "      <td>2018-09-01</td>\n",
       "      <td>3</td>\n",
       "    </tr>\n",
       "    <tr>\n",
       "      <th>96</th>\n",
       "      <td>1096</td>\n",
       "      <td>60</td>\n",
       "      <td>2018-12-31</td>\n",
       "      <td>Брянск</td>\n",
       "      <td>Мариетта</td>\n",
       "      <td>Абашкина</td>\n",
       "      <td>2018-04-01</td>\n",
       "      <td>1</td>\n",
       "      <td>2018-04-01</td>\n",
       "      <td>8</td>\n",
       "    </tr>\n",
       "    <tr>\n",
       "      <th>184</th>\n",
       "      <td>1184</td>\n",
       "      <td>21</td>\n",
       "      <td>2018-12-31</td>\n",
       "      <td>Барнаул</td>\n",
       "      <td>Снежана</td>\n",
       "      <td>Тарасова</td>\n",
       "      <td>2018-09-03</td>\n",
       "      <td>0</td>\n",
       "      <td>2018-09-01</td>\n",
       "      <td>3</td>\n",
       "    </tr>\n",
       "  </tbody>\n",
       "</table>\n",
       "</div>"
      ],
      "text/plain": [
       "     user_id  age churn_date             city first_name   last_name  \\\n",
       "313     1313   56 2018-12-31       Ставрополь     Онисим      Суслов   \n",
       "200     1200   36 2018-12-31  Санкт-Петербург     Тамара   Ларионова   \n",
       "245     1245   32 2018-12-31           Москва  Маргарита  Коновалова   \n",
       "96      1096   60 2018-12-31           Брянск   Мариетта    Абашкина   \n",
       "184     1184   21 2018-12-31          Барнаул    Снежана    Тарасова   \n",
       "\n",
       "      reg_date  tariff  reg_month  month_sum  \n",
       "313 2018-10-24       0 2018-10-01          2  \n",
       "200 2018-04-28       1 2018-04-01          8  \n",
       "245 2018-09-10       1 2018-09-01          3  \n",
       "96  2018-04-01       1 2018-04-01          8  \n",
       "184 2018-09-03       0 2018-09-01          3  "
      ]
     },
     "execution_count": 7,
     "metadata": {},
     "output_type": "execute_result"
    }
   ],
   "source": [
    "# создадим столбец с привязкой к месяцу, когда клиент начал пользоваться услугами\n",
    "users['reg_month'] = users['reg_date'].values.astype('datetime64[M]')\n",
    "# определим кол-во месяцев за которое брать абонентскую плату\n",
    "users['month_sum'] = users['churn_date'].dt.month - users['reg_date'].dt.month\n",
    "users.sample(5)"
   ]
  },
  {
   "cell_type": "code",
   "execution_count": 8,
   "metadata": {},
   "outputs": [
    {
     "data": {
      "text/html": [
       "<div>\n",
       "<style scoped>\n",
       "    .dataframe tbody tr th:only-of-type {\n",
       "        vertical-align: middle;\n",
       "    }\n",
       "\n",
       "    .dataframe tbody tr th {\n",
       "        vertical-align: top;\n",
       "    }\n",
       "\n",
       "    .dataframe thead th {\n",
       "        text-align: right;\n",
       "    }\n",
       "</style>\n",
       "<table border=\"1\" class=\"dataframe\">\n",
       "  <thead>\n",
       "    <tr style=\"text-align: right;\">\n",
       "      <th></th>\n",
       "      <th>index</th>\n",
       "      <th>city</th>\n",
       "    </tr>\n",
       "  </thead>\n",
       "  <tbody>\n",
       "    <tr>\n",
       "      <th>0</th>\n",
       "      <td>Москва</td>\n",
       "      <td>99</td>\n",
       "    </tr>\n",
       "    <tr>\n",
       "      <th>1</th>\n",
       "      <td>Санкт-Петербург</td>\n",
       "      <td>39</td>\n",
       "    </tr>\n",
       "    <tr>\n",
       "      <th>2</th>\n",
       "      <td>Новосибирск</td>\n",
       "      <td>16</td>\n",
       "    </tr>\n",
       "    <tr>\n",
       "      <th>3</th>\n",
       "      <td>Казань</td>\n",
       "      <td>14</td>\n",
       "    </tr>\n",
       "    <tr>\n",
       "      <th>4</th>\n",
       "      <td>Омск</td>\n",
       "      <td>14</td>\n",
       "    </tr>\n",
       "    <tr>\n",
       "      <th>...</th>\n",
       "      <td>...</td>\n",
       "      <td>...</td>\n",
       "    </tr>\n",
       "    <tr>\n",
       "      <th>71</th>\n",
       "      <td>Подольск</td>\n",
       "      <td>1</td>\n",
       "    </tr>\n",
       "    <tr>\n",
       "      <th>72</th>\n",
       "      <td>Иваново</td>\n",
       "      <td>1</td>\n",
       "    </tr>\n",
       "    <tr>\n",
       "      <th>73</th>\n",
       "      <td>Архангельск</td>\n",
       "      <td>1</td>\n",
       "    </tr>\n",
       "    <tr>\n",
       "      <th>74</th>\n",
       "      <td>Химки</td>\n",
       "      <td>1</td>\n",
       "    </tr>\n",
       "    <tr>\n",
       "      <th>75</th>\n",
       "      <td>Нижневартовск</td>\n",
       "      <td>1</td>\n",
       "    </tr>\n",
       "  </tbody>\n",
       "</table>\n",
       "<p>76 rows × 2 columns</p>\n",
       "</div>"
      ],
      "text/plain": [
       "              index  city\n",
       "0            Москва    99\n",
       "1   Санкт-Петербург    39\n",
       "2       Новосибирск    16\n",
       "3            Казань    14\n",
       "4              Омск    14\n",
       "..              ...   ...\n",
       "71         Подольск     1\n",
       "72          Иваново     1\n",
       "73      Архангельск     1\n",
       "74            Химки     1\n",
       "75    Нижневартовск     1\n",
       "\n",
       "[76 rows x 2 columns]"
      ]
     },
     "execution_count": 8,
     "metadata": {},
     "output_type": "execute_result"
    },
    {
     "data": {
      "image/png": "[encoded data removed]",
      "text/plain": [
       "<Figure size 1008x360 with 1 Axes>"
      ]
     },
     "metadata": {},
     "output_type": "display_data"
    }
   ],
   "source": [
    "#sns.distplot(users['city'], kde=False, rug=True)\n",
    "sns.set(style=\"darkgrid\", rc={'figure.figsize':(14,5)})\n",
    "#sns.set()\n",
    "city = users['city'].value_counts().reset_index()\n",
    "ax = sns.barplot(x=\"index\", y=\"city\", data=city)\n",
    "plt.xticks(rotation=90)\n",
    "plt.show\n",
    "city"
   ]
  },
  {
   "cell_type": "markdown",
   "metadata": {
    "colab_type": "text",
    "id": "21x3dAryBWzK"
   },
   "source": [
    "### Предобработка данных по звонкам"
   ]
  },
  {
   "cell_type": "code",
   "execution_count": 9,
   "metadata": {
    "colab": {
     "base_uri": "https://localhost:8080/",
     "height": 206
    },
    "colab_type": "code",
    "id": "POrAGHnrBWzM",
    "outputId": "e9189f9e-5c46-4c30-9051-7fb38826dcfc"
   },
   "outputs": [
    {
     "data": {
      "text/html": [
       "<div>\n",
       "<style scoped>\n",
       "    .dataframe tbody tr th:only-of-type {\n",
       "        vertical-align: middle;\n",
       "    }\n",
       "\n",
       "    .dataframe tbody tr th {\n",
       "        vertical-align: top;\n",
       "    }\n",
       "\n",
       "    .dataframe thead th {\n",
       "        text-align: right;\n",
       "    }\n",
       "</style>\n",
       "<table border=\"1\" class=\"dataframe\">\n",
       "  <thead>\n",
       "    <tr style=\"text-align: right;\">\n",
       "      <th></th>\n",
       "      <th>call_id</th>\n",
       "      <th>call_date</th>\n",
       "      <th>duration</th>\n",
       "      <th>user_id</th>\n",
       "      <th>month</th>\n",
       "      <th>duration_round</th>\n",
       "    </tr>\n",
       "  </thead>\n",
       "  <tbody>\n",
       "    <tr>\n",
       "      <th>0</th>\n",
       "      <td>1000_0</td>\n",
       "      <td>2018-07-25</td>\n",
       "      <td>0.00</td>\n",
       "      <td>1000</td>\n",
       "      <td>2018-07-01</td>\n",
       "      <td>0</td>\n",
       "    </tr>\n",
       "    <tr>\n",
       "      <th>1</th>\n",
       "      <td>1000_1</td>\n",
       "      <td>2018-08-17</td>\n",
       "      <td>0.00</td>\n",
       "      <td>1000</td>\n",
       "      <td>2018-08-01</td>\n",
       "      <td>0</td>\n",
       "    </tr>\n",
       "    <tr>\n",
       "      <th>2</th>\n",
       "      <td>1000_2</td>\n",
       "      <td>2018-06-11</td>\n",
       "      <td>2.85</td>\n",
       "      <td>1000</td>\n",
       "      <td>2018-06-01</td>\n",
       "      <td>3</td>\n",
       "    </tr>\n",
       "    <tr>\n",
       "      <th>3</th>\n",
       "      <td>1000_3</td>\n",
       "      <td>2018-09-21</td>\n",
       "      <td>13.80</td>\n",
       "      <td>1000</td>\n",
       "      <td>2018-09-01</td>\n",
       "      <td>14</td>\n",
       "    </tr>\n",
       "    <tr>\n",
       "      <th>4</th>\n",
       "      <td>1000_4</td>\n",
       "      <td>2018-12-15</td>\n",
       "      <td>5.18</td>\n",
       "      <td>1000</td>\n",
       "      <td>2018-12-01</td>\n",
       "      <td>6</td>\n",
       "    </tr>\n",
       "  </tbody>\n",
       "</table>\n",
       "</div>"
      ],
      "text/plain": [
       "  call_id  call_date  duration  user_id      month  duration_round\n",
       "0  1000_0 2018-07-25      0.00     1000 2018-07-01               0\n",
       "1  1000_1 2018-08-17      0.00     1000 2018-08-01               0\n",
       "2  1000_2 2018-06-11      2.85     1000 2018-06-01               3\n",
       "3  1000_3 2018-09-21     13.80     1000 2018-09-01              14\n",
       "4  1000_4 2018-12-15      5.18     1000 2018-12-01               6"
      ]
     },
     "execution_count": 9,
     "metadata": {},
     "output_type": "execute_result"
    }
   ],
   "source": [
    "# переименуем стоблец id звонка в call_id, чтобы при объединении таблиц id не перепутались\n",
    "calls.set_axis(['call_id', 'call_date', 'duration', 'user_id'], axis='columns', inplace=True)\n",
    "# переведем call_date в формат даты-времени\n",
    "calls['call_date'] = pd.to_datetime(calls['call_date'], format='%Y-%m-%d')\n",
    "# создадим столбец с разбивкой по месяцам\n",
    "calls['month'] = calls['call_date'].values.astype('datetime64[M]')\n",
    "# огруглим длительность звонков вверх как это делает \"Мегалайн\"\n",
    "calls['duration_round'] = np.ceil(calls['duration']).astype('int')\n",
    "calls.head()"
   ]
  },
  {
   "cell_type": "code",
   "execution_count": 10,
   "metadata": {
    "colab": {
     "base_uri": "https://localhost:8080/",
     "height": 441
    },
    "colab_type": "code",
    "id": "kt64XVjRBWzz",
    "outputId": "9f5eba3f-75ba-49d3-e2fb-b4dcd90c19a8",
    "scrolled": true
   },
   "outputs": [
    {
     "data": {
      "image/png": "[encoded data removed]",
      "text/plain": [
       "<Figure size 576x432 with 2 Axes>"
      ]
     },
     "metadata": {},
     "output_type": "display_data"
    }
   ],
   "source": [
    "# посмотрим на распределение длительности звонков ВКЛЮЧАЯ звонки нулевой длительности\n",
    "figsize(8, 6)\n",
    "ax1 = subplot2grid((3, 1), (0, 0), rowspan=2)\n",
    "ax2 = subplot2grid((3, 1), (2, 0))\n",
    "\n",
    "sns.distplot(calls.duration, ax=ax1, kde=False)\n",
    "ax1.set_title(\"Распределение длительности звонков\")\n",
    "ax1.grid()\n",
    "\n",
    "sns.boxplot(calls.duration, ax=ax2, linewidth=3, color='lightblue')\n",
    "ax2.set_title(\"Основные квартили для длительности звонков\")\n",
    "tight_layout()"
   ]
  },
  {
   "cell_type": "code",
   "execution_count": 11,
   "metadata": {
    "colab": {
     "base_uri": "https://localhost:8080/",
     "height": 331
    },
    "colab_type": "code",
    "id": "39Da0s4QHFpP",
    "outputId": "00dbfd35-c49b-48a7-cd86-36027335de6b"
   },
   "outputs": [
    {
     "name": "stdout",
     "output_type": "stream",
     "text": [
      "count    202607.000000\n",
      "mean          6.755887\n",
      "std           5.843365\n",
      "min           0.000000\n",
      "25%           1.300000\n",
      "50%           6.000000\n",
      "75%          10.700000\n",
      "max          38.000000\n",
      "Name: duration, dtype: float64 count    162994.000000\n",
      "mean          8.397794\n",
      "std           5.353022\n",
      "min           0.010000\n",
      "25%           4.170000\n",
      "50%           7.740000\n",
      "75%          11.850000\n",
      "max          38.000000\n",
      "Name: duration, dtype: float64\n"
     ]
    }
   ],
   "source": [
    "# большое количество (20%) звонков с нулевой длительностью, например, пользователь звонил, но не дозвонился\n",
    "# эти \"нулевые\" звонки сильно смещают среднее значение и медиану в меньшую сторону\n",
    "print(calls['duration'].describe(), calls.query('duration != 0')['duration'].describe())"
   ]
  },
  {
   "cell_type": "code",
   "execution_count": 12,
   "metadata": {
    "colab": {
     "base_uri": "https://localhost:8080/",
     "height": 441
    },
    "colab_type": "code",
    "id": "WEb8na9PQkjg",
    "outputId": "56788323-785b-4183-a215-c7b37c7f6941",
    "scrolled": true
   },
   "outputs": [
    {
     "data": {
      "image/png": "[encoded data removed]",
      "text/plain": [
       "<Figure size 576x432 with 2 Axes>"
      ]
     },
     "metadata": {},
     "output_type": "display_data"
    }
   ],
   "source": [
    "# посмотрим на распределение длительности звонков БЕЗ звонков нулевой длительности\n",
    "figsize(8, 6)\n",
    "ax1 = subplot2grid((3, 1), (0, 0), rowspan=2)\n",
    "ax2 = subplot2grid((3, 1), (2, 0))\n",
    "\n",
    "sns.distplot(calls.query('duration != 0').duration, ax=ax1, kde=False)\n",
    "ax1.set_title(\"Распределение длительности звонков\")\n",
    "ax1.grid()\n",
    "\n",
    "sns.boxplot(calls.query('duration != 0').duration, ax=ax2, linewidth=3, color='lightblue')\n",
    "ax2.set_title(\"Основные квартили для длительности звонков\")\n",
    "tight_layout()\n",
    "\n",
    "# распределение немного скошено вправо, медиана (7.74 мин) чуть меньше среднего (8.40 мин)"
   ]
  },
  {
   "cell_type": "code",
   "execution_count": 16,
   "metadata": {
    "colab": {
     "base_uri": "https://localhost:8080/",
     "height": 614
    },
    "colab_type": "code",
    "id": "Jiw9pbUUBWzf",
    "outputId": "1c97e9bf-e8b2-4127-b131-3e155d303d32"
   },
   "outputs": [
    {
     "data": {
      "image/png": "[encoded data removed]",
      "text/plain": [
       "<Figure size 1296x288 with 2 Axes>"
      ]
     },
     "metadata": {},
     "output_type": "display_data"
    }
   ],
   "source": [
    "# проверим, что нет пользователей, у которых средняя длительность разговора сильно отличается от остальных\n",
    "# и было корректно брать просто среднее по всем пользователям\n",
    "calls_by_user = calls.query('duration != 0').groupby('user_id')['duration'].agg(['mean', 'median'])\n",
    "\n",
    "calls_by_user.hist(figsize=(18,4), bins=30)\n",
    "plt.xlabel('Средняя длительность разоговора, мин')\n",
    "plt.show()\n",
    "# видим также, что данные по звонкам есть по 492 пользователям из 500, по 8 пользователям будут пропуски в звонках в помесячной разбивке"
   ]
  },
  {
   "cell_type": "markdown",
   "metadata": {
    "colab_type": "text",
    "id": "EDZGTjkmBWz5"
   },
   "source": [
    "### Предобработка данных по сообщениям"
   ]
  },
  {
   "cell_type": "code",
   "execution_count": 17,
   "metadata": {
    "colab": {
     "base_uri": "https://localhost:8080/",
     "height": 206
    },
    "colab_type": "code",
    "id": "d1YqMw1lBWz6",
    "outputId": "c8bba883-fdab-4132-da0b-b7d92d360b95"
   },
   "outputs": [
    {
     "data": {
      "text/html": [
       "<div>\n",
       "<style scoped>\n",
       "    .dataframe tbody tr th:only-of-type {\n",
       "        vertical-align: middle;\n",
       "    }\n",
       "\n",
       "    .dataframe tbody tr th {\n",
       "        vertical-align: top;\n",
       "    }\n",
       "\n",
       "    .dataframe thead th {\n",
       "        text-align: right;\n",
       "    }\n",
       "</style>\n",
       "<table border=\"1\" class=\"dataframe\">\n",
       "  <thead>\n",
       "    <tr style=\"text-align: right;\">\n",
       "      <th></th>\n",
       "      <th>message_id</th>\n",
       "      <th>message_date</th>\n",
       "      <th>user_id</th>\n",
       "      <th>month</th>\n",
       "    </tr>\n",
       "  </thead>\n",
       "  <tbody>\n",
       "    <tr>\n",
       "      <th>0</th>\n",
       "      <td>1000_0</td>\n",
       "      <td>2018-06-27</td>\n",
       "      <td>1000</td>\n",
       "      <td>2018-06-01</td>\n",
       "    </tr>\n",
       "    <tr>\n",
       "      <th>1</th>\n",
       "      <td>1000_1</td>\n",
       "      <td>2018-10-08</td>\n",
       "      <td>1000</td>\n",
       "      <td>2018-10-01</td>\n",
       "    </tr>\n",
       "    <tr>\n",
       "      <th>2</th>\n",
       "      <td>1000_2</td>\n",
       "      <td>2018-08-04</td>\n",
       "      <td>1000</td>\n",
       "      <td>2018-08-01</td>\n",
       "    </tr>\n",
       "    <tr>\n",
       "      <th>3</th>\n",
       "      <td>1000_3</td>\n",
       "      <td>2018-06-16</td>\n",
       "      <td>1000</td>\n",
       "      <td>2018-06-01</td>\n",
       "    </tr>\n",
       "    <tr>\n",
       "      <th>4</th>\n",
       "      <td>1000_4</td>\n",
       "      <td>2018-12-05</td>\n",
       "      <td>1000</td>\n",
       "      <td>2018-12-01</td>\n",
       "    </tr>\n",
       "  </tbody>\n",
       "</table>\n",
       "</div>"
      ],
      "text/plain": [
       "  message_id message_date  user_id      month\n",
       "0     1000_0   2018-06-27     1000 2018-06-01\n",
       "1     1000_1   2018-10-08     1000 2018-10-01\n",
       "2     1000_2   2018-08-04     1000 2018-08-01\n",
       "3     1000_3   2018-06-16     1000 2018-06-01\n",
       "4     1000_4   2018-12-05     1000 2018-12-01"
      ]
     },
     "execution_count": 17,
     "metadata": {},
     "output_type": "execute_result"
    }
   ],
   "source": [
    "# переведем message_date в формат даты-времени\n",
    "messages['message_date'] = pd.to_datetime(messages['message_date'], format='%Y-%m-%d')\n",
    "# создадим столбец с разбивкой по месяцам\n",
    "messages['month'] = messages['message_date'].values.astype('datetime64[M]')\n",
    "# переименуем стоблец id сообщения в message_id\n",
    "messages.set_axis(['message_id', 'message_date', 'user_id', 'month'], axis='columns', inplace=True)\n",
    "\n",
    "messages.head()"
   ]
  },
  {
   "cell_type": "code",
   "execution_count": 18,
   "metadata": {
    "colab": {
     "base_uri": "https://localhost:8080/",
     "height": 455
    },
    "colab_type": "code",
    "id": "1h9WWRTgLqjZ",
    "outputId": "85eeb162-1385-48ed-d599-8316b07a8f5d"
   },
   "outputs": [
    {
     "data": {
      "text/html": [
       "<div>\n",
       "<style scoped>\n",
       "    .dataframe tbody tr th:only-of-type {\n",
       "        vertical-align: middle;\n",
       "    }\n",
       "\n",
       "    .dataframe tbody tr th {\n",
       "        vertical-align: top;\n",
       "    }\n",
       "\n",
       "    .dataframe thead th {\n",
       "        text-align: right;\n",
       "    }\n",
       "</style>\n",
       "<table border=\"1\" class=\"dataframe\">\n",
       "  <thead>\n",
       "    <tr style=\"text-align: right;\">\n",
       "      <th></th>\n",
       "      <th>message_id</th>\n",
       "      <th>message_date</th>\n",
       "      <th>month</th>\n",
       "    </tr>\n",
       "    <tr>\n",
       "      <th>user_id</th>\n",
       "      <th></th>\n",
       "      <th></th>\n",
       "      <th></th>\n",
       "    </tr>\n",
       "  </thead>\n",
       "  <tbody>\n",
       "    <tr>\n",
       "      <th>1000</th>\n",
       "      <td>496</td>\n",
       "      <td>496</td>\n",
       "      <td>496</td>\n",
       "    </tr>\n",
       "    <tr>\n",
       "      <th>1002</th>\n",
       "      <td>70</td>\n",
       "      <td>70</td>\n",
       "      <td>70</td>\n",
       "    </tr>\n",
       "    <tr>\n",
       "      <th>1003</th>\n",
       "      <td>380</td>\n",
       "      <td>380</td>\n",
       "      <td>380</td>\n",
       "    </tr>\n",
       "    <tr>\n",
       "      <th>1004</th>\n",
       "      <td>1192</td>\n",
       "      <td>1192</td>\n",
       "      <td>1192</td>\n",
       "    </tr>\n",
       "    <tr>\n",
       "      <th>1005</th>\n",
       "      <td>552</td>\n",
       "      <td>552</td>\n",
       "      <td>552</td>\n",
       "    </tr>\n",
       "    <tr>\n",
       "      <th>...</th>\n",
       "      <td>...</td>\n",
       "      <td>...</td>\n",
       "      <td>...</td>\n",
       "    </tr>\n",
       "    <tr>\n",
       "      <th>1495</th>\n",
       "      <td>340</td>\n",
       "      <td>340</td>\n",
       "      <td>340</td>\n",
       "    </tr>\n",
       "    <tr>\n",
       "      <th>1496</th>\n",
       "      <td>468</td>\n",
       "      <td>468</td>\n",
       "      <td>468</td>\n",
       "    </tr>\n",
       "    <tr>\n",
       "      <th>1497</th>\n",
       "      <td>51</td>\n",
       "      <td>51</td>\n",
       "      <td>51</td>\n",
       "    </tr>\n",
       "    <tr>\n",
       "      <th>1498</th>\n",
       "      <td>168</td>\n",
       "      <td>168</td>\n",
       "      <td>168</td>\n",
       "    </tr>\n",
       "    <tr>\n",
       "      <th>1499</th>\n",
       "      <td>184</td>\n",
       "      <td>184</td>\n",
       "      <td>184</td>\n",
       "    </tr>\n",
       "  </tbody>\n",
       "</table>\n",
       "<p>426 rows × 3 columns</p>\n",
       "</div>"
      ],
      "text/plain": [
       "         message_id  message_date  month\n",
       "user_id                                 \n",
       "1000            496           496    496\n",
       "1002             70            70     70\n",
       "1003            380           380    380\n",
       "1004           1192          1192   1192\n",
       "1005            552           552    552\n",
       "...             ...           ...    ...\n",
       "1495            340           340    340\n",
       "1496            468           468    468\n",
       "1497             51            51     51\n",
       "1498            168           168    168\n",
       "1499            184           184    184\n",
       "\n",
       "[426 rows x 3 columns]"
      ]
     },
     "execution_count": 18,
     "metadata": {},
     "output_type": "execute_result"
    }
   ],
   "source": [
    "# при слиянии в ежемесячный отчет будут пропуски для 74 человек, т.к. в этой таблице только 426 пользователей\n",
    "message_by_user = messages.groupby('user_id').count()\n",
    "message_by_user"
   ]
  },
  {
   "cell_type": "code",
   "execution_count": 21,
   "metadata": {
    "colab": {
     "base_uri": "https://localhost:8080/",
     "height": 540
    },
    "colab_type": "code",
    "id": "YnEMR-XKBW0X",
    "outputId": "97790f75-2a21-4bef-f35e-a0aaecfadafc"
   },
   "outputs": [
    {
     "data": {
      "text/plain": [
       "count     426.000000\n",
       "mean      288.816901\n",
       "std       267.607552\n",
       "min         1.000000\n",
       "25%        85.750000\n",
       "50%       215.500000\n",
       "75%       414.000000\n",
       "max      1463.000000\n",
       "Name: message_id, dtype: float64"
      ]
     },
     "execution_count": 21,
     "metadata": {},
     "output_type": "execute_result"
    },
    {
     "data": {
      "image/png": "[encoded data removed]",
      "text/plain": [
       "<Figure size 576x432 with 1 Axes>"
      ]
     },
     "metadata": {},
     "output_type": "display_data"
    }
   ],
   "source": [
    "# есть те, кто активно пользуюется СМСками, есть кто почти не пользуется\n",
    "message_by_user['message_id'].hist(bins=30)\n",
    "plt.xlabel('Распределение количестов СМС по пользователям')\n",
    "\n",
    "# распределение сильно скошено вправо, медиана (216 шт) меньше среднего (289 шт.)\n",
    "message_by_user['message_id'].describe()"
   ]
  },
  {
   "cell_type": "markdown",
   "metadata": {
    "colab_type": "text",
    "id": "VfOAg46oBW0a"
   },
   "source": [
    "### Предобработка данных по интернет-трафику"
   ]
  },
  {
   "cell_type": "code",
   "execution_count": 22,
   "metadata": {
    "colab": {
     "base_uri": "https://localhost:8080/",
     "height": 206
    },
    "colab_type": "code",
    "id": "Qve65_qMBW0c",
    "outputId": "4c7f1c4a-a6b4-4336-bba6-083c7bdb7261"
   },
   "outputs": [
    {
     "data": {
      "text/html": [
       "<div>\n",
       "<style scoped>\n",
       "    .dataframe tbody tr th:only-of-type {\n",
       "        vertical-align: middle;\n",
       "    }\n",
       "\n",
       "    .dataframe tbody tr th {\n",
       "        vertical-align: top;\n",
       "    }\n",
       "\n",
       "    .dataframe thead th {\n",
       "        text-align: right;\n",
       "    }\n",
       "</style>\n",
       "<table border=\"1\" class=\"dataframe\">\n",
       "  <thead>\n",
       "    <tr style=\"text-align: right;\">\n",
       "      <th></th>\n",
       "      <th>internet_id</th>\n",
       "      <th>mb_used</th>\n",
       "      <th>session_date</th>\n",
       "      <th>user_id</th>\n",
       "      <th>month</th>\n",
       "      <th>mb_used_round</th>\n",
       "    </tr>\n",
       "  </thead>\n",
       "  <tbody>\n",
       "    <tr>\n",
       "      <th>0</th>\n",
       "      <td>1000_0</td>\n",
       "      <td>112.95</td>\n",
       "      <td>2018-11-25</td>\n",
       "      <td>1000</td>\n",
       "      <td>2018-11-01</td>\n",
       "      <td>113</td>\n",
       "    </tr>\n",
       "    <tr>\n",
       "      <th>1</th>\n",
       "      <td>1000_1</td>\n",
       "      <td>1052.81</td>\n",
       "      <td>2018-09-07</td>\n",
       "      <td>1000</td>\n",
       "      <td>2018-09-01</td>\n",
       "      <td>1053</td>\n",
       "    </tr>\n",
       "    <tr>\n",
       "      <th>2</th>\n",
       "      <td>1000_2</td>\n",
       "      <td>1197.26</td>\n",
       "      <td>2018-06-25</td>\n",
       "      <td>1000</td>\n",
       "      <td>2018-06-01</td>\n",
       "      <td>1198</td>\n",
       "    </tr>\n",
       "    <tr>\n",
       "      <th>3</th>\n",
       "      <td>1000_3</td>\n",
       "      <td>550.27</td>\n",
       "      <td>2018-08-22</td>\n",
       "      <td>1000</td>\n",
       "      <td>2018-08-01</td>\n",
       "      <td>551</td>\n",
       "    </tr>\n",
       "    <tr>\n",
       "      <th>4</th>\n",
       "      <td>1000_4</td>\n",
       "      <td>302.56</td>\n",
       "      <td>2018-09-24</td>\n",
       "      <td>1000</td>\n",
       "      <td>2018-09-01</td>\n",
       "      <td>303</td>\n",
       "    </tr>\n",
       "  </tbody>\n",
       "</table>\n",
       "</div>"
      ],
      "text/plain": [
       "  internet_id  mb_used session_date  user_id      month  mb_used_round\n",
       "0      1000_0   112.95   2018-11-25     1000 2018-11-01            113\n",
       "1      1000_1  1052.81   2018-09-07     1000 2018-09-01           1053\n",
       "2      1000_2  1197.26   2018-06-25     1000 2018-06-01           1198\n",
       "3      1000_3   550.27   2018-08-22     1000 2018-08-01            551\n",
       "4      1000_4   302.56   2018-09-24     1000 2018-09-01            303"
      ]
     },
     "execution_count": 22,
     "metadata": {},
     "output_type": "execute_result"
    }
   ],
   "source": [
    "# переведем call_date в формат даты-времени\n",
    "internet['session_date'] = pd.to_datetime(internet['session_date'], format='%Y-%m-%d')\n",
    "# столбец-артефакт Unnamed:0, удалим его\n",
    "internet = internet.drop('Unnamed: 0', axis=1)\n",
    "# переименуем стоблец id интернет-сессии в internet_id\n",
    "internet.set_axis(['internet_id', 'mb_used', 'session_date', 'user_id'], axis='columns', inplace=True)\n",
    "# создадим столбец с разбивкой по месяцам\n",
    "internet['month'] = internet['session_date'].values.astype('datetime64[M]')\n",
    "# огруглим количество трафика вверх как это делает \"Мегалайн\"\n",
    "internet['mb_used_round'] = np.ceil(internet['mb_used']).astype('int')\n",
    "internet.head()"
   ]
  },
  {
   "cell_type": "code",
   "execution_count": 23,
   "metadata": {
    "colab": {
     "base_uri": "https://localhost:8080/",
     "height": 441
    },
    "colab_type": "code",
    "id": "2aB24piBSLtQ",
    "outputId": "00d39df7-81ae-4838-c2c4-7a28046d4de3"
   },
   "outputs": [
    {
     "data": {
      "image/png": "[encoded data removed]",
      "text/plain": [
       "<Figure size 576x432 with 2 Axes>"
      ]
     },
     "metadata": {},
     "output_type": "display_data"
    }
   ],
   "source": [
    "# в распределении траффика тоже есть сессии с нулевым трафиком (13%), смещающие среднее и медиану в меньшую сторону\n",
    "\n",
    "# посмотрим на распределение траффика БЕЗ нулевых соединений\n",
    "figsize(8, 6)\n",
    "ax1 = subplot2grid((3, 1), (0, 0), rowspan=2)\n",
    "ax2 = subplot2grid((3, 1), (2, 0))\n",
    "\n",
    "sns.distplot(internet.query('mb_used != 0').mb_used, ax=ax1, kde=False)\n",
    "ax1.set_title(\"Распределение траффика\")\n",
    "ax1.grid()\n",
    "\n",
    "sns.boxplot(internet.query('mb_used != 0').mb_used, ax=ax2, linewidth=3, color='lightblue')\n",
    "ax2.set_title(\"Основные квартили для траффика\")\n",
    "tight_layout()"
   ]
  },
  {
   "cell_type": "code",
   "execution_count": 24,
   "metadata": {
    "colab": {
     "base_uri": "https://localhost:8080/",
     "height": 183
    },
    "colab_type": "code",
    "id": "5phzX5DrTZ0p",
    "outputId": "d8243e76-7cf4-49cd-9493-544dadd74d03"
   },
   "outputs": [
    {
     "data": {
      "text/plain": [
       "count    129798.000000\n",
       "mean        426.087210\n",
       "std         255.596447\n",
       "min           0.030000\n",
       "25%         227.460000\n",
       "50%         400.540000\n",
       "75%         592.947500\n",
       "max        1724.830000\n",
       "Name: mb_used, dtype: float64"
      ]
     },
     "execution_count": 24,
     "metadata": {},
     "output_type": "execute_result"
    }
   ],
   "source": [
    "# распределение немного скошено вправо, медиана (400 Мб) чуть меньше среднего (426 Мб)\n",
    "internet.query('mb_used != 0')['mb_used'].describe()"
   ]
  },
  {
   "cell_type": "markdown",
   "metadata": {
    "colab_type": "text",
    "id": "oeDa8xJqBWy5"
   },
   "source": [
    "### Предобработка данных по тарифам"
   ]
  },
  {
   "cell_type": "code",
   "execution_count": 25,
   "metadata": {
    "colab": {
     "base_uri": "https://localhost:8080/",
     "height": 112
    },
    "colab_type": "code",
    "id": "VmAYJaClBWy7",
    "outputId": "ef8d6d58-6388-43bd-b883-03c646ab2927"
   },
   "outputs": [
    {
     "data": {
      "text/html": [
       "<div>\n",
       "<style scoped>\n",
       "    .dataframe tbody tr th:only-of-type {\n",
       "        vertical-align: middle;\n",
       "    }\n",
       "\n",
       "    .dataframe tbody tr th {\n",
       "        vertical-align: top;\n",
       "    }\n",
       "\n",
       "    .dataframe thead th {\n",
       "        text-align: right;\n",
       "    }\n",
       "</style>\n",
       "<table border=\"1\" class=\"dataframe\">\n",
       "  <thead>\n",
       "    <tr style=\"text-align: right;\">\n",
       "      <th></th>\n",
       "      <th>messages_included</th>\n",
       "      <th>mb_per_month_included</th>\n",
       "      <th>minutes_included</th>\n",
       "      <th>rub_monthly_fee</th>\n",
       "      <th>rub_per_gb</th>\n",
       "      <th>rub_per_message</th>\n",
       "      <th>rub_per_minute</th>\n",
       "      <th>tariff_name</th>\n",
       "      <th>tariff</th>\n",
       "      <th>rub_per_mb</th>\n",
       "    </tr>\n",
       "  </thead>\n",
       "  <tbody>\n",
       "    <tr>\n",
       "      <th>0</th>\n",
       "      <td>50</td>\n",
       "      <td>15360</td>\n",
       "      <td>500</td>\n",
       "      <td>550</td>\n",
       "      <td>200</td>\n",
       "      <td>3</td>\n",
       "      <td>3</td>\n",
       "      <td>smart</td>\n",
       "      <td>0</td>\n",
       "      <td>0.195312</td>\n",
       "    </tr>\n",
       "    <tr>\n",
       "      <th>1</th>\n",
       "      <td>1000</td>\n",
       "      <td>30720</td>\n",
       "      <td>3000</td>\n",
       "      <td>1950</td>\n",
       "      <td>150</td>\n",
       "      <td>1</td>\n",
       "      <td>1</td>\n",
       "      <td>ultra</td>\n",
       "      <td>1</td>\n",
       "      <td>0.146484</td>\n",
       "    </tr>\n",
       "  </tbody>\n",
       "</table>\n",
       "</div>"
      ],
      "text/plain": [
       "   messages_included  mb_per_month_included  minutes_included  \\\n",
       "0                 50                  15360               500   \n",
       "1               1000                  30720              3000   \n",
       "\n",
       "   rub_monthly_fee  rub_per_gb  rub_per_message  rub_per_minute tariff_name  \\\n",
       "0              550         200                3               3       smart   \n",
       "1             1950         150                1               1       ultra   \n",
       "\n",
       "   tariff  rub_per_mb  \n",
       "0       0    0.195312  \n",
       "1       1    0.146484  "
      ]
     },
     "execution_count": 25,
     "metadata": {},
     "output_type": "execute_result"
    }
   ],
   "source": [
    "# добавим численное обозоначение для тарифов: smart -> 0, ultra -> 1\n",
    "tariffs['tariff'] = pd.Series([0, 1])\n",
    "# переводем плату в руб/Мб\n",
    "tariffs['rub_per_mb'] = tariffs['rub_per_gb'] / 1024\n",
    "tariffs"
   ]
  },
  {
   "cell_type": "markdown",
   "metadata": {
    "colab_type": "text",
    "id": "eFwVQHz1BW1B"
   },
   "source": [
    "###  Расчет помесячной выручки для каждого пользователя "
   ]
  },
  {
   "cell_type": "code",
   "execution_count": 26,
   "metadata": {
    "colab": {
     "base_uri": "https://localhost:8080/",
     "height": 426
    },
    "colab_type": "code",
    "id": "PHud--aVBW1G",
    "outputId": "37b3cdee-b5f4-4a2d-f03e-96aad273bdbb"
   },
   "outputs": [
    {
     "data": {
      "text/html": [
       "<div>\n",
       "<style scoped>\n",
       "    .dataframe tbody tr th:only-of-type {\n",
       "        vertical-align: middle;\n",
       "    }\n",
       "\n",
       "    .dataframe tbody tr th {\n",
       "        vertical-align: top;\n",
       "    }\n",
       "\n",
       "    .dataframe thead th {\n",
       "        text-align: right;\n",
       "    }\n",
       "</style>\n",
       "<table border=\"1\" class=\"dataframe\">\n",
       "  <thead>\n",
       "    <tr style=\"text-align: right;\">\n",
       "      <th></th>\n",
       "      <th>month</th>\n",
       "    </tr>\n",
       "  </thead>\n",
       "  <tbody>\n",
       "    <tr>\n",
       "      <th>0</th>\n",
       "      <td>2018-01-01</td>\n",
       "    </tr>\n",
       "    <tr>\n",
       "      <th>1</th>\n",
       "      <td>2018-02-01</td>\n",
       "    </tr>\n",
       "    <tr>\n",
       "      <th>2</th>\n",
       "      <td>2018-03-01</td>\n",
       "    </tr>\n",
       "    <tr>\n",
       "      <th>3</th>\n",
       "      <td>2018-04-01</td>\n",
       "    </tr>\n",
       "    <tr>\n",
       "      <th>4</th>\n",
       "      <td>2018-05-01</td>\n",
       "    </tr>\n",
       "    <tr>\n",
       "      <th>5</th>\n",
       "      <td>2018-06-01</td>\n",
       "    </tr>\n",
       "    <tr>\n",
       "      <th>6</th>\n",
       "      <td>2018-07-01</td>\n",
       "    </tr>\n",
       "    <tr>\n",
       "      <th>7</th>\n",
       "      <td>2018-08-01</td>\n",
       "    </tr>\n",
       "    <tr>\n",
       "      <th>8</th>\n",
       "      <td>2018-09-01</td>\n",
       "    </tr>\n",
       "    <tr>\n",
       "      <th>9</th>\n",
       "      <td>2018-10-01</td>\n",
       "    </tr>\n",
       "    <tr>\n",
       "      <th>10</th>\n",
       "      <td>2018-11-01</td>\n",
       "    </tr>\n",
       "    <tr>\n",
       "      <th>11</th>\n",
       "      <td>2018-12-01</td>\n",
       "    </tr>\n",
       "  </tbody>\n",
       "</table>\n",
       "</div>"
      ],
      "text/plain": [
       "        month\n",
       "0  2018-01-01\n",
       "1  2018-02-01\n",
       "2  2018-03-01\n",
       "3  2018-04-01\n",
       "4  2018-05-01\n",
       "5  2018-06-01\n",
       "6  2018-07-01\n",
       "7  2018-08-01\n",
       "8  2018-09-01\n",
       "9  2018-10-01\n",
       "10 2018-11-01\n",
       "11 2018-12-01"
      ]
     },
     "execution_count": 26,
     "metadata": {},
     "output_type": "execute_result"
    }
   ],
   "source": [
    "# отдельно создадим диапазон месяцев для 2018 года\n",
    "month = pd.DataFrame({'month': pd.date_range('2018-01-01 00:00:00','2018-12-01 00:00:00', freq='MS')})\n",
    "month"
   ]
  },
  {
   "cell_type": "code",
   "execution_count": 27,
   "metadata": {
    "colab": {
     "base_uri": "https://localhost:8080/",
     "height": 424
    },
    "colab_type": "code",
    "id": "krfkZoI3BW1M",
    "outputId": "8b93398f-ecd6-4167-b748-7598e8686d2f"
   },
   "outputs": [],
   "source": [
    "# создадим ключ по которому будем объединять каждый месяц с каждым пользователям (как в SQL cross join)\n",
    "users['key'] = 1\n",
    "month['key'] = 1\n",
    "# это будет заготовка отчета на 12 месяцев х 500 пользователей (после объединения key не нужен)\n",
    "report = month.merge(users, on='key').drop('key', axis=1)"
   ]
  },
  {
   "cell_type": "code",
   "execution_count": 29,
   "metadata": {
    "colab": {
     "base_uri": "https://localhost:8080/",
     "height": 424
    },
    "colab_type": "code",
    "id": "jH4STuMOBW1R",
    "outputId": "ac6bddfe-75f0-4bee-9619-2ca4443c57a9"
   },
   "outputs": [
    {
     "data": {
      "text/html": [
       "<div>\n",
       "<style scoped>\n",
       "    .dataframe tbody tr th:only-of-type {\n",
       "        vertical-align: middle;\n",
       "    }\n",
       "\n",
       "    .dataframe tbody tr th {\n",
       "        vertical-align: top;\n",
       "    }\n",
       "\n",
       "    .dataframe thead th {\n",
       "        text-align: right;\n",
       "    }\n",
       "</style>\n",
       "<table border=\"1\" class=\"dataframe\">\n",
       "  <thead>\n",
       "    <tr style=\"text-align: right;\">\n",
       "      <th></th>\n",
       "      <th>month</th>\n",
       "      <th>user_id</th>\n",
       "      <th>age</th>\n",
       "      <th>churn_date</th>\n",
       "      <th>city</th>\n",
       "      <th>first_name</th>\n",
       "      <th>last_name</th>\n",
       "      <th>reg_date</th>\n",
       "      <th>tariff</th>\n",
       "      <th>reg_month</th>\n",
       "      <th>month_sum</th>\n",
       "    </tr>\n",
       "  </thead>\n",
       "  <tbody>\n",
       "    <tr>\n",
       "      <th>5</th>\n",
       "      <td>2018-01-01</td>\n",
       "      <td>1005</td>\n",
       "      <td>67</td>\n",
       "      <td>2018-12-31</td>\n",
       "      <td>Набережные Челны</td>\n",
       "      <td>Афанасий</td>\n",
       "      <td>Горлов</td>\n",
       "      <td>2018-01-25</td>\n",
       "      <td>0</td>\n",
       "      <td>2018-01-01</td>\n",
       "      <td>11</td>\n",
       "    </tr>\n",
       "    <tr>\n",
       "      <th>32</th>\n",
       "      <td>2018-01-01</td>\n",
       "      <td>1032</td>\n",
       "      <td>31</td>\n",
       "      <td>2018-12-31</td>\n",
       "      <td>Ульяновск</td>\n",
       "      <td>Инна</td>\n",
       "      <td>Игнатьева</td>\n",
       "      <td>2018-01-04</td>\n",
       "      <td>0</td>\n",
       "      <td>2018-01-01</td>\n",
       "      <td>11</td>\n",
       "    </tr>\n",
       "    <tr>\n",
       "      <th>45</th>\n",
       "      <td>2018-01-01</td>\n",
       "      <td>1045</td>\n",
       "      <td>48</td>\n",
       "      <td>2018-12-31</td>\n",
       "      <td>Улан-Удэ</td>\n",
       "      <td>Джемма</td>\n",
       "      <td>Карасева</td>\n",
       "      <td>2018-01-30</td>\n",
       "      <td>0</td>\n",
       "      <td>2018-01-01</td>\n",
       "      <td>11</td>\n",
       "    </tr>\n",
       "    <tr>\n",
       "      <th>55</th>\n",
       "      <td>2018-01-01</td>\n",
       "      <td>1055</td>\n",
       "      <td>39</td>\n",
       "      <td>2018-12-31</td>\n",
       "      <td>Казань</td>\n",
       "      <td>Луиза</td>\n",
       "      <td>Березина</td>\n",
       "      <td>2018-01-02</td>\n",
       "      <td>0</td>\n",
       "      <td>2018-01-01</td>\n",
       "      <td>11</td>\n",
       "    </tr>\n",
       "    <tr>\n",
       "      <th>71</th>\n",
       "      <td>2018-01-01</td>\n",
       "      <td>1071</td>\n",
       "      <td>20</td>\n",
       "      <td>2018-08-31</td>\n",
       "      <td>Омск</td>\n",
       "      <td>Гектор</td>\n",
       "      <td>Чумаков</td>\n",
       "      <td>2018-01-09</td>\n",
       "      <td>0</td>\n",
       "      <td>2018-01-01</td>\n",
       "      <td>7</td>\n",
       "    </tr>\n",
       "  </tbody>\n",
       "</table>\n",
       "</div>"
      ],
      "text/plain": [
       "        month  user_id  age churn_date              city first_name  \\\n",
       "5  2018-01-01     1005   67 2018-12-31  Набережные Челны   Афанасий   \n",
       "32 2018-01-01     1032   31 2018-12-31         Ульяновск       Инна   \n",
       "45 2018-01-01     1045   48 2018-12-31          Улан-Удэ     Джемма   \n",
       "55 2018-01-01     1055   39 2018-12-31            Казань      Луиза   \n",
       "71 2018-01-01     1071   20 2018-08-31              Омск     Гектор   \n",
       "\n",
       "    last_name   reg_date  tariff  reg_month  month_sum  \n",
       "5      Горлов 2018-01-25       0 2018-01-01         11  \n",
       "32  Игнатьева 2018-01-04       0 2018-01-01         11  \n",
       "45   Карасева 2018-01-30       0 2018-01-01         11  \n",
       "55   Березина 2018-01-02       0 2018-01-01         11  \n",
       "71    Чумаков 2018-01-09       0 2018-01-01          7  "
      ]
     },
     "execution_count": 29,
     "metadata": {},
     "output_type": "execute_result"
    }
   ],
   "source": [
    "# возможна ситуация где человек зарегистрировался позже, чем наш созданный month - эти строки удаляем\n",
    "report = report[report['month'] >= report['reg_month']]\n",
    "# а также строки где пользователь уже разорвал договор \n",
    "report = report[report['month'] <= report['churn_date']]\n",
    "report.head()"
   ]
  },
  {
   "cell_type": "code",
   "execution_count": 30,
   "metadata": {
    "colab": {
     "base_uri": "https://localhost:8080/",
     "height": 269
    },
    "colab_type": "code",
    "id": "WAy8ZSysBW1V",
    "outputId": "ae7892d5-ef90-4e33-f81d-bb47167daf19"
   },
   "outputs": [
    {
     "data": {
      "text/html": [
       "<div>\n",
       "<style scoped>\n",
       "    .dataframe tbody tr th:only-of-type {\n",
       "        vertical-align: middle;\n",
       "    }\n",
       "\n",
       "    .dataframe tbody tr th {\n",
       "        vertical-align: top;\n",
       "    }\n",
       "\n",
       "    .dataframe thead th {\n",
       "        text-align: right;\n",
       "    }\n",
       "</style>\n",
       "<table border=\"1\" class=\"dataframe\">\n",
       "  <thead>\n",
       "    <tr style=\"text-align: right;\">\n",
       "      <th></th>\n",
       "      <th>month</th>\n",
       "      <th>user_id</th>\n",
       "      <th>age</th>\n",
       "      <th>churn_date</th>\n",
       "      <th>city</th>\n",
       "      <th>first_name</th>\n",
       "      <th>last_name</th>\n",
       "      <th>reg_date</th>\n",
       "      <th>tariff</th>\n",
       "      <th>reg_month</th>\n",
       "      <th>month_sum</th>\n",
       "    </tr>\n",
       "  </thead>\n",
       "  <tbody>\n",
       "    <tr>\n",
       "      <th>4577</th>\n",
       "      <td>2018-10-01</td>\n",
       "      <td>1077</td>\n",
       "      <td>18</td>\n",
       "      <td>2018-12-31</td>\n",
       "      <td>Москва</td>\n",
       "      <td>Марица</td>\n",
       "      <td>Кольцова</td>\n",
       "      <td>2018-10-23</td>\n",
       "      <td>0</td>\n",
       "      <td>2018-10-01</td>\n",
       "      <td>2</td>\n",
       "    </tr>\n",
       "    <tr>\n",
       "      <th>5077</th>\n",
       "      <td>2018-11-01</td>\n",
       "      <td>1077</td>\n",
       "      <td>18</td>\n",
       "      <td>2018-12-31</td>\n",
       "      <td>Москва</td>\n",
       "      <td>Марица</td>\n",
       "      <td>Кольцова</td>\n",
       "      <td>2018-10-23</td>\n",
       "      <td>0</td>\n",
       "      <td>2018-10-01</td>\n",
       "      <td>2</td>\n",
       "    </tr>\n",
       "    <tr>\n",
       "      <th>5577</th>\n",
       "      <td>2018-12-01</td>\n",
       "      <td>1077</td>\n",
       "      <td>18</td>\n",
       "      <td>2018-12-31</td>\n",
       "      <td>Москва</td>\n",
       "      <td>Марица</td>\n",
       "      <td>Кольцова</td>\n",
       "      <td>2018-10-23</td>\n",
       "      <td>0</td>\n",
       "      <td>2018-10-01</td>\n",
       "      <td>2</td>\n",
       "    </tr>\n",
       "  </tbody>\n",
       "</table>\n",
       "</div>"
      ],
      "text/plain": [
       "          month  user_id  age churn_date    city first_name last_name  \\\n",
       "4577 2018-10-01     1077   18 2018-12-31  Москва     Марица  Кольцова   \n",
       "5077 2018-11-01     1077   18 2018-12-31  Москва     Марица  Кольцова   \n",
       "5577 2018-12-01     1077   18 2018-12-31  Москва     Марица  Кольцова   \n",
       "\n",
       "       reg_date  tariff  reg_month  month_sum  \n",
       "4577 2018-10-23       0 2018-10-01          2  \n",
       "5077 2018-10-23       0 2018-10-01          2  \n",
       "5577 2018-10-23       0 2018-10-01          2  "
      ]
     },
     "execution_count": 30,
     "metadata": {},
     "output_type": "execute_result"
    }
   ],
   "source": [
    "# проверим по случайному из пользователей, что нет ситуации с reg_month > month и month > churn_date\n",
    "report[report['user_id'] == np.random.randint(1000, 1501)]"
   ]
  },
  {
   "cell_type": "code",
   "execution_count": 32,
   "metadata": {
    "colab": {
     "base_uri": "https://localhost:8080/",
     "height": 424
    },
    "colab_type": "code",
    "id": "K_8tOItmBW1a",
    "outputId": "f13a4c9a-d191-49d2-fc49-ec276bb69fae"
   },
   "outputs": [],
   "source": [
    "# добавим каждому пользователю ЗВОНКИ\n",
    "users_calls = users.merge(calls, on='user_id', how='left')"
   ]
  },
  {
   "cell_type": "code",
   "execution_count": 33,
   "metadata": {
    "colab": {
     "base_uri": "https://localhost:8080/",
     "height": 424
    },
    "colab_type": "code",
    "id": "6diDTDiVBW1l",
    "outputId": "82191278-dded-4408-ef10-802a24cf87b9"
   },
   "outputs": [],
   "source": [
    "# саггрегируем звонки по каждому пользователю на каждый месяц\n",
    "month_calls = users_calls.groupby(['user_id', 'month'])['duration_round'].sum().reset_index()"
   ]
  },
  {
   "cell_type": "code",
   "execution_count": 34,
   "metadata": {
    "colab": {
     "base_uri": "https://localhost:8080/",
     "height": 72
    },
    "colab_type": "code",
    "id": "buAbb4BHBW1p",
    "outputId": "5a936fa2-3f1d-4bef-f59e-c48abd5bacf8"
   },
   "outputs": [
    {
     "name": "stdout",
     "output_type": "stream",
     "text": [
      "1450301\n",
      "1450301.0\n"
     ]
    },
    {
     "data": {
      "text/plain": [
       "1450301.0"
      ]
     },
     "execution_count": 34,
     "metadata": {},
     "output_type": "execute_result"
    }
   ],
   "source": [
    "# проверим тоталы по минутам которые наговорили пользователи\n",
    "print(calls['duration_round'].sum()) \n",
    "print(users_calls['duration_round'].sum())\n",
    "month_calls['duration_round'].sum()"
   ]
  },
  {
   "cell_type": "code",
   "execution_count": 35,
   "metadata": {
    "colab": {
     "base_uri": "https://localhost:8080/",
     "height": 424
    },
    "colab_type": "code",
    "id": "vDYtMuzMBW1u",
    "outputId": "1e4a16c4-01bc-4ad6-9e5d-5120d37f6db8"
   },
   "outputs": [],
   "source": [
    "# набрасываем на заготовку отчета саггрегированные данные по ЗВОНКАМ\n",
    "# тут ВАЖНО оставить все строки из левой таблицы, чтобы сохранились пустые ячейки для тех, кто вообще не звонил (8 человек)\n",
    "report = report.merge(month_calls, how='left', on=['month', 'user_id'])"
   ]
  },
  {
   "cell_type": "code",
   "execution_count": 36,
   "metadata": {
    "colab": {
     "base_uri": "https://localhost:8080/",
     "height": 424
    },
    "colab_type": "code",
    "id": "Q19vkX-RBW13",
    "outputId": "83c6abc8-20d3-4c98-cc11-e3185219ef29"
   },
   "outputs": [],
   "source": [
    "# добавим каждому пользователю СООБЩЕНИЯ\n",
    "users_messages = users.merge(messages, on='user_id', how='left')\n",
    "\n",
    "# саггрегируем сообщения на каждый месяц\n",
    "month_messages = users_messages.groupby(['user_id', 'month'])['message_id'].count().reset_index()"
   ]
  },
  {
   "cell_type": "code",
   "execution_count": 37,
   "metadata": {
    "colab": {
     "base_uri": "https://localhost:8080/",
     "height": 424
    },
    "colab_type": "code",
    "id": "cHgxJPMJBW1_",
    "outputId": "03d5e87e-72f6-4033-ab36-6299fb67a7ec"
   },
   "outputs": [],
   "source": [
    "# набрасываем на заготовку отчета саггрегированные данные по СООБЩЕНИЯМ\n",
    "report = report.merge(month_messages, how='left', on=['month', 'user_id'])"
   ]
  },
  {
   "cell_type": "code",
   "execution_count": 38,
   "metadata": {
    "colab": {
     "base_uri": "https://localhost:8080/",
     "height": 54
    },
    "colab_type": "code",
    "id": "bR4_pGVD-scr",
    "outputId": "e4acd590-0bbd-40dc-be9c-e879817c90ab"
   },
   "outputs": [
    {
     "name": "stdout",
     "output_type": "stream",
     "text": [
      "123036\n"
     ]
    },
    {
     "data": {
      "text/plain": [
       "123036"
      ]
     },
     "execution_count": 38,
     "metadata": {},
     "output_type": "execute_result"
    }
   ],
   "source": [
    "# проверим тоталы по количеству сообщений, что ничего не потеряли\n",
    "print(messages['message_id'].count()) \n",
    "month_messages['message_id'].sum()"
   ]
  },
  {
   "cell_type": "code",
   "execution_count": 39,
   "metadata": {
    "colab": {
     "base_uri": "https://localhost:8080/",
     "height": 424
    },
    "colab_type": "code",
    "id": "Cvp6zEPfBW2K",
    "outputId": "527b519f-6004-49ce-ffa8-3b31ff163a4d"
   },
   "outputs": [],
   "source": [
    "# добавим каждому пользователю ИНТЕРНЕТ СЕССИИ\n",
    "users_internet = users.merge(internet, on='user_id', how='left')\n",
    "# саггрегируем сессии на каждый месяц\n",
    "month_internet = users_internet.groupby(['user_id', 'month'])['mb_used_round'].sum().reset_index()"
   ]
  },
  {
   "cell_type": "code",
   "execution_count": 40,
   "metadata": {
    "colab": {
     "base_uri": "https://localhost:8080/",
     "height": 424
    },
    "colab_type": "code",
    "id": "6qJebaNqBW2U",
    "outputId": "78b68984-490d-4428-af87-2e8e529e7b0e"
   },
   "outputs": [],
   "source": [
    "# набрасываем на заготовку отчета саггрегированные данные по ИНТЕРНЕТ СЕССИЯМ\n",
    "report = report.merge(month_internet, how='left', on=['month', 'user_id'])"
   ]
  },
  {
   "cell_type": "code",
   "execution_count": 41,
   "metadata": {
    "colab": {},
    "colab_type": "code",
    "id": "4S0v6RAqBW2X"
   },
   "outputs": [],
   "source": [
    "# где пропущенные значения пользователь не звонил или не писал или нет трафика, заменим NaN на нуль\n",
    "report = report.fillna(0)\n",
    "\n",
    "# переименуем столбцы для красоты\n",
    "report.columns = ['month', 'user_id', 'age', 'churn_date', 'city', 'first_name',\n",
    "       'last_name', 'reg_date', 'tariff', 'reg_month', 'month_sum',\n",
    "       'calls_min', 'messages', 'internet_mb']\n",
    "\n",
    "# переведем в целочисленный формат\n",
    "report[['calls_min', 'messages', 'internet_mb']] = report[['calls_min', 'messages', 'internet_mb']].astype('int')"
   ]
  },
  {
   "cell_type": "code",
   "execution_count": 42,
   "metadata": {
    "colab": {
     "base_uri": "https://localhost:8080/",
     "height": 244
    },
    "colab_type": "code",
    "id": "QqsE5d5VBW2c",
    "outputId": "35c48d32-dc70-4fb7-b932-44f84b3f641c"
   },
   "outputs": [],
   "source": [
    "# добавим к ежемесячному отчету тариф\n",
    "report = report.merge(tariffs, on='tariff')"
   ]
  },
  {
   "cell_type": "code",
   "execution_count": 43,
   "metadata": {
    "colab": {},
    "colab_type": "code",
    "id": "X49Bk6EJBW2f"
   },
   "outputs": [],
   "source": [
    "# посчитаем выручку: (факт - включено) * тариф\n",
    "report['calls_revenue'] = (report['calls_min'] - report['minutes_included']) * report['rub_per_minute']\n",
    "report['messages_revenue'] = (report['messages'] - report['messages_included']) * report['rub_per_message']\n",
    "report['internet_revenue'] = (report['internet_mb'] - report['mb_per_month_included']) * report['rub_per_mb']\n",
    "\n",
    "# уберем артефакты с отрицательными значения выручки\n",
    "for column in ['calls_revenue', 'messages_revenue', 'internet_revenue']:\n",
    "    report[column] = report[column].where(report[column] > 0, 0)"
   ]
  },
  {
   "cell_type": "code",
   "execution_count": 44,
   "metadata": {
    "colab": {},
    "colab_type": "code",
    "id": "VlImO-4rBW2n"
   },
   "outputs": [],
   "source": [
    "# добавим столбец суммарной выручки по пользователю в месяц\n",
    "report['month_total_revenue'] = report['calls_revenue'] + report['messages_revenue'] + \\\n",
    "                                report['internet_revenue'] + report['rub_monthly_fee']"
   ]
  },
  {
   "cell_type": "markdown",
   "metadata": {
    "colab_type": "text",
    "id": "0-VauOyeHJmq"
   },
   "source": [
    "### Итоговый ежемесячный отчет на каждого пользователя"
   ]
  },
  {
   "cell_type": "code",
   "execution_count": 45,
   "metadata": {
    "colab": {
     "base_uri": "https://localhost:8080/",
     "height": 455
    },
    "colab_type": "code",
    "id": "NWp4EokThftt",
    "outputId": "3d037545-88d0-4b4f-85a6-79aba1957f59"
   },
   "outputs": [
    {
     "data": {
      "text/html": [
       "<div>\n",
       "<style scoped>\n",
       "    .dataframe tbody tr th:only-of-type {\n",
       "        vertical-align: middle;\n",
       "    }\n",
       "\n",
       "    .dataframe tbody tr th {\n",
       "        vertical-align: top;\n",
       "    }\n",
       "\n",
       "    .dataframe thead th {\n",
       "        text-align: right;\n",
       "    }\n",
       "</style>\n",
       "<table border=\"1\" class=\"dataframe\">\n",
       "  <thead>\n",
       "    <tr style=\"text-align: right;\">\n",
       "      <th></th>\n",
       "      <th></th>\n",
       "      <th>calls_revenue</th>\n",
       "      <th>messages_revenue</th>\n",
       "      <th>internet_revenue</th>\n",
       "      <th>rub_monthly_fee</th>\n",
       "      <th>month_total_revenue</th>\n",
       "    </tr>\n",
       "    <tr>\n",
       "      <th>month</th>\n",
       "      <th>user_id</th>\n",
       "      <th></th>\n",
       "      <th></th>\n",
       "      <th></th>\n",
       "      <th></th>\n",
       "      <th></th>\n",
       "    </tr>\n",
       "  </thead>\n",
       "  <tbody>\n",
       "    <tr>\n",
       "      <th rowspan=\"5\" valign=\"top\">2018-01-01</th>\n",
       "      <th>1005</th>\n",
       "      <td>0</td>\n",
       "      <td>0</td>\n",
       "      <td>0.000000</td>\n",
       "      <td>550</td>\n",
       "      <td>550.000000</td>\n",
       "    </tr>\n",
       "    <tr>\n",
       "      <th>1032</th>\n",
       "      <td>0</td>\n",
       "      <td>0</td>\n",
       "      <td>1716.210938</td>\n",
       "      <td>550</td>\n",
       "      <td>2266.210938</td>\n",
       "    </tr>\n",
       "    <tr>\n",
       "      <th>1045</th>\n",
       "      <td>0</td>\n",
       "      <td>0</td>\n",
       "      <td>0.000000</td>\n",
       "      <td>550</td>\n",
       "      <td>550.000000</td>\n",
       "    </tr>\n",
       "    <tr>\n",
       "      <th>1055</th>\n",
       "      <td>153</td>\n",
       "      <td>0</td>\n",
       "      <td>341.992188</td>\n",
       "      <td>550</td>\n",
       "      <td>1044.992188</td>\n",
       "    </tr>\n",
       "    <tr>\n",
       "      <th>1071</th>\n",
       "      <td>0</td>\n",
       "      <td>0</td>\n",
       "      <td>51.171875</td>\n",
       "      <td>550</td>\n",
       "      <td>601.171875</td>\n",
       "    </tr>\n",
       "    <tr>\n",
       "      <th>...</th>\n",
       "      <th>...</th>\n",
       "      <td>...</td>\n",
       "      <td>...</td>\n",
       "      <td>...</td>\n",
       "      <td>...</td>\n",
       "      <td>...</td>\n",
       "    </tr>\n",
       "    <tr>\n",
       "      <th rowspan=\"5\" valign=\"top\">2018-12-01</th>\n",
       "      <th>1494</th>\n",
       "      <td>0</td>\n",
       "      <td>0</td>\n",
       "      <td>446.289062</td>\n",
       "      <td>550</td>\n",
       "      <td>996.289062</td>\n",
       "    </tr>\n",
       "    <tr>\n",
       "      <th>1495</th>\n",
       "      <td>0</td>\n",
       "      <td>0</td>\n",
       "      <td>0.000000</td>\n",
       "      <td>1950</td>\n",
       "      <td>1950.000000</td>\n",
       "    </tr>\n",
       "    <tr>\n",
       "      <th>1496</th>\n",
       "      <td>54</td>\n",
       "      <td>3</td>\n",
       "      <td>1054.101562</td>\n",
       "      <td>550</td>\n",
       "      <td>1661.101562</td>\n",
       "    </tr>\n",
       "    <tr>\n",
       "      <th>1497</th>\n",
       "      <td>135</td>\n",
       "      <td>0</td>\n",
       "      <td>894.531250</td>\n",
       "      <td>550</td>\n",
       "      <td>1579.531250</td>\n",
       "    </tr>\n",
       "    <tr>\n",
       "      <th>1499</th>\n",
       "      <td>0</td>\n",
       "      <td>48</td>\n",
       "      <td>0.000000</td>\n",
       "      <td>550</td>\n",
       "      <td>598.000000</td>\n",
       "    </tr>\n",
       "  </tbody>\n",
       "</table>\n",
       "<p>3216 rows × 5 columns</p>\n",
       "</div>"
      ],
      "text/plain": [
       "                    calls_revenue  messages_revenue  internet_revenue  \\\n",
       "month      user_id                                                      \n",
       "2018-01-01 1005                 0                 0          0.000000   \n",
       "           1032                 0                 0       1716.210938   \n",
       "           1045                 0                 0          0.000000   \n",
       "           1055               153                 0        341.992188   \n",
       "           1071                 0                 0         51.171875   \n",
       "...                           ...               ...               ...   \n",
       "2018-12-01 1494                 0                 0        446.289062   \n",
       "           1495                 0                 0          0.000000   \n",
       "           1496                54                 3       1054.101562   \n",
       "           1497               135                 0        894.531250   \n",
       "           1499                 0                48          0.000000   \n",
       "\n",
       "                    rub_monthly_fee  month_total_revenue  \n",
       "month      user_id                                        \n",
       "2018-01-01 1005                 550           550.000000  \n",
       "           1032                 550          2266.210938  \n",
       "           1045                 550           550.000000  \n",
       "           1055                 550          1044.992188  \n",
       "           1071                 550           601.171875  \n",
       "...                             ...                  ...  \n",
       "2018-12-01 1494                 550           996.289062  \n",
       "           1495                1950          1950.000000  \n",
       "           1496                 550          1661.101562  \n",
       "           1497                 550          1579.531250  \n",
       "           1499                 550           598.000000  \n",
       "\n",
       "[3216 rows x 5 columns]"
      ]
     },
     "execution_count": 45,
     "metadata": {},
     "output_type": "execute_result"
    }
   ],
   "source": [
    "# небходимые столбцы\n",
    "report.groupby(['month', 'user_id'])[['calls_revenue', 'messages_revenue', 'internet_revenue', 'rub_monthly_fee','month_total_revenue']].sum()"
   ]
  },
  {
   "cell_type": "code",
   "execution_count": 46,
   "metadata": {
    "colab": {
     "base_uri": "https://localhost:8080/",
     "height": 35
    },
    "colab_type": "code",
    "id": "9WSL-0VqY5bH",
    "outputId": "1d0dc8ef-34fa-4655-f9fb-230aec74b544",
    "scrolled": true
   },
   "outputs": [
    {
     "name": "stdout",
     "output_type": "stream",
     "text": [
      "Суммарная выручка от SMARTов 2749685.96 руб, суммарная выручка от ULTRA 2031572.02 руб\n"
     ]
    }
   ],
   "source": [
    "smart_revenue = report.query('tariff_name == \"smart\"')['month_total_revenue'].sum()\n",
    "ultra_revenue = report.query('tariff_name == \"ultra\"')['month_total_revenue'].sum()\n",
    "print('Суммарная выручка от SMARTов {:.2f} руб, суммарная выручка от ULTRA {:.2f} руб'.format(smart_revenue, ultra_revenue))"
   ]
  },
  {
   "cell_type": "code",
   "execution_count": 47,
   "metadata": {},
   "outputs": [
    {
     "name": "stdout",
     "output_type": "stream",
     "text": [
      "Для тарифа SMART в бесплатный лимит уложились 27.4% пользователей, \n",
      "для тарифа ULTRA в бесплатный лимит уложились 87.2% пользователей\n"
     ]
    }
   ],
   "source": [
    "# проверим удается ли пользователям \"укладываться\" в бесплатные лимиты\n",
    "# будем считать, что уложились, если расходы пользователя в месяц не превышают абонентскую плату\n",
    "report['ratio'] = (report['month_total_revenue'] / report['rub_monthly_fee']).round(1)\n",
    "in_limit_smart = len(report.query('tariff_name == \"smart\" and ratio <= 1')) / len(report.query('tariff_name == \"smart\"')) \n",
    "in_limit_ultra = len(report.query('tariff_name == \"ultra\" and ratio <= 1')) / len(report.query('tariff_name == \"ultra\"')) \n",
    "print('Для тарифа SMART в бесплатный лимит уложились {:.1%} пользователей, \\n\\\n",
    "для тарифа ULTRA в бесплатный лимит уложились {:.1%} пользователей'.format(in_limit_smart, in_limit_ultra))"
   ]
  },
  {
   "cell_type": "markdown",
   "metadata": {
    "colab_type": "text",
    "id": "Q6ZEqV-3bCcg"
   },
   "source": [
    "### Выводы:\n",
    "- суммарная выручка составляет 4.78 млн. руб, из них клиенты SMART 2.75 млн, клиенты ULTRA 2.03 млн. руб;\n",
    "- среди пользователей тарифа SMART в оплаченный абонентской платой лимит звонков, сообщений, интернет трафика уложились 27.4% пользователей, для тарифа ULTRA - 87.2%. Этим и можно аргументировать перейти SMART пользователя на тариф ULTRA - тут включено больше минут, сообщений, мегабайт."
   ]
  },
  {
   "cell_type": "markdown",
   "metadata": {
    "colab_type": "text",
    "id": "gFc2sjIPBW21"
   },
   "source": [
    "### Статистистики для двух групп пользователей: средние, дисперсия, стандартное отклонение"
   ]
  },
  {
   "cell_type": "code",
   "execution_count": 48,
   "metadata": {
    "colab": {
     "base_uri": "https://localhost:8080/",
     "height": 426
    },
    "colab_type": "code",
    "id": "uuriL2qqRXnN",
    "outputId": "b516e7fd-94d4-46c5-eb0f-b4a6e93a11da"
   },
   "outputs": [
    {
     "data": {
      "text/html": [
       "<div>\n",
       "<style scoped>\n",
       "    .dataframe tbody tr th:only-of-type {\n",
       "        vertical-align: middle;\n",
       "    }\n",
       "\n",
       "    .dataframe tbody tr th {\n",
       "        vertical-align: top;\n",
       "    }\n",
       "\n",
       "    .dataframe thead th {\n",
       "        text-align: right;\n",
       "    }\n",
       "</style>\n",
       "<table border=\"1\" class=\"dataframe\">\n",
       "  <thead>\n",
       "    <tr style=\"text-align: right;\">\n",
       "      <th></th>\n",
       "      <th>month</th>\n",
       "      <th>calls_smart_avg</th>\n",
       "      <th>calls_ultra_avg</th>\n",
       "      <th>messages_smart_avg</th>\n",
       "      <th>messages_ultra_avg</th>\n",
       "      <th>internet_smart_avg</th>\n",
       "      <th>internet_ultra_avg</th>\n",
       "    </tr>\n",
       "  </thead>\n",
       "  <tbody>\n",
       "    <tr>\n",
       "      <th>0</th>\n",
       "      <td>2018-01-01</td>\n",
       "      <td>203.85</td>\n",
       "      <td>428.11</td>\n",
       "      <td>18.24</td>\n",
       "      <td>33.78</td>\n",
       "      <td>8524.44</td>\n",
       "      <td>13153.56</td>\n",
       "    </tr>\n",
       "    <tr>\n",
       "      <th>1</th>\n",
       "      <td>2018-02-01</td>\n",
       "      <td>298.69</td>\n",
       "      <td>297.12</td>\n",
       "      <td>24.09</td>\n",
       "      <td>21.96</td>\n",
       "      <td>11611.40</td>\n",
       "      <td>11786.96</td>\n",
       "    </tr>\n",
       "    <tr>\n",
       "      <th>2</th>\n",
       "      <td>2018-03-01</td>\n",
       "      <td>390.05</td>\n",
       "      <td>489.65</td>\n",
       "      <td>31.86</td>\n",
       "      <td>32.30</td>\n",
       "      <td>15123.86</td>\n",
       "      <td>17551.97</td>\n",
       "    </tr>\n",
       "    <tr>\n",
       "      <th>3</th>\n",
       "      <td>2018-04-01</td>\n",
       "      <td>367.13</td>\n",
       "      <td>458.02</td>\n",
       "      <td>30.74</td>\n",
       "      <td>31.56</td>\n",
       "      <td>13479.48</td>\n",
       "      <td>16843.80</td>\n",
       "    </tr>\n",
       "    <tr>\n",
       "      <th>4</th>\n",
       "      <td>2018-05-01</td>\n",
       "      <td>387.36</td>\n",
       "      <td>510.33</td>\n",
       "      <td>33.77</td>\n",
       "      <td>37.85</td>\n",
       "      <td>15825.20</td>\n",
       "      <td>19381.19</td>\n",
       "    </tr>\n",
       "    <tr>\n",
       "      <th>5</th>\n",
       "      <td>2018-06-01</td>\n",
       "      <td>395.64</td>\n",
       "      <td>479.70</td>\n",
       "      <td>33.40</td>\n",
       "      <td>41.73</td>\n",
       "      <td>15814.77</td>\n",
       "      <td>18942.24</td>\n",
       "    </tr>\n",
       "    <tr>\n",
       "      <th>6</th>\n",
       "      <td>2018-07-01</td>\n",
       "      <td>408.35</td>\n",
       "      <td>545.79</td>\n",
       "      <td>33.75</td>\n",
       "      <td>49.85</td>\n",
       "      <td>15763.51</td>\n",
       "      <td>20514.65</td>\n",
       "    </tr>\n",
       "    <tr>\n",
       "      <th>7</th>\n",
       "      <td>2018-08-01</td>\n",
       "      <td>421.47</td>\n",
       "      <td>510.78</td>\n",
       "      <td>33.64</td>\n",
       "      <td>48.44</td>\n",
       "      <td>16632.17</td>\n",
       "      <td>19594.07</td>\n",
       "    </tr>\n",
       "    <tr>\n",
       "      <th>8</th>\n",
       "      <td>2018-09-01</td>\n",
       "      <td>428.61</td>\n",
       "      <td>539.44</td>\n",
       "      <td>33.64</td>\n",
       "      <td>52.29</td>\n",
       "      <td>16324.53</td>\n",
       "      <td>19222.21</td>\n",
       "    </tr>\n",
       "    <tr>\n",
       "      <th>9</th>\n",
       "      <td>2018-10-01</td>\n",
       "      <td>426.14</td>\n",
       "      <td>558.08</td>\n",
       "      <td>33.77</td>\n",
       "      <td>58.43</td>\n",
       "      <td>16778.56</td>\n",
       "      <td>20063.87</td>\n",
       "    </tr>\n",
       "    <tr>\n",
       "      <th>10</th>\n",
       "      <td>2018-11-01</td>\n",
       "      <td>435.27</td>\n",
       "      <td>541.38</td>\n",
       "      <td>34.08</td>\n",
       "      <td>55.79</td>\n",
       "      <td>16917.53</td>\n",
       "      <td>19805.31</td>\n",
       "    </tr>\n",
       "    <tr>\n",
       "      <th>11</th>\n",
       "      <td>2018-12-01</td>\n",
       "      <td>477.14</td>\n",
       "      <td>588.57</td>\n",
       "      <td>35.89</td>\n",
       "      <td>60.18</td>\n",
       "      <td>18083.17</td>\n",
       "      <td>21657.78</td>\n",
       "    </tr>\n",
       "  </tbody>\n",
       "</table>\n",
       "</div>"
      ],
      "text/plain": [
       "        month  calls_smart_avg  calls_ultra_avg  messages_smart_avg  \\\n",
       "0  2018-01-01           203.85           428.11               18.24   \n",
       "1  2018-02-01           298.69           297.12               24.09   \n",
       "2  2018-03-01           390.05           489.65               31.86   \n",
       "3  2018-04-01           367.13           458.02               30.74   \n",
       "4  2018-05-01           387.36           510.33               33.77   \n",
       "5  2018-06-01           395.64           479.70               33.40   \n",
       "6  2018-07-01           408.35           545.79               33.75   \n",
       "7  2018-08-01           421.47           510.78               33.64   \n",
       "8  2018-09-01           428.61           539.44               33.64   \n",
       "9  2018-10-01           426.14           558.08               33.77   \n",
       "10 2018-11-01           435.27           541.38               34.08   \n",
       "11 2018-12-01           477.14           588.57               35.89   \n",
       "\n",
       "    messages_ultra_avg  internet_smart_avg  internet_ultra_avg  \n",
       "0                33.78             8524.44            13153.56  \n",
       "1                21.96            11611.40            11786.96  \n",
       "2                32.30            15123.86            17551.97  \n",
       "3                31.56            13479.48            16843.80  \n",
       "4                37.85            15825.20            19381.19  \n",
       "5                41.73            15814.77            18942.24  \n",
       "6                49.85            15763.51            20514.65  \n",
       "7                48.44            16632.17            19594.07  \n",
       "8                52.29            16324.53            19222.21  \n",
       "9                58.43            16778.56            20063.87  \n",
       "10               55.79            16917.53            19805.31  \n",
       "11               60.18            18083.17            21657.78  "
      ]
     },
     "execution_count": 48,
     "metadata": {},
     "output_type": "execute_result"
    }
   ],
   "source": [
    "# среднее количество мину, сообщений, мегабайт в месяц для каждой группы\n",
    "smart = report.query('tariff_name == \"smart\"').groupby('month')[['calls_min', 'messages', 'internet_mb']].mean().reset_index()\n",
    "ultra = report.query('tariff_name == \"ultra\"').groupby('month')[['calls_min', 'messages', 'internet_mb']].mean().reset_index()\n",
    "result = smart.join(ultra, rsuffix='_ul').drop('month_ul', axis=1).round(2)\n",
    "result.columns = ['month', 'calls_smart_avg', 'messages_smart_avg', 'internet_smart_avg', 'calls_ultra_avg', 'messages_ultra_avg', 'internet_ultra_avg']\n",
    "result = result[['month', 'calls_smart_avg', 'calls_ultra_avg', 'messages_smart_avg', 'messages_ultra_avg', 'internet_smart_avg', 'internet_ultra_avg']]\n",
    "result"
   ]
  },
  {
   "cell_type": "code",
   "execution_count": 50,
   "metadata": {
    "colab": {
     "base_uri": "https://localhost:8080/",
     "height": 441
    },
    "colab_type": "code",
    "id": "OhAML2xYLtlC",
    "outputId": "07c1658c-5f17-4938-87bc-cc66406e694f"
   },
   "outputs": [
    {
     "data": {
      "image/png": "[encoded data removed]",
      "text/plain": [
       "<Figure size 864x360 with 1 Axes>"
      ]
     },
     "metadata": {},
     "output_type": "display_data"
    }
   ],
   "source": [
    "# тоже, но графически, ЗВОНКИ\n",
    "labels = result['month'].dt.month\n",
    "smart = result['calls_smart_avg']\n",
    "ultra = result['calls_ultra_avg']\n",
    "\n",
    "x = np.arange(len(labels))  # the label locations\n",
    "width = 0.25  # the width of the bars\n",
    "\n",
    "fig, ax = plt.subplots()\n",
    "\n",
    "rects1 = ax.bar(x - width/2, smart, width, label='SMART')\n",
    "rects2 = ax.bar(x + width/2, ultra, width, label='ULTRA')\n",
    "\n",
    "# Add some text for labels, title and custom x-axis tick labels, etc.\n",
    "ax.set_ylabel('Calls in minutes')\n",
    "ax.set_title('Average CALLS duration by month')\n",
    "ax.set_xticks(x)\n",
    "ax.set_xticklabels(labels)\n",
    "ax.legend()\n",
    "\n",
    "\n",
    "def autolabel(rects):\n",
    "    \"\"\"Attach a text label above each bar in *rects*, displaying its height.\"\"\"\n",
    "    for rect in rects:\n",
    "        height = rect.get_height()\n",
    "        ax.annotate('{}'.format(height),\n",
    "                    xy=(rect.get_x() + rect.get_width() / 2, height),\n",
    "                    xytext=(0, 3),  # 3 points vertical offset\n",
    "                    textcoords=\"offset points\",\n",
    "                    ha='center', va='bottom')\n",
    "\n",
    "autolabel(rects1)\n",
    "autolabel(rects2)\n",
    "fig.tight_layout()\n",
    "plt.show(figsize(12,5))\n",
    "\n",
    "# для себя памятка https://matplotlib.org/3.1.1/gallery/lines_bars_and_markers/barchart.html"
   ]
  },
  {
   "cell_type": "code",
   "execution_count": 51,
   "metadata": {
    "colab": {
     "base_uri": "https://localhost:8080/",
     "height": 369
    },
    "colab_type": "code",
    "id": "w7q53niQHfJu",
    "outputId": "e004692b-a6c3-4b3b-f91b-fb39712b9b93"
   },
   "outputs": [
    {
     "data": {
      "image/png": "[encoded data removed]",
      "text/plain": [
       "<Figure size 864x360 with 1 Axes>"
      ]
     },
     "metadata": {},
     "output_type": "display_data"
    }
   ],
   "source": [
    "# тоже, но графически, СООБЩЕНИЯ\n",
    "labels = result['month'].dt.month\n",
    "smart = result['messages_smart_avg']\n",
    "ultra = result['messages_ultra_avg']\n",
    "\n",
    "x = np.arange(len(labels))  # the label locations\n",
    "width = 0.25  # the width of the bars\n",
    "\n",
    "fig, ax = plt.subplots()\n",
    "\n",
    "rects1 = ax.bar(x - width/2, smart, width, label='SMART')\n",
    "rects2 = ax.bar(x + width/2, ultra, width, label='ULTRA')\n",
    "\n",
    "# Add some text for labels, title and custom x-axis tick labels, etc.\n",
    "ax.set_ylabel('Quantity of messages in pcs')\n",
    "ax.set_title('Average quantity of MESSAGES by month')\n",
    "ax.set_xticks(x)\n",
    "ax.set_xticklabels(labels)\n",
    "ax.legend()\n",
    "\n",
    "autolabel(rects1)\n",
    "autolabel(rects2)\n",
    "fig.tight_layout()\n",
    "plt.show(figsize(12,5))\n"
   ]
  },
  {
   "cell_type": "code",
   "execution_count": 52,
   "metadata": {
    "colab": {
     "base_uri": "https://localhost:8080/",
     "height": 369
    },
    "colab_type": "code",
    "id": "Pp-HC-LWD6VC",
    "outputId": "7dbc2d80-7206-4f0c-bea7-3b83df78a786"
   },
   "outputs": [
    {
     "data": {
      "image/png": "[encoded data removed]",
      "text/plain": [
       "<Figure size 864x360 with 1 Axes>"
      ]
     },
     "metadata": {},
     "output_type": "display_data"
    }
   ],
   "source": [
    "# тоже, но графически, интернет ТРАФИК\n",
    "labels = result['month'].dt.month\n",
    "smart = result['internet_smart_avg']\n",
    "ultra = result['internet_ultra_avg']\n",
    "\n",
    "x = np.arange(len(labels))  # the label locations\n",
    "width = 0.25  # the width of the bars\n",
    "\n",
    "fig, ax = plt.subplots()\n",
    "\n",
    "rects1 = ax.bar(x - width/2, smart, width, label='SMART')\n",
    "rects2 = ax.bar(x + width/2, ultra, width, label='ULTRA')\n",
    "\n",
    "# Add some text for labels, title and custom x-axis tick labels, etc.\n",
    "ax.set_ylabel('Internet traffic in mb')\n",
    "ax.set_title('Average Internet TRAFFIC by month')\n",
    "ax.set_xticks(x)\n",
    "ax.set_xticklabels(labels)\n",
    "ax.legend()\n",
    "\n",
    "autolabel(rects1)\n",
    "autolabel(rects2)\n",
    "fig.tight_layout()\n",
    "plt.show(figsize(12,5))"
   ]
  },
  {
   "cell_type": "code",
   "execution_count": 53,
   "metadata": {},
   "outputs": [
    {
     "data": {
      "text/html": [
       "<div>\n",
       "<style scoped>\n",
       "    .dataframe tbody tr th:only-of-type {\n",
       "        vertical-align: middle;\n",
       "    }\n",
       "\n",
       "    .dataframe tbody tr th {\n",
       "        vertical-align: top;\n",
       "    }\n",
       "\n",
       "    .dataframe thead tr th {\n",
       "        text-align: left;\n",
       "    }\n",
       "\n",
       "    .dataframe thead tr:last-of-type th {\n",
       "        text-align: right;\n",
       "    }\n",
       "</style>\n",
       "<table border=\"1\" class=\"dataframe\">\n",
       "  <thead>\n",
       "    <tr>\n",
       "      <th></th>\n",
       "      <th colspan=\"3\" halign=\"left\">calls_min</th>\n",
       "      <th colspan=\"3\" halign=\"left\">messages</th>\n",
       "      <th colspan=\"3\" halign=\"left\">internet_mb</th>\n",
       "    </tr>\n",
       "    <tr>\n",
       "      <th></th>\n",
       "      <th>mean</th>\n",
       "      <th>var</th>\n",
       "      <th>std</th>\n",
       "      <th>mean</th>\n",
       "      <th>var</th>\n",
       "      <th>std</th>\n",
       "      <th>mean</th>\n",
       "      <th>var</th>\n",
       "      <th>std</th>\n",
       "    </tr>\n",
       "    <tr>\n",
       "      <th>tariff_name</th>\n",
       "      <th></th>\n",
       "      <th></th>\n",
       "      <th></th>\n",
       "      <th></th>\n",
       "      <th></th>\n",
       "      <th></th>\n",
       "      <th></th>\n",
       "      <th></th>\n",
       "      <th></th>\n",
       "    </tr>\n",
       "  </thead>\n",
       "  <tbody>\n",
       "    <tr>\n",
       "      <th>smart</th>\n",
       "      <td>417.75</td>\n",
       "      <td>36281.39</td>\n",
       "      <td>190.48</td>\n",
       "      <td>33.37</td>\n",
       "      <td>796.96</td>\n",
       "      <td>28.23</td>\n",
       "      <td>16221.91</td>\n",
       "      <td>3.464852e+07</td>\n",
       "      <td>5886.30</td>\n",
       "    </tr>\n",
       "    <tr>\n",
       "      <th>ultra</th>\n",
       "      <td>526.09</td>\n",
       "      <td>101052.49</td>\n",
       "      <td>317.89</td>\n",
       "      <td>49.31</td>\n",
       "      <td>2285.42</td>\n",
       "      <td>47.81</td>\n",
       "      <td>19467.14</td>\n",
       "      <td>1.022173e+08</td>\n",
       "      <td>10110.26</td>\n",
       "    </tr>\n",
       "  </tbody>\n",
       "</table>\n",
       "</div>"
      ],
      "text/plain": [
       "            calls_min                    messages                 internet_mb  \\\n",
       "                 mean        var     std     mean      var    std        mean   \n",
       "tariff_name                                                                     \n",
       "smart          417.75   36281.39  190.48    33.37   796.96  28.23    16221.91   \n",
       "ultra          526.09  101052.49  317.89    49.31  2285.42  47.81    19467.14   \n",
       "\n",
       "                                     \n",
       "                      var       std  \n",
       "tariff_name                          \n",
       "smart        3.464852e+07   5886.30  \n",
       "ultra        1.022173e+08  10110.26  "
      ]
     },
     "execution_count": 53,
     "metadata": {},
     "output_type": "execute_result"
    }
   ],
   "source": [
    "# рассчитаем среднее, дисперсию, станд. отклонение для тарифов SMART и ULTRA для каждого парамертра:\n",
    "# длительности звонков, количества сообщений, объема интернет трафика\n",
    "report.groupby('tariff_name')[['calls_min', 'messages', 'internet_mb']].agg(['mean', 'var', 'std']).round(2)"
   ]
  },
  {
   "cell_type": "markdown",
   "metadata": {
    "colab_type": "text",
    "id": "rCWNeyF0BKQA"
   },
   "source": [
    "### Выводы:\n",
    "- пользователи тарифа Ultra в среднем за месяц наговаривают 526 мин, что на 21% больше, чем у клиентов тарифа Smart (418 мин);\n",
    "-  пользователи тарифа Ultra в среднем в месяц посылают 49 сообщений, что на 33% больше, чем у клиентов тарифа Smart (33 сообщения);\n",
    "- пользователи тарифа Ultra в среднем в месяц используют 19.0 Гб интернет трафика, что на 17% больше, чем у клиентов тарифа Smart (15.8 Гб)."
   ]
  },
  {
   "cell_type": "markdown",
   "metadata": {
    "colab_type": "text",
    "id": "lDqfMnhlBW26"
   },
   "source": [
    "### Гипотеза №1\n",
    "- __нулевая гипотеза__: средняя ежемесячная выручка пользователей тарифа SMART равна средней ежемесячной выручки пользователей тарифа ULTRA\n",
    "- __альтернативная гипотеза__: данные выручки не равны"
   ]
  },
  {
   "cell_type": "code",
   "execution_count": 54,
   "metadata": {
    "colab": {
     "base_uri": "https://localhost:8080/",
     "height": 834
    },
    "colab_type": "code",
    "id": "0amO3RZ_g37Z",
    "outputId": "73e814c6-da73-4950-e17b-0763f64da010"
   },
   "outputs": [
    {
     "data": {
      "text/html": [
       "<div>\n",
       "<style scoped>\n",
       "    .dataframe tbody tr th:only-of-type {\n",
       "        vertical-align: middle;\n",
       "    }\n",
       "\n",
       "    .dataframe tbody tr th {\n",
       "        vertical-align: top;\n",
       "    }\n",
       "\n",
       "    .dataframe thead th {\n",
       "        text-align: right;\n",
       "    }\n",
       "</style>\n",
       "<table border=\"1\" class=\"dataframe\">\n",
       "  <thead>\n",
       "    <tr style=\"text-align: right;\">\n",
       "      <th></th>\n",
       "      <th></th>\n",
       "      <th>mean</th>\n",
       "      <th>sum</th>\n",
       "    </tr>\n",
       "    <tr>\n",
       "      <th>tariff_name</th>\n",
       "      <th>month</th>\n",
       "      <th></th>\n",
       "      <th></th>\n",
       "    </tr>\n",
       "  </thead>\n",
       "  <tbody>\n",
       "    <tr>\n",
       "      <th rowspan=\"12\" valign=\"top\">smart</th>\n",
       "      <th>2018-01-01</th>\n",
       "      <td>702.556296</td>\n",
       "      <td>23886.914062</td>\n",
       "    </tr>\n",
       "    <tr>\n",
       "      <th>2018-02-01</th>\n",
       "      <td>804.337689</td>\n",
       "      <td>46651.585938</td>\n",
       "    </tr>\n",
       "    <tr>\n",
       "      <th>2018-03-01</th>\n",
       "      <td>1118.382508</td>\n",
       "      <td>86115.453125</td>\n",
       "    </tr>\n",
       "    <tr>\n",
       "      <th>2018-04-01</th>\n",
       "      <td>922.340472</td>\n",
       "      <td>103302.132812</td>\n",
       "    </tr>\n",
       "    <tr>\n",
       "      <th>2018-05-01</th>\n",
       "      <td>1146.921930</td>\n",
       "      <td>161715.992188</td>\n",
       "    </tr>\n",
       "    <tr>\n",
       "      <th>2018-06-01</th>\n",
       "      <td>1149.579697</td>\n",
       "      <td>188531.070312</td>\n",
       "    </tr>\n",
       "    <tr>\n",
       "      <th>2018-07-01</th>\n",
       "      <td>1168.063666</td>\n",
       "      <td>234780.796875</td>\n",
       "    </tr>\n",
       "    <tr>\n",
       "      <th>2018-08-01</th>\n",
       "      <td>1258.498005</td>\n",
       "      <td>295747.031250</td>\n",
       "    </tr>\n",
       "    <tr>\n",
       "      <th>2018-09-01</th>\n",
       "      <td>1199.072506</td>\n",
       "      <td>311758.851562</td>\n",
       "    </tr>\n",
       "    <tr>\n",
       "      <th>2018-10-01</th>\n",
       "      <td>1304.842315</td>\n",
       "      <td>383623.640625</td>\n",
       "    </tr>\n",
       "    <tr>\n",
       "      <th>2018-11-01</th>\n",
       "      <td>1283.362812</td>\n",
       "      <td>405542.648438</td>\n",
       "    </tr>\n",
       "    <tr>\n",
       "      <th>2018-12-01</th>\n",
       "      <td>1503.046875</td>\n",
       "      <td>508029.843750</td>\n",
       "    </tr>\n",
       "    <tr>\n",
       "      <th rowspan=\"12\" valign=\"top\">ultra</th>\n",
       "      <th>2018-01-01</th>\n",
       "      <td>1950.000000</td>\n",
       "      <td>17550.000000</td>\n",
       "    </tr>\n",
       "    <tr>\n",
       "      <th>2018-02-01</th>\n",
       "      <td>1973.046875</td>\n",
       "      <td>47353.125000</td>\n",
       "    </tr>\n",
       "    <tr>\n",
       "      <th>2018-03-01</th>\n",
       "      <td>2004.171505</td>\n",
       "      <td>74154.345703</td>\n",
       "    </tr>\n",
       "    <tr>\n",
       "      <th>2018-04-01</th>\n",
       "      <td>1995.431463</td>\n",
       "      <td>109748.730469</td>\n",
       "    </tr>\n",
       "    <tr>\n",
       "      <th>2018-05-01</th>\n",
       "      <td>2054.965893</td>\n",
       "      <td>137682.714844</td>\n",
       "    </tr>\n",
       "    <tr>\n",
       "      <th>2018-06-01</th>\n",
       "      <td>2032.060896</td>\n",
       "      <td>170693.115234</td>\n",
       "    </tr>\n",
       "    <tr>\n",
       "      <th>2018-07-01</th>\n",
       "      <td>2108.502533</td>\n",
       "      <td>191873.730469</td>\n",
       "    </tr>\n",
       "    <tr>\n",
       "      <th>2018-08-01</th>\n",
       "      <td>2071.152161</td>\n",
       "      <td>221613.281250</td>\n",
       "    </tr>\n",
       "    <tr>\n",
       "      <th>2018-09-01</th>\n",
       "      <td>2013.725798</td>\n",
       "      <td>231578.466797</td>\n",
       "    </tr>\n",
       "    <tr>\n",
       "      <th>2018-10-01</th>\n",
       "      <td>2056.918112</td>\n",
       "      <td>253000.927734</td>\n",
       "    </tr>\n",
       "    <tr>\n",
       "      <th>2018-11-01</th>\n",
       "      <td>2080.786497</td>\n",
       "      <td>278825.390625</td>\n",
       "    </tr>\n",
       "    <tr>\n",
       "      <th>2018-12-01</th>\n",
       "      <td>2124.987095</td>\n",
       "      <td>297498.193359</td>\n",
       "    </tr>\n",
       "  </tbody>\n",
       "</table>\n",
       "</div>"
      ],
      "text/plain": [
       "                               mean            sum\n",
       "tariff_name month                                 \n",
       "smart       2018-01-01   702.556296   23886.914062\n",
       "            2018-02-01   804.337689   46651.585938\n",
       "            2018-03-01  1118.382508   86115.453125\n",
       "            2018-04-01   922.340472  103302.132812\n",
       "            2018-05-01  1146.921930  161715.992188\n",
       "            2018-06-01  1149.579697  188531.070312\n",
       "            2018-07-01  1168.063666  234780.796875\n",
       "            2018-08-01  1258.498005  295747.031250\n",
       "            2018-09-01  1199.072506  311758.851562\n",
       "            2018-10-01  1304.842315  383623.640625\n",
       "            2018-11-01  1283.362812  405542.648438\n",
       "            2018-12-01  1503.046875  508029.843750\n",
       "ultra       2018-01-01  1950.000000   17550.000000\n",
       "            2018-02-01  1973.046875   47353.125000\n",
       "            2018-03-01  2004.171505   74154.345703\n",
       "            2018-04-01  1995.431463  109748.730469\n",
       "            2018-05-01  2054.965893  137682.714844\n",
       "            2018-06-01  2032.060896  170693.115234\n",
       "            2018-07-01  2108.502533  191873.730469\n",
       "            2018-08-01  2071.152161  221613.281250\n",
       "            2018-09-01  2013.725798  231578.466797\n",
       "            2018-10-01  2056.918112  253000.927734\n",
       "            2018-11-01  2080.786497  278825.390625\n",
       "            2018-12-01  2124.987095  297498.193359"
      ]
     },
     "execution_count": 54,
     "metadata": {},
     "output_type": "execute_result"
    }
   ],
   "source": [
    "# посмотрим глазками как ведет себя средняя ежемесячная выручка в зависимости от тарифа\n",
    "report.groupby(['tariff_name', 'month'])['month_total_revenue'].agg(['mean', 'sum'])"
   ]
  },
  {
   "cell_type": "code",
   "execution_count": 55,
   "metadata": {
    "colab": {
     "base_uri": "https://localhost:8080/",
     "height": 35
    },
    "colab_type": "code",
    "id": "Eq7B4tbCBW27",
    "outputId": "5e37155f-412b-4ef5-e3ca-cb4c0bea3e4a"
   },
   "outputs": [
    {
     "name": "stdout",
     "output_type": "stream",
     "text": [
      "Средняя выручка от SMARTов 1233.04 руб, средняя выручка от ULTRA 2060.42 руб\n"
     ]
    }
   ],
   "source": [
    "# средняя месячная выручка на одного Smart и Ultra клиента\n",
    "smart_revenue_avg = report.query('tariff_name == \"smart\"')['month_total_revenue'].mean() \n",
    "ultra_revenue_avg = report.query('tariff_name == \"ultra\"')['month_total_revenue'].mean() \n",
    "print('Средняя выручка от SMARTов {:.2f} руб, средняя выручка от ULTRA {:.2f} руб'.format(smart_revenue_avg, ultra_revenue_avg))"
   ]
  },
  {
   "cell_type": "code",
   "execution_count": 60,
   "metadata": {
    "colab": {
     "base_uri": "https://localhost:8080/",
     "height": 91
    },
    "colab_type": "code",
    "id": "5MsShmoxBW2_",
    "outputId": "f1e101fa-d025-4e60-86c9-7b1d80c09f19"
   },
   "outputs": [
    {
     "name": "stdout",
     "output_type": "stream",
     "text": [
      "Дисперсия SMART 49879.698944027994\n",
      "Дисперсия ULTRA 2877.16310708309\n",
      "8.404356952885463e-09\n",
      "True\n",
      "Отвергаем нулевую гипотезу\n"
     ]
    }
   ],
   "source": [
    "# массивы ежемесячных выручек для разных тарифов\n",
    "temp = report.groupby(['tariff_name', 'month'])['month_total_revenue'].mean().reset_index()\n",
    "smart = temp.query('tariff_name == \"smart\"')['month_total_revenue']\n",
    "ultra = temp.query('tariff_name == \"ultra\"')['month_total_revenue']\n",
    "# сравним дисперсии для выборок ULTRA и SMART\n",
    "print('Дисперсия SMART', np.var(smart, ddof=1))\n",
    "print('Дисперсия ULTRA', np.var(ultra, ddof=1))\n",
    "\n",
    "# проведем тест для предположения, что дисперсии сильно отличаются\n",
    "results = st.ttest_ind(smart, ultra, equal_var=False)\n",
    "print(results.pvalue)\n",
    "# выберем уровень значимости как \n",
    "alpha = 0.05\n",
    "\n",
    "print(results.pvalue < alpha)\n",
    "print(\"Отвергаем нулевую гипотезу\")\n",
    "\n",
    "# ВЫВОД: pvalue < alpha, есть основания отклонить нулевую гипотезу и принять альтернативную\n",
    "# хорошо бы провести односторонний тест, что ср. выручка ULTRA превышает ср. выручку SMART"
   ]
  },
  {
   "cell_type": "markdown",
   "metadata": {
    "colab_type": "text",
    "id": "GQwjTfCaiGwK"
   },
   "source": [
    "### Гипотеза №2 \n",
    "- __нулевая гипотеза__: средняя ежемесячная выручка пользователей тарифа ULTRA больше средней ежемесячной выручки пользователей тарифа SMART\n",
    "- __альтернативная гипотеза__: средняя ежемесячная выручка пользователей тарифа ULTRA не превышает среднюю ежемесячную выручку пользователей тарифа SMART"
   ]
  },
  {
   "cell_type": "code",
   "execution_count": 61,
   "metadata": {
    "colab": {
     "base_uri": "https://localhost:8080/",
     "height": 54
    },
    "colab_type": "code",
    "id": "YFRF8V9WiXLK",
    "outputId": "0aa79ca2-e68b-4137-edcf-605542bb4337"
   },
   "outputs": [
    {
     "name": "stdout",
     "output_type": "stream",
     "text": [
      "p-значение:  8.120215655034958e-15\n",
      "Отвергаем нулевую гипотезу\n"
     ]
    }
   ],
   "source": [
    "results = st.ttest_1samp(ultra, smart_revenue_avg)\n",
    "# тест односторонний: p-value будет в два раза меньше\n",
    "print('p-значение: ', results.pvalue / 2)\n",
    "\n",
    "# отвергаем гипотезу только если выборочное среднее значимо больше предполагаемого значения\n",
    "if (results.pvalue / 2 < alpha) and (ultra.mean() > smart_revenue_avg):\n",
    "    print(\"Отвергаем нулевую гипотезу\")\n",
    "else:\n",
    "    print(\"Не получилось отвергнуть нулевую гипотезу\")\n"
   ]
  },
  {
   "cell_type": "markdown",
   "metadata": {
    "colab_type": "text",
    "id": "Z5VL4prVBW3C"
   },
   "source": [
    "### Гипотеза №3\n",
    "- __нулевая гипотеза__: средняя выручка пользователей из Москвы равна средней выручке пользователей из других регионов\n",
    "- __альтернативная гипотеза__: данные средние выручки не равны"
   ]
  },
  {
   "cell_type": "code",
   "execution_count": 58,
   "metadata": {
    "colab": {
     "base_uri": "https://localhost:8080/",
     "height": 35
    },
    "colab_type": "code",
    "id": "WAxVszNmBW3D",
    "outputId": "563e63ab-e071-48b1-941f-a13ee0575b3c"
   },
   "outputs": [
    {
     "name": "stdout",
     "output_type": "stream",
     "text": [
      "Средняя выручка по Москве 1507.28 руб, средняя выручка от прочих регионов 1481.89 руб\n"
     ]
    }
   ],
   "source": [
    "moscow_revenue = report.query('city == \"Москва\"')['month_total_revenue'].mean()\n",
    "other_revenue = report.query('city != \"Москва\"')['month_total_revenue'].mean()\n",
    "print('Средняя выручка по Москве {:.2f} руб, средняя выручка от прочих регионов {:.2f} руб'.format(moscow_revenue, other_revenue))"
   ]
  },
  {
   "cell_type": "code",
   "execution_count": 63,
   "metadata": {
    "colab": {
     "base_uri": "https://localhost:8080/",
     "height": 91
    },
    "colab_type": "code",
    "id": "DNeKVefHBW3F",
    "outputId": "e0099e29-2ece-4866-d529-2b3bafd047e5"
   },
   "outputs": [
    {
     "name": "stdout",
     "output_type": "stream",
     "text": [
      "Дисперсия Москвы 14056.635726307186\n",
      "Дисперсия Замкадья :) 49054.58466116653\n",
      "p-значение:  0.23982562382508793\n",
      "False\n",
      "p-pvalue > 0.05, нет оснований отклонить нулевую гипотезу\n"
     ]
    }
   ],
   "source": [
    "# для Москвы и остальных городов\n",
    "moscow = report.query('city == \"Москва\"').groupby('month')['month_total_revenue'].mean()\n",
    "other = report.query('city != \"Москва\"').groupby('month')['month_total_revenue'].mean()\n",
    "\n",
    "print('Дисперсия Москвы', np.var(moscow, ddof=1))\n",
    "print('Дисперсия Замкадья :)', np.var(other, ddof=1))\n",
    "\n",
    "# проведем тест для условия, что дисперсии сильно отличаются\n",
    "results = st.ttest_ind(moscow, other, equal_var=False)\n",
    "print('p-значение: ', results.pvalue)\n",
    "print(results.pvalue < alpha)\n",
    "print('p-pvalue > 0.05, нет оснований отклонить нулевую гипотезу')\n"
   ]
  },
  {
   "cell_type": "markdown",
   "metadata": {
    "colab_type": "text",
    "id": "s3BycFekgGN0"
   },
   "source": [
    "### Выводы:\n",
    "- средние ежемесячные выручки пользовалей тарифов SMART и ULTRA значимо отличаются;\n",
    "- средняя ежемесячная выручка пользователей тарифа ULTRA значимо превышает  среднюю ежемесячную выручку пользователей тарифа SMART;\n",
    "- нет значимых отличий между средней ежемесячной выручкой пользователей из Москвы и пользователями из других регионов."
   ]
  },
  {
   "cell_type": "markdown",
   "metadata": {
    "colab_type": "text",
    "id": "x5Z075AinE2n"
   },
   "source": [
    "### Общий вывод:\n",
    "- за 2018 год бОльшую суммарную выручку компании принес тариф SMART 2.75 млн.руб против 2.03 млн.руб для тарифа ULTRA. Такой результат является следствием того, что количество пользователей тарифа SMART (351 человек) более чем в 2 раза превышает количество пользователей тарифа ULTRA (149 человек);\n",
    "- при этом пользователи ULTRA активнее, у них на 17-30% больше звонков, сообщений, интернет-трафика;\n",
    "- в среднем за месяц выручка от пользователей тарифа ULTRA (2060 руб) больше, чем от пользователей тарифа SMART - 1233 руб. Можно порекомендовать компании сконцентрировать усилия на привлечение новых пользователей именно на тариф ULTRA (или создать благоприятные условия для перехода на него, имеющихся пользователей с тарифа SMART)."
   ]
  }
 ],
 "metadata": {
  "colab": {
   "collapsed_sections": [
    "rCwopWXcBWyd",
    "21x3dAryBWzK",
    "EDZGTjkmBWz5",
    "VfOAg46oBW0a",
    "oeDa8xJqBWy5",
    "eFwVQHz1BW1B",
    "0-VauOyeHJmq",
    "gFc2sjIPBW21",
    "lDqfMnhlBW26",
    "GQwjTfCaiGwK",
    "Z5VL4prVBW3C"
   ],
   "name": "project3_v1.ipynb",
   "provenance": [],
   "toc_visible": true
  },
  "kernelspec": {
   "display_name": "Python 3",
   "language": "python",
   "name": "python3"
  },
  "language_info": {
   "codemirror_mode": {
    "name": "ipython",
    "version": 3
   },
   "file_extension": ".py",
   "mimetype": "text/x-python",
   "name": "python",
   "nbconvert_exporter": "python",
   "pygments_lexer": "ipython3",
   "version": "3.8.3"
  }
 },
 "nbformat": 4,
 "nbformat_minor": 1
}
